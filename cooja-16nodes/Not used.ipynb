{
 "cells": [
  {
   "cell_type": "code",
   "execution_count": null,
   "metadata": {},
   "outputs": [],
   "source": [
    "colors = ['dodgerblue', 'orange', 'green']\n",
    "cases=['Normal','Black Hole 1', 'Black Hole 2']\n",
    "numberOfPackets=np.zeros(shape=(len(data),len(data[0])))\n",
    "numberOfPacketsT=numberOfPackets.transpose()\n",
    "fig, axs = plt.subplots(1,figsize=(10,5))\n",
    "axs.hist(numberOfPackets.transpose(),\n",
    "                 #print(numberOfPackets)  ,\n",
    "                 \n",
    "                 #color=colors,\n",
    "                 \n",
    "                 orientation='vertical',\n",
    "                 histtype='bar',\n",
    "                \n",
    "        )\n",
    "axs.set_title(\"Number of packets\")\n",
    "axs.set_xlabel(\"Packet Number\")\n",
    "axs.set_ylabel(\"Node Number\")\n",
    "axs.grid(True)\n",
    "#axs.legend()"
   ]
  },
  {
   "cell_type": "code",
   "execution_count": null,
   "metadata": {},
   "outputs": [],
   "source": [
    "for i in range(len(data)):\n",
    "    for j in range(len(data[i])):\n",
    "        numberOfPackets[i][j]=len(data[i][j].pkts)\n",
    "\n",
    "        \n",
    "        \n",
    "        \n",
    "fig, axs = plt.subplots(1,figsize=(10,5))\n",
    "for i in range(len(data)):\n",
    "    for j in range(len(data[i])):\n",
    "        axs.scatter(len(data[i][j].pkts),j,1000,\n",
    "                    label=\"Node \"+ str(j) ,\n",
    "                    color=colors[i],\n",
    "                   alpha=0.8)\n",
    "        axs.set_title(\"Number of packets\")\n",
    "        axs.set_xlabel(\"Packet Number\")\n",
    "        axs.set_ylabel(\"Node Number\")\n",
    "        axs.grid(True)"
   ]
  }
 ],
 "metadata": {
  "kernelspec": {
   "display_name": "Python 3",
   "language": "python",
   "name": "python3"
  },
  "language_info": {
   "codemirror_mode": {
    "name": "ipython",
    "version": 3
   },
   "file_extension": ".py",
   "mimetype": "text/x-python",
   "name": "python",
   "nbconvert_exporter": "python",
   "pygments_lexer": "ipython3",
   "version": "3.7.2"
  }
 },
 "nbformat": 4,
 "nbformat_minor": 2
}
