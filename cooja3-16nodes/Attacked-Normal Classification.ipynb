{
 "cells": [
  {
   "cell_type": "code",
   "execution_count": 9,
   "metadata": {},
   "outputs": [],
   "source": [
    "import pandas as pd\n",
    "import numpy as np\n",
    "from scipy import stats as sp\n",
    "import sys, os\n",
    "sys.path.append('../')\n",
    "import trace_analysis\n",
    "import plots_analysis\n",
    "import trace_statistics\n",
    "import trace_classification"
   ]
  },
  {
   "cell_type": "markdown",
   "metadata": {},
   "source": [
    "# Data Preparation\n",
    "\n",
    "\n",
    "Prepare the data to be used with kNN"
   ]
  },
  {
   "cell_type": "code",
   "execution_count": 10,
   "metadata": {},
   "outputs": [
    {
     "data": {
      "text/html": [
       "<div>\n",
       "<style scoped>\n",
       "    .dataframe tbody tr th:only-of-type {\n",
       "        vertical-align: middle;\n",
       "    }\n",
       "\n",
       "    .dataframe tbody tr th {\n",
       "        vertical-align: top;\n",
       "    }\n",
       "\n",
       "    .dataframe thead th {\n",
       "        text-align: right;\n",
       "    }\n",
       "</style>\n",
       "<table border=\"1\" class=\"dataframe\">\n",
       "  <thead>\n",
       "    <tr style=\"text-align: right;\">\n",
       "      <th></th>\n",
       "      <th>node_id</th>\n",
       "      <th>experiment</th>\n",
       "      <th>count</th>\n",
       "      <th>mean</th>\n",
       "      <th>var</th>\n",
       "      <th>std</th>\n",
       "      <th>hop</th>\n",
       "      <th>min</th>\n",
       "      <th>max</th>\n",
       "      <th>loss</th>\n",
       "      <th>label</th>\n",
       "    </tr>\n",
       "  </thead>\n",
       "  <tbody>\n",
       "    <tr>\n",
       "      <th>0</th>\n",
       "      <td>aaaa::212:7403:3:303:</td>\n",
       "      <td>normal</td>\n",
       "      <td>148</td>\n",
       "      <td>128.785811</td>\n",
       "      <td>14261.209389</td>\n",
       "      <td>119.420306</td>\n",
       "      <td>1</td>\n",
       "      <td>41.1</td>\n",
       "      <td>947.0</td>\n",
       "      <td>0.260</td>\n",
       "      <td>Normal</td>\n",
       "    </tr>\n",
       "    <tr>\n",
       "      <th>1</th>\n",
       "      <td>aaaa::212:7408:8:808:</td>\n",
       "      <td>normal</td>\n",
       "      <td>97</td>\n",
       "      <td>295.701031</td>\n",
       "      <td>73333.878436</td>\n",
       "      <td>270.802287</td>\n",
       "      <td>2</td>\n",
       "      <td>103.0</td>\n",
       "      <td>1809.0</td>\n",
       "      <td>0.515</td>\n",
       "      <td>Normal</td>\n",
       "    </tr>\n",
       "    <tr>\n",
       "      <th>2</th>\n",
       "      <td>aaaa::212:7402:2:202:</td>\n",
       "      <td>normal</td>\n",
       "      <td>160</td>\n",
       "      <td>316.326875</td>\n",
       "      <td>100885.449147</td>\n",
       "      <td>317.624699</td>\n",
       "      <td>2</td>\n",
       "      <td>77.9</td>\n",
       "      <td>1858.0</td>\n",
       "      <td>0.200</td>\n",
       "      <td>Normal</td>\n",
       "    </tr>\n",
       "    <tr>\n",
       "      <th>3</th>\n",
       "      <td>aaaa::212:740a:a:a0a:</td>\n",
       "      <td>normal</td>\n",
       "      <td>115</td>\n",
       "      <td>433.895652</td>\n",
       "      <td>95800.515332</td>\n",
       "      <td>309.516583</td>\n",
       "      <td>4</td>\n",
       "      <td>188.0</td>\n",
       "      <td>2237.0</td>\n",
       "      <td>0.425</td>\n",
       "      <td>Normal</td>\n",
       "    </tr>\n",
       "    <tr>\n",
       "      <th>4</th>\n",
       "      <td>aaaa::212:7409:9:909:</td>\n",
       "      <td>normal</td>\n",
       "      <td>110</td>\n",
       "      <td>549.300000</td>\n",
       "      <td>151722.799083</td>\n",
       "      <td>389.516109</td>\n",
       "      <td>3</td>\n",
       "      <td>168.0</td>\n",
       "      <td>1606.0</td>\n",
       "      <td>0.450</td>\n",
       "      <td>Normal</td>\n",
       "    </tr>\n",
       "  </tbody>\n",
       "</table>\n",
       "</div>"
      ],
      "text/plain": [
       "                 node_id experiment  count        mean            var  \\\n",
       "0  aaaa::212:7403:3:303:     normal    148  128.785811   14261.209389   \n",
       "1  aaaa::212:7408:8:808:     normal     97  295.701031   73333.878436   \n",
       "2  aaaa::212:7402:2:202:     normal    160  316.326875  100885.449147   \n",
       "3  aaaa::212:740a:a:a0a:     normal    115  433.895652   95800.515332   \n",
       "4  aaaa::212:7409:9:909:     normal    110  549.300000  151722.799083   \n",
       "\n",
       "          std  hop    min     max   loss   label  \n",
       "0  119.420306    1   41.1   947.0  0.260  Normal  \n",
       "1  270.802287    2  103.0  1809.0  0.515  Normal  \n",
       "2  317.624699    2   77.9  1858.0  0.200  Normal  \n",
       "3  309.516583    4  188.0  2237.0  0.425  Normal  \n",
       "4  389.516109    3  168.0  1606.0  0.450  Normal  "
      ]
     },
     "execution_count": 10,
     "metadata": {},
     "output_type": "execute_result"
    }
   ],
   "source": [
    "plots = [(\"traces/normal/\", 'grid_normal_2019-02-19_21'),\n",
    "         (\"traces/1bh-7/\", 'grid_1bh-7_2019-02-19_22'),\n",
    "         (\"traces/1bh-9/\", 'grid_1bh-9_2019-02-20_00'),\n",
    "         (\"traces/1gh30-7/\", 'grid_1gh30-7_2019-02-19_22'),\n",
    "         (\"traces/1gh30-9/\", 'grid_1gh30-9_2019-02-20_00'),\n",
    "         (\"traces/1gh50-7/\", 'grid_1gh50-7_2019-02-19_22'),\n",
    "         (\"traces/1gh50-9/\", 'grid_1gh50-9_2019-02-19_23'),\n",
    "         (\"traces/1gh70-7/\", 'grid_1gh70-7_2019-02-19_23'),\n",
    "         (\"traces/1gh70-9/\", 'grid_1gh70-9_2019-02-19_23')\n",
    "        ]\n",
    "\n",
    "stats = None\n",
    "win_25_stats = None\n",
    "win_50_stats = None\n",
    "win_100_stats = None\n",
    "\n",
    "for row in plots:\n",
    "    label = 'Normal'\n",
    "    experiment = row[0].split('/')[1]\n",
    "    \n",
    "    # Assign a label\n",
    "    if row[0].find('gh') >= 0 or row[0].find('bh') >= 0:\n",
    "        label = 'Attacked'\n",
    "    nodes, packets_node = trace_analysis.process_cooja2_traces(row[0], row[1])\n",
    "    \n",
    "    # Update stats\n",
    "    if stats is None:\n",
    "        stats = trace_statistics.compute_labeled_statistics(nodes, packets_node, label, experiment)\n",
    "        win_25_stats = trace_statistics.compute_window_labeled_statistics(nodes, packets_node, label, experiment, 25)\n",
    "        win_50_stats = trace_statistics.compute_window_labeled_statistics(nodes, packets_node, label, experiment, 50)\n",
    "        win_100_stats = trace_statistics.compute_window_labeled_statistics(nodes, packets_node, label, experiment, 100)\n",
    "    else:\n",
    "        stats = pd.concat([stats, trace_statistics.compute_labeled_statistics(nodes, packets_node, label, experiment)])\n",
    "        win_25_stats = pd.concat([win_25_stats, trace_statistics.compute_window_labeled_statistics(nodes, packets_node, label, experiment, 25)])\n",
    "        win_50_stats = pd.concat([win_50_stats, trace_statistics.compute_window_labeled_statistics(nodes, packets_node, label, experiment, 50)])\n",
    "        win_100_stats = pd.concat([win_100_stats, trace_statistics.compute_window_labeled_statistics(nodes, packets_node, label, experiment, 100)])\n",
    "        \n",
    "stats = stats.reset_index(drop=True)\n",
    "win_25_stats = win_25_stats.reset_index(drop=True)\n",
    "win_50_stats = win_50_stats.reset_index(drop=True)\n",
    "win_100_stats = win_100_stats.reset_index(drop=True)\n",
    "\n",
    "# Create a dictionary containing all the statistics for each trace size\n",
    "trace_stats = {200: stats, 25: win_25_stats, 50: win_50_stats, 100: win_100_stats}\n",
    "stats.head(5)"
   ]
  },
  {
   "cell_type": "markdown",
   "metadata": {},
   "source": [
    "# Feature Selection\n",
    "\n",
    "Select the set of features and labels that we use to fit the algorithm"
   ]
  },
  {
   "cell_type": "code",
   "execution_count": 11,
   "metadata": {},
   "outputs": [
    {
     "data": {
      "image/png": "[encoded data removed]",
      "text/plain": [
       "<Figure size 864x576 with 4 Axes>"
      ]
     },
     "metadata": {
      "needs_background": "light"
     },
     "output_type": "display_data"
    }
   ],
   "source": [
    "plots_analysis.random_forests_features_selection(trace_stats)"
   ]
  },
  {
   "cell_type": "code",
   "execution_count": 12,
   "metadata": {},
   "outputs": [],
   "source": [
    "results = None            # Results from each classification algorithm\n",
    "cv_results = None         # Cross validation results from each classification algorithm\n",
    "\n",
    "features_to_drop = ['node_id', 'experiment', 'label', 'hop', 'loss', 'count']"
   ]
  },
  {
   "cell_type": "markdown",
   "metadata": {},
   "source": [
    "# Random Forests Classifier\n",
    "\n",
    "Let us experiment with random forests. First, let us select most relevant features."
   ]
  },
  {
   "cell_type": "code",
   "execution_count": 13,
   "metadata": {},
   "outputs": [
    {
     "name": "stdout",
     "output_type": "stream",
     "text": [
      "Computing trace 200\n",
      "Computing trace 25\n"
     ]
    },
    {
     "name": "stderr",
     "output_type": "stream",
     "text": [
      "/Library/Frameworks/Python.framework/Versions/3.6/lib/python3.6/site-packages/sklearn/metrics/classification.py:1143: UndefinedMetricWarning: Precision is ill-defined and being set to 0.0 in labels with no predicted samples.\n",
      "  'precision', 'predicted', average, warn_for)\n",
      "/Library/Frameworks/Python.framework/Versions/3.6/lib/python3.6/site-packages/sklearn/metrics/classification.py:1143: UndefinedMetricWarning: F-score is ill-defined and being set to 0.0 in labels with no predicted samples.\n",
      "  'precision', 'predicted', average, warn_for)\n"
     ]
    },
    {
     "name": "stdout",
     "output_type": "stream",
     "text": [
      "Computing trace 50\n",
      "Computing trace 100\n"
     ]
    },
    {
     "name": "stderr",
     "output_type": "stream",
     "text": [
      "/Library/Frameworks/Python.framework/Versions/3.6/lib/python3.6/site-packages/sklearn/metrics/classification.py:1143: UndefinedMetricWarning: Precision is ill-defined and being set to 0.0 in labels with no predicted samples.\n",
      "  'precision', 'predicted', average, warn_for)\n",
      "/Library/Frameworks/Python.framework/Versions/3.6/lib/python3.6/site-packages/sklearn/metrics/classification.py:1143: UndefinedMetricWarning: F-score is ill-defined and being set to 0.0 in labels with no predicted samples.\n",
      "  'precision', 'predicted', average, warn_for)\n"
     ]
    }
   ],
   "source": [
    "results = pd.concat([results, \n",
    "                     trace_classification.random_forest_classification(trace_stats, features_to_drop)\n",
    "                    ])"
   ]
  },
  {
   "cell_type": "markdown",
   "metadata": {},
   "source": [
    "We want to compute average accuracy for each trace size (i.e. for each window size from 200 - the entire window - to 100, 50 and 25)"
   ]
  },
  {
   "cell_type": "code",
   "execution_count": 14,
   "metadata": {},
   "outputs": [
    {
     "name": "stdout",
     "output_type": "stream",
     "text": [
      "Computing trace 200\n",
      "Computing trace 25\n",
      "Computing trace 50\n",
      "Computing trace 100\n"
     ]
    }
   ],
   "source": [
    "cv_results = pd.concat([cv_results, \n",
    "                     trace_classification.random_forest_cross_validation(trace_stats, features_to_drop)\n",
    "                    ])"
   ]
  },
  {
   "cell_type": "markdown",
   "metadata": {},
   "source": [
    "# K-Nearest Neighbor (KNN) Classification\n",
    "\n",
    "Let us first observe the accuracies for different values of k"
   ]
  },
  {
   "cell_type": "code",
   "execution_count": 15,
   "metadata": {},
   "outputs": [
    {
     "data": {
      "image/png": "[encoded data removed]",
      "text/plain": [
       "<Figure size 864x576 with 4 Axes>"
      ]
     },
     "metadata": {
      "needs_background": "light"
     },
     "output_type": "display_data"
    }
   ],
   "source": [
    "plots_analysis.knn_test_number_of_neighbors(trace_stats, 30)"
   ]
  },
  {
   "cell_type": "markdown",
   "metadata": {},
   "source": [
    "Let's build KNN classifier "
   ]
  },
  {
   "cell_type": "code",
   "execution_count": 16,
   "metadata": {},
   "outputs": [
    {
     "name": "stdout",
     "output_type": "stream",
     "text": [
      "Computing trace 200\n",
      "Computing trace 25\n",
      "Computing trace 50\n",
      "Computing trace 100\n"
     ]
    },
    {
     "name": "stderr",
     "output_type": "stream",
     "text": [
      "/Library/Frameworks/Python.framework/Versions/3.6/lib/python3.6/site-packages/sklearn/metrics/classification.py:1143: UndefinedMetricWarning: Precision is ill-defined and being set to 0.0 in labels with no predicted samples.\n",
      "  'precision', 'predicted', average, warn_for)\n",
      "/Library/Frameworks/Python.framework/Versions/3.6/lib/python3.6/site-packages/sklearn/metrics/classification.py:1143: UndefinedMetricWarning: F-score is ill-defined and being set to 0.0 in labels with no predicted samples.\n",
      "  'precision', 'predicted', average, warn_for)\n",
      "/Library/Frameworks/Python.framework/Versions/3.6/lib/python3.6/site-packages/sklearn/metrics/classification.py:1143: UndefinedMetricWarning: Precision is ill-defined and being set to 0.0 in labels with no predicted samples.\n",
      "  'precision', 'predicted', average, warn_for)\n",
      "/Library/Frameworks/Python.framework/Versions/3.6/lib/python3.6/site-packages/sklearn/metrics/classification.py:1143: UndefinedMetricWarning: F-score is ill-defined and being set to 0.0 in labels with no predicted samples.\n",
      "  'precision', 'predicted', average, warn_for)\n",
      "/Library/Frameworks/Python.framework/Versions/3.6/lib/python3.6/site-packages/sklearn/metrics/classification.py:1143: UndefinedMetricWarning: Precision is ill-defined and being set to 0.0 in labels with no predicted samples.\n",
      "  'precision', 'predicted', average, warn_for)\n",
      "/Library/Frameworks/Python.framework/Versions/3.6/lib/python3.6/site-packages/sklearn/metrics/classification.py:1143: UndefinedMetricWarning: F-score is ill-defined and being set to 0.0 in labels with no predicted samples.\n",
      "  'precision', 'predicted', average, warn_for)\n",
      "/Library/Frameworks/Python.framework/Versions/3.6/lib/python3.6/site-packages/sklearn/metrics/classification.py:1143: UndefinedMetricWarning: Precision is ill-defined and being set to 0.0 in labels with no predicted samples.\n",
      "  'precision', 'predicted', average, warn_for)\n",
      "/Library/Frameworks/Python.framework/Versions/3.6/lib/python3.6/site-packages/sklearn/metrics/classification.py:1143: UndefinedMetricWarning: F-score is ill-defined and being set to 0.0 in labels with no predicted samples.\n",
      "  'precision', 'predicted', average, warn_for)\n"
     ]
    }
   ],
   "source": [
    "results = pd.concat([results, \n",
    "                     trace_classification.k_nearest_neighbor_classification(trace_stats, features_to_drop, n_neighbors=13)\n",
    "                    ])"
   ]
  },
  {
   "cell_type": "markdown",
   "metadata": {},
   "source": [
    "We want to compute average accuracy for each trace size (i.e. for each window size from 200 - the entire window - to 100, 50 and 25)"
   ]
  },
  {
   "cell_type": "code",
   "execution_count": 17,
   "metadata": {},
   "outputs": [
    {
     "name": "stdout",
     "output_type": "stream",
     "text": [
      "Computing trace 200\n",
      "Computing trace 25\n",
      "Computing trace 50\n",
      "Computing trace 100\n"
     ]
    }
   ],
   "source": [
    "cv_results = pd.concat([cv_results, \n",
    "                     trace_classification.k_nearest_neighbor_cross_validation(trace_stats, features_to_drop, n_neighbors=13)\n",
    "                    ])"
   ]
  },
  {
   "cell_type": "markdown",
   "metadata": {},
   "source": [
    "# Support Vector Machines (SVM) Classification\n",
    "\n",
    "Let us experiment with another classifier"
   ]
  },
  {
   "cell_type": "code",
   "execution_count": 20,
   "metadata": {},
   "outputs": [
    {
     "name": "stdout",
     "output_type": "stream",
     "text": [
      "Computing trace 200\n",
      "Computing trace 25\n"
     ]
    },
    {
     "name": "stderr",
     "output_type": "stream",
     "text": [
      "/Library/Frameworks/Python.framework/Versions/3.6/lib/python3.6/site-packages/sklearn/metrics/classification.py:1143: UndefinedMetricWarning: Precision is ill-defined and being set to 0.0 in labels with no predicted samples.\n",
      "  'precision', 'predicted', average, warn_for)\n",
      "/Library/Frameworks/Python.framework/Versions/3.6/lib/python3.6/site-packages/sklearn/metrics/classification.py:1143: UndefinedMetricWarning: F-score is ill-defined and being set to 0.0 in labels with no predicted samples.\n",
      "  'precision', 'predicted', average, warn_for)\n"
     ]
    },
    {
     "name": "stdout",
     "output_type": "stream",
     "text": [
      "Computing trace 50\n",
      "Computing trace 100\n"
     ]
    },
    {
     "name": "stderr",
     "output_type": "stream",
     "text": [
      "/Library/Frameworks/Python.framework/Versions/3.6/lib/python3.6/site-packages/sklearn/metrics/classification.py:1143: UndefinedMetricWarning: Precision is ill-defined and being set to 0.0 in labels with no predicted samples.\n",
      "  'precision', 'predicted', average, warn_for)\n",
      "/Library/Frameworks/Python.framework/Versions/3.6/lib/python3.6/site-packages/sklearn/metrics/classification.py:1143: UndefinedMetricWarning: F-score is ill-defined and being set to 0.0 in labels with no predicted samples.\n",
      "  'precision', 'predicted', average, warn_for)\n"
     ]
    }
   ],
   "source": [
    "results = pd.concat([results, \n",
    "                     trace_classification.support_vector_machines_classification(trace_stats, features_to_drop, kernel='linear')\n",
    "                    ])"
   ]
  },
  {
   "cell_type": "markdown",
   "metadata": {},
   "source": [
    "We want to compute average accuracy for each trace size (i.e. for each window size from 200 - the entire window - to 100, 50 and 25)"
   ]
  },
  {
   "cell_type": "code",
   "execution_count": 21,
   "metadata": {},
   "outputs": [
    {
     "name": "stdout",
     "output_type": "stream",
     "text": [
      "Computing trace 200\n",
      "Computing trace 25\n",
      "Computing trace 50\n",
      "Computing trace 100\n"
     ]
    }
   ],
   "source": [
    "cv_results = pd.concat([cv_results, \n",
    "                     trace_classification.support_vector_machines_cross_validation(trace_stats, features_to_drop, kernel='linear')\n",
    "                    ])"
   ]
  },
  {
   "cell_type": "markdown",
   "metadata": {},
   "source": [
    "# Results\n",
    "\n",
    "Results from each model"
   ]
  },
  {
   "cell_type": "code",
   "execution_count": 22,
   "metadata": {},
   "outputs": [
    {
     "data": {
      "text/html": [
       "<div>\n",
       "<style scoped>\n",
       "    .dataframe tbody tr th:only-of-type {\n",
       "        vertical-align: middle;\n",
       "    }\n",
       "\n",
       "    .dataframe tbody tr th {\n",
       "        vertical-align: top;\n",
       "    }\n",
       "\n",
       "    .dataframe thead th {\n",
       "        text-align: right;\n",
       "    }\n",
       "</style>\n",
       "<table border=\"1\" class=\"dataframe\">\n",
       "  <thead>\n",
       "    <tr style=\"text-align: right;\">\n",
       "      <th></th>\n",
       "      <th>Model</th>\n",
       "      <th>Window Size</th>\n",
       "      <th>Accuracy</th>\n",
       "      <th>Precision</th>\n",
       "      <th>Recall</th>\n",
       "      <th>F1-score</th>\n",
       "      <th>Time (ms)</th>\n",
       "    </tr>\n",
       "  </thead>\n",
       "  <tbody>\n",
       "    <tr>\n",
       "      <th>0</th>\n",
       "      <td>Random Forest</td>\n",
       "      <td>200</td>\n",
       "      <td>0.904762</td>\n",
       "      <td>0.452381</td>\n",
       "      <td>0.500000</td>\n",
       "      <td>0.475000</td>\n",
       "      <td>0.114860</td>\n",
       "    </tr>\n",
       "    <tr>\n",
       "      <th>1</th>\n",
       "      <td>Random Forest</td>\n",
       "      <td>25</td>\n",
       "      <td>0.873518</td>\n",
       "      <td>0.571939</td>\n",
       "      <td>0.522381</td>\n",
       "      <td>0.521513</td>\n",
       "      <td>0.182676</td>\n",
       "    </tr>\n",
       "    <tr>\n",
       "      <th>2</th>\n",
       "      <td>Random Forest</td>\n",
       "      <td>50</td>\n",
       "      <td>0.905797</td>\n",
       "      <td>0.452899</td>\n",
       "      <td>0.500000</td>\n",
       "      <td>0.475285</td>\n",
       "      <td>0.140975</td>\n",
       "    </tr>\n",
       "    <tr>\n",
       "      <th>3</th>\n",
       "      <td>Random Forest</td>\n",
       "      <td>100</td>\n",
       "      <td>0.884615</td>\n",
       "      <td>0.697368</td>\n",
       "      <td>0.548309</td>\n",
       "      <td>0.559875</td>\n",
       "      <td>0.123397</td>\n",
       "    </tr>\n",
       "    <tr>\n",
       "      <th>4</th>\n",
       "      <td>KNN</td>\n",
       "      <td>200</td>\n",
       "      <td>0.904762</td>\n",
       "      <td>0.452381</td>\n",
       "      <td>0.500000</td>\n",
       "      <td>0.475000</td>\n",
       "      <td>0.007163</td>\n",
       "    </tr>\n",
       "    <tr>\n",
       "      <th>5</th>\n",
       "      <td>KNN</td>\n",
       "      <td>25</td>\n",
       "      <td>0.889328</td>\n",
       "      <td>0.444664</td>\n",
       "      <td>0.500000</td>\n",
       "      <td>0.470711</td>\n",
       "      <td>0.012307</td>\n",
       "    </tr>\n",
       "    <tr>\n",
       "      <th>6</th>\n",
       "      <td>KNN</td>\n",
       "      <td>50</td>\n",
       "      <td>0.905797</td>\n",
       "      <td>0.452899</td>\n",
       "      <td>0.500000</td>\n",
       "      <td>0.475285</td>\n",
       "      <td>0.010104</td>\n",
       "    </tr>\n",
       "    <tr>\n",
       "      <th>7</th>\n",
       "      <td>KNN</td>\n",
       "      <td>100</td>\n",
       "      <td>0.884615</td>\n",
       "      <td>0.442308</td>\n",
       "      <td>0.500000</td>\n",
       "      <td>0.469388</td>\n",
       "      <td>0.008383</td>\n",
       "    </tr>\n",
       "    <tr>\n",
       "      <th>8</th>\n",
       "      <td>SVM</td>\n",
       "      <td>200</td>\n",
       "      <td>0.880952</td>\n",
       "      <td>0.451220</td>\n",
       "      <td>0.486842</td>\n",
       "      <td>0.468354</td>\n",
       "      <td>11.369784</td>\n",
       "    </tr>\n",
       "    <tr>\n",
       "      <th>9</th>\n",
       "      <td>SVM</td>\n",
       "      <td>25</td>\n",
       "      <td>0.889328</td>\n",
       "      <td>0.444664</td>\n",
       "      <td>0.500000</td>\n",
       "      <td>0.470711</td>\n",
       "      <td>92.548959</td>\n",
       "    </tr>\n",
       "    <tr>\n",
       "      <th>10</th>\n",
       "      <td>SVM</td>\n",
       "      <td>50</td>\n",
       "      <td>0.855072</td>\n",
       "      <td>0.450382</td>\n",
       "      <td>0.472000</td>\n",
       "      <td>0.460938</td>\n",
       "      <td>38.287291</td>\n",
       "    </tr>\n",
       "    <tr>\n",
       "      <th>11</th>\n",
       "      <td>SVM</td>\n",
       "      <td>100</td>\n",
       "      <td>0.884615</td>\n",
       "      <td>0.442308</td>\n",
       "      <td>0.500000</td>\n",
       "      <td>0.469388</td>\n",
       "      <td>37.490912</td>\n",
       "    </tr>\n",
       "  </tbody>\n",
       "</table>\n",
       "</div>"
      ],
      "text/plain": [
       "            Model  Window Size  Accuracy  Precision    Recall  F1-score  \\\n",
       "0   Random Forest          200  0.904762   0.452381  0.500000  0.475000   \n",
       "1   Random Forest           25  0.873518   0.571939  0.522381  0.521513   \n",
       "2   Random Forest           50  0.905797   0.452899  0.500000  0.475285   \n",
       "3   Random Forest          100  0.884615   0.697368  0.548309  0.559875   \n",
       "4             KNN          200  0.904762   0.452381  0.500000  0.475000   \n",
       "5             KNN           25  0.889328   0.444664  0.500000  0.470711   \n",
       "6             KNN           50  0.905797   0.452899  0.500000  0.475285   \n",
       "7             KNN          100  0.884615   0.442308  0.500000  0.469388   \n",
       "8             SVM          200  0.880952   0.451220  0.486842  0.468354   \n",
       "9             SVM           25  0.889328   0.444664  0.500000  0.470711   \n",
       "10            SVM           50  0.855072   0.450382  0.472000  0.460938   \n",
       "11            SVM          100  0.884615   0.442308  0.500000  0.469388   \n",
       "\n",
       "    Time (ms)  \n",
       "0    0.114860  \n",
       "1    0.182676  \n",
       "2    0.140975  \n",
       "3    0.123397  \n",
       "4    0.007163  \n",
       "5    0.012307  \n",
       "6    0.010104  \n",
       "7    0.008383  \n",
       "8   11.369784  \n",
       "9   92.548959  \n",
       "10  38.287291  \n",
       "11  37.490912  "
      ]
     },
     "execution_count": 22,
     "metadata": {},
     "output_type": "execute_result"
    }
   ],
   "source": [
    "results.reset_index(drop=True)"
   ]
  },
  {
   "cell_type": "markdown",
   "metadata": {},
   "source": [
    "Here we plot the average results for each model computed with cross validation"
   ]
  },
  {
   "cell_type": "code",
   "execution_count": 23,
   "metadata": {
    "scrolled": true
   },
   "outputs": [
    {
     "data": {
      "text/html": [
       "<div>\n",
       "<style scoped>\n",
       "    .dataframe tbody tr th:only-of-type {\n",
       "        vertical-align: middle;\n",
       "    }\n",
       "\n",
       "    .dataframe tbody tr th {\n",
       "        vertical-align: top;\n",
       "    }\n",
       "\n",
       "    .dataframe thead th {\n",
       "        text-align: right;\n",
       "    }\n",
       "</style>\n",
       "<table border=\"1\" class=\"dataframe\">\n",
       "  <thead>\n",
       "    <tr style=\"text-align: right;\">\n",
       "      <th></th>\n",
       "      <th>Model</th>\n",
       "      <th>Window Size</th>\n",
       "      <th>Mean Accuracy</th>\n",
       "    </tr>\n",
       "  </thead>\n",
       "  <tbody>\n",
       "    <tr>\n",
       "      <th>0</th>\n",
       "      <td>Random Forest</td>\n",
       "      <td>200</td>\n",
       "      <td>0.814194</td>\n",
       "    </tr>\n",
       "    <tr>\n",
       "      <th>1</th>\n",
       "      <td>Random Forest</td>\n",
       "      <td>25</td>\n",
       "      <td>0.883636</td>\n",
       "    </tr>\n",
       "    <tr>\n",
       "      <th>2</th>\n",
       "      <td>Random Forest</td>\n",
       "      <td>50</td>\n",
       "      <td>0.875245</td>\n",
       "    </tr>\n",
       "    <tr>\n",
       "      <th>3</th>\n",
       "      <td>Random Forest</td>\n",
       "      <td>100</td>\n",
       "      <td>0.852308</td>\n",
       "    </tr>\n",
       "    <tr>\n",
       "      <th>4</th>\n",
       "      <td>KNN</td>\n",
       "      <td>200</td>\n",
       "      <td>0.885906</td>\n",
       "    </tr>\n",
       "    <tr>\n",
       "      <th>5</th>\n",
       "      <td>KNN</td>\n",
       "      <td>25</td>\n",
       "      <td>0.890737</td>\n",
       "    </tr>\n",
       "    <tr>\n",
       "      <th>6</th>\n",
       "      <td>KNN</td>\n",
       "      <td>50</td>\n",
       "      <td>0.897176</td>\n",
       "    </tr>\n",
       "    <tr>\n",
       "      <th>7</th>\n",
       "      <td>KNN</td>\n",
       "      <td>100</td>\n",
       "      <td>0.887692</td>\n",
       "    </tr>\n",
       "    <tr>\n",
       "      <th>8</th>\n",
       "      <td>SVM</td>\n",
       "      <td>200</td>\n",
       "      <td>0.843295</td>\n",
       "    </tr>\n",
       "    <tr>\n",
       "      <th>9</th>\n",
       "      <td>SVM</td>\n",
       "      <td>25</td>\n",
       "      <td>0.891920</td>\n",
       "    </tr>\n",
       "    <tr>\n",
       "      <th>10</th>\n",
       "      <td>SVM</td>\n",
       "      <td>50</td>\n",
       "      <td>0.899374</td>\n",
       "    </tr>\n",
       "    <tr>\n",
       "      <th>11</th>\n",
       "      <td>SVM</td>\n",
       "      <td>100</td>\n",
       "      <td>0.837692</td>\n",
       "    </tr>\n",
       "  </tbody>\n",
       "</table>\n",
       "</div>"
      ],
      "text/plain": [
       "            Model  Window Size  Mean Accuracy\n",
       "0   Random Forest          200       0.814194\n",
       "1   Random Forest           25       0.883636\n",
       "2   Random Forest           50       0.875245\n",
       "3   Random Forest          100       0.852308\n",
       "4             KNN          200       0.885906\n",
       "5             KNN           25       0.890737\n",
       "6             KNN           50       0.897176\n",
       "7             KNN          100       0.887692\n",
       "8             SVM          200       0.843295\n",
       "9             SVM           25       0.891920\n",
       "10            SVM           50       0.899374\n",
       "11            SVM          100       0.837692"
      ]
     },
     "execution_count": 23,
     "metadata": {},
     "output_type": "execute_result"
    }
   ],
   "source": [
    "cv_results.reset_index(drop=True)"
   ]
  },
  {
   "cell_type": "code",
   "execution_count": null,
   "metadata": {},
   "outputs": [],
   "source": []
  }
 ],
 "metadata": {
  "kernelspec": {
   "display_name": "Python 3",
   "language": "python",
   "name": "python3"
  },
  "language_info": {
   "codemirror_mode": {
    "name": "ipython",
    "version": 3
   },
   "file_extension": ".py",
   "mimetype": "text/x-python",
   "name": "python",
   "nbconvert_exporter": "python",
   "pygments_lexer": "ipython3",
   "version": "3.7.2"
  }
 },
 "nbformat": 4,
 "nbformat_minor": 2
}
