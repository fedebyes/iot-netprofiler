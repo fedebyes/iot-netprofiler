{
 "cells": [
  {
   "cell_type": "code",
   "execution_count": 1,
   "metadata": {},
   "outputs": [],
   "source": [
    "import pandas as pd\n",
    "import numpy as np\n",
    "from scipy import stats as sp\n",
    "import sys, os\n",
    "sys.path.append('../')\n",
    "import trace_analysis\n",
    "import plots_analysis\n",
    "import trace_statistics\n",
    "\n",
    "# KNN\n",
    "from sklearn.neighbors import KNeighborsClassifier\n",
    "from sklearn.model_selection import train_test_split\n",
    "from sklearn import metrics\n",
    "from sklearn.metrics import classification_report\n",
    "from sklearn.model_selection import GridSearchCV\n"
   ]
  },
  {
   "cell_type": "markdown",
   "metadata": {},
   "source": [
    "Prepare the data to be used with kNN"
   ]
  },
  {
   "cell_type": "code",
   "execution_count": 2,
   "metadata": {},
   "outputs": [
    {
     "data": {
      "text/html": [
       "<div>\n",
       "<style scoped>\n",
       "    .dataframe tbody tr th:only-of-type {\n",
       "        vertical-align: middle;\n",
       "    }\n",
       "\n",
       "    .dataframe tbody tr th {\n",
       "        vertical-align: top;\n",
       "    }\n",
       "\n",
       "    .dataframe thead th {\n",
       "        text-align: right;\n",
       "    }\n",
       "</style>\n",
       "<table border=\"1\" class=\"dataframe\">\n",
       "  <thead>\n",
       "    <tr style=\"text-align: right;\">\n",
       "      <th></th>\n",
       "      <th>node_id</th>\n",
       "      <th>count</th>\n",
       "      <th>mean</th>\n",
       "      <th>var</th>\n",
       "      <th>std</th>\n",
       "      <th>hop</th>\n",
       "      <th>min</th>\n",
       "      <th>max</th>\n",
       "      <th>loss</th>\n",
       "      <th>label</th>\n",
       "    </tr>\n",
       "  </thead>\n",
       "  <tbody>\n",
       "    <tr>\n",
       "      <th>0</th>\n",
       "      <td>aaaa::212:7403:3:303:</td>\n",
       "      <td>148</td>\n",
       "      <td>128.785811</td>\n",
       "      <td>14261.209389</td>\n",
       "      <td>119.420306</td>\n",
       "      <td>1</td>\n",
       "      <td>41.1</td>\n",
       "      <td>947.0</td>\n",
       "      <td>0.740</td>\n",
       "      <td>Normal</td>\n",
       "    </tr>\n",
       "    <tr>\n",
       "      <th>1</th>\n",
       "      <td>aaaa::212:7408:8:808:</td>\n",
       "      <td>97</td>\n",
       "      <td>295.701031</td>\n",
       "      <td>73333.878436</td>\n",
       "      <td>270.802287</td>\n",
       "      <td>2</td>\n",
       "      <td>103.0</td>\n",
       "      <td>1809.0</td>\n",
       "      <td>0.485</td>\n",
       "      <td>Normal</td>\n",
       "    </tr>\n",
       "    <tr>\n",
       "      <th>2</th>\n",
       "      <td>aaaa::212:7402:2:202:</td>\n",
       "      <td>160</td>\n",
       "      <td>316.326875</td>\n",
       "      <td>100885.449147</td>\n",
       "      <td>317.624699</td>\n",
       "      <td>2</td>\n",
       "      <td>77.9</td>\n",
       "      <td>1858.0</td>\n",
       "      <td>0.800</td>\n",
       "      <td>Normal</td>\n",
       "    </tr>\n",
       "    <tr>\n",
       "      <th>3</th>\n",
       "      <td>aaaa::212:740a:a:a0a:</td>\n",
       "      <td>115</td>\n",
       "      <td>433.895652</td>\n",
       "      <td>95800.515332</td>\n",
       "      <td>309.516583</td>\n",
       "      <td>4</td>\n",
       "      <td>188.0</td>\n",
       "      <td>2237.0</td>\n",
       "      <td>0.575</td>\n",
       "      <td>Normal</td>\n",
       "    </tr>\n",
       "    <tr>\n",
       "      <th>4</th>\n",
       "      <td>aaaa::212:7409:9:909:</td>\n",
       "      <td>110</td>\n",
       "      <td>549.300000</td>\n",
       "      <td>151722.799083</td>\n",
       "      <td>389.516109</td>\n",
       "      <td>3</td>\n",
       "      <td>168.0</td>\n",
       "      <td>1606.0</td>\n",
       "      <td>0.550</td>\n",
       "      <td>Normal</td>\n",
       "    </tr>\n",
       "  </tbody>\n",
       "</table>\n",
       "</div>"
      ],
      "text/plain": [
       "                 node_id  count        mean            var         std  hop  \\\n",
       "0  aaaa::212:7403:3:303:    148  128.785811   14261.209389  119.420306    1   \n",
       "1  aaaa::212:7408:8:808:     97  295.701031   73333.878436  270.802287    2   \n",
       "2  aaaa::212:7402:2:202:    160  316.326875  100885.449147  317.624699    2   \n",
       "3  aaaa::212:740a:a:a0a:    115  433.895652   95800.515332  309.516583    4   \n",
       "4  aaaa::212:7409:9:909:    110  549.300000  151722.799083  389.516109    3   \n",
       "\n",
       "     min     max   loss   label  \n",
       "0   41.1   947.0  0.740  Normal  \n",
       "1  103.0  1809.0  0.485  Normal  \n",
       "2   77.9  1858.0  0.800  Normal  \n",
       "3  188.0  2237.0  0.575  Normal  \n",
       "4  168.0  1606.0  0.550  Normal  "
      ]
     },
     "execution_count": 2,
     "metadata": {},
     "output_type": "execute_result"
    }
   ],
   "source": [
    "plots = [(\"traces/normal/\", 'grid_normal_2019-02-19_21'),\n",
    "         (\"traces/1bh-7/\", 'grid_1bh-9_2019-02-20_00'),\n",
    "         (\"traces/1bh-9/\", 'grid9_1bh-9_2019-02-13_15:57'),\n",
    "         (\"traces/1gh30-7/\", 'grid_1gh30-7_2019-02-19_22'),\n",
    "         (\"traces/1gh30-9/\", 'grid_1gh30-9_2019-02-20_00'),\n",
    "         (\"traces/1gh50-7/\", 'grid_1gh50-7_2019-02-19_22'),\n",
    "         (\"traces/1gh50-9/\", 'grid_1gh50-9_2019-02-19_23'),\n",
    "         (\"traces/1gh70-7/\", 'grid_1gh70-7_2019-02-19_23'),\n",
    "         (\"traces/1gh70-9/\", 'grid_1gh70-9_2019-02-19_23')\n",
    "        ]\n",
    "stats = None\n",
    "\n",
    "for row in plots:\n",
    "    label = 'Normal'\n",
    "    \n",
    "    # Assign a label\n",
    "    if row[0].find('gh') >= 0:\n",
    "        label = 'Gray Hole'\n",
    "    elif row[0].find('bh') >= 0:\n",
    "        label = 'Black Hole'\n",
    "    nodes, packets_node = trace_analysis.process_cooja2_traces(row[0], row[1])\n",
    "    \n",
    "    # Update stats\n",
    "    if stats is None:\n",
    "        stats = trace_statistics.compute_labeled_statistics(nodes, packets_node, label)\n",
    "    else:\n",
    "        stats = pd.concat([stats, trace_statistics.compute_labeled_statistics(nodes, packets_node, label)])\n",
    "        \n",
    "stats = stats.reset_index(drop=True)\n",
    "stats.head(5)"
   ]
  },
  {
   "cell_type": "markdown",
   "metadata": {},
   "source": [
    "Select the set of features and labels that we use to fit the algorithm"
   ]
  },
  {
   "cell_type": "code",
   "execution_count": 3,
   "metadata": {},
   "outputs": [
    {
     "name": "stdout",
     "output_type": "stream",
     "text": [
      "Targets: {'Gray Hole', 'Normal'}\n"
     ]
    }
   ],
   "source": [
    "# separate features from target values\n",
    "features = stats.drop(columns=['node_id', 'label'])\n",
    "target = stats['label'].values\n",
    "print('Targets: ' + str(set(target)))\n",
    "\n",
    "# split dataset into train and test data\n",
    "X_train, X_test, y_train, y_test = train_test_split(features, target, test_size=0.3, random_state=1)"
   ]
  },
  {
   "cell_type": "markdown",
   "metadata": {},
   "source": [
    "Let us first observe the accuracies for different values of k"
   ]
  },
  {
   "cell_type": "code",
   "execution_count": 4,
   "metadata": {},
   "outputs": [
    {
     "data": {
      "image/png": "[encoded data removed]",
      "text/plain": [
       "<Figure size 432x288 with 1 Axes>"
      ]
     },
     "metadata": {
      "needs_background": "light"
     },
     "output_type": "display_data"
    }
   ],
   "source": [
    "trace_analysis.knn_test_number_of_neighbors(X_train, X_test, y_train, y_test)"
   ]
  },
  {
   "cell_type": "markdown",
   "metadata": {},
   "source": [
    "Let's build KNN classifier "
   ]
  },
  {
   "cell_type": "code",
   "execution_count": 5,
   "metadata": {},
   "outputs": [
    {
     "name": "stdout",
     "output_type": "stream",
     "text": [
      "Accuracy: 0.9411764705882353\n",
      "\n",
      "\n",
      "               precision    recall  f1-score   support\n",
      "\n",
      "   Gray Hole       0.94      1.00      0.97        32\n",
      "      Normal       0.00      0.00      0.00         2\n",
      "\n",
      "   micro avg       0.94      0.94      0.94        34\n",
      "   macro avg       0.47      0.50      0.48        34\n",
      "weighted avg       0.89      0.94      0.91        34\n",
      "\n"
     ]
    },
    {
     "name": "stderr",
     "output_type": "stream",
     "text": [
      "/Library/Frameworks/Python.framework/Versions/3.6/lib/python3.6/site-packages/sklearn/metrics/classification.py:1143: UndefinedMetricWarning: Precision and F-score are ill-defined and being set to 0.0 in labels with no predicted samples.\n",
      "  'precision', 'predicted', average, warn_for)\n"
     ]
    }
   ],
   "source": [
    "#Create KNN Classifier\n",
    "knn = KNeighborsClassifier(n_neighbors=8)\n",
    "\n",
    "#Train the model using the training sets\n",
    "knn.fit(X_train, y_train)\n",
    "\n",
    "#Predict the response for test dataset\n",
    "y_pred = knn.predict(X_test)\n",
    "\n",
    "print(\"Accuracy:\",metrics.accuracy_score(y_test, y_pred))\n",
    "\n",
    "print(\"\\n\\n\",classification_report(y_test,y_pred))\n"
   ]
  }
 ],
 "metadata": {
  "kernelspec": {
   "display_name": "Python 3",
   "language": "python",
   "name": "python3"
  },
  "language_info": {
   "codemirror_mode": {
    "name": "ipython",
    "version": 3
   },
   "file_extension": ".py",
   "mimetype": "text/x-python",
   "name": "python",
   "nbconvert_exporter": "python",
   "pygments_lexer": "ipython3",
   "version": "3.6.5"
  }
 },
 "nbformat": 4,
 "nbformat_minor": 2
}
