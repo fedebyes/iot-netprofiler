{
 "cells": [
  {
   "cell_type": "code",
   "execution_count": 10,
   "metadata": {},
   "outputs": [],
   "source": [
    "import pandas as pd\n",
    "import numpy as np\n",
    "from scipy import stats as sp\n",
    "import sys, os\n",
    "sys.path.append('../')\n",
    "import trace_analysis\n",
    "import plots_analysis\n",
    "import trace_statistics\n",
    "import trace_classification"
   ]
  },
  {
   "cell_type": "markdown",
   "metadata": {},
   "source": [
    "# Data Preparation\n",
    "\n",
    "\n",
    "Prepare the data to be used with kNN"
   ]
  },
  {
   "cell_type": "code",
   "execution_count": 11,
   "metadata": {},
   "outputs": [
    {
     "data": {
      "text/html": [
       "<div>\n",
       "<style scoped>\n",
       "    .dataframe tbody tr th:only-of-type {\n",
       "        vertical-align: middle;\n",
       "    }\n",
       "\n",
       "    .dataframe tbody tr th {\n",
       "        vertical-align: top;\n",
       "    }\n",
       "\n",
       "    .dataframe thead th {\n",
       "        text-align: right;\n",
       "    }\n",
       "</style>\n",
       "<table border=\"1\" class=\"dataframe\">\n",
       "  <thead>\n",
       "    <tr style=\"text-align: right;\">\n",
       "      <th></th>\n",
       "      <th>node_id</th>\n",
       "      <th>experiment</th>\n",
       "      <th>count</th>\n",
       "      <th>mean</th>\n",
       "      <th>var</th>\n",
       "      <th>std</th>\n",
       "      <th>hop</th>\n",
       "      <th>min</th>\n",
       "      <th>max</th>\n",
       "      <th>loss</th>\n",
       "      <th>label</th>\n",
       "    </tr>\n",
       "  </thead>\n",
       "  <tbody>\n",
       "    <tr>\n",
       "      <th>0</th>\n",
       "      <td>aaaa::212:740e:e:e0e:</td>\n",
       "      <td>1bh-7</td>\n",
       "      <td>184</td>\n",
       "      <td>612.706522</td>\n",
       "      <td>125194.722143</td>\n",
       "      <td>353.828662</td>\n",
       "      <td>5</td>\n",
       "      <td>246.0</td>\n",
       "      <td>3156.0</td>\n",
       "      <td>0.080</td>\n",
       "      <td>BH</td>\n",
       "    </tr>\n",
       "    <tr>\n",
       "      <th>1</th>\n",
       "      <td>aaaa::212:7406:6:606:</td>\n",
       "      <td>1bh-7</td>\n",
       "      <td>166</td>\n",
       "      <td>346.132530</td>\n",
       "      <td>64980.721723</td>\n",
       "      <td>254.913165</td>\n",
       "      <td>3</td>\n",
       "      <td>137.0</td>\n",
       "      <td>2237.0</td>\n",
       "      <td>0.170</td>\n",
       "      <td>BH</td>\n",
       "    </tr>\n",
       "    <tr>\n",
       "      <th>2</th>\n",
       "      <td>aaaa::212:7411:11:1111:</td>\n",
       "      <td>1bh-7</td>\n",
       "      <td>139</td>\n",
       "      <td>666.827338</td>\n",
       "      <td>185825.506204</td>\n",
       "      <td>431.074827</td>\n",
       "      <td>5</td>\n",
       "      <td>262.0</td>\n",
       "      <td>3312.0</td>\n",
       "      <td>0.305</td>\n",
       "      <td>BH</td>\n",
       "    </tr>\n",
       "    <tr>\n",
       "      <th>3</th>\n",
       "      <td>aaaa::212:7407:7:707:</td>\n",
       "      <td>1bh-7</td>\n",
       "      <td>154</td>\n",
       "      <td>299.876623</td>\n",
       "      <td>33707.546770</td>\n",
       "      <td>183.596151</td>\n",
       "      <td>2</td>\n",
       "      <td>118.0</td>\n",
       "      <td>1153.0</td>\n",
       "      <td>0.230</td>\n",
       "      <td>BH</td>\n",
       "    </tr>\n",
       "    <tr>\n",
       "      <th>4</th>\n",
       "      <td>aaaa::212:740d:d:d0d:</td>\n",
       "      <td>1bh-7</td>\n",
       "      <td>152</td>\n",
       "      <td>474.940789</td>\n",
       "      <td>68912.691835</td>\n",
       "      <td>262.512270</td>\n",
       "      <td>4</td>\n",
       "      <td>234.0</td>\n",
       "      <td>1746.0</td>\n",
       "      <td>0.240</td>\n",
       "      <td>BH</td>\n",
       "    </tr>\n",
       "  </tbody>\n",
       "</table>\n",
       "</div>"
      ],
      "text/plain": [
       "                   node_id experiment  count        mean            var  \\\n",
       "0    aaaa::212:740e:e:e0e:      1bh-7    184  612.706522  125194.722143   \n",
       "1    aaaa::212:7406:6:606:      1bh-7    166  346.132530   64980.721723   \n",
       "2  aaaa::212:7411:11:1111:      1bh-7    139  666.827338  185825.506204   \n",
       "3    aaaa::212:7407:7:707:      1bh-7    154  299.876623   33707.546770   \n",
       "4    aaaa::212:740d:d:d0d:      1bh-7    152  474.940789   68912.691835   \n",
       "\n",
       "          std  hop    min     max   loss label  \n",
       "0  353.828662    5  246.0  3156.0  0.080    BH  \n",
       "1  254.913165    3  137.0  2237.0  0.170    BH  \n",
       "2  431.074827    5  262.0  3312.0  0.305    BH  \n",
       "3  183.596151    2  118.0  1153.0  0.230    BH  \n",
       "4  262.512270    4  234.0  1746.0  0.240    BH  "
      ]
     },
     "execution_count": 11,
     "metadata": {},
     "output_type": "execute_result"
    }
   ],
   "source": [
    "plots = [#(\"traces/normal/\", 'grid_normal_2019-02-19_21'),\n",
    "         (\"traces/1bh-7/\", 'grid_1bh-7_2019-02-19_22'),\n",
    "         (\"traces/1bh-9/\", 'grid_1bh-9_2019-02-20_00'),\n",
    "         (\"traces/1gh30-7/\", 'grid_1gh30-7_2019-02-19_22'),\n",
    "         (\"traces/1gh30-9/\", 'grid_1gh30-9_2019-02-20_00'),\n",
    "         (\"traces/1gh50-7/\", 'grid_1gh50-7_2019-02-19_22'),\n",
    "         (\"traces/1gh50-9/\", 'grid_1gh50-9_2019-02-19_23'),\n",
    "         (\"traces/1gh70-7/\", 'grid_1gh70-7_2019-02-19_23'),\n",
    "         (\"traces/1gh70-9/\", 'grid_1gh70-9_2019-02-19_23')\n",
    "        ]\n",
    "\n",
    "stats = None\n",
    "win_25_stats = None\n",
    "win_50_stats = None\n",
    "win_100_stats = None\n",
    "\n",
    "for row in plots:\n",
    "    experiment = row[0].split('/')[1]\n",
    "    \n",
    "    # Assign a label\n",
    "    if row[0].find('gh') >= 0:\n",
    "        label = 'GH'\n",
    "    else:\n",
    "        label = 'BH'\n",
    "    nodes, packets_node = trace_analysis.process_cooja2_traces(row[0], row[1])\n",
    "    \n",
    "    # Update stats\n",
    "    if stats is None:\n",
    "        stats = trace_statistics.compute_labeled_statistics(nodes, packets_node, label, experiment)\n",
    "        win_25_stats = trace_statistics.compute_window_labeled_statistics(nodes, packets_node, label, experiment, 25)\n",
    "        win_50_stats = trace_statistics.compute_window_labeled_statistics(nodes, packets_node, label, experiment, 50)\n",
    "        win_100_stats = trace_statistics.compute_window_labeled_statistics(nodes, packets_node, label, experiment, 100)\n",
    "    else:\n",
    "        stats = pd.concat([stats, trace_statistics.compute_labeled_statistics(nodes, packets_node, label, experiment)])\n",
    "        win_25_stats = pd.concat([win_25_stats, trace_statistics.compute_window_labeled_statistics(nodes, packets_node, label, experiment, 25)])\n",
    "        win_50_stats = pd.concat([win_50_stats, trace_statistics.compute_window_labeled_statistics(nodes, packets_node, label, experiment, 50)])\n",
    "        win_100_stats = pd.concat([win_100_stats, trace_statistics.compute_window_labeled_statistics(nodes, packets_node, label, experiment, 100)])\n",
    "        \n",
    "stats = stats.reset_index(drop=True)\n",
    "win_25_stats = win_25_stats.reset_index(drop=True)\n",
    "win_50_stats = win_50_stats.reset_index(drop=True)\n",
    "win_100_stats = win_100_stats.reset_index(drop=True)\n",
    "\n",
    "# Create a dictionary containing all the statistics for each trace size\n",
    "trace_stats = {200: stats, 25: win_25_stats, 50: win_50_stats, 100: win_100_stats}\n",
    "stats.head(5)"
   ]
  },
  {
   "cell_type": "markdown",
   "metadata": {},
   "source": [
    "# Feature Selection\n",
    "\n",
    "Select the set of features and labels that we use to fit the algorithm"
   ]
  },
  {
   "cell_type": "code",
   "execution_count": 12,
   "metadata": {},
   "outputs": [
    {
     "data": {
      "image/png": "[encoded data removed]",
      "text/plain": [
       "<Figure size 864x576 with 4 Axes>"
      ]
     },
     "metadata": {
      "needs_background": "light"
     },
     "output_type": "display_data"
    }
   ],
   "source": [
    "plots_analysis.random_forests_features_selection(trace_stats)"
   ]
  },
  {
   "cell_type": "code",
   "execution_count": 13,
   "metadata": {},
   "outputs": [],
   "source": [
    "results = None            # Results from each classification algorithm\n",
    "cv_results = None         # Cross validation results from each classification algorithm\n",
    "\n",
    "features_to_drop = ['node_id', 'experiment', 'label', 'hop', 'loss', 'count']"
   ]
  },
  {
   "cell_type": "markdown",
   "metadata": {},
   "source": [
    "# Random Forests Classifier\n",
    "\n",
    "Let us experiment with random forests. First, let us select most relevant features."
   ]
  },
  {
   "cell_type": "code",
   "execution_count": 14,
   "metadata": {},
   "outputs": [
    {
     "name": "stdout",
     "output_type": "stream",
     "text": [
      "Computing trace 200\n",
      "Computing trace 25\n",
      "Computing trace 50\n",
      "Computing trace 100\n"
     ]
    }
   ],
   "source": [
    "results = pd.concat([results, \n",
    "                     trace_classification.random_forest_classification(trace_stats, features_to_drop)\n",
    "                    ])"
   ]
  },
  {
   "cell_type": "markdown",
   "metadata": {},
   "source": [
    "We want to compute average accuracy for each trace size (i.e. for each window size from 200 - the entire window - to 100, 50 and 25)"
   ]
  },
  {
   "cell_type": "code",
   "execution_count": 15,
   "metadata": {},
   "outputs": [
    {
     "name": "stdout",
     "output_type": "stream",
     "text": [
      "Computing trace 200\n",
      "Computing trace 25\n",
      "Computing trace 50\n",
      "Computing trace 100\n"
     ]
    }
   ],
   "source": [
    "cv_results = pd.concat([cv_results, \n",
    "                     trace_classification.random_forest_cross_validation(trace_stats, features_to_drop)\n",
    "                    ])"
   ]
  },
  {
   "cell_type": "markdown",
   "metadata": {},
   "source": [
    "# K-Nearest Neighbor (KNN) Classification\n",
    "\n",
    "Let us first observe the accuracies for different values of k"
   ]
  },
  {
   "cell_type": "code",
   "execution_count": 16,
   "metadata": {},
   "outputs": [
    {
     "data": {
      "image/png": "[encoded data removed]",
      "text/plain": [
       "<Figure size 864x576 with 4 Axes>"
      ]
     },
     "metadata": {
      "needs_background": "light"
     },
     "output_type": "display_data"
    }
   ],
   "source": [
    "plots_analysis.knn_test_number_of_neighbors(trace_stats, 30)"
   ]
  },
  {
   "cell_type": "markdown",
   "metadata": {},
   "source": [
    "Let's build KNN classifier "
   ]
  },
  {
   "cell_type": "code",
   "execution_count": 17,
   "metadata": {},
   "outputs": [
    {
     "name": "stdout",
     "output_type": "stream",
     "text": [
      "Computing trace 200\n",
      "Computing trace 25\n",
      "Computing trace 50\n",
      "Computing trace 100\n"
     ]
    },
    {
     "name": "stderr",
     "output_type": "stream",
     "text": [
      "/Library/Frameworks/Python.framework/Versions/3.6/lib/python3.6/site-packages/sklearn/metrics/classification.py:1143: UndefinedMetricWarning: Precision is ill-defined and being set to 0.0 in labels with no predicted samples.\n",
      "  'precision', 'predicted', average, warn_for)\n",
      "/Library/Frameworks/Python.framework/Versions/3.6/lib/python3.6/site-packages/sklearn/metrics/classification.py:1143: UndefinedMetricWarning: F-score is ill-defined and being set to 0.0 in labels with no predicted samples.\n",
      "  'precision', 'predicted', average, warn_for)\n",
      "/Library/Frameworks/Python.framework/Versions/3.6/lib/python3.6/site-packages/sklearn/metrics/classification.py:1143: UndefinedMetricWarning: Precision is ill-defined and being set to 0.0 in labels with no predicted samples.\n",
      "  'precision', 'predicted', average, warn_for)\n",
      "/Library/Frameworks/Python.framework/Versions/3.6/lib/python3.6/site-packages/sklearn/metrics/classification.py:1143: UndefinedMetricWarning: F-score is ill-defined and being set to 0.0 in labels with no predicted samples.\n",
      "  'precision', 'predicted', average, warn_for)\n"
     ]
    }
   ],
   "source": [
    "results = pd.concat([results, \n",
    "                     trace_classification.k_nearest_neighbor_classification(trace_stats, features_to_drop, n_neighbors=30)\n",
    "                    ])"
   ]
  },
  {
   "cell_type": "markdown",
   "metadata": {},
   "source": [
    "We want to compute average accuracy for each trace size (i.e. for each window size from 200 - the entire window - to 100, 50 and 25)"
   ]
  },
  {
   "cell_type": "code",
   "execution_count": 18,
   "metadata": {},
   "outputs": [
    {
     "name": "stdout",
     "output_type": "stream",
     "text": [
      "Computing trace 200\n",
      "Computing trace 25\n",
      "Computing trace 50\n",
      "Computing trace 100\n"
     ]
    }
   ],
   "source": [
    "cv_results = pd.concat([cv_results, \n",
    "                     trace_classification.k_nearest_neighbor_cross_validation(trace_stats, features_to_drop, n_neighbors=30)\n",
    "                    ])"
   ]
  },
  {
   "cell_type": "markdown",
   "metadata": {},
   "source": [
    "# Support Vector Machines (SVM) Classification\n",
    "\n",
    "Let us experiment with another classifier"
   ]
  },
  {
   "cell_type": "code",
   "execution_count": 19,
   "metadata": {},
   "outputs": [
    {
     "name": "stdout",
     "output_type": "stream",
     "text": [
      "Computing trace 200\n",
      "Computing trace 25\n",
      "Computing trace 50\n",
      "Computing trace 100\n"
     ]
    }
   ],
   "source": [
    "results = pd.concat([results, \n",
    "                     trace_classification.support_vector_machines_classification(trace_stats, features_to_drop, kernel='linear')\n",
    "                    ])"
   ]
  },
  {
   "cell_type": "markdown",
   "metadata": {},
   "source": [
    "We want to compute average accuracy for each trace size (i.e. for each window size from 200 - the entire window - to 100, 50 and 25)"
   ]
  },
  {
   "cell_type": "code",
   "execution_count": 20,
   "metadata": {},
   "outputs": [
    {
     "name": "stdout",
     "output_type": "stream",
     "text": [
      "Computing trace 200\n",
      "Computing trace 25\n",
      "Computing trace 50\n",
      "Computing trace 100\n"
     ]
    }
   ],
   "source": [
    "cv_results = pd.concat([cv_results, \n",
    "                     trace_classification.support_vector_machines_cross_validation(trace_stats, features_to_drop, kernel='linear')\n",
    "                    ])"
   ]
  },
  {
   "cell_type": "markdown",
   "metadata": {},
   "source": [
    "# Results\n",
    "\n",
    "Results from each model"
   ]
  },
  {
   "cell_type": "code",
   "execution_count": 23,
   "metadata": {},
   "outputs": [
    {
     "data": {
      "text/html": [
       "<div>\n",
       "<style scoped>\n",
       "    .dataframe tbody tr th:only-of-type {\n",
       "        vertical-align: middle;\n",
       "    }\n",
       "\n",
       "    .dataframe tbody tr th {\n",
       "        vertical-align: top;\n",
       "    }\n",
       "\n",
       "    .dataframe thead th {\n",
       "        text-align: right;\n",
       "    }\n",
       "</style>\n",
       "<table border=\"1\" class=\"dataframe\">\n",
       "  <thead>\n",
       "    <tr style=\"text-align: right;\">\n",
       "      <th></th>\n",
       "      <th>Model</th>\n",
       "      <th>Window Size</th>\n",
       "      <th>Accuracy</th>\n",
       "      <th>Precision</th>\n",
       "      <th>Recall</th>\n",
       "      <th>F1-score</th>\n",
       "      <th>Time (ms)</th>\n",
       "    </tr>\n",
       "  </thead>\n",
       "  <tbody>\n",
       "    <tr>\n",
       "      <th>0</th>\n",
       "      <td>Random Forest</td>\n",
       "      <td>200</td>\n",
       "      <td>0.631579</td>\n",
       "      <td>0.461538</td>\n",
       "      <td>0.333333</td>\n",
       "      <td>0.387097</td>\n",
       "      <td>0.090629</td>\n",
       "    </tr>\n",
       "    <tr>\n",
       "      <th>1</th>\n",
       "      <td>Random Forest</td>\n",
       "      <td>25</td>\n",
       "      <td>0.656388</td>\n",
       "      <td>0.507162</td>\n",
       "      <td>0.504505</td>\n",
       "      <td>0.492490</td>\n",
       "      <td>0.116929</td>\n",
       "    </tr>\n",
       "    <tr>\n",
       "      <th>2</th>\n",
       "      <td>Random Forest</td>\n",
       "      <td>50</td>\n",
       "      <td>0.709677</td>\n",
       "      <td>0.553500</td>\n",
       "      <td>0.522145</td>\n",
       "      <td>0.502674</td>\n",
       "      <td>0.145753</td>\n",
       "    </tr>\n",
       "    <tr>\n",
       "      <th>3</th>\n",
       "      <td>Random Forest</td>\n",
       "      <td>100</td>\n",
       "      <td>0.753623</td>\n",
       "      <td>0.714286</td>\n",
       "      <td>0.585263</td>\n",
       "      <td>0.584779</td>\n",
       "      <td>0.087030</td>\n",
       "    </tr>\n",
       "    <tr>\n",
       "      <th>4</th>\n",
       "      <td>KNN</td>\n",
       "      <td>200</td>\n",
       "      <td>0.763158</td>\n",
       "      <td>0.467742</td>\n",
       "      <td>0.402778</td>\n",
       "      <td>0.432836</td>\n",
       "      <td>0.010355</td>\n",
       "    </tr>\n",
       "    <tr>\n",
       "      <th>5</th>\n",
       "      <td>KNN</td>\n",
       "      <td>25</td>\n",
       "      <td>0.713656</td>\n",
       "      <td>0.526042</td>\n",
       "      <td>0.501678</td>\n",
       "      <td>0.430946</td>\n",
       "      <td>0.014241</td>\n",
       "    </tr>\n",
       "    <tr>\n",
       "      <th>6</th>\n",
       "      <td>KNN</td>\n",
       "      <td>50</td>\n",
       "      <td>0.733871</td>\n",
       "      <td>0.366935</td>\n",
       "      <td>0.500000</td>\n",
       "      <td>0.423256</td>\n",
       "      <td>0.013369</td>\n",
       "    </tr>\n",
       "    <tr>\n",
       "      <th>7</th>\n",
       "      <td>KNN</td>\n",
       "      <td>100</td>\n",
       "      <td>0.724638</td>\n",
       "      <td>0.362319</td>\n",
       "      <td>0.500000</td>\n",
       "      <td>0.420168</td>\n",
       "      <td>0.006088</td>\n",
       "    </tr>\n",
       "    <tr>\n",
       "      <th>8</th>\n",
       "      <td>SVM</td>\n",
       "      <td>200</td>\n",
       "      <td>0.684211</td>\n",
       "      <td>0.464286</td>\n",
       "      <td>0.361111</td>\n",
       "      <td>0.406250</td>\n",
       "      <td>29.217087</td>\n",
       "    </tr>\n",
       "    <tr>\n",
       "      <th>9</th>\n",
       "      <td>SVM</td>\n",
       "      <td>25</td>\n",
       "      <td>0.638767</td>\n",
       "      <td>0.502317</td>\n",
       "      <td>0.501725</td>\n",
       "      <td>0.495391</td>\n",
       "      <td>84.119497</td>\n",
       "    </tr>\n",
       "    <tr>\n",
       "      <th>10</th>\n",
       "      <td>SVM</td>\n",
       "      <td>50</td>\n",
       "      <td>0.701613</td>\n",
       "      <td>0.610284</td>\n",
       "      <td>0.603563</td>\n",
       "      <td>0.606349</td>\n",
       "      <td>98.499446</td>\n",
       "    </tr>\n",
       "    <tr>\n",
       "      <th>11</th>\n",
       "      <td>SVM</td>\n",
       "      <td>100</td>\n",
       "      <td>0.739130</td>\n",
       "      <td>0.661111</td>\n",
       "      <td>0.591579</td>\n",
       "      <td>0.596753</td>\n",
       "      <td>13.502533</td>\n",
       "    </tr>\n",
       "  </tbody>\n",
       "</table>\n",
       "</div>"
      ],
      "text/plain": [
       "            Model  Window Size  Accuracy  Precision    Recall  F1-score  \\\n",
       "0   Random Forest          200  0.631579   0.461538  0.333333  0.387097   \n",
       "1   Random Forest           25  0.656388   0.507162  0.504505  0.492490   \n",
       "2   Random Forest           50  0.709677   0.553500  0.522145  0.502674   \n",
       "3   Random Forest          100  0.753623   0.714286  0.585263  0.584779   \n",
       "4             KNN          200  0.763158   0.467742  0.402778  0.432836   \n",
       "5             KNN           25  0.713656   0.526042  0.501678  0.430946   \n",
       "6             KNN           50  0.733871   0.366935  0.500000  0.423256   \n",
       "7             KNN          100  0.724638   0.362319  0.500000  0.420168   \n",
       "8             SVM          200  0.684211   0.464286  0.361111  0.406250   \n",
       "9             SVM           25  0.638767   0.502317  0.501725  0.495391   \n",
       "10            SVM           50  0.701613   0.610284  0.603563  0.606349   \n",
       "11            SVM          100  0.739130   0.661111  0.591579  0.596753   \n",
       "\n",
       "    Time (ms)  \n",
       "0    0.090629  \n",
       "1    0.116929  \n",
       "2    0.145753  \n",
       "3    0.087030  \n",
       "4    0.010355  \n",
       "5    0.014241  \n",
       "6    0.013369  \n",
       "7    0.006088  \n",
       "8   29.217087  \n",
       "9   84.119497  \n",
       "10  98.499446  \n",
       "11  13.502533  "
      ]
     },
     "execution_count": 23,
     "metadata": {},
     "output_type": "execute_result"
    }
   ],
   "source": [
    "results.reset_index(drop=True)"
   ]
  },
  {
   "cell_type": "markdown",
   "metadata": {},
   "source": [
    "Here we plot the average results for each model computed with cross validation"
   ]
  },
  {
   "cell_type": "code",
   "execution_count": 24,
   "metadata": {
    "scrolled": true
   },
   "outputs": [
    {
     "data": {
      "text/html": [
       "<div>\n",
       "<style scoped>\n",
       "    .dataframe tbody tr th:only-of-type {\n",
       "        vertical-align: middle;\n",
       "    }\n",
       "\n",
       "    .dataframe tbody tr th {\n",
       "        vertical-align: top;\n",
       "    }\n",
       "\n",
       "    .dataframe thead th {\n",
       "        text-align: right;\n",
       "    }\n",
       "</style>\n",
       "<table border=\"1\" class=\"dataframe\">\n",
       "  <thead>\n",
       "    <tr style=\"text-align: right;\">\n",
       "      <th></th>\n",
       "      <th>Model</th>\n",
       "      <th>Window Size</th>\n",
       "      <th>Mean Accuracy</th>\n",
       "    </tr>\n",
       "  </thead>\n",
       "  <tbody>\n",
       "    <tr>\n",
       "      <th>0</th>\n",
       "      <td>Random Forest</td>\n",
       "      <td>200</td>\n",
       "      <td>0.677487</td>\n",
       "    </tr>\n",
       "    <tr>\n",
       "      <th>1</th>\n",
       "      <td>Random Forest</td>\n",
       "      <td>25</td>\n",
       "      <td>0.672924</td>\n",
       "    </tr>\n",
       "    <tr>\n",
       "      <th>2</th>\n",
       "      <td>Random Forest</td>\n",
       "      <td>50</td>\n",
       "      <td>0.644742</td>\n",
       "    </tr>\n",
       "    <tr>\n",
       "      <th>3</th>\n",
       "      <td>Random Forest</td>\n",
       "      <td>100</td>\n",
       "      <td>0.650091</td>\n",
       "    </tr>\n",
       "    <tr>\n",
       "      <th>4</th>\n",
       "      <td>KNN</td>\n",
       "      <td>200</td>\n",
       "      <td>0.774513</td>\n",
       "    </tr>\n",
       "    <tr>\n",
       "      <th>5</th>\n",
       "      <td>KNN</td>\n",
       "      <td>25</td>\n",
       "      <td>0.725853</td>\n",
       "    </tr>\n",
       "    <tr>\n",
       "      <th>6</th>\n",
       "      <td>KNN</td>\n",
       "      <td>50</td>\n",
       "      <td>0.732381</td>\n",
       "    </tr>\n",
       "    <tr>\n",
       "      <th>7</th>\n",
       "      <td>KNN</td>\n",
       "      <td>100</td>\n",
       "      <td>0.746811</td>\n",
       "    </tr>\n",
       "    <tr>\n",
       "      <th>8</th>\n",
       "      <td>SVM</td>\n",
       "      <td>200</td>\n",
       "      <td>0.710513</td>\n",
       "    </tr>\n",
       "    <tr>\n",
       "      <th>9</th>\n",
       "      <td>SVM</td>\n",
       "      <td>25</td>\n",
       "      <td>0.680959</td>\n",
       "    </tr>\n",
       "    <tr>\n",
       "      <th>10</th>\n",
       "      <td>SVM</td>\n",
       "      <td>50</td>\n",
       "      <td>0.678774</td>\n",
       "    </tr>\n",
       "    <tr>\n",
       "      <th>11</th>\n",
       "      <td>SVM</td>\n",
       "      <td>100</td>\n",
       "      <td>0.685546</td>\n",
       "    </tr>\n",
       "  </tbody>\n",
       "</table>\n",
       "</div>"
      ],
      "text/plain": [
       "            Model  Window Size  Mean Accuracy\n",
       "0   Random Forest          200       0.677487\n",
       "1   Random Forest           25       0.672924\n",
       "2   Random Forest           50       0.644742\n",
       "3   Random Forest          100       0.650091\n",
       "4             KNN          200       0.774513\n",
       "5             KNN           25       0.725853\n",
       "6             KNN           50       0.732381\n",
       "7             KNN          100       0.746811\n",
       "8             SVM          200       0.710513\n",
       "9             SVM           25       0.680959\n",
       "10            SVM           50       0.678774\n",
       "11            SVM          100       0.685546"
      ]
     },
     "execution_count": 24,
     "metadata": {},
     "output_type": "execute_result"
    }
   ],
   "source": [
    "cv_results.reset_index(drop=True)"
   ]
  },
  {
   "cell_type": "code",
   "execution_count": null,
   "metadata": {},
   "outputs": [],
   "source": []
  }
 ],
 "metadata": {
  "kernelspec": {
   "display_name": "Python 3",
   "language": "python",
   "name": "python3"
  },
  "language_info": {
   "codemirror_mode": {
    "name": "ipython",
    "version": 3
   },
   "file_extension": ".py",
   "mimetype": "text/x-python",
   "name": "python",
   "nbconvert_exporter": "python",
   "pygments_lexer": "ipython3",
   "version": "3.6.5"
  }
 },
 "nbformat": 4,
 "nbformat_minor": 2
}
