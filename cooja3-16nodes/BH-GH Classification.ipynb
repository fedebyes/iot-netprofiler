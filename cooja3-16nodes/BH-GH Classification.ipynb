{
 "cells": [
  {
   "cell_type": "code",
   "execution_count": 2,
   "metadata": {},
   "outputs": [],
   "source": [
    "import pandas as pd\n",
    "import numpy as np\n",
    "from scipy import stats as sp\n",
    "import sys, os\n",
    "sys.path.append('../')\n",
    "import trace_analysis\n",
    "import plots_analysis\n",
    "import trace_statistics\n",
    "import trace_classification\n",
    "import csv\n",
    "import warnings \n",
    "warnings.filterwarnings('ignore')"
   ]
  },
  {
   "cell_type": "markdown",
   "metadata": {},
   "source": [
    "# Data Preparation\n",
    "\n",
    "\n",
    "Prepare the data to be used with kNN"
   ]
  },
  {
   "cell_type": "code",
   "execution_count": 3,
   "metadata": {},
   "outputs": [
    {
     "data": {
      "text/html": [
       "<div>\n",
       "<style scoped>\n",
       "    .dataframe tbody tr th:only-of-type {\n",
       "        vertical-align: middle;\n",
       "    }\n",
       "\n",
       "    .dataframe tbody tr th {\n",
       "        vertical-align: top;\n",
       "    }\n",
       "\n",
       "    .dataframe thead th {\n",
       "        text-align: right;\n",
       "    }\n",
       "</style>\n",
       "<table border=\"1\" class=\"dataframe\">\n",
       "  <thead>\n",
       "    <tr style=\"text-align: right;\">\n",
       "      <th></th>\n",
       "      <th>node_id</th>\n",
       "      <th>experiment</th>\n",
       "      <th>count</th>\n",
       "      <th>mean</th>\n",
       "      <th>var</th>\n",
       "      <th>std</th>\n",
       "      <th>hop</th>\n",
       "      <th>min</th>\n",
       "      <th>max</th>\n",
       "      <th>loss</th>\n",
       "      <th>outliers</th>\n",
       "      <th>label</th>\n",
       "    </tr>\n",
       "  </thead>\n",
       "  <tbody>\n",
       "    <tr>\n",
       "      <th>0</th>\n",
       "      <td>aaaa::212:740e:e:e0e:</td>\n",
       "      <td>grid_1gh70-7_2019-02-19_23:11_</td>\n",
       "      <td>177</td>\n",
       "      <td>465.497175</td>\n",
       "      <td>36520.160503</td>\n",
       "      <td>191.102487</td>\n",
       "      <td>5</td>\n",
       "      <td>234.0</td>\n",
       "      <td>1399.0</td>\n",
       "      <td>0.115</td>\n",
       "      <td>10</td>\n",
       "      <td>GH</td>\n",
       "    </tr>\n",
       "    <tr>\n",
       "      <th>1</th>\n",
       "      <td>aaaa::212:7406:6:606:</td>\n",
       "      <td>grid_1gh70-7_2019-02-19_23:11_</td>\n",
       "      <td>182</td>\n",
       "      <td>255.192308</td>\n",
       "      <td>19384.134084</td>\n",
       "      <td>139.226916</td>\n",
       "      <td>3</td>\n",
       "      <td>136.0</td>\n",
       "      <td>958.0</td>\n",
       "      <td>0.090</td>\n",
       "      <td>11</td>\n",
       "      <td>GH</td>\n",
       "    </tr>\n",
       "    <tr>\n",
       "      <th>2</th>\n",
       "      <td>aaaa::212:7407:7:707:</td>\n",
       "      <td>grid_1gh70-7_2019-02-19_23:11_</td>\n",
       "      <td>165</td>\n",
       "      <td>265.400000</td>\n",
       "      <td>22517.204878</td>\n",
       "      <td>150.057339</td>\n",
       "      <td>2</td>\n",
       "      <td>101.0</td>\n",
       "      <td>1103.0</td>\n",
       "      <td>0.175</td>\n",
       "      <td>8</td>\n",
       "      <td>GH</td>\n",
       "    </tr>\n",
       "    <tr>\n",
       "      <th>3</th>\n",
       "      <td>aaaa::212:740d:d:d0d:</td>\n",
       "      <td>grid_1gh70-7_2019-02-19_23:11_</td>\n",
       "      <td>164</td>\n",
       "      <td>488.432927</td>\n",
       "      <td>58540.934124</td>\n",
       "      <td>241.952339</td>\n",
       "      <td>4</td>\n",
       "      <td>200.0</td>\n",
       "      <td>1359.0</td>\n",
       "      <td>0.180</td>\n",
       "      <td>6</td>\n",
       "      <td>GH</td>\n",
       "    </tr>\n",
       "    <tr>\n",
       "      <th>4</th>\n",
       "      <td>aaaa::212:7410:10:1010:</td>\n",
       "      <td>grid_1gh70-7_2019-02-19_23:11_</td>\n",
       "      <td>141</td>\n",
       "      <td>499.375887</td>\n",
       "      <td>73331.050557</td>\n",
       "      <td>270.797065</td>\n",
       "      <td>4</td>\n",
       "      <td>225.0</td>\n",
       "      <td>1521.0</td>\n",
       "      <td>0.295</td>\n",
       "      <td>8</td>\n",
       "      <td>GH</td>\n",
       "    </tr>\n",
       "  </tbody>\n",
       "</table>\n",
       "</div>"
      ],
      "text/plain": [
       "                   node_id                      experiment  count        mean  \\\n",
       "0    aaaa::212:740e:e:e0e:  grid_1gh70-7_2019-02-19_23:11_    177  465.497175   \n",
       "1    aaaa::212:7406:6:606:  grid_1gh70-7_2019-02-19_23:11_    182  255.192308   \n",
       "2    aaaa::212:7407:7:707:  grid_1gh70-7_2019-02-19_23:11_    165  265.400000   \n",
       "3    aaaa::212:740d:d:d0d:  grid_1gh70-7_2019-02-19_23:11_    164  488.432927   \n",
       "4  aaaa::212:7410:10:1010:  grid_1gh70-7_2019-02-19_23:11_    141  499.375887   \n",
       "\n",
       "            var         std  hop    min     max   loss  outliers label  \n",
       "0  36520.160503  191.102487    5  234.0  1399.0  0.115        10    GH  \n",
       "1  19384.134084  139.226916    3  136.0   958.0  0.090        11    GH  \n",
       "2  22517.204878  150.057339    2  101.0  1103.0  0.175         8    GH  \n",
       "3  58540.934124  241.952339    4  200.0  1359.0  0.180         6    GH  \n",
       "4  73331.050557  270.797065    4  225.0  1521.0  0.295         8    GH  "
      ]
     },
     "execution_count": 3,
     "metadata": {},
     "output_type": "execute_result"
    }
   ],
   "source": [
    "plots = set()\n",
    "with open('traces/traces.csv') as csv_file:\n",
    "    csv_reader = csv.reader(csv_file, delimiter=',')\n",
    "    line_count = 0\n",
    "    for row in csv_reader:\n",
    "        if line_count == 0 or row[2].find('normal') >= 0:\n",
    "            line_count += 1\n",
    "            continue\n",
    "        else:\n",
    "            plots.add((row[1], row[2]))\n",
    "\n",
    "plots = list(plots)  \n",
    "\n",
    "stats = None\n",
    "win_25_stats = None\n",
    "win_50_stats = None\n",
    "win_100_stats = None\n",
    "\n",
    "for row in plots:\n",
    "    experiment = row[1]\n",
    "    \n",
    "    # Assign a label\n",
    "    if row[1].find('gh') >= 0:\n",
    "        label = 'GH'\n",
    "    else:\n",
    "        label = 'BH'\n",
    "    nodes, packets_node = trace_analysis.process_cooja2_traces(row[0], row[1])\n",
    "    \n",
    "    # Update stats\n",
    "    if stats is None:\n",
    "        stats = trace_statistics.compute_labeled_statistics(nodes, packets_node, label, experiment)\n",
    "        win_25_stats = trace_statistics.compute_window_labeled_statistics(nodes, packets_node, label, experiment, 25)\n",
    "        win_50_stats = trace_statistics.compute_window_labeled_statistics(nodes, packets_node, label, experiment, 50)\n",
    "        win_100_stats = trace_statistics.compute_window_labeled_statistics(nodes, packets_node, label, experiment, 100)\n",
    "    else:\n",
    "        stats = pd.concat([stats, trace_statistics.compute_labeled_statistics(nodes, packets_node, label, experiment)])\n",
    "        win_25_stats = pd.concat([win_25_stats, trace_statistics.compute_window_labeled_statistics(nodes, packets_node, label, experiment, 25)])\n",
    "        win_50_stats = pd.concat([win_50_stats, trace_statistics.compute_window_labeled_statistics(nodes, packets_node, label, experiment, 50)])\n",
    "        win_100_stats = pd.concat([win_100_stats, trace_statistics.compute_window_labeled_statistics(nodes, packets_node, label, experiment, 100)])\n",
    "        \n",
    "stats = stats.reset_index(drop=True)\n",
    "win_25_stats = win_25_stats.reset_index(drop=True)\n",
    "win_50_stats = win_50_stats.reset_index(drop=True)\n",
    "win_100_stats = win_100_stats.reset_index(drop=True)\n",
    "\n",
    "# Create a dictionary containing all the statistics for each trace size\n",
    "trace_stats = {200: stats, 25: win_25_stats, 50: win_50_stats, 100: win_100_stats}\n",
    "stats.head(5)"
   ]
  },
  {
   "cell_type": "markdown",
   "metadata": {},
   "source": [
    "Stats for single network"
   ]
  },
  {
   "cell_type": "code",
   "execution_count": 4,
   "metadata": {},
   "outputs": [
    {
     "data": {
      "text/html": [
       "<div>\n",
       "<style scoped>\n",
       "    .dataframe tbody tr th:only-of-type {\n",
       "        vertical-align: middle;\n",
       "    }\n",
       "\n",
       "    .dataframe tbody tr th {\n",
       "        vertical-align: top;\n",
       "    }\n",
       "\n",
       "    .dataframe thead th {\n",
       "        text-align: right;\n",
       "    }\n",
       "</style>\n",
       "<table border=\"1\" class=\"dataframe\">\n",
       "  <thead>\n",
       "    <tr style=\"text-align: right;\">\n",
       "      <th></th>\n",
       "      <th>experiment</th>\n",
       "      <th>label</th>\n",
       "      <th>1</th>\n",
       "      <th>2</th>\n",
       "      <th>3</th>\n",
       "      <th>4</th>\n",
       "      <th>5</th>\n",
       "      <th>6</th>\n",
       "      <th>7</th>\n",
       "      <th>8</th>\n",
       "      <th>9</th>\n",
       "      <th>10</th>\n",
       "      <th>11</th>\n",
       "      <th>12</th>\n",
       "      <th>13</th>\n",
       "      <th>14</th>\n",
       "      <th>15</th>\n",
       "      <th>16</th>\n",
       "    </tr>\n",
       "  </thead>\n",
       "  <tbody>\n",
       "    <tr>\n",
       "      <th>0</th>\n",
       "      <td>grid_1bh-7_2019-02-19_22:13_</td>\n",
       "      <td>BH</td>\n",
       "      <td>0.23</td>\n",
       "      <td>0.305</td>\n",
       "      <td>0.240</td>\n",
       "      <td>0.215</td>\n",
       "      <td>0.190</td>\n",
       "      <td>0.100</td>\n",
       "      <td>0.170</td>\n",
       "      <td>0.240</td>\n",
       "      <td>0.200</td>\n",
       "      <td>0.220</td>\n",
       "      <td>0.255</td>\n",
       "      <td>0.275</td>\n",
       "      <td>0.170</td>\n",
       "      <td>0.080</td>\n",
       "      <td>9.223372e+18</td>\n",
       "      <td>9.223372e+18</td>\n",
       "    </tr>\n",
       "    <tr>\n",
       "      <th>1</th>\n",
       "      <td>grid_1bh-9_2019-02-20_00:30_</td>\n",
       "      <td>BH</td>\n",
       "      <td>0.07</td>\n",
       "      <td>0.160</td>\n",
       "      <td>0.010</td>\n",
       "      <td>0.025</td>\n",
       "      <td>0.045</td>\n",
       "      <td>0.015</td>\n",
       "      <td>0.130</td>\n",
       "      <td>0.075</td>\n",
       "      <td>0.250</td>\n",
       "      <td>0.125</td>\n",
       "      <td>0.205</td>\n",
       "      <td>0.100</td>\n",
       "      <td>0.040</td>\n",
       "      <td>0.210</td>\n",
       "      <td>9.223372e+18</td>\n",
       "      <td>9.223372e+18</td>\n",
       "    </tr>\n",
       "    <tr>\n",
       "      <th>2</th>\n",
       "      <td>grid_1gh30-7_2019-02-19_22:35_</td>\n",
       "      <td>GH</td>\n",
       "      <td>0.48</td>\n",
       "      <td>0.350</td>\n",
       "      <td>0.705</td>\n",
       "      <td>0.705</td>\n",
       "      <td>0.825</td>\n",
       "      <td>0.475</td>\n",
       "      <td>0.235</td>\n",
       "      <td>0.550</td>\n",
       "      <td>0.635</td>\n",
       "      <td>0.335</td>\n",
       "      <td>0.425</td>\n",
       "      <td>0.380</td>\n",
       "      <td>0.885</td>\n",
       "      <td>0.455</td>\n",
       "      <td>6.950000e-01</td>\n",
       "      <td>8.900000e-01</td>\n",
       "    </tr>\n",
       "    <tr>\n",
       "      <th>3</th>\n",
       "      <td>grid_1gh30-9_2019-02-20_00:12_</td>\n",
       "      <td>GH</td>\n",
       "      <td>0.22</td>\n",
       "      <td>0.180</td>\n",
       "      <td>0.060</td>\n",
       "      <td>0.220</td>\n",
       "      <td>0.115</td>\n",
       "      <td>0.790</td>\n",
       "      <td>0.120</td>\n",
       "      <td>0.760</td>\n",
       "      <td>0.065</td>\n",
       "      <td>0.180</td>\n",
       "      <td>0.155</td>\n",
       "      <td>0.155</td>\n",
       "      <td>0.125</td>\n",
       "      <td>0.105</td>\n",
       "      <td>7.000000e-02</td>\n",
       "      <td>3.200000e-01</td>\n",
       "    </tr>\n",
       "    <tr>\n",
       "      <th>4</th>\n",
       "      <td>grid_1gh50-7_2019-02-19_22:53_</td>\n",
       "      <td>GH</td>\n",
       "      <td>0.27</td>\n",
       "      <td>0.650</td>\n",
       "      <td>0.625</td>\n",
       "      <td>0.580</td>\n",
       "      <td>0.145</td>\n",
       "      <td>0.300</td>\n",
       "      <td>0.315</td>\n",
       "      <td>0.360</td>\n",
       "      <td>0.160</td>\n",
       "      <td>0.170</td>\n",
       "      <td>0.165</td>\n",
       "      <td>0.205</td>\n",
       "      <td>0.170</td>\n",
       "      <td>0.345</td>\n",
       "      <td>3.000000e-01</td>\n",
       "      <td>3.500000e-01</td>\n",
       "    </tr>\n",
       "  </tbody>\n",
       "</table>\n",
       "</div>"
      ],
      "text/plain": [
       "                       experiment label     1      2      3      4      5  \\\n",
       "0    grid_1bh-7_2019-02-19_22:13_    BH  0.23  0.305  0.240  0.215  0.190   \n",
       "1    grid_1bh-9_2019-02-20_00:30_    BH  0.07  0.160  0.010  0.025  0.045   \n",
       "2  grid_1gh30-7_2019-02-19_22:35_    GH  0.48  0.350  0.705  0.705  0.825   \n",
       "3  grid_1gh30-9_2019-02-20_00:12_    GH  0.22  0.180  0.060  0.220  0.115   \n",
       "4  grid_1gh50-7_2019-02-19_22:53_    GH  0.27  0.650  0.625  0.580  0.145   \n",
       "\n",
       "       6      7      8      9     10     11     12     13     14  \\\n",
       "0  0.100  0.170  0.240  0.200  0.220  0.255  0.275  0.170  0.080   \n",
       "1  0.015  0.130  0.075  0.250  0.125  0.205  0.100  0.040  0.210   \n",
       "2  0.475  0.235  0.550  0.635  0.335  0.425  0.380  0.885  0.455   \n",
       "3  0.790  0.120  0.760  0.065  0.180  0.155  0.155  0.125  0.105   \n",
       "4  0.300  0.315  0.360  0.160  0.170  0.165  0.205  0.170  0.345   \n",
       "\n",
       "             15            16  \n",
       "0  9.223372e+18  9.223372e+18  \n",
       "1  9.223372e+18  9.223372e+18  \n",
       "2  6.950000e-01  8.900000e-01  \n",
       "3  7.000000e-02  3.200000e-01  \n",
       "4  3.000000e-01  3.500000e-01  "
      ]
     },
     "execution_count": 4,
     "metadata": {},
     "output_type": "execute_result"
    }
   ],
   "source": [
    "net_stats = trace_statistics.compute_labeled_statistics_by_network(stats, 'loss', 16)\n",
    "net_win_25_stats = trace_statistics.compute_window_labeled_statistics_by_network(win_25_stats, 'loss', 16, 25)\n",
    "net_win_50_stats = trace_statistics.compute_window_labeled_statistics_by_network(win_50_stats, 'loss', 16, 50)\n",
    "net_win_100_stats = trace_statistics.compute_window_labeled_statistics_by_network(win_100_stats, 'loss', 16, 100)\n",
    "\n",
    "# Create a dictionary containing all the statistics for each trace size\n",
    "network_stats = {200: net_stats, 25: net_win_25_stats, 50: net_win_50_stats, 100: net_win_100_stats}\n",
    "net_stats.head(5)"
   ]
  },
  {
   "cell_type": "markdown",
   "metadata": {},
   "source": [
    "# Feature Selection\n",
    "\n",
    "Select the set of features and labels that we use to fit the algorithm"
   ]
  },
  {
   "cell_type": "code",
   "execution_count": 5,
   "metadata": {},
   "outputs": [
    {
     "data": {
      "image/png": "[encoded data removed]",
      "text/plain": [
       "<Figure size 864x576 with 4 Axes>"
      ]
     },
     "metadata": {
      "needs_background": "light"
     },
     "output_type": "display_data"
    }
   ],
   "source": [
    "plots_analysis.random_forests_features_selection(trace_stats)"
   ]
  },
  {
   "cell_type": "code",
   "execution_count": 6,
   "metadata": {},
   "outputs": [],
   "source": [
    "results = None            # Results from each classification algorithm\n",
    "cv_results = None         # Cross validation results from each classification algorithm\n",
    "net_results = None            # Results from each classification algorithm\n",
    "cv_net_results = None         # Cross validation results from each classification algorithm\n",
    "\n",
    "features_to_drop = ['node_id', 'experiment', 'label', 'hop', 'loss', 'count', 'outliers']\n",
    "net_features_to_drop = ['experiment', 'label']"
   ]
  },
  {
   "cell_type": "markdown",
   "metadata": {},
   "source": [
    "# Random Forests Classifier\n",
    "\n",
    "Let us experiment with random forests. First, let us select most relevant features."
   ]
  },
  {
   "cell_type": "code",
   "execution_count": 7,
   "metadata": {},
   "outputs": [
    {
     "name": "stdout",
     "output_type": "stream",
     "text": [
      "Computing trace 200\n",
      "Computing trace 25\n",
      "Computing trace 50\n",
      "Computing trace 100\n"
     ]
    }
   ],
   "source": [
    "results = pd.concat([results, \n",
    "                     trace_classification.random_forest_classification(trace_stats, features_to_drop)\n",
    "                    ])"
   ]
  },
  {
   "cell_type": "markdown",
   "metadata": {},
   "source": [
    "We want to compute average accuracy for each trace size (i.e. for each window size from 200 - the entire window - to 100, 50 and 25)"
   ]
  },
  {
   "cell_type": "code",
   "execution_count": 8,
   "metadata": {},
   "outputs": [
    {
     "name": "stdout",
     "output_type": "stream",
     "text": [
      "Computing trace 200\n",
      "Computing trace 25\n",
      "Computing trace 50\n",
      "Computing trace 100\n"
     ]
    }
   ],
   "source": [
    "cv_results = pd.concat([cv_results, \n",
    "                     trace_classification.random_forest_cross_validation(trace_stats, features_to_drop)\n",
    "                    ])"
   ]
  },
  {
   "cell_type": "markdown",
   "metadata": {},
   "source": [
    "Let's do the same for the whole network"
   ]
  },
  {
   "cell_type": "code",
   "execution_count": 9,
   "metadata": {},
   "outputs": [
    {
     "name": "stdout",
     "output_type": "stream",
     "text": [
      "Computing trace 200\n",
      "Computing trace 25\n",
      "Computing trace 50\n",
      "Computing trace 100\n"
     ]
    }
   ],
   "source": [
    "net_results = pd.concat([net_results, \n",
    "                     trace_classification.random_forest_classification(network_stats, net_features_to_drop)\n",
    "                    ])"
   ]
  },
  {
   "cell_type": "markdown",
   "metadata": {},
   "source": [
    "Cross validation"
   ]
  },
  {
   "cell_type": "code",
   "execution_count": 10,
   "metadata": {},
   "outputs": [
    {
     "name": "stdout",
     "output_type": "stream",
     "text": [
      "Computing trace 200\n",
      "Computing trace 25\n",
      "Computing trace 50\n",
      "Computing trace 100\n"
     ]
    }
   ],
   "source": [
    "cv_net_results = pd.concat([cv_net_results, \n",
    "                     trace_classification.random_forest_cross_validation(network_stats, net_features_to_drop, cross_val=3)\n",
    "                    ])"
   ]
  },
  {
   "cell_type": "markdown",
   "metadata": {},
   "source": [
    "# K-Nearest Neighbor (KNN) Classification\n",
    "\n",
    "Let us first observe the accuracies for different values of k"
   ]
  },
  {
   "cell_type": "code",
   "execution_count": 11,
   "metadata": {},
   "outputs": [
    {
     "data": {
      "image/png": "[encoded data removed]",
      "text/plain": [
       "<Figure size 864x576 with 4 Axes>"
      ]
     },
     "metadata": {
      "needs_background": "light"
     },
     "output_type": "display_data"
    }
   ],
   "source": [
    "plots_analysis.knn_test_number_of_neighbors(trace_stats, 30)"
   ]
  },
  {
   "cell_type": "markdown",
   "metadata": {},
   "source": [
    "Let's build KNN classifier "
   ]
  },
  {
   "cell_type": "code",
   "execution_count": 12,
   "metadata": {},
   "outputs": [
    {
     "name": "stdout",
     "output_type": "stream",
     "text": [
      "Computing trace 200\n",
      "Computing trace 25\n",
      "Computing trace 50\n",
      "Computing trace 100\n"
     ]
    }
   ],
   "source": [
    "results = pd.concat([results, \n",
    "                     trace_classification.k_nearest_neighbor_classification(trace_stats, features_to_drop, n_neighbors=17)\n",
    "                    ])"
   ]
  },
  {
   "cell_type": "markdown",
   "metadata": {},
   "source": [
    "We want to compute average accuracy for each trace size (i.e. for each window size from 200 - the entire window - to 100, 50 and 25)"
   ]
  },
  {
   "cell_type": "code",
   "execution_count": 13,
   "metadata": {},
   "outputs": [
    {
     "name": "stdout",
     "output_type": "stream",
     "text": [
      "Computing trace 200\n",
      "Computing trace 25\n",
      "Computing trace 50\n",
      "Computing trace 100\n"
     ]
    }
   ],
   "source": [
    "cv_results = pd.concat([cv_results, \n",
    "                     trace_classification.k_nearest_neighbor_cross_validation(trace_stats, features_to_drop, n_neighbors=17)\n",
    "                    ])"
   ]
  },
  {
   "cell_type": "markdown",
   "metadata": {},
   "source": [
    "Let's do the same for the whole network"
   ]
  },
  {
   "cell_type": "code",
   "execution_count": 14,
   "metadata": {},
   "outputs": [
    {
     "name": "stdout",
     "output_type": "stream",
     "text": [
      "Computing trace 200\n",
      "Computing trace 25\n",
      "Computing trace 50\n",
      "Computing trace 100\n"
     ]
    }
   ],
   "source": [
    "net_results = pd.concat([net_results, \n",
    "                     trace_classification.k_nearest_neighbor_classification(network_stats, net_features_to_drop)\n",
    "                    ])"
   ]
  },
  {
   "cell_type": "markdown",
   "metadata": {},
   "source": [
    "Cross validation"
   ]
  },
  {
   "cell_type": "code",
   "execution_count": 15,
   "metadata": {},
   "outputs": [
    {
     "name": "stdout",
     "output_type": "stream",
     "text": [
      "Computing trace 200\n",
      "Computing trace 25\n",
      "Computing trace 50\n",
      "Computing trace 100\n"
     ]
    }
   ],
   "source": [
    "cv_net_results = pd.concat([cv_net_results, \n",
    "                     trace_classification.k_nearest_neighbor_cross_validation(network_stats, net_features_to_drop, cross_val=3)\n",
    "                    ])"
   ]
  },
  {
   "cell_type": "markdown",
   "metadata": {},
   "source": [
    "# Support Vector Machines (SVM) Classification\n",
    "\n",
    "Let us experiment with another classifier"
   ]
  },
  {
   "cell_type": "code",
   "execution_count": 16,
   "metadata": {},
   "outputs": [
    {
     "name": "stdout",
     "output_type": "stream",
     "text": [
      "Computing trace 200\n",
      "Computing trace 25\n",
      "Computing trace 50\n",
      "Computing trace 100\n"
     ]
    }
   ],
   "source": [
    "results = pd.concat([results, \n",
    "                     trace_classification.support_vector_machines_classification(trace_stats, features_to_drop, kernel='rbf')\n",
    "                    ])"
   ]
  },
  {
   "cell_type": "markdown",
   "metadata": {},
   "source": [
    "We want to compute average accuracy for each trace size (i.e. for each window size from 200 - the entire window - to 100, 50 and 25)"
   ]
  },
  {
   "cell_type": "code",
   "execution_count": 17,
   "metadata": {},
   "outputs": [
    {
     "name": "stdout",
     "output_type": "stream",
     "text": [
      "Computing trace 200\n",
      "Computing trace 25\n",
      "Computing trace 50\n",
      "Computing trace 100\n"
     ]
    }
   ],
   "source": [
    "cv_results = pd.concat([cv_results, \n",
    "                     trace_classification.support_vector_machines_cross_validation(trace_stats, features_to_drop, kernel='rbf')\n",
    "                    ])"
   ]
  },
  {
   "cell_type": "markdown",
   "metadata": {},
   "source": [
    "Let's do the same for the whole network"
   ]
  },
  {
   "cell_type": "code",
   "execution_count": 18,
   "metadata": {},
   "outputs": [
    {
     "name": "stdout",
     "output_type": "stream",
     "text": [
      "Computing trace 200\n",
      "Computing trace 25\n",
      "Computing trace 50\n",
      "Computing trace 100\n"
     ]
    }
   ],
   "source": [
    "net_results = pd.concat([net_results, \n",
    "                     trace_classification.support_vector_machines_classification(network_stats, net_features_to_drop, kernel='rbf')\n",
    "                    ])"
   ]
  },
  {
   "cell_type": "markdown",
   "metadata": {},
   "source": [
    "Cross validation"
   ]
  },
  {
   "cell_type": "code",
   "execution_count": 19,
   "metadata": {},
   "outputs": [
    {
     "name": "stdout",
     "output_type": "stream",
     "text": [
      "Computing trace 200\n",
      "Computing trace 25\n",
      "Computing trace 50\n",
      "Computing trace 100\n"
     ]
    }
   ],
   "source": [
    "cv_net_results = pd.concat([cv_net_results, \n",
    "                     trace_classification.support_vector_machines_cross_validation(network_stats, net_features_to_drop, cross_val=3)\n",
    "                    ])"
   ]
  },
  {
   "cell_type": "markdown",
   "metadata": {},
   "source": [
    "# One Vs The Rest Classifier\n",
    "\n",
    "SVM performs really well, but it is slow. Now we try to implement it in a most efficient way. The strategy consists in fitting one classifier per class. For each classifier, the class is fitted against all the other classes"
   ]
  },
  {
   "cell_type": "code",
   "execution_count": 20,
   "metadata": {},
   "outputs": [
    {
     "name": "stdout",
     "output_type": "stream",
     "text": [
      "Computing trace 200\n",
      "Computing trace 25\n",
      "Computing trace 50\n",
      "Computing trace 100\n"
     ]
    }
   ],
   "source": [
    "results = pd.concat([results, \n",
    "                     trace_classification.ensalble_svm_classification(trace_stats, features_to_drop, n_estimators=10)\n",
    "                    ])"
   ]
  },
  {
   "cell_type": "markdown",
   "metadata": {},
   "source": [
    "Cross validate"
   ]
  },
  {
   "cell_type": "code",
   "execution_count": 21,
   "metadata": {},
   "outputs": [
    {
     "name": "stdout",
     "output_type": "stream",
     "text": [
      "Computing trace 200\n",
      "Computing trace 25\n",
      "Computing trace 50\n",
      "Computing trace 100\n"
     ]
    }
   ],
   "source": [
    "cv_results = pd.concat([cv_results, \n",
    "                     trace_classification.ensalble_svm_cross_validation(trace_stats, features_to_drop, n_estimators=15)\n",
    "                    ])\n",
    "                    "
   ]
  },
  {
   "cell_type": "markdown",
   "metadata": {},
   "source": [
    "Let's do the same for the whole network"
   ]
  },
  {
   "cell_type": "code",
   "execution_count": 22,
   "metadata": {},
   "outputs": [
    {
     "data": {
      "text/plain": [
       "'\\nnet_results = pd.concat([net_results, \\n                     trace_classification.ensalble_svm_classification(network_stats, net_features_to_drop)\\n                    ])\\n'"
      ]
     },
     "execution_count": 22,
     "metadata": {},
     "output_type": "execute_result"
    }
   ],
   "source": [
    "'''\n",
    "net_results = pd.concat([net_results, \n",
    "                     trace_classification.ensalble_svm_classification(network_stats, net_features_to_drop)\n",
    "                    ])\n",
    "'''"
   ]
  },
  {
   "cell_type": "markdown",
   "metadata": {},
   "source": [
    "Cross validation"
   ]
  },
  {
   "cell_type": "code",
   "execution_count": 23,
   "metadata": {},
   "outputs": [
    {
     "data": {
      "text/plain": [
       "'\\ncv_net_results = pd.concat([cv_net_results, \\n                     trace_classification.ensalble_svm_cross_validation(network_stats, net_features_to_drop, cross_val=3)\\n                    ])\\n'"
      ]
     },
     "execution_count": 23,
     "metadata": {},
     "output_type": "execute_result"
    }
   ],
   "source": [
    "'''\n",
    "cv_net_results = pd.concat([cv_net_results, \n",
    "                     trace_classification.ensalble_svm_cross_validation(network_stats, net_features_to_drop, cross_val=3)\n",
    "                    ])\n",
    "'''"
   ]
  },
  {
   "cell_type": "markdown",
   "metadata": {},
   "source": [
    "# Per Node Results\n",
    "Results from each model"
   ]
  },
  {
   "cell_type": "code",
   "execution_count": 24,
   "metadata": {},
   "outputs": [
    {
     "data": {
      "text/html": [
       "<div>\n",
       "<style scoped>\n",
       "    .dataframe tbody tr th:only-of-type {\n",
       "        vertical-align: middle;\n",
       "    }\n",
       "\n",
       "    .dataframe tbody tr th {\n",
       "        vertical-align: top;\n",
       "    }\n",
       "\n",
       "    .dataframe thead th {\n",
       "        text-align: right;\n",
       "    }\n",
       "</style>\n",
       "<table border=\"1\" class=\"dataframe\">\n",
       "  <thead>\n",
       "    <tr style=\"text-align: right;\">\n",
       "      <th></th>\n",
       "      <th>Model</th>\n",
       "      <th>Window Size</th>\n",
       "      <th>Accuracy</th>\n",
       "      <th>Precision</th>\n",
       "      <th>Recall</th>\n",
       "      <th>F1-score</th>\n",
       "      <th>Training Time (sec)</th>\n",
       "      <th>Testing Time (sec)</th>\n",
       "    </tr>\n",
       "  </thead>\n",
       "  <tbody>\n",
       "    <tr>\n",
       "      <th>0</th>\n",
       "      <td>Random Forest</td>\n",
       "      <td>200</td>\n",
       "      <td>0.710526</td>\n",
       "      <td>0.625000</td>\n",
       "      <td>0.580808</td>\n",
       "      <td>0.583250</td>\n",
       "      <td>0.164175</td>\n",
       "      <td>0.021924</td>\n",
       "    </tr>\n",
       "    <tr>\n",
       "      <th>1</th>\n",
       "      <td>Random Forest</td>\n",
       "      <td>25</td>\n",
       "      <td>0.682819</td>\n",
       "      <td>0.505832</td>\n",
       "      <td>0.504446</td>\n",
       "      <td>0.501099</td>\n",
       "      <td>0.296555</td>\n",
       "      <td>0.014369</td>\n",
       "    </tr>\n",
       "    <tr>\n",
       "      <th>2</th>\n",
       "      <td>Random Forest</td>\n",
       "      <td>50</td>\n",
       "      <td>0.709677</td>\n",
       "      <td>0.530398</td>\n",
       "      <td>0.521577</td>\n",
       "      <td>0.519587</td>\n",
       "      <td>0.213501</td>\n",
       "      <td>0.024703</td>\n",
       "    </tr>\n",
       "    <tr>\n",
       "      <th>3</th>\n",
       "      <td>Random Forest</td>\n",
       "      <td>100</td>\n",
       "      <td>0.739130</td>\n",
       "      <td>0.490625</td>\n",
       "      <td>0.496296</td>\n",
       "      <td>0.473729</td>\n",
       "      <td>0.163983</td>\n",
       "      <td>0.016460</td>\n",
       "    </tr>\n",
       "    <tr>\n",
       "      <th>4</th>\n",
       "      <td>KNN</td>\n",
       "      <td>200</td>\n",
       "      <td>0.710526</td>\n",
       "      <td>0.355263</td>\n",
       "      <td>0.500000</td>\n",
       "      <td>0.415385</td>\n",
       "      <td>0.001561</td>\n",
       "      <td>0.003364</td>\n",
       "    </tr>\n",
       "    <tr>\n",
       "      <th>5</th>\n",
       "      <td>KNN</td>\n",
       "      <td>25</td>\n",
       "      <td>0.748899</td>\n",
       "      <td>0.465686</td>\n",
       "      <td>0.495066</td>\n",
       "      <td>0.444797</td>\n",
       "      <td>0.013314</td>\n",
       "      <td>0.014062</td>\n",
       "    </tr>\n",
       "    <tr>\n",
       "      <th>6</th>\n",
       "      <td>KNN</td>\n",
       "      <td>50</td>\n",
       "      <td>0.717742</td>\n",
       "      <td>0.380342</td>\n",
       "      <td>0.463542</td>\n",
       "      <td>0.417840</td>\n",
       "      <td>0.001501</td>\n",
       "      <td>0.006322</td>\n",
       "    </tr>\n",
       "    <tr>\n",
       "      <th>7</th>\n",
       "      <td>KNN</td>\n",
       "      <td>100</td>\n",
       "      <td>0.768116</td>\n",
       "      <td>0.389706</td>\n",
       "      <td>0.490741</td>\n",
       "      <td>0.434426</td>\n",
       "      <td>0.001370</td>\n",
       "      <td>0.005605</td>\n",
       "    </tr>\n",
       "    <tr>\n",
       "      <th>8</th>\n",
       "      <td>SVM</td>\n",
       "      <td>200</td>\n",
       "      <td>0.684211</td>\n",
       "      <td>0.351351</td>\n",
       "      <td>0.481481</td>\n",
       "      <td>0.406250</td>\n",
       "      <td>0.001960</td>\n",
       "      <td>0.001144</td>\n",
       "    </tr>\n",
       "    <tr>\n",
       "      <th>9</th>\n",
       "      <td>SVM</td>\n",
       "      <td>25</td>\n",
       "      <td>0.735683</td>\n",
       "      <td>0.532773</td>\n",
       "      <td>0.512687</td>\n",
       "      <td>0.493304</td>\n",
       "      <td>0.033786</td>\n",
       "      <td>0.012221</td>\n",
       "    </tr>\n",
       "    <tr>\n",
       "      <th>10</th>\n",
       "      <td>SVM</td>\n",
       "      <td>50</td>\n",
       "      <td>0.750000</td>\n",
       "      <td>0.531746</td>\n",
       "      <td>0.509673</td>\n",
       "      <td>0.484373</td>\n",
       "      <td>0.005181</td>\n",
       "      <td>0.001720</td>\n",
       "    </tr>\n",
       "    <tr>\n",
       "      <th>11</th>\n",
       "      <td>SVM</td>\n",
       "      <td>100</td>\n",
       "      <td>0.811594</td>\n",
       "      <td>0.902985</td>\n",
       "      <td>0.566667</td>\n",
       "      <td>0.563928</td>\n",
       "      <td>0.002846</td>\n",
       "      <td>0.001561</td>\n",
       "    </tr>\n",
       "    <tr>\n",
       "      <th>12</th>\n",
       "      <td>OneVsRestClassifier (SVM)</td>\n",
       "      <td>200</td>\n",
       "      <td>0.289474</td>\n",
       "      <td>0.318182</td>\n",
       "      <td>0.284512</td>\n",
       "      <td>0.276956</td>\n",
       "      <td>0.507038</td>\n",
       "      <td>0.002388</td>\n",
       "    </tr>\n",
       "    <tr>\n",
       "      <th>13</th>\n",
       "      <td>OneVsRestClassifier (SVM)</td>\n",
       "      <td>25</td>\n",
       "      <td>0.299559</td>\n",
       "      <td>0.427654</td>\n",
       "      <td>0.431577</td>\n",
       "      <td>0.299342</td>\n",
       "      <td>3.779926</td>\n",
       "      <td>0.007790</td>\n",
       "    </tr>\n",
       "    <tr>\n",
       "      <th>14</th>\n",
       "      <td>OneVsRestClassifier (SVM)</td>\n",
       "      <td>50</td>\n",
       "      <td>0.306452</td>\n",
       "      <td>0.438244</td>\n",
       "      <td>0.438244</td>\n",
       "      <td>0.306452</td>\n",
       "      <td>4.282641</td>\n",
       "      <td>0.006770</td>\n",
       "    </tr>\n",
       "    <tr>\n",
       "      <th>15</th>\n",
       "      <td>OneVsRestClassifier (SVM)</td>\n",
       "      <td>100</td>\n",
       "      <td>0.449275</td>\n",
       "      <td>0.382275</td>\n",
       "      <td>0.335185</td>\n",
       "      <td>0.349702</td>\n",
       "      <td>2.928446</td>\n",
       "      <td>0.029568</td>\n",
       "    </tr>\n",
       "  </tbody>\n",
       "</table>\n",
       "</div>"
      ],
      "text/plain": [
       "                        Model  Window Size  Accuracy  Precision    Recall  \\\n",
       "0               Random Forest          200  0.710526   0.625000  0.580808   \n",
       "1               Random Forest           25  0.682819   0.505832  0.504446   \n",
       "2               Random Forest           50  0.709677   0.530398  0.521577   \n",
       "3               Random Forest          100  0.739130   0.490625  0.496296   \n",
       "4                         KNN          200  0.710526   0.355263  0.500000   \n",
       "5                         KNN           25  0.748899   0.465686  0.495066   \n",
       "6                         KNN           50  0.717742   0.380342  0.463542   \n",
       "7                         KNN          100  0.768116   0.389706  0.490741   \n",
       "8                         SVM          200  0.684211   0.351351  0.481481   \n",
       "9                         SVM           25  0.735683   0.532773  0.512687   \n",
       "10                        SVM           50  0.750000   0.531746  0.509673   \n",
       "11                        SVM          100  0.811594   0.902985  0.566667   \n",
       "12  OneVsRestClassifier (SVM)          200  0.289474   0.318182  0.284512   \n",
       "13  OneVsRestClassifier (SVM)           25  0.299559   0.427654  0.431577   \n",
       "14  OneVsRestClassifier (SVM)           50  0.306452   0.438244  0.438244   \n",
       "15  OneVsRestClassifier (SVM)          100  0.449275   0.382275  0.335185   \n",
       "\n",
       "    F1-score  Training Time (sec)  Testing Time (sec)  \n",
       "0   0.583250             0.164175            0.021924  \n",
       "1   0.501099             0.296555            0.014369  \n",
       "2   0.519587             0.213501            0.024703  \n",
       "3   0.473729             0.163983            0.016460  \n",
       "4   0.415385             0.001561            0.003364  \n",
       "5   0.444797             0.013314            0.014062  \n",
       "6   0.417840             0.001501            0.006322  \n",
       "7   0.434426             0.001370            0.005605  \n",
       "8   0.406250             0.001960            0.001144  \n",
       "9   0.493304             0.033786            0.012221  \n",
       "10  0.484373             0.005181            0.001720  \n",
       "11  0.563928             0.002846            0.001561  \n",
       "12  0.276956             0.507038            0.002388  \n",
       "13  0.299342             3.779926            0.007790  \n",
       "14  0.306452             4.282641            0.006770  \n",
       "15  0.349702             2.928446            0.029568  "
      ]
     },
     "execution_count": 24,
     "metadata": {},
     "output_type": "execute_result"
    }
   ],
   "source": [
    "results.reset_index(drop=True)"
   ]
  },
  {
   "cell_type": "markdown",
   "metadata": {},
   "source": [
    "Here we plot the average results for each model computed with cross validation"
   ]
  },
  {
   "cell_type": "code",
   "execution_count": 25,
   "metadata": {
    "scrolled": true
   },
   "outputs": [
    {
     "data": {
      "text/html": [
       "<div>\n",
       "<style scoped>\n",
       "    .dataframe tbody tr th:only-of-type {\n",
       "        vertical-align: middle;\n",
       "    }\n",
       "\n",
       "    .dataframe tbody tr th {\n",
       "        vertical-align: top;\n",
       "    }\n",
       "\n",
       "    .dataframe thead th {\n",
       "        text-align: right;\n",
       "    }\n",
       "</style>\n",
       "<table border=\"1\" class=\"dataframe\">\n",
       "  <thead>\n",
       "    <tr style=\"text-align: right;\">\n",
       "      <th></th>\n",
       "      <th>Model</th>\n",
       "      <th>Window Size</th>\n",
       "      <th>Mean Accuracy</th>\n",
       "    </tr>\n",
       "  </thead>\n",
       "  <tbody>\n",
       "    <tr>\n",
       "      <th>0</th>\n",
       "      <td>Random Forest</td>\n",
       "      <td>200</td>\n",
       "      <td>0.719769</td>\n",
       "    </tr>\n",
       "    <tr>\n",
       "      <th>1</th>\n",
       "      <td>Random Forest</td>\n",
       "      <td>25</td>\n",
       "      <td>0.662398</td>\n",
       "    </tr>\n",
       "    <tr>\n",
       "      <th>2</th>\n",
       "      <td>Random Forest</td>\n",
       "      <td>50</td>\n",
       "      <td>0.623115</td>\n",
       "    </tr>\n",
       "    <tr>\n",
       "      <th>3</th>\n",
       "      <td>Random Forest</td>\n",
       "      <td>100</td>\n",
       "      <td>0.664753</td>\n",
       "    </tr>\n",
       "    <tr>\n",
       "      <th>4</th>\n",
       "      <td>KNN</td>\n",
       "      <td>200</td>\n",
       "      <td>0.758821</td>\n",
       "    </tr>\n",
       "    <tr>\n",
       "      <th>5</th>\n",
       "      <td>KNN</td>\n",
       "      <td>25</td>\n",
       "      <td>0.719292</td>\n",
       "    </tr>\n",
       "    <tr>\n",
       "      <th>6</th>\n",
       "      <td>KNN</td>\n",
       "      <td>50</td>\n",
       "      <td>0.725212</td>\n",
       "    </tr>\n",
       "    <tr>\n",
       "      <th>7</th>\n",
       "      <td>KNN</td>\n",
       "      <td>100</td>\n",
       "      <td>0.733767</td>\n",
       "    </tr>\n",
       "    <tr>\n",
       "      <th>8</th>\n",
       "      <td>SVM</td>\n",
       "      <td>200</td>\n",
       "      <td>0.743436</td>\n",
       "    </tr>\n",
       "    <tr>\n",
       "      <th>9</th>\n",
       "      <td>SVM</td>\n",
       "      <td>25</td>\n",
       "      <td>0.728546</td>\n",
       "    </tr>\n",
       "    <tr>\n",
       "      <th>10</th>\n",
       "      <td>SVM</td>\n",
       "      <td>50</td>\n",
       "      <td>0.710814</td>\n",
       "    </tr>\n",
       "    <tr>\n",
       "      <th>11</th>\n",
       "      <td>SVM</td>\n",
       "      <td>100</td>\n",
       "      <td>0.738115</td>\n",
       "    </tr>\n",
       "    <tr>\n",
       "      <th>12</th>\n",
       "      <td>OneVsRestClassifier (SVM)</td>\n",
       "      <td>200</td>\n",
       "      <td>0.449333</td>\n",
       "    </tr>\n",
       "    <tr>\n",
       "      <th>13</th>\n",
       "      <td>OneVsRestClassifier (SVM)</td>\n",
       "      <td>25</td>\n",
       "      <td>0.556678</td>\n",
       "    </tr>\n",
       "    <tr>\n",
       "      <th>14</th>\n",
       "      <td>OneVsRestClassifier (SVM)</td>\n",
       "      <td>50</td>\n",
       "      <td>0.370400</td>\n",
       "    </tr>\n",
       "    <tr>\n",
       "      <th>15</th>\n",
       "      <td>OneVsRestClassifier (SVM)</td>\n",
       "      <td>100</td>\n",
       "      <td>0.446698</td>\n",
       "    </tr>\n",
       "  </tbody>\n",
       "</table>\n",
       "</div>"
      ],
      "text/plain": [
       "                        Model  Window Size  Mean Accuracy\n",
       "0               Random Forest          200       0.719769\n",
       "1               Random Forest           25       0.662398\n",
       "2               Random Forest           50       0.623115\n",
       "3               Random Forest          100       0.664753\n",
       "4                         KNN          200       0.758821\n",
       "5                         KNN           25       0.719292\n",
       "6                         KNN           50       0.725212\n",
       "7                         KNN          100       0.733767\n",
       "8                         SVM          200       0.743436\n",
       "9                         SVM           25       0.728546\n",
       "10                        SVM           50       0.710814\n",
       "11                        SVM          100       0.738115\n",
       "12  OneVsRestClassifier (SVM)          200       0.449333\n",
       "13  OneVsRestClassifier (SVM)           25       0.556678\n",
       "14  OneVsRestClassifier (SVM)           50       0.370400\n",
       "15  OneVsRestClassifier (SVM)          100       0.446698"
      ]
     },
     "execution_count": 25,
     "metadata": {},
     "output_type": "execute_result"
    }
   ],
   "source": [
    "cv_results.reset_index(drop=True)"
   ]
  },
  {
   "cell_type": "markdown",
   "metadata": {},
   "source": [
    "# Network Results\n",
    "Here we print the results from each model on the whole network"
   ]
  },
  {
   "cell_type": "code",
   "execution_count": 26,
   "metadata": {},
   "outputs": [
    {
     "data": {
      "text/html": [
       "<div>\n",
       "<style scoped>\n",
       "    .dataframe tbody tr th:only-of-type {\n",
       "        vertical-align: middle;\n",
       "    }\n",
       "\n",
       "    .dataframe tbody tr th {\n",
       "        vertical-align: top;\n",
       "    }\n",
       "\n",
       "    .dataframe thead th {\n",
       "        text-align: right;\n",
       "    }\n",
       "</style>\n",
       "<table border=\"1\" class=\"dataframe\">\n",
       "  <thead>\n",
       "    <tr style=\"text-align: right;\">\n",
       "      <th></th>\n",
       "      <th>Model</th>\n",
       "      <th>Window Size</th>\n",
       "      <th>Accuracy</th>\n",
       "      <th>Precision</th>\n",
       "      <th>Recall</th>\n",
       "      <th>F1-score</th>\n",
       "      <th>Training Time (sec)</th>\n",
       "      <th>Testing Time (sec)</th>\n",
       "    </tr>\n",
       "  </thead>\n",
       "  <tbody>\n",
       "    <tr>\n",
       "      <th>0</th>\n",
       "      <td>Random Forest</td>\n",
       "      <td>200</td>\n",
       "      <td>0.666667</td>\n",
       "      <td>0.333333</td>\n",
       "      <td>0.500000</td>\n",
       "      <td>0.400000</td>\n",
       "      <td>0.146604</td>\n",
       "      <td>0.011960</td>\n",
       "    </tr>\n",
       "    <tr>\n",
       "      <th>1</th>\n",
       "      <td>Random Forest</td>\n",
       "      <td>25</td>\n",
       "      <td>0.850000</td>\n",
       "      <td>0.425000</td>\n",
       "      <td>0.500000</td>\n",
       "      <td>0.459459</td>\n",
       "      <td>0.246774</td>\n",
       "      <td>0.016010</td>\n",
       "    </tr>\n",
       "    <tr>\n",
       "      <th>2</th>\n",
       "      <td>Random Forest</td>\n",
       "      <td>50</td>\n",
       "      <td>0.700000</td>\n",
       "      <td>0.437500</td>\n",
       "      <td>0.388889</td>\n",
       "      <td>0.411765</td>\n",
       "      <td>0.142239</td>\n",
       "      <td>0.043244</td>\n",
       "    </tr>\n",
       "    <tr>\n",
       "      <th>3</th>\n",
       "      <td>Random Forest</td>\n",
       "      <td>100</td>\n",
       "      <td>0.400000</td>\n",
       "      <td>0.250000</td>\n",
       "      <td>0.333333</td>\n",
       "      <td>0.285714</td>\n",
       "      <td>0.165558</td>\n",
       "      <td>0.014540</td>\n",
       "    </tr>\n",
       "    <tr>\n",
       "      <th>4</th>\n",
       "      <td>KNN</td>\n",
       "      <td>200</td>\n",
       "      <td>0.666667</td>\n",
       "      <td>0.333333</td>\n",
       "      <td>0.500000</td>\n",
       "      <td>0.400000</td>\n",
       "      <td>0.001348</td>\n",
       "      <td>0.003430</td>\n",
       "    </tr>\n",
       "    <tr>\n",
       "      <th>5</th>\n",
       "      <td>KNN</td>\n",
       "      <td>25</td>\n",
       "      <td>0.850000</td>\n",
       "      <td>0.425000</td>\n",
       "      <td>0.500000</td>\n",
       "      <td>0.459459</td>\n",
       "      <td>0.002039</td>\n",
       "      <td>0.002436</td>\n",
       "    </tr>\n",
       "    <tr>\n",
       "      <th>6</th>\n",
       "      <td>KNN</td>\n",
       "      <td>50</td>\n",
       "      <td>0.900000</td>\n",
       "      <td>0.450000</td>\n",
       "      <td>0.500000</td>\n",
       "      <td>0.473684</td>\n",
       "      <td>0.005660</td>\n",
       "      <td>0.002324</td>\n",
       "    </tr>\n",
       "    <tr>\n",
       "      <th>7</th>\n",
       "      <td>KNN</td>\n",
       "      <td>100</td>\n",
       "      <td>0.600000</td>\n",
       "      <td>0.300000</td>\n",
       "      <td>0.500000</td>\n",
       "      <td>0.375000</td>\n",
       "      <td>0.001240</td>\n",
       "      <td>0.007132</td>\n",
       "    </tr>\n",
       "    <tr>\n",
       "      <th>8</th>\n",
       "      <td>SVM</td>\n",
       "      <td>200</td>\n",
       "      <td>1.000000</td>\n",
       "      <td>1.000000</td>\n",
       "      <td>1.000000</td>\n",
       "      <td>1.000000</td>\n",
       "      <td>0.001597</td>\n",
       "      <td>0.001121</td>\n",
       "    </tr>\n",
       "    <tr>\n",
       "      <th>9</th>\n",
       "      <td>SVM</td>\n",
       "      <td>25</td>\n",
       "      <td>0.850000</td>\n",
       "      <td>0.425000</td>\n",
       "      <td>0.500000</td>\n",
       "      <td>0.459459</td>\n",
       "      <td>0.001782</td>\n",
       "      <td>0.001043</td>\n",
       "    </tr>\n",
       "    <tr>\n",
       "      <th>10</th>\n",
       "      <td>SVM</td>\n",
       "      <td>50</td>\n",
       "      <td>0.900000</td>\n",
       "      <td>0.450000</td>\n",
       "      <td>0.500000</td>\n",
       "      <td>0.473684</td>\n",
       "      <td>0.001981</td>\n",
       "      <td>0.001039</td>\n",
       "    </tr>\n",
       "    <tr>\n",
       "      <th>11</th>\n",
       "      <td>SVM</td>\n",
       "      <td>100</td>\n",
       "      <td>0.600000</td>\n",
       "      <td>0.300000</td>\n",
       "      <td>0.500000</td>\n",
       "      <td>0.375000</td>\n",
       "      <td>0.001339</td>\n",
       "      <td>0.000982</td>\n",
       "    </tr>\n",
       "  </tbody>\n",
       "</table>\n",
       "</div>"
      ],
      "text/plain": [
       "            Model  Window Size  Accuracy  Precision    Recall  F1-score  \\\n",
       "0   Random Forest          200  0.666667   0.333333  0.500000  0.400000   \n",
       "1   Random Forest           25  0.850000   0.425000  0.500000  0.459459   \n",
       "2   Random Forest           50  0.700000   0.437500  0.388889  0.411765   \n",
       "3   Random Forest          100  0.400000   0.250000  0.333333  0.285714   \n",
       "4             KNN          200  0.666667   0.333333  0.500000  0.400000   \n",
       "5             KNN           25  0.850000   0.425000  0.500000  0.459459   \n",
       "6             KNN           50  0.900000   0.450000  0.500000  0.473684   \n",
       "7             KNN          100  0.600000   0.300000  0.500000  0.375000   \n",
       "8             SVM          200  1.000000   1.000000  1.000000  1.000000   \n",
       "9             SVM           25  0.850000   0.425000  0.500000  0.459459   \n",
       "10            SVM           50  0.900000   0.450000  0.500000  0.473684   \n",
       "11            SVM          100  0.600000   0.300000  0.500000  0.375000   \n",
       "\n",
       "    Training Time (sec)  Testing Time (sec)  \n",
       "0              0.146604            0.011960  \n",
       "1              0.246774            0.016010  \n",
       "2              0.142239            0.043244  \n",
       "3              0.165558            0.014540  \n",
       "4              0.001348            0.003430  \n",
       "5              0.002039            0.002436  \n",
       "6              0.005660            0.002324  \n",
       "7              0.001240            0.007132  \n",
       "8              0.001597            0.001121  \n",
       "9              0.001782            0.001043  \n",
       "10             0.001981            0.001039  \n",
       "11             0.001339            0.000982  "
      ]
     },
     "execution_count": 26,
     "metadata": {},
     "output_type": "execute_result"
    }
   ],
   "source": [
    "net_results.reset_index(drop=True)"
   ]
  },
  {
   "cell_type": "markdown",
   "metadata": {},
   "source": [
    "Here we plot the average results for each model computed with cross validation"
   ]
  },
  {
   "cell_type": "code",
   "execution_count": 27,
   "metadata": {},
   "outputs": [
    {
     "data": {
      "text/html": [
       "<div>\n",
       "<style scoped>\n",
       "    .dataframe tbody tr th:only-of-type {\n",
       "        vertical-align: middle;\n",
       "    }\n",
       "\n",
       "    .dataframe tbody tr th {\n",
       "        vertical-align: top;\n",
       "    }\n",
       "\n",
       "    .dataframe thead th {\n",
       "        text-align: right;\n",
       "    }\n",
       "</style>\n",
       "<table border=\"1\" class=\"dataframe\">\n",
       "  <thead>\n",
       "    <tr style=\"text-align: right;\">\n",
       "      <th></th>\n",
       "      <th>Model</th>\n",
       "      <th>Window Size</th>\n",
       "      <th>Mean Accuracy</th>\n",
       "    </tr>\n",
       "  </thead>\n",
       "  <tbody>\n",
       "    <tr>\n",
       "      <th>0</th>\n",
       "      <td>Random Forest</td>\n",
       "      <td>200</td>\n",
       "      <td>0.888889</td>\n",
       "    </tr>\n",
       "    <tr>\n",
       "      <th>1</th>\n",
       "      <td>Random Forest</td>\n",
       "      <td>25</td>\n",
       "      <td>0.734488</td>\n",
       "    </tr>\n",
       "    <tr>\n",
       "      <th>2</th>\n",
       "      <td>Random Forest</td>\n",
       "      <td>50</td>\n",
       "      <td>0.618182</td>\n",
       "    </tr>\n",
       "    <tr>\n",
       "      <th>3</th>\n",
       "      <td>Random Forest</td>\n",
       "      <td>100</td>\n",
       "      <td>0.500000</td>\n",
       "    </tr>\n",
       "    <tr>\n",
       "      <th>4</th>\n",
       "      <td>KNN</td>\n",
       "      <td>200</td>\n",
       "      <td>0.777778</td>\n",
       "    </tr>\n",
       "    <tr>\n",
       "      <th>5</th>\n",
       "      <td>KNN</td>\n",
       "      <td>25</td>\n",
       "      <td>0.297258</td>\n",
       "    </tr>\n",
       "    <tr>\n",
       "      <th>6</th>\n",
       "      <td>KNN</td>\n",
       "      <td>50</td>\n",
       "      <td>0.436364</td>\n",
       "    </tr>\n",
       "    <tr>\n",
       "      <th>7</th>\n",
       "      <td>KNN</td>\n",
       "      <td>100</td>\n",
       "      <td>0.555556</td>\n",
       "    </tr>\n",
       "    <tr>\n",
       "      <th>8</th>\n",
       "      <td>SVM</td>\n",
       "      <td>200</td>\n",
       "      <td>1.000000</td>\n",
       "    </tr>\n",
       "    <tr>\n",
       "      <th>9</th>\n",
       "      <td>SVM</td>\n",
       "      <td>25</td>\n",
       "      <td>0.750361</td>\n",
       "    </tr>\n",
       "    <tr>\n",
       "      <th>10</th>\n",
       "      <td>SVM</td>\n",
       "      <td>50</td>\n",
       "      <td>0.751515</td>\n",
       "    </tr>\n",
       "    <tr>\n",
       "      <th>11</th>\n",
       "      <td>SVM</td>\n",
       "      <td>100</td>\n",
       "      <td>0.755556</td>\n",
       "    </tr>\n",
       "  </tbody>\n",
       "</table>\n",
       "</div>"
      ],
      "text/plain": [
       "            Model  Window Size  Mean Accuracy\n",
       "0   Random Forest          200       0.888889\n",
       "1   Random Forest           25       0.734488\n",
       "2   Random Forest           50       0.618182\n",
       "3   Random Forest          100       0.500000\n",
       "4             KNN          200       0.777778\n",
       "5             KNN           25       0.297258\n",
       "6             KNN           50       0.436364\n",
       "7             KNN          100       0.555556\n",
       "8             SVM          200       1.000000\n",
       "9             SVM           25       0.750361\n",
       "10            SVM           50       0.751515\n",
       "11            SVM          100       0.755556"
      ]
     },
     "execution_count": 27,
     "metadata": {},
     "output_type": "execute_result"
    }
   ],
   "source": [
    "cv_net_results.reset_index(drop=True)"
   ]
  },
  {
   "cell_type": "code",
   "execution_count": null,
   "metadata": {},
   "outputs": [],
   "source": []
  }
 ],
 "metadata": {
  "kernelspec": {
   "display_name": "Python 3",
   "language": "python",
   "name": "python3"
  },
  "language_info": {
   "codemirror_mode": {
    "name": "ipython",
    "version": 3
   },
   "file_extension": ".py",
   "mimetype": "text/x-python",
   "name": "python",
   "nbconvert_exporter": "python",
   "pygments_lexer": "ipython3",
   "version": "3.6.5"
  }
 },
 "nbformat": 4,
 "nbformat_minor": 2
}
