{
 "cells": [
  {
   "cell_type": "code",
   "execution_count": 3,
   "metadata": {},
   "outputs": [],
   "source": [
    "import pandas as pd\n",
    "import numpy as np\n",
    "from scipy import stats as sp\n",
    "import sys, os\n",
    "sys.path.append('../')\n",
    "import trace_analysis\n",
    "import plots_analysis\n",
    "import trace_statistics\n",
    "import trace_classification\n",
    "import csv\n",
    "import warnings \n",
    "warnings.filterwarnings('ignore')"
   ]
  },
  {
   "cell_type": "markdown",
   "metadata": {},
   "source": [
    "# Data Preparation\n",
    "\n",
    "\n",
    "Prepare the data to be used with kNN"
   ]
  },
  {
   "cell_type": "code",
   "execution_count": 4,
   "metadata": {},
   "outputs": [
    {
     "data": {
      "text/html": [
       "<div>\n",
       "<style scoped>\n",
       "    .dataframe tbody tr th:only-of-type {\n",
       "        vertical-align: middle;\n",
       "    }\n",
       "\n",
       "    .dataframe tbody tr th {\n",
       "        vertical-align: top;\n",
       "    }\n",
       "\n",
       "    .dataframe thead th {\n",
       "        text-align: right;\n",
       "    }\n",
       "</style>\n",
       "<table border=\"1\" class=\"dataframe\">\n",
       "  <thead>\n",
       "    <tr style=\"text-align: right;\">\n",
       "      <th></th>\n",
       "      <th>node_id</th>\n",
       "      <th>experiment</th>\n",
       "      <th>count</th>\n",
       "      <th>mean</th>\n",
       "      <th>var</th>\n",
       "      <th>std</th>\n",
       "      <th>hop</th>\n",
       "      <th>min</th>\n",
       "      <th>max</th>\n",
       "      <th>loss</th>\n",
       "      <th>outliers</th>\n",
       "      <th>label</th>\n",
       "    </tr>\n",
       "  </thead>\n",
       "  <tbody>\n",
       "    <tr>\n",
       "      <th>0</th>\n",
       "      <td>aaaa::212:7411:11:1111:</td>\n",
       "      <td>grid_normal_2019-02-26_11:48_</td>\n",
       "      <td>58</td>\n",
       "      <td>1439.586207</td>\n",
       "      <td>705035.790684</td>\n",
       "      <td>839.664094</td>\n",
       "      <td>5</td>\n",
       "      <td>417.0</td>\n",
       "      <td>3699.0</td>\n",
       "      <td>0.710</td>\n",
       "      <td>5</td>\n",
       "      <td>Normal</td>\n",
       "    </tr>\n",
       "    <tr>\n",
       "      <th>1</th>\n",
       "      <td>aaaa::212:740b:b:b0b:</td>\n",
       "      <td>grid_normal_2019-02-26_11:48_</td>\n",
       "      <td>109</td>\n",
       "      <td>955.009174</td>\n",
       "      <td>549645.305471</td>\n",
       "      <td>741.380675</td>\n",
       "      <td>3</td>\n",
       "      <td>235.0</td>\n",
       "      <td>3850.0</td>\n",
       "      <td>0.455</td>\n",
       "      <td>5</td>\n",
       "      <td>Normal</td>\n",
       "    </tr>\n",
       "    <tr>\n",
       "      <th>2</th>\n",
       "      <td>aaaa::212:740c:c:c0c:</td>\n",
       "      <td>grid_normal_2019-02-26_11:48_</td>\n",
       "      <td>95</td>\n",
       "      <td>1102.726316</td>\n",
       "      <td>673664.626428</td>\n",
       "      <td>820.770751</td>\n",
       "      <td>3</td>\n",
       "      <td>251.0</td>\n",
       "      <td>4432.0</td>\n",
       "      <td>0.525</td>\n",
       "      <td>4</td>\n",
       "      <td>Normal</td>\n",
       "    </tr>\n",
       "    <tr>\n",
       "      <th>3</th>\n",
       "      <td>aaaa::212:7404:4:404:</td>\n",
       "      <td>grid_normal_2019-02-26_11:48_</td>\n",
       "      <td>76</td>\n",
       "      <td>385.115789</td>\n",
       "      <td>111308.537081</td>\n",
       "      <td>333.629341</td>\n",
       "      <td>1</td>\n",
       "      <td>65.6</td>\n",
       "      <td>1551.0</td>\n",
       "      <td>0.620</td>\n",
       "      <td>3</td>\n",
       "      <td>Normal</td>\n",
       "    </tr>\n",
       "    <tr>\n",
       "      <th>4</th>\n",
       "      <td>aaaa::212:740f:f:f0f:</td>\n",
       "      <td>grid_normal_2019-02-26_11:48_</td>\n",
       "      <td>88</td>\n",
       "      <td>1425.261364</td>\n",
       "      <td>955478.563088</td>\n",
       "      <td>977.485838</td>\n",
       "      <td>4</td>\n",
       "      <td>363.0</td>\n",
       "      <td>5619.0</td>\n",
       "      <td>0.560</td>\n",
       "      <td>4</td>\n",
       "      <td>Normal</td>\n",
       "    </tr>\n",
       "  </tbody>\n",
       "</table>\n",
       "</div>"
      ],
      "text/plain": [
       "                   node_id                     experiment  count         mean  \\\n",
       "0  aaaa::212:7411:11:1111:  grid_normal_2019-02-26_11:48_     58  1439.586207   \n",
       "1    aaaa::212:740b:b:b0b:  grid_normal_2019-02-26_11:48_    109   955.009174   \n",
       "2    aaaa::212:740c:c:c0c:  grid_normal_2019-02-26_11:48_     95  1102.726316   \n",
       "3    aaaa::212:7404:4:404:  grid_normal_2019-02-26_11:48_     76   385.115789   \n",
       "4    aaaa::212:740f:f:f0f:  grid_normal_2019-02-26_11:48_     88  1425.261364   \n",
       "\n",
       "             var         std  hop    min     max   loss  outliers   label  \n",
       "0  705035.790684  839.664094    5  417.0  3699.0  0.710         5  Normal  \n",
       "1  549645.305471  741.380675    3  235.0  3850.0  0.455         5  Normal  \n",
       "2  673664.626428  820.770751    3  251.0  4432.0  0.525         4  Normal  \n",
       "3  111308.537081  333.629341    1   65.6  1551.0  0.620         3  Normal  \n",
       "4  955478.563088  977.485838    4  363.0  5619.0  0.560         4  Normal  "
      ]
     },
     "execution_count": 4,
     "metadata": {},
     "output_type": "execute_result"
    }
   ],
   "source": [
    "plots = set()\n",
    "with open('traces/traces.csv') as csv_file:\n",
    "    csv_reader = csv.reader(csv_file, delimiter=',')\n",
    "    line_count = 0\n",
    "    for row in csv_reader:\n",
    "        if line_count == 0:\n",
    "            line_count += 1\n",
    "            continue\n",
    "        else:\n",
    "            plots.add((row[1], row[2]))\n",
    "\n",
    "plots = list(plots) \n",
    "\n",
    "stats = None\n",
    "win_25_stats = None\n",
    "win_50_stats = None\n",
    "win_100_stats = None\n",
    "\n",
    "for row in plots:\n",
    "    label = 'Normal'\n",
    "    experiment = row[1]\n",
    "    \n",
    "    # Assign a label\n",
    "    if row[1].find('gh') >= 0:\n",
    "        label = 'Gray Hole'\n",
    "    elif row[1].find('bh') >= 0:\n",
    "        label = 'Black Hole'\n",
    "    nodes, packets_node = trace_analysis.process_cooja2_traces(row[0], row[1])\n",
    "    \n",
    "    # Update stats\n",
    "    if stats is None:\n",
    "        stats = trace_statistics.compute_labeled_statistics(nodes, packets_node, label, experiment)\n",
    "        win_25_stats = trace_statistics.compute_window_labeled_statistics(nodes, packets_node, label, experiment, 25)\n",
    "        win_50_stats = trace_statistics.compute_window_labeled_statistics(nodes, packets_node, label, experiment, 50)\n",
    "        win_100_stats = trace_statistics.compute_window_labeled_statistics(nodes, packets_node, label, experiment, 100)\n",
    "    else:\n",
    "        stats = pd.concat([stats, trace_statistics.compute_labeled_statistics(nodes, packets_node, label, experiment)])\n",
    "        win_25_stats = pd.concat([win_25_stats, trace_statistics.compute_window_labeled_statistics(nodes, packets_node, label, experiment, 25)])\n",
    "        win_50_stats = pd.concat([win_50_stats, trace_statistics.compute_window_labeled_statistics(nodes, packets_node, label, experiment, 50)])\n",
    "        win_100_stats = pd.concat([win_100_stats, trace_statistics.compute_window_labeled_statistics(nodes, packets_node, label, experiment, 100)])\n",
    "        \n",
    "stats = stats.reset_index(drop=True)\n",
    "win_25_stats = win_25_stats.reset_index(drop=True)\n",
    "win_50_stats = win_50_stats.reset_index(drop=True)\n",
    "win_100_stats = win_100_stats.reset_index(drop=True)\n",
    "\n",
    "# Create a dictionary containing all the statistics for each trace size\n",
    "trace_stats = {200: stats, 25: win_25_stats, 50: win_50_stats, 100: win_100_stats}\n",
    "stats.head(5)"
   ]
  },
  {
   "cell_type": "markdown",
   "metadata": {},
   "source": [
    "Stats for single network"
   ]
  },
  {
   "cell_type": "code",
   "execution_count": 5,
   "metadata": {},
   "outputs": [
    {
     "data": {
      "text/html": [
       "<div>\n",
       "<style scoped>\n",
       "    .dataframe tbody tr th:only-of-type {\n",
       "        vertical-align: middle;\n",
       "    }\n",
       "\n",
       "    .dataframe tbody tr th {\n",
       "        vertical-align: top;\n",
       "    }\n",
       "\n",
       "    .dataframe thead th {\n",
       "        text-align: right;\n",
       "    }\n",
       "</style>\n",
       "<table border=\"1\" class=\"dataframe\">\n",
       "  <thead>\n",
       "    <tr style=\"text-align: right;\">\n",
       "      <th></th>\n",
       "      <th>experiment</th>\n",
       "      <th>label</th>\n",
       "      <th>1</th>\n",
       "      <th>2</th>\n",
       "      <th>3</th>\n",
       "      <th>4</th>\n",
       "      <th>5</th>\n",
       "      <th>6</th>\n",
       "      <th>7</th>\n",
       "      <th>8</th>\n",
       "      <th>9</th>\n",
       "      <th>10</th>\n",
       "      <th>11</th>\n",
       "      <th>12</th>\n",
       "      <th>13</th>\n",
       "      <th>14</th>\n",
       "      <th>15</th>\n",
       "      <th>16</th>\n",
       "    </tr>\n",
       "  </thead>\n",
       "  <tbody>\n",
       "    <tr>\n",
       "      <th>0</th>\n",
       "      <td>grid_1bh-7_2019-02-19_22:13_</td>\n",
       "      <td>Black Hole</td>\n",
       "      <td>0.215</td>\n",
       "      <td>0.305</td>\n",
       "      <td>0.230</td>\n",
       "      <td>0.240</td>\n",
       "      <td>0.190</td>\n",
       "      <td>0.100</td>\n",
       "      <td>0.170</td>\n",
       "      <td>0.240</td>\n",
       "      <td>0.200</td>\n",
       "      <td>0.220</td>\n",
       "      <td>0.255</td>\n",
       "      <td>0.275</td>\n",
       "      <td>0.170</td>\n",
       "      <td>0.080</td>\n",
       "      <td>9.223372e+18</td>\n",
       "      <td>9.223372e+18</td>\n",
       "    </tr>\n",
       "    <tr>\n",
       "      <th>1</th>\n",
       "      <td>grid_1bh-9_2019-02-20_00:30_</td>\n",
       "      <td>Black Hole</td>\n",
       "      <td>0.040</td>\n",
       "      <td>0.210</td>\n",
       "      <td>0.070</td>\n",
       "      <td>0.160</td>\n",
       "      <td>0.010</td>\n",
       "      <td>0.025</td>\n",
       "      <td>0.045</td>\n",
       "      <td>0.015</td>\n",
       "      <td>0.130</td>\n",
       "      <td>0.075</td>\n",
       "      <td>0.250</td>\n",
       "      <td>0.125</td>\n",
       "      <td>0.205</td>\n",
       "      <td>0.100</td>\n",
       "      <td>9.223372e+18</td>\n",
       "      <td>9.223372e+18</td>\n",
       "    </tr>\n",
       "    <tr>\n",
       "      <th>2</th>\n",
       "      <td>grid_1gh30-7_2019-02-19_22:35_</td>\n",
       "      <td>Gray Hole</td>\n",
       "      <td>0.350</td>\n",
       "      <td>0.480</td>\n",
       "      <td>0.635</td>\n",
       "      <td>0.705</td>\n",
       "      <td>0.825</td>\n",
       "      <td>0.475</td>\n",
       "      <td>0.235</td>\n",
       "      <td>0.335</td>\n",
       "      <td>0.550</td>\n",
       "      <td>0.425</td>\n",
       "      <td>0.890</td>\n",
       "      <td>0.455</td>\n",
       "      <td>0.380</td>\n",
       "      <td>0.695</td>\n",
       "      <td>7.050000e-01</td>\n",
       "      <td>8.850000e-01</td>\n",
       "    </tr>\n",
       "    <tr>\n",
       "      <th>3</th>\n",
       "      <td>grid_1gh30-9_2019-02-20_00:12_</td>\n",
       "      <td>Gray Hole</td>\n",
       "      <td>0.220</td>\n",
       "      <td>0.065</td>\n",
       "      <td>0.180</td>\n",
       "      <td>0.320</td>\n",
       "      <td>0.105</td>\n",
       "      <td>0.070</td>\n",
       "      <td>0.125</td>\n",
       "      <td>0.760</td>\n",
       "      <td>0.115</td>\n",
       "      <td>0.180</td>\n",
       "      <td>0.220</td>\n",
       "      <td>0.060</td>\n",
       "      <td>0.120</td>\n",
       "      <td>0.790</td>\n",
       "      <td>1.550000e-01</td>\n",
       "      <td>1.550000e-01</td>\n",
       "    </tr>\n",
       "    <tr>\n",
       "      <th>4</th>\n",
       "      <td>grid_1gh50-7_2019-02-19_22:53_</td>\n",
       "      <td>Gray Hole</td>\n",
       "      <td>0.205</td>\n",
       "      <td>0.165</td>\n",
       "      <td>0.350</td>\n",
       "      <td>0.360</td>\n",
       "      <td>0.170</td>\n",
       "      <td>0.315</td>\n",
       "      <td>0.160</td>\n",
       "      <td>0.300</td>\n",
       "      <td>0.145</td>\n",
       "      <td>0.300</td>\n",
       "      <td>0.580</td>\n",
       "      <td>0.625</td>\n",
       "      <td>0.650</td>\n",
       "      <td>0.170</td>\n",
       "      <td>3.450000e-01</td>\n",
       "      <td>2.700000e-01</td>\n",
       "    </tr>\n",
       "  </tbody>\n",
       "</table>\n",
       "</div>"
      ],
      "text/plain": [
       "                       experiment       label      1      2      3      4  \\\n",
       "0    grid_1bh-7_2019-02-19_22:13_  Black Hole  0.215  0.305  0.230  0.240   \n",
       "1    grid_1bh-9_2019-02-20_00:30_  Black Hole  0.040  0.210  0.070  0.160   \n",
       "2  grid_1gh30-7_2019-02-19_22:35_   Gray Hole  0.350  0.480  0.635  0.705   \n",
       "3  grid_1gh30-9_2019-02-20_00:12_   Gray Hole  0.220  0.065  0.180  0.320   \n",
       "4  grid_1gh50-7_2019-02-19_22:53_   Gray Hole  0.205  0.165  0.350  0.360   \n",
       "\n",
       "       5      6      7      8      9     10     11     12     13     14  \\\n",
       "0  0.190  0.100  0.170  0.240  0.200  0.220  0.255  0.275  0.170  0.080   \n",
       "1  0.010  0.025  0.045  0.015  0.130  0.075  0.250  0.125  0.205  0.100   \n",
       "2  0.825  0.475  0.235  0.335  0.550  0.425  0.890  0.455  0.380  0.695   \n",
       "3  0.105  0.070  0.125  0.760  0.115  0.180  0.220  0.060  0.120  0.790   \n",
       "4  0.170  0.315  0.160  0.300  0.145  0.300  0.580  0.625  0.650  0.170   \n",
       "\n",
       "             15            16  \n",
       "0  9.223372e+18  9.223372e+18  \n",
       "1  9.223372e+18  9.223372e+18  \n",
       "2  7.050000e-01  8.850000e-01  \n",
       "3  1.550000e-01  1.550000e-01  \n",
       "4  3.450000e-01  2.700000e-01  "
      ]
     },
     "execution_count": 5,
     "metadata": {},
     "output_type": "execute_result"
    }
   ],
   "source": [
    "net_stats = trace_statistics.compute_labeled_statistics_by_network(stats, 'loss', 16)\n",
    "net_win_25_stats = trace_statistics.compute_window_labeled_statistics_by_network(win_25_stats, 'loss', 16, 25)\n",
    "net_win_50_stats = trace_statistics.compute_window_labeled_statistics_by_network(win_50_stats, 'loss', 16, 50)\n",
    "net_win_100_stats = trace_statistics.compute_window_labeled_statistics_by_network(win_100_stats, 'loss', 16, 100)\n",
    "\n",
    "# Create a dictionary containing all the statistics for each trace size\n",
    "network_stats = {200: net_stats, 25: net_win_25_stats, 50: net_win_50_stats, 100: net_win_100_stats}\n",
    "net_stats.head(5)"
   ]
  },
  {
   "cell_type": "markdown",
   "metadata": {},
   "source": [
    "# Feature Selection\n",
    "\n",
    "Select the set of features and labels that we use to fit the algorithm"
   ]
  },
  {
   "cell_type": "code",
   "execution_count": 6,
   "metadata": {
    "scrolled": true
   },
   "outputs": [
    {
     "data": {
      "image/png": "[encoded data removed]",
      "text/plain": [
       "<Figure size 864x576 with 4 Axes>"
      ]
     },
     "metadata": {
      "needs_background": "light"
     },
     "output_type": "display_data"
    }
   ],
   "source": [
    "plots_analysis.random_forests_features_selection(trace_stats)"
   ]
  },
  {
   "cell_type": "code",
   "execution_count": 7,
   "metadata": {},
   "outputs": [],
   "source": [
    "results = None            # Results from each classification algorithm\n",
    "cv_results = None         # Cross validation results from each classification algorithm\n",
    "net_results = None            # Results from each classification algorithm\n",
    "cv_net_results = None         # Cross validation results from each classification algorithm\n",
    "\n",
    "features_to_drop = ['node_id', 'experiment', 'label', 'hop', 'loss', 'count', 'outliers']\n",
    "net_features_to_drop = ['experiment', 'label']"
   ]
  },
  {
   "cell_type": "markdown",
   "metadata": {},
   "source": [
    "# Random Forests Classifier\n",
    "\n",
    "Let us experiment with random forests. First, let us select most relevant features."
   ]
  },
  {
   "cell_type": "code",
   "execution_count": 8,
   "metadata": {},
   "outputs": [
    {
     "name": "stdout",
     "output_type": "stream",
     "text": [
      "Computing trace 200\n",
      "Computing trace 25\n",
      "Computing trace 50\n",
      "Computing trace 100\n"
     ]
    }
   ],
   "source": [
    "results = pd.concat([results, \n",
    "                     trace_classification.random_forest_classification(trace_stats, features_to_drop)\n",
    "                    ])"
   ]
  },
  {
   "cell_type": "markdown",
   "metadata": {},
   "source": [
    "We want to compute average accuracy for each trace size (i.e. for each window size from 200 - the entire window - to 100, 50 and 25)"
   ]
  },
  {
   "cell_type": "code",
   "execution_count": 9,
   "metadata": {
    "scrolled": true
   },
   "outputs": [
    {
     "name": "stdout",
     "output_type": "stream",
     "text": [
      "Computing trace 200\n",
      "Computing trace 25\n",
      "Computing trace 50\n",
      "Computing trace 100\n"
     ]
    }
   ],
   "source": [
    "cv_results = pd.concat([cv_results, \n",
    "                     trace_classification.random_forest_cross_validation(trace_stats, features_to_drop)\n",
    "                    ])"
   ]
  },
  {
   "cell_type": "markdown",
   "metadata": {},
   "source": [
    "Let's do the same for the whole network"
   ]
  },
  {
   "cell_type": "code",
   "execution_count": 10,
   "metadata": {},
   "outputs": [
    {
     "name": "stdout",
     "output_type": "stream",
     "text": [
      "Computing trace 200\n",
      "Computing trace 25\n",
      "Computing trace 50\n",
      "Computing trace 100\n"
     ]
    }
   ],
   "source": [
    "net_results = pd.concat([net_results, \n",
    "                     trace_classification.random_forest_classification(network_stats, net_features_to_drop)\n",
    "                    ])"
   ]
  },
  {
   "cell_type": "markdown",
   "metadata": {},
   "source": [
    "Cross validation"
   ]
  },
  {
   "cell_type": "code",
   "execution_count": 11,
   "metadata": {},
   "outputs": [
    {
     "name": "stdout",
     "output_type": "stream",
     "text": [
      "Computing trace 200\n",
      "Computing trace 25\n",
      "Computing trace 50\n",
      "Computing trace 100\n"
     ]
    }
   ],
   "source": [
    "cv_net_results = pd.concat([cv_net_results, \n",
    "                     trace_classification.random_forest_cross_validation(network_stats, net_features_to_drop, cross_val=3)\n",
    "                    ])"
   ]
  },
  {
   "cell_type": "markdown",
   "metadata": {},
   "source": [
    "# K-Nearest Neighbor (KNN) Classification\n",
    "\n",
    "Let us first observe the accuracies for different values of k"
   ]
  },
  {
   "cell_type": "code",
   "execution_count": 12,
   "metadata": {},
   "outputs": [
    {
     "data": {
      "image/png": "[encoded data removed]",
      "text/plain": [
       "<Figure size 864x576 with 4 Axes>"
      ]
     },
     "metadata": {
      "needs_background": "light"
     },
     "output_type": "display_data"
    }
   ],
   "source": [
    "plots_analysis.knn_test_number_of_neighbors(trace_stats, 30)"
   ]
  },
  {
   "cell_type": "markdown",
   "metadata": {},
   "source": [
    "Let's build KNN classifier "
   ]
  },
  {
   "cell_type": "code",
   "execution_count": 13,
   "metadata": {},
   "outputs": [
    {
     "name": "stdout",
     "output_type": "stream",
     "text": [
      "Computing trace 200\n",
      "Computing trace 25\n",
      "Computing trace 50\n",
      "Computing trace 100\n"
     ]
    }
   ],
   "source": [
    "results = pd.concat([results, \n",
    "                     trace_classification.k_nearest_neighbor_classification(trace_stats, features_to_drop, n_neighbors=17)\n",
    "                    ])"
   ]
  },
  {
   "cell_type": "markdown",
   "metadata": {},
   "source": [
    "We want to compute average accuracy for each trace size (i.e. for each window size from 200 - the entire window - to 100, 50 and 25)"
   ]
  },
  {
   "cell_type": "code",
   "execution_count": 14,
   "metadata": {},
   "outputs": [
    {
     "name": "stdout",
     "output_type": "stream",
     "text": [
      "Computing trace 200\n",
      "Computing trace 25\n",
      "Computing trace 50\n",
      "Computing trace 100\n"
     ]
    }
   ],
   "source": [
    "cv_results = pd.concat([cv_results, \n",
    "                     trace_classification.k_nearest_neighbor_cross_validation(trace_stats, features_to_drop, n_neighbors=17)\n",
    "                    ])"
   ]
  },
  {
   "cell_type": "markdown",
   "metadata": {},
   "source": [
    "Let's do the same for the whole network"
   ]
  },
  {
   "cell_type": "code",
   "execution_count": 15,
   "metadata": {},
   "outputs": [
    {
     "name": "stdout",
     "output_type": "stream",
     "text": [
      "Computing trace 200\n",
      "Computing trace 25\n",
      "Computing trace 50\n",
      "Computing trace 100\n"
     ]
    }
   ],
   "source": [
    "net_results = pd.concat([net_results, \n",
    "                     trace_classification.k_nearest_neighbor_classification(network_stats, net_features_to_drop)\n",
    "                    ])"
   ]
  },
  {
   "cell_type": "markdown",
   "metadata": {},
   "source": [
    "Cross validation"
   ]
  },
  {
   "cell_type": "code",
   "execution_count": 16,
   "metadata": {},
   "outputs": [
    {
     "name": "stdout",
     "output_type": "stream",
     "text": [
      "Computing trace 200\n",
      "Computing trace 25\n",
      "Computing trace 50\n",
      "Computing trace 100\n"
     ]
    }
   ],
   "source": [
    "cv_net_results = pd.concat([cv_net_results, \n",
    "                     trace_classification.k_nearest_neighbor_cross_validation(network_stats, net_features_to_drop, cross_val=3)\n",
    "                    ])"
   ]
  },
  {
   "cell_type": "markdown",
   "metadata": {},
   "source": [
    "# Support Vector Machines (SVM) Classification\n",
    "\n",
    "Let us experiment with another classifier"
   ]
  },
  {
   "cell_type": "code",
   "execution_count": 17,
   "metadata": {},
   "outputs": [
    {
     "name": "stdout",
     "output_type": "stream",
     "text": [
      "Computing trace 200\n",
      "Computing trace 25\n",
      "Computing trace 50\n",
      "Computing trace 100\n"
     ]
    }
   ],
   "source": [
    "results = pd.concat([results, \n",
    "                     trace_classification.support_vector_machines_classification(trace_stats, features_to_drop, kernel='rbf')\n",
    "                    ])"
   ]
  },
  {
   "cell_type": "markdown",
   "metadata": {},
   "source": [
    "We want to compute average accuracy for each trace size (i.e. for each window size from 200 - the entire window - to 100, 50 and 25)"
   ]
  },
  {
   "cell_type": "code",
   "execution_count": 18,
   "metadata": {
    "scrolled": true
   },
   "outputs": [
    {
     "name": "stdout",
     "output_type": "stream",
     "text": [
      "Computing trace 200\n",
      "Computing trace 25\n",
      "Computing trace 50\n",
      "Computing trace 100\n"
     ]
    }
   ],
   "source": [
    "cv_results = pd.concat([cv_results, \n",
    "                     trace_classification.support_vector_machines_cross_validation(trace_stats, features_to_drop, kernel='rbf')\n",
    "                    ])"
   ]
  },
  {
   "cell_type": "markdown",
   "metadata": {},
   "source": [
    "Let's do the same for the whole network"
   ]
  },
  {
   "cell_type": "code",
   "execution_count": 19,
   "metadata": {},
   "outputs": [
    {
     "name": "stdout",
     "output_type": "stream",
     "text": [
      "Computing trace 200\n",
      "Computing trace 25\n",
      "Computing trace 50\n",
      "Computing trace 100\n"
     ]
    }
   ],
   "source": [
    "net_results = pd.concat([net_results, \n",
    "                     trace_classification.support_vector_machines_classification(network_stats, net_features_to_drop, kernel='rbf')\n",
    "                    ])"
   ]
  },
  {
   "cell_type": "markdown",
   "metadata": {},
   "source": [
    "Cross validation"
   ]
  },
  {
   "cell_type": "code",
   "execution_count": 20,
   "metadata": {},
   "outputs": [
    {
     "name": "stdout",
     "output_type": "stream",
     "text": [
      "Computing trace 200\n",
      "Computing trace 25\n",
      "Computing trace 50\n",
      "Computing trace 100\n"
     ]
    }
   ],
   "source": [
    "cv_net_results = pd.concat([cv_net_results, \n",
    "                     trace_classification.support_vector_machines_cross_validation(network_stats, net_features_to_drop, kernel='rbf', cross_val=3)\n",
    "                    ])\n"
   ]
  },
  {
   "cell_type": "markdown",
   "metadata": {},
   "source": [
    "# One Vs The Rest Classifier\n",
    "\n",
    "SVM performs really well, but it is slow. Now we try to implement it in a most efficient way. The strategy consists in fitting one classifier per class. For each classifier, the class is fitted against all the other classes"
   ]
  },
  {
   "cell_type": "code",
   "execution_count": 21,
   "metadata": {},
   "outputs": [
    {
     "name": "stdout",
     "output_type": "stream",
     "text": [
      "Computing trace 200\n",
      "Computing trace 25\n",
      "Computing trace 50\n",
      "Computing trace 100\n"
     ]
    }
   ],
   "source": [
    "results = pd.concat([results, \n",
    "                     trace_classification.ensalble_svm_classification(trace_stats, features_to_drop, n_estimators=15)\n",
    "                    ])"
   ]
  },
  {
   "cell_type": "markdown",
   "metadata": {},
   "source": [
    "Cross validate"
   ]
  },
  {
   "cell_type": "code",
   "execution_count": 22,
   "metadata": {
    "scrolled": false
   },
   "outputs": [
    {
     "name": "stdout",
     "output_type": "stream",
     "text": [
      "Computing trace 200\n",
      "Computing trace 25\n",
      "Computing trace 50\n",
      "Computing trace 100\n"
     ]
    }
   ],
   "source": [
    "cv_results = pd.concat([cv_results, \n",
    "                     trace_classification.ensalble_svm_cross_validation(trace_stats, features_to_drop, n_estimators=15)\n",
    "                    ])"
   ]
  },
  {
   "cell_type": "markdown",
   "metadata": {},
   "source": [
    "Let's do the same for the whole network"
   ]
  },
  {
   "cell_type": "code",
   "execution_count": 24,
   "metadata": {
    "scrolled": false
   },
   "outputs": [
    {
     "data": {
      "text/plain": [
       "'\\nnet_results = pd.concat([net_results, \\n                     trace_classification.ensalble_svm_classification(network_stats, net_features_to_drop)\\n                    ])\\n'"
      ]
     },
     "execution_count": 24,
     "metadata": {},
     "output_type": "execute_result"
    }
   ],
   "source": [
    "'''\n",
    "net_results = pd.concat([net_results, \n",
    "                     trace_classification.ensalble_svm_classification(network_stats, net_features_to_drop)\n",
    "                    ])\n",
    "'''"
   ]
  },
  {
   "cell_type": "markdown",
   "metadata": {},
   "source": [
    "Cross validation"
   ]
  },
  {
   "cell_type": "code",
   "execution_count": 25,
   "metadata": {},
   "outputs": [
    {
     "data": {
      "text/plain": [
       "'\\ncv_net_results = pd.concat([cv_net_results, \\n                     trace_classification.ensalble_svm_cross_validation(network_stats, net_features_to_drop, cross_val=3)\\n                    ])\\n'"
      ]
     },
     "execution_count": 25,
     "metadata": {},
     "output_type": "execute_result"
    }
   ],
   "source": [
    "'''\n",
    "cv_net_results = pd.concat([cv_net_results, \n",
    "                     trace_classification.ensalble_svm_cross_validation(network_stats, net_features_to_drop, cross_val=3)\n",
    "                    ])\n",
    "'''"
   ]
  },
  {
   "cell_type": "markdown",
   "metadata": {},
   "source": [
    "# Per Node Results\n",
    "\n",
    "Results for each model"
   ]
  },
  {
   "cell_type": "code",
   "execution_count": 26,
   "metadata": {},
   "outputs": [
    {
     "data": {
      "text/html": [
       "<div>\n",
       "<style scoped>\n",
       "    .dataframe tbody tr th:only-of-type {\n",
       "        vertical-align: middle;\n",
       "    }\n",
       "\n",
       "    .dataframe tbody tr th {\n",
       "        vertical-align: top;\n",
       "    }\n",
       "\n",
       "    .dataframe thead th {\n",
       "        text-align: right;\n",
       "    }\n",
       "</style>\n",
       "<table border=\"1\" class=\"dataframe\">\n",
       "  <thead>\n",
       "    <tr style=\"text-align: right;\">\n",
       "      <th></th>\n",
       "      <th>Model</th>\n",
       "      <th>Window Size</th>\n",
       "      <th>Accuracy</th>\n",
       "      <th>Precision</th>\n",
       "      <th>Recall</th>\n",
       "      <th>F1-score</th>\n",
       "      <th>Training Time (sec)</th>\n",
       "      <th>Testing Time (sec)</th>\n",
       "    </tr>\n",
       "  </thead>\n",
       "  <tbody>\n",
       "    <tr>\n",
       "      <th>0</th>\n",
       "      <td>Random Forest</td>\n",
       "      <td>200</td>\n",
       "      <td>0.548387</td>\n",
       "      <td>0.478395</td>\n",
       "      <td>0.478938</td>\n",
       "      <td>0.478531</td>\n",
       "      <td>0.116529</td>\n",
       "      <td>0.011201</td>\n",
       "    </tr>\n",
       "    <tr>\n",
       "      <th>1</th>\n",
       "      <td>Random Forest</td>\n",
       "      <td>25</td>\n",
       "      <td>0.540166</td>\n",
       "      <td>0.464306</td>\n",
       "      <td>0.447359</td>\n",
       "      <td>0.446860</td>\n",
       "      <td>0.269027</td>\n",
       "      <td>0.030150</td>\n",
       "    </tr>\n",
       "    <tr>\n",
       "      <th>2</th>\n",
       "      <td>Random Forest</td>\n",
       "      <td>50</td>\n",
       "      <td>0.474490</td>\n",
       "      <td>0.423907</td>\n",
       "      <td>0.421835</td>\n",
       "      <td>0.417454</td>\n",
       "      <td>0.226456</td>\n",
       "      <td>0.015211</td>\n",
       "    </tr>\n",
       "    <tr>\n",
       "      <th>3</th>\n",
       "      <td>Random Forest</td>\n",
       "      <td>100</td>\n",
       "      <td>0.522124</td>\n",
       "      <td>0.448219</td>\n",
       "      <td>0.434444</td>\n",
       "      <td>0.425243</td>\n",
       "      <td>0.219266</td>\n",
       "      <td>0.012538</td>\n",
       "    </tr>\n",
       "    <tr>\n",
       "      <th>4</th>\n",
       "      <td>KNN</td>\n",
       "      <td>200</td>\n",
       "      <td>0.451613</td>\n",
       "      <td>0.320191</td>\n",
       "      <td>0.347985</td>\n",
       "      <td>0.332589</td>\n",
       "      <td>0.002181</td>\n",
       "      <td>0.004688</td>\n",
       "    </tr>\n",
       "    <tr>\n",
       "      <th>5</th>\n",
       "      <td>KNN</td>\n",
       "      <td>25</td>\n",
       "      <td>0.537396</td>\n",
       "      <td>0.474962</td>\n",
       "      <td>0.440435</td>\n",
       "      <td>0.438180</td>\n",
       "      <td>0.003109</td>\n",
       "      <td>0.021872</td>\n",
       "    </tr>\n",
       "    <tr>\n",
       "      <th>6</th>\n",
       "      <td>KNN</td>\n",
       "      <td>50</td>\n",
       "      <td>0.433673</td>\n",
       "      <td>0.403996</td>\n",
       "      <td>0.363016</td>\n",
       "      <td>0.343869</td>\n",
       "      <td>0.002220</td>\n",
       "      <td>0.013024</td>\n",
       "    </tr>\n",
       "    <tr>\n",
       "      <th>7</th>\n",
       "      <td>KNN</td>\n",
       "      <td>100</td>\n",
       "      <td>0.398230</td>\n",
       "      <td>0.308539</td>\n",
       "      <td>0.307778</td>\n",
       "      <td>0.295074</td>\n",
       "      <td>0.001636</td>\n",
       "      <td>0.007585</td>\n",
       "    </tr>\n",
       "    <tr>\n",
       "      <th>8</th>\n",
       "      <td>SVM</td>\n",
       "      <td>200</td>\n",
       "      <td>0.403226</td>\n",
       "      <td>0.293981</td>\n",
       "      <td>0.301282</td>\n",
       "      <td>0.260401</td>\n",
       "      <td>0.003163</td>\n",
       "      <td>0.001340</td>\n",
       "    </tr>\n",
       "    <tr>\n",
       "      <th>9</th>\n",
       "      <td>SVM</td>\n",
       "      <td>25</td>\n",
       "      <td>0.526316</td>\n",
       "      <td>0.433296</td>\n",
       "      <td>0.419644</td>\n",
       "      <td>0.401786</td>\n",
       "      <td>0.050497</td>\n",
       "      <td>0.008031</td>\n",
       "    </tr>\n",
       "    <tr>\n",
       "      <th>10</th>\n",
       "      <td>SVM</td>\n",
       "      <td>50</td>\n",
       "      <td>0.423469</td>\n",
       "      <td>0.479121</td>\n",
       "      <td>0.362861</td>\n",
       "      <td>0.350559</td>\n",
       "      <td>0.017444</td>\n",
       "      <td>0.033834</td>\n",
       "    </tr>\n",
       "    <tr>\n",
       "      <th>11</th>\n",
       "      <td>SVM</td>\n",
       "      <td>100</td>\n",
       "      <td>0.460177</td>\n",
       "      <td>0.384544</td>\n",
       "      <td>0.372778</td>\n",
       "      <td>0.342579</td>\n",
       "      <td>0.006117</td>\n",
       "      <td>0.001815</td>\n",
       "    </tr>\n",
       "    <tr>\n",
       "      <th>12</th>\n",
       "      <td>OneVsRestClassifier (SVM)</td>\n",
       "      <td>200</td>\n",
       "      <td>0.290323</td>\n",
       "      <td>0.367421</td>\n",
       "      <td>0.337912</td>\n",
       "      <td>0.288497</td>\n",
       "      <td>3.038883</td>\n",
       "      <td>0.013729</td>\n",
       "    </tr>\n",
       "    <tr>\n",
       "      <th>13</th>\n",
       "      <td>OneVsRestClassifier (SVM)</td>\n",
       "      <td>25</td>\n",
       "      <td>0.495845</td>\n",
       "      <td>0.334600</td>\n",
       "      <td>0.403037</td>\n",
       "      <td>0.353251</td>\n",
       "      <td>19.177886</td>\n",
       "      <td>0.008067</td>\n",
       "    </tr>\n",
       "    <tr>\n",
       "      <th>14</th>\n",
       "      <td>OneVsRestClassifier (SVM)</td>\n",
       "      <td>50</td>\n",
       "      <td>0.433673</td>\n",
       "      <td>0.426253</td>\n",
       "      <td>0.429649</td>\n",
       "      <td>0.388327</td>\n",
       "      <td>9.398526</td>\n",
       "      <td>0.015105</td>\n",
       "    </tr>\n",
       "    <tr>\n",
       "      <th>15</th>\n",
       "      <td>OneVsRestClassifier (SVM)</td>\n",
       "      <td>100</td>\n",
       "      <td>0.389381</td>\n",
       "      <td>0.189512</td>\n",
       "      <td>0.305278</td>\n",
       "      <td>0.196851</td>\n",
       "      <td>5.105823</td>\n",
       "      <td>0.009823</td>\n",
       "    </tr>\n",
       "  </tbody>\n",
       "</table>\n",
       "</div>"
      ],
      "text/plain": [
       "                        Model  Window Size  Accuracy  Precision    Recall  \\\n",
       "0               Random Forest          200  0.548387   0.478395  0.478938   \n",
       "1               Random Forest           25  0.540166   0.464306  0.447359   \n",
       "2               Random Forest           50  0.474490   0.423907  0.421835   \n",
       "3               Random Forest          100  0.522124   0.448219  0.434444   \n",
       "4                         KNN          200  0.451613   0.320191  0.347985   \n",
       "5                         KNN           25  0.537396   0.474962  0.440435   \n",
       "6                         KNN           50  0.433673   0.403996  0.363016   \n",
       "7                         KNN          100  0.398230   0.308539  0.307778   \n",
       "8                         SVM          200  0.403226   0.293981  0.301282   \n",
       "9                         SVM           25  0.526316   0.433296  0.419644   \n",
       "10                        SVM           50  0.423469   0.479121  0.362861   \n",
       "11                        SVM          100  0.460177   0.384544  0.372778   \n",
       "12  OneVsRestClassifier (SVM)          200  0.290323   0.367421  0.337912   \n",
       "13  OneVsRestClassifier (SVM)           25  0.495845   0.334600  0.403037   \n",
       "14  OneVsRestClassifier (SVM)           50  0.433673   0.426253  0.429649   \n",
       "15  OneVsRestClassifier (SVM)          100  0.389381   0.189512  0.305278   \n",
       "\n",
       "    F1-score  Training Time (sec)  Testing Time (sec)  \n",
       "0   0.478531             0.116529            0.011201  \n",
       "1   0.446860             0.269027            0.030150  \n",
       "2   0.417454             0.226456            0.015211  \n",
       "3   0.425243             0.219266            0.012538  \n",
       "4   0.332589             0.002181            0.004688  \n",
       "5   0.438180             0.003109            0.021872  \n",
       "6   0.343869             0.002220            0.013024  \n",
       "7   0.295074             0.001636            0.007585  \n",
       "8   0.260401             0.003163            0.001340  \n",
       "9   0.401786             0.050497            0.008031  \n",
       "10  0.350559             0.017444            0.033834  \n",
       "11  0.342579             0.006117            0.001815  \n",
       "12  0.288497             3.038883            0.013729  \n",
       "13  0.353251            19.177886            0.008067  \n",
       "14  0.388327             9.398526            0.015105  \n",
       "15  0.196851             5.105823            0.009823  "
      ]
     },
     "execution_count": 26,
     "metadata": {},
     "output_type": "execute_result"
    }
   ],
   "source": [
    "results = results.rename(index=str, columns={\"Training Time (ms)\": \"Training Time (sec)\", \"Testing Time (ms)\": \"Testing Time (sec)\"})\n",
    "results.reset_index(drop=True)"
   ]
  },
  {
   "cell_type": "markdown",
   "metadata": {},
   "source": [
    "Here we plot the average results for each model"
   ]
  },
  {
   "cell_type": "code",
   "execution_count": 27,
   "metadata": {
    "scrolled": true
   },
   "outputs": [
    {
     "data": {
      "text/html": [
       "<div>\n",
       "<style scoped>\n",
       "    .dataframe tbody tr th:only-of-type {\n",
       "        vertical-align: middle;\n",
       "    }\n",
       "\n",
       "    .dataframe tbody tr th {\n",
       "        vertical-align: top;\n",
       "    }\n",
       "\n",
       "    .dataframe thead th {\n",
       "        text-align: right;\n",
       "    }\n",
       "</style>\n",
       "<table border=\"1\" class=\"dataframe\">\n",
       "  <thead>\n",
       "    <tr style=\"text-align: right;\">\n",
       "      <th></th>\n",
       "      <th>Model</th>\n",
       "      <th>Window Size</th>\n",
       "      <th>Mean Accuracy</th>\n",
       "    </tr>\n",
       "  </thead>\n",
       "  <tbody>\n",
       "    <tr>\n",
       "      <th>0</th>\n",
       "      <td>Random Forest</td>\n",
       "      <td>200</td>\n",
       "      <td>0.471312</td>\n",
       "    </tr>\n",
       "    <tr>\n",
       "      <th>1</th>\n",
       "      <td>Random Forest</td>\n",
       "      <td>25</td>\n",
       "      <td>0.462998</td>\n",
       "    </tr>\n",
       "    <tr>\n",
       "      <th>2</th>\n",
       "      <td>Random Forest</td>\n",
       "      <td>50</td>\n",
       "      <td>0.474880</td>\n",
       "    </tr>\n",
       "    <tr>\n",
       "      <th>3</th>\n",
       "      <td>Random Forest</td>\n",
       "      <td>100</td>\n",
       "      <td>0.463016</td>\n",
       "    </tr>\n",
       "    <tr>\n",
       "      <th>4</th>\n",
       "      <td>KNN</td>\n",
       "      <td>200</td>\n",
       "      <td>0.378258</td>\n",
       "    </tr>\n",
       "    <tr>\n",
       "      <th>5</th>\n",
       "      <td>KNN</td>\n",
       "      <td>25</td>\n",
       "      <td>0.478891</td>\n",
       "    </tr>\n",
       "    <tr>\n",
       "      <th>6</th>\n",
       "      <td>KNN</td>\n",
       "      <td>50</td>\n",
       "      <td>0.430605</td>\n",
       "    </tr>\n",
       "    <tr>\n",
       "      <th>7</th>\n",
       "      <td>KNN</td>\n",
       "      <td>100</td>\n",
       "      <td>0.428104</td>\n",
       "    </tr>\n",
       "    <tr>\n",
       "      <th>8</th>\n",
       "      <td>SVM</td>\n",
       "      <td>200</td>\n",
       "      <td>0.388142</td>\n",
       "    </tr>\n",
       "    <tr>\n",
       "      <th>9</th>\n",
       "      <td>SVM</td>\n",
       "      <td>25</td>\n",
       "      <td>0.488756</td>\n",
       "    </tr>\n",
       "    <tr>\n",
       "      <th>10</th>\n",
       "      <td>SVM</td>\n",
       "      <td>50</td>\n",
       "      <td>0.407610</td>\n",
       "    </tr>\n",
       "    <tr>\n",
       "      <th>11</th>\n",
       "      <td>SVM</td>\n",
       "      <td>100</td>\n",
       "      <td>0.417508</td>\n",
       "    </tr>\n",
       "    <tr>\n",
       "      <th>12</th>\n",
       "      <td>OneVsRestClassifier (SVM)</td>\n",
       "      <td>200</td>\n",
       "      <td>0.323769</td>\n",
       "    </tr>\n",
       "    <tr>\n",
       "      <th>13</th>\n",
       "      <td>OneVsRestClassifier (SVM)</td>\n",
       "      <td>25</td>\n",
       "      <td>0.475526</td>\n",
       "    </tr>\n",
       "    <tr>\n",
       "      <th>14</th>\n",
       "      <td>OneVsRestClassifier (SVM)</td>\n",
       "      <td>50</td>\n",
       "      <td>0.410971</td>\n",
       "    </tr>\n",
       "    <tr>\n",
       "      <th>15</th>\n",
       "      <td>OneVsRestClassifier (SVM)</td>\n",
       "      <td>100</td>\n",
       "      <td>0.446590</td>\n",
       "    </tr>\n",
       "  </tbody>\n",
       "</table>\n",
       "</div>"
      ],
      "text/plain": [
       "                        Model  Window Size  Mean Accuracy\n",
       "0               Random Forest          200       0.471312\n",
       "1               Random Forest           25       0.462998\n",
       "2               Random Forest           50       0.474880\n",
       "3               Random Forest          100       0.463016\n",
       "4                         KNN          200       0.378258\n",
       "5                         KNN           25       0.478891\n",
       "6                         KNN           50       0.430605\n",
       "7                         KNN          100       0.428104\n",
       "8                         SVM          200       0.388142\n",
       "9                         SVM           25       0.488756\n",
       "10                        SVM           50       0.407610\n",
       "11                        SVM          100       0.417508\n",
       "12  OneVsRestClassifier (SVM)          200       0.323769\n",
       "13  OneVsRestClassifier (SVM)           25       0.475526\n",
       "14  OneVsRestClassifier (SVM)           50       0.410971\n",
       "15  OneVsRestClassifier (SVM)          100       0.446590"
      ]
     },
     "execution_count": 27,
     "metadata": {},
     "output_type": "execute_result"
    }
   ],
   "source": [
    "cv_results.reset_index(drop=True)"
   ]
  },
  {
   "cell_type": "markdown",
   "metadata": {},
   "source": [
    "# Network Results\n",
    "Here we print the results from each model on the whole network"
   ]
  },
  {
   "cell_type": "code",
   "execution_count": 28,
   "metadata": {
    "scrolled": true
   },
   "outputs": [
    {
     "data": {
      "text/html": [
       "<div>\n",
       "<style scoped>\n",
       "    .dataframe tbody tr th:only-of-type {\n",
       "        vertical-align: middle;\n",
       "    }\n",
       "\n",
       "    .dataframe tbody tr th {\n",
       "        vertical-align: top;\n",
       "    }\n",
       "\n",
       "    .dataframe thead th {\n",
       "        text-align: right;\n",
       "    }\n",
       "</style>\n",
       "<table border=\"1\" class=\"dataframe\">\n",
       "  <thead>\n",
       "    <tr style=\"text-align: right;\">\n",
       "      <th></th>\n",
       "      <th>Model</th>\n",
       "      <th>Window Size</th>\n",
       "      <th>Accuracy</th>\n",
       "      <th>Precision</th>\n",
       "      <th>Recall</th>\n",
       "      <th>F1-score</th>\n",
       "      <th>Training Time (sec)</th>\n",
       "      <th>Testing Time (sec)</th>\n",
       "    </tr>\n",
       "  </thead>\n",
       "  <tbody>\n",
       "    <tr>\n",
       "      <th>0</th>\n",
       "      <td>Random Forest</td>\n",
       "      <td>200</td>\n",
       "      <td>0.25000</td>\n",
       "      <td>0.111111</td>\n",
       "      <td>0.333333</td>\n",
       "      <td>0.166667</td>\n",
       "      <td>0.113062</td>\n",
       "      <td>0.026724</td>\n",
       "    </tr>\n",
       "    <tr>\n",
       "      <th>1</th>\n",
       "      <td>Random Forest</td>\n",
       "      <td>25</td>\n",
       "      <td>0.46875</td>\n",
       "      <td>0.330113</td>\n",
       "      <td>0.342262</td>\n",
       "      <td>0.313514</td>\n",
       "      <td>0.116735</td>\n",
       "      <td>0.010530</td>\n",
       "    </tr>\n",
       "    <tr>\n",
       "      <th>2</th>\n",
       "      <td>Random Forest</td>\n",
       "      <td>50</td>\n",
       "      <td>0.12500</td>\n",
       "      <td>0.084656</td>\n",
       "      <td>0.097222</td>\n",
       "      <td>0.088889</td>\n",
       "      <td>0.119547</td>\n",
       "      <td>0.013149</td>\n",
       "    </tr>\n",
       "    <tr>\n",
       "      <th>3</th>\n",
       "      <td>Random Forest</td>\n",
       "      <td>100</td>\n",
       "      <td>0.37500</td>\n",
       "      <td>0.428571</td>\n",
       "      <td>0.400000</td>\n",
       "      <td>0.259259</td>\n",
       "      <td>0.114518</td>\n",
       "      <td>0.011270</td>\n",
       "    </tr>\n",
       "    <tr>\n",
       "      <th>4</th>\n",
       "      <td>KNN</td>\n",
       "      <td>200</td>\n",
       "      <td>0.25000</td>\n",
       "      <td>0.125000</td>\n",
       "      <td>0.500000</td>\n",
       "      <td>0.200000</td>\n",
       "      <td>0.001493</td>\n",
       "      <td>0.002028</td>\n",
       "    </tr>\n",
       "    <tr>\n",
       "      <th>5</th>\n",
       "      <td>KNN</td>\n",
       "      <td>25</td>\n",
       "      <td>0.31250</td>\n",
       "      <td>0.151515</td>\n",
       "      <td>0.208333</td>\n",
       "      <td>0.175439</td>\n",
       "      <td>0.001448</td>\n",
       "      <td>0.003015</td>\n",
       "    </tr>\n",
       "    <tr>\n",
       "      <th>6</th>\n",
       "      <td>KNN</td>\n",
       "      <td>50</td>\n",
       "      <td>0.06250</td>\n",
       "      <td>0.033333</td>\n",
       "      <td>0.055556</td>\n",
       "      <td>0.041667</td>\n",
       "      <td>0.001468</td>\n",
       "      <td>0.003373</td>\n",
       "    </tr>\n",
       "    <tr>\n",
       "      <th>7</th>\n",
       "      <td>KNN</td>\n",
       "      <td>100</td>\n",
       "      <td>0.37500</td>\n",
       "      <td>0.500000</td>\n",
       "      <td>0.400000</td>\n",
       "      <td>0.428571</td>\n",
       "      <td>0.001657</td>\n",
       "      <td>0.002007</td>\n",
       "    </tr>\n",
       "    <tr>\n",
       "      <th>8</th>\n",
       "      <td>SVM</td>\n",
       "      <td>200</td>\n",
       "      <td>0.25000</td>\n",
       "      <td>0.125000</td>\n",
       "      <td>0.500000</td>\n",
       "      <td>0.200000</td>\n",
       "      <td>0.001330</td>\n",
       "      <td>0.001397</td>\n",
       "    </tr>\n",
       "    <tr>\n",
       "      <th>9</th>\n",
       "      <td>SVM</td>\n",
       "      <td>25</td>\n",
       "      <td>0.50000</td>\n",
       "      <td>0.166667</td>\n",
       "      <td>0.333333</td>\n",
       "      <td>0.222222</td>\n",
       "      <td>0.002221</td>\n",
       "      <td>0.001508</td>\n",
       "    </tr>\n",
       "    <tr>\n",
       "      <th>10</th>\n",
       "      <td>SVM</td>\n",
       "      <td>50</td>\n",
       "      <td>0.37500</td>\n",
       "      <td>0.125000</td>\n",
       "      <td>0.333333</td>\n",
       "      <td>0.181818</td>\n",
       "      <td>0.001416</td>\n",
       "      <td>0.000914</td>\n",
       "    </tr>\n",
       "    <tr>\n",
       "      <th>11</th>\n",
       "      <td>SVM</td>\n",
       "      <td>100</td>\n",
       "      <td>0.25000</td>\n",
       "      <td>0.083333</td>\n",
       "      <td>0.333333</td>\n",
       "      <td>0.133333</td>\n",
       "      <td>0.001889</td>\n",
       "      <td>0.001003</td>\n",
       "    </tr>\n",
       "  </tbody>\n",
       "</table>\n",
       "</div>"
      ],
      "text/plain": [
       "            Model  Window Size  Accuracy  Precision    Recall  F1-score  \\\n",
       "0   Random Forest          200   0.25000   0.111111  0.333333  0.166667   \n",
       "1   Random Forest           25   0.46875   0.330113  0.342262  0.313514   \n",
       "2   Random Forest           50   0.12500   0.084656  0.097222  0.088889   \n",
       "3   Random Forest          100   0.37500   0.428571  0.400000  0.259259   \n",
       "4             KNN          200   0.25000   0.125000  0.500000  0.200000   \n",
       "5             KNN           25   0.31250   0.151515  0.208333  0.175439   \n",
       "6             KNN           50   0.06250   0.033333  0.055556  0.041667   \n",
       "7             KNN          100   0.37500   0.500000  0.400000  0.428571   \n",
       "8             SVM          200   0.25000   0.125000  0.500000  0.200000   \n",
       "9             SVM           25   0.50000   0.166667  0.333333  0.222222   \n",
       "10            SVM           50   0.37500   0.125000  0.333333  0.181818   \n",
       "11            SVM          100   0.25000   0.083333  0.333333  0.133333   \n",
       "\n",
       "    Training Time (sec)  Testing Time (sec)  \n",
       "0              0.113062            0.026724  \n",
       "1              0.116735            0.010530  \n",
       "2              0.119547            0.013149  \n",
       "3              0.114518            0.011270  \n",
       "4              0.001493            0.002028  \n",
       "5              0.001448            0.003015  \n",
       "6              0.001468            0.003373  \n",
       "7              0.001657            0.002007  \n",
       "8              0.001330            0.001397  \n",
       "9              0.002221            0.001508  \n",
       "10             0.001416            0.000914  \n",
       "11             0.001889            0.001003  "
      ]
     },
     "execution_count": 28,
     "metadata": {},
     "output_type": "execute_result"
    }
   ],
   "source": [
    "net_results.reset_index(drop=True)"
   ]
  },
  {
   "cell_type": "markdown",
   "metadata": {},
   "source": [
    "Here we plot the average results for each model computed with cross validation"
   ]
  },
  {
   "cell_type": "code",
   "execution_count": 29,
   "metadata": {},
   "outputs": [
    {
     "data": {
      "text/html": [
       "<div>\n",
       "<style scoped>\n",
       "    .dataframe tbody tr th:only-of-type {\n",
       "        vertical-align: middle;\n",
       "    }\n",
       "\n",
       "    .dataframe tbody tr th {\n",
       "        vertical-align: top;\n",
       "    }\n",
       "\n",
       "    .dataframe thead th {\n",
       "        text-align: right;\n",
       "    }\n",
       "</style>\n",
       "<table border=\"1\" class=\"dataframe\">\n",
       "  <thead>\n",
       "    <tr style=\"text-align: right;\">\n",
       "      <th></th>\n",
       "      <th>Model</th>\n",
       "      <th>Window Size</th>\n",
       "      <th>Mean Accuracy</th>\n",
       "    </tr>\n",
       "  </thead>\n",
       "  <tbody>\n",
       "    <tr>\n",
       "      <th>0</th>\n",
       "      <td>Random Forest</td>\n",
       "      <td>200</td>\n",
       "      <td>0.311111</td>\n",
       "    </tr>\n",
       "    <tr>\n",
       "      <th>1</th>\n",
       "      <td>Random Forest</td>\n",
       "      <td>25</td>\n",
       "      <td>0.290305</td>\n",
       "    </tr>\n",
       "    <tr>\n",
       "      <th>2</th>\n",
       "      <td>Random Forest</td>\n",
       "      <td>50</td>\n",
       "      <td>0.210648</td>\n",
       "    </tr>\n",
       "    <tr>\n",
       "      <th>3</th>\n",
       "      <td>Random Forest</td>\n",
       "      <td>100</td>\n",
       "      <td>0.350000</td>\n",
       "    </tr>\n",
       "    <tr>\n",
       "      <th>4</th>\n",
       "      <td>KNN</td>\n",
       "      <td>200</td>\n",
       "      <td>0.444444</td>\n",
       "    </tr>\n",
       "    <tr>\n",
       "      <th>5</th>\n",
       "      <td>KNN</td>\n",
       "      <td>25</td>\n",
       "      <td>0.259804</td>\n",
       "    </tr>\n",
       "    <tr>\n",
       "      <th>6</th>\n",
       "      <td>KNN</td>\n",
       "      <td>50</td>\n",
       "      <td>0.192130</td>\n",
       "    </tr>\n",
       "    <tr>\n",
       "      <th>7</th>\n",
       "      <td>KNN</td>\n",
       "      <td>100</td>\n",
       "      <td>0.416667</td>\n",
       "    </tr>\n",
       "    <tr>\n",
       "      <th>8</th>\n",
       "      <td>SVM</td>\n",
       "      <td>200</td>\n",
       "      <td>0.511111</td>\n",
       "    </tr>\n",
       "    <tr>\n",
       "      <th>9</th>\n",
       "      <td>SVM</td>\n",
       "      <td>25</td>\n",
       "      <td>0.319172</td>\n",
       "    </tr>\n",
       "    <tr>\n",
       "      <th>10</th>\n",
       "      <td>SVM</td>\n",
       "      <td>50</td>\n",
       "      <td>0.400463</td>\n",
       "    </tr>\n",
       "    <tr>\n",
       "      <th>11</th>\n",
       "      <td>SVM</td>\n",
       "      <td>100</td>\n",
       "      <td>0.425000</td>\n",
       "    </tr>\n",
       "  </tbody>\n",
       "</table>\n",
       "</div>"
      ],
      "text/plain": [
       "            Model  Window Size  Mean Accuracy\n",
       "0   Random Forest          200       0.311111\n",
       "1   Random Forest           25       0.290305\n",
       "2   Random Forest           50       0.210648\n",
       "3   Random Forest          100       0.350000\n",
       "4             KNN          200       0.444444\n",
       "5             KNN           25       0.259804\n",
       "6             KNN           50       0.192130\n",
       "7             KNN          100       0.416667\n",
       "8             SVM          200       0.511111\n",
       "9             SVM           25       0.319172\n",
       "10            SVM           50       0.400463\n",
       "11            SVM          100       0.425000"
      ]
     },
     "execution_count": 29,
     "metadata": {},
     "output_type": "execute_result"
    }
   ],
   "source": [
    "cv_net_results.reset_index(drop=True)"
   ]
  },
  {
   "cell_type": "code",
   "execution_count": null,
   "metadata": {},
   "outputs": [],
   "source": []
  }
 ],
 "metadata": {
  "kernelspec": {
   "display_name": "Python 3",
   "language": "python",
   "name": "python3"
  },
  "language_info": {
   "codemirror_mode": {
    "name": "ipython",
    "version": 3
   },
   "file_extension": ".py",
   "mimetype": "text/x-python",
   "name": "python",
   "nbconvert_exporter": "python",
   "pygments_lexer": "ipython3",
   "version": "3.6.5"
  }
 },
 "nbformat": 4,
 "nbformat_minor": 2
}
