{
 "cells": [
  {
   "cell_type": "code",
   "execution_count": 1,
   "metadata": {},
   "outputs": [],
   "source": [
    "import pandas as pd\n",
    "import numpy as np\n",
    "from scipy import stats as sp\n",
    "import sys, os\n",
    "sys.path.append('../')\n",
    "import trace_analysis\n",
    "import plots_analysis\n",
    "import trace_statistics\n",
    "\n",
    "# KNN\n",
    "from sklearn.neighbors import KNeighborsClassifier\n",
    "from sklearn.model_selection import train_test_split\n",
    "from sklearn import metrics\n",
    "from sklearn.metrics import classification_report\n",
    "from sklearn.model_selection import GridSearchCV\n",
    "from sklearn.model_selection import cross_val_score\n",
    "# SVM\n",
    "from sklearn import svm\n",
    "#Import Random Forest Model\n",
    "from sklearn.ensemble import RandomForestClassifier"
   ]
  },
  {
   "cell_type": "markdown",
   "metadata": {},
   "source": [
    "# Data Preparation\n",
    "\n",
    "\n",
    "Prepare the data to be used with kNN"
   ]
  },
  {
   "cell_type": "code",
   "execution_count": 2,
   "metadata": {},
   "outputs": [
    {
     "data": {
      "text/html": [
       "<div>\n",
       "<style scoped>\n",
       "    .dataframe tbody tr th:only-of-type {\n",
       "        vertical-align: middle;\n",
       "    }\n",
       "\n",
       "    .dataframe tbody tr th {\n",
       "        vertical-align: top;\n",
       "    }\n",
       "\n",
       "    .dataframe thead th {\n",
       "        text-align: right;\n",
       "    }\n",
       "</style>\n",
       "<table border=\"1\" class=\"dataframe\">\n",
       "  <thead>\n",
       "    <tr style=\"text-align: right;\">\n",
       "      <th></th>\n",
       "      <th>node_id</th>\n",
       "      <th>count</th>\n",
       "      <th>mean</th>\n",
       "      <th>var</th>\n",
       "      <th>std</th>\n",
       "      <th>hop</th>\n",
       "      <th>min</th>\n",
       "      <th>max</th>\n",
       "      <th>loss</th>\n",
       "      <th>label</th>\n",
       "    </tr>\n",
       "  </thead>\n",
       "  <tbody>\n",
       "    <tr>\n",
       "      <th>0</th>\n",
       "      <td>aaaa::212:7403:3:303:</td>\n",
       "      <td>148</td>\n",
       "      <td>128.785811</td>\n",
       "      <td>14261.209389</td>\n",
       "      <td>119.420306</td>\n",
       "      <td>1</td>\n",
       "      <td>41.1</td>\n",
       "      <td>947.0</td>\n",
       "      <td>0.260</td>\n",
       "      <td>Normal</td>\n",
       "    </tr>\n",
       "    <tr>\n",
       "      <th>1</th>\n",
       "      <td>aaaa::212:7408:8:808:</td>\n",
       "      <td>97</td>\n",
       "      <td>295.701031</td>\n",
       "      <td>73333.878436</td>\n",
       "      <td>270.802287</td>\n",
       "      <td>2</td>\n",
       "      <td>103.0</td>\n",
       "      <td>1809.0</td>\n",
       "      <td>0.515</td>\n",
       "      <td>Normal</td>\n",
       "    </tr>\n",
       "    <tr>\n",
       "      <th>2</th>\n",
       "      <td>aaaa::212:7402:2:202:</td>\n",
       "      <td>160</td>\n",
       "      <td>316.326875</td>\n",
       "      <td>100885.449147</td>\n",
       "      <td>317.624699</td>\n",
       "      <td>2</td>\n",
       "      <td>77.9</td>\n",
       "      <td>1858.0</td>\n",
       "      <td>0.200</td>\n",
       "      <td>Normal</td>\n",
       "    </tr>\n",
       "    <tr>\n",
       "      <th>3</th>\n",
       "      <td>aaaa::212:740a:a:a0a:</td>\n",
       "      <td>115</td>\n",
       "      <td>433.895652</td>\n",
       "      <td>95800.515332</td>\n",
       "      <td>309.516583</td>\n",
       "      <td>4</td>\n",
       "      <td>188.0</td>\n",
       "      <td>2237.0</td>\n",
       "      <td>0.425</td>\n",
       "      <td>Normal</td>\n",
       "    </tr>\n",
       "    <tr>\n",
       "      <th>4</th>\n",
       "      <td>aaaa::212:7409:9:909:</td>\n",
       "      <td>110</td>\n",
       "      <td>549.300000</td>\n",
       "      <td>151722.799083</td>\n",
       "      <td>389.516109</td>\n",
       "      <td>3</td>\n",
       "      <td>168.0</td>\n",
       "      <td>1606.0</td>\n",
       "      <td>0.450</td>\n",
       "      <td>Normal</td>\n",
       "    </tr>\n",
       "  </tbody>\n",
       "</table>\n",
       "</div>"
      ],
      "text/plain": [
       "                 node_id  count        mean            var         std  hop  \\\n",
       "0  aaaa::212:7403:3:303:    148  128.785811   14261.209389  119.420306    1   \n",
       "1  aaaa::212:7408:8:808:     97  295.701031   73333.878436  270.802287    2   \n",
       "2  aaaa::212:7402:2:202:    160  316.326875  100885.449147  317.624699    2   \n",
       "3  aaaa::212:740a:a:a0a:    115  433.895652   95800.515332  309.516583    4   \n",
       "4  aaaa::212:7409:9:909:    110  549.300000  151722.799083  389.516109    3   \n",
       "\n",
       "     min     max   loss   label  \n",
       "0   41.1   947.0  0.260  Normal  \n",
       "1  103.0  1809.0  0.515  Normal  \n",
       "2   77.9  1858.0  0.200  Normal  \n",
       "3  188.0  2237.0  0.425  Normal  \n",
       "4  168.0  1606.0  0.450  Normal  "
      ]
     },
     "execution_count": 2,
     "metadata": {},
     "output_type": "execute_result"
    }
   ],
   "source": [
    "plots = [(\"traces/normal/\", 'grid_normal_2019-02-19_21'),\n",
    "         (\"traces/1bh-7/\", 'grid_1bh-7_2019-02-19_22'),\n",
    "         (\"traces/1bh-9/\", 'grid_1bh-9_2019-02-20_00'),\n",
    "         (\"traces/1gh30-7/\", 'grid_1gh30-7_2019-02-19_22'),\n",
    "         (\"traces/1gh30-9/\", 'grid_1gh30-9_2019-02-20_00'),\n",
    "         (\"traces/1gh50-7/\", 'grid_1gh50-7_2019-02-19_22'),\n",
    "         (\"traces/1gh50-9/\", 'grid_1gh50-9_2019-02-19_23'),\n",
    "         (\"traces/1gh70-7/\", 'grid_1gh70-7_2019-02-19_23'),\n",
    "         (\"traces/1gh70-9/\", 'grid_1gh70-9_2019-02-19_23')\n",
    "        ]\n",
    "\n",
    "stats = None\n",
    "win_25_stats = None\n",
    "win_50_stats = None\n",
    "win_100_stats = None\n",
    "\n",
    "for row in plots:\n",
    "    label = 'Normal'\n",
    "    experiment = row[0].split('/')[1]\n",
    "    \n",
    "    # Assign a label\n",
    "    if row[0].find('gh') >= 0:\n",
    "        label = 'Gray Hole'\n",
    "    elif row[0].find('bh') >= 0:\n",
    "        label = 'Black Hole'\n",
    "    nodes, packets_node = trace_analysis.process_cooja2_traces(row[0], row[1])\n",
    "    \n",
    "    # Update stats\n",
    "    if stats is None:\n",
    "        stats = trace_statistics.compute_labeled_statistics(nodes, packets_node, label, experiment)\n",
    "        win_25_stats = trace_statistics.compute_window_labeled_statistics(nodes, packets_node, label, experiment, 25)\n",
    "        win_50_stats = trace_statistics.compute_window_labeled_statistics(nodes, packets_node, label, experiment, 50)\n",
    "        win_100_stats = trace_statistics.compute_window_labeled_statistics(nodes, packets_node, label, experiment, 100)\n",
    "    else:\n",
    "        stats = pd.concat([stats, trace_statistics.compute_labeled_statistics(nodes, packets_node, label, experiment)])\n",
    "        win_25_stats = pd.concat([win_25_stats, trace_statistics.compute_window_labeled_statistics(nodes, packets_node, label, experiment, 25)])\n",
    "        win_50_stats = pd.concat([win_50_stats, trace_statistics.compute_window_labeled_statistics(nodes, packets_node, label, experiment, 50)])\n",
    "        win_100_stats = pd.concat([win_100_stats, trace_statistics.compute_window_labeled_statistics(nodes, packets_node, label, experiment, 100)])\n",
    "        \n",
    "stats = stats.reset_index(drop=True)\n",
    "win_25_stats = win_25_stats.reset_index(drop=True)\n",
    "win_50_stats = win_50_stats.reset_index(drop=True)\n",
    "win_100_stats = win_100_stats.reset_index(drop=True)\n",
    "\n",
    "# Create a dictionary containing all the statistics for each trace size\n",
    "trace_stats = {200: stats, 25: win_25_stats, 50: win_50_stats, 100: win_100_stats}\n",
    "stats.head(5)"
   ]
  },
  {
   "cell_type": "markdown",
   "metadata": {},
   "source": [
    "Select the set of features and labels that we use to fit the algorithm"
   ]
  },
  {
   "cell_type": "code",
   "execution_count": 3,
   "metadata": {},
   "outputs": [
    {
     "name": "stdout",
     "output_type": "stream",
     "text": [
      "Targets: {'Black Hole', 'Gray Hole', 'Normal'}\n"
     ]
    }
   ],
   "source": [
    "# separate features from target values\n",
    "features = stats.drop(columns=['node_id', 'experiment', 'label'])\n",
    "target = stats['label'].values\n",
    "print('Targets: ' + str(set(target)))\n",
    "\n",
    "# split dataset into train and test data\n",
    "X_train, X_test, y_train, y_test = train_test_split(features, target, test_size=0.3, random_state=1)"
   ]
  },
  {
   "cell_type": "markdown",
   "metadata": {},
   "source": [
    "# K-Nearest Neighbor (KNN) Classification\n",
    "\n",
    "Let us first observe the accuracies for different values of k"
   ]
  },
  {
   "cell_type": "code",
   "execution_count": 25,
   "metadata": {},
   "outputs": [
    {
     "data": {
      "image/png": "[encoded data removed]",
      "text/plain": [
       "<Figure size 432x288 with 1 Axes>"
      ]
     },
     "metadata": {
      "needs_background": "light"
     },
     "output_type": "display_data"
    }
   ],
   "source": [
    "trace_analysis.knn_test_number_of_neighbors(X_train, X_test, y_train, y_test)"
   ]
  },
  {
   "cell_type": "markdown",
   "metadata": {},
   "source": [
    "Let's build KNN classifier "
   ]
  },
  {
   "cell_type": "code",
   "execution_count": 26,
   "metadata": {},
   "outputs": [
    {
     "name": "stdout",
     "output_type": "stream",
     "text": [
      "Accuracy: 0.6190476190476191\n",
      "\n",
      "\n",
      "               precision    recall  f1-score   support\n",
      "\n",
      "  Black Hole       0.00      0.00      0.00        12\n",
      "   Gray Hole       0.62      1.00      0.76        26\n",
      "      Normal       0.00      0.00      0.00         4\n",
      "\n",
      "   micro avg       0.62      0.62      0.62        42\n",
      "   macro avg       0.21      0.33      0.25        42\n",
      "weighted avg       0.38      0.62      0.47        42\n",
      "\n"
     ]
    },
    {
     "name": "stderr",
     "output_type": "stream",
     "text": [
      "/Library/Frameworks/Python.framework/Versions/3.6/lib/python3.6/site-packages/sklearn/metrics/classification.py:1143: UndefinedMetricWarning: Precision and F-score are ill-defined and being set to 0.0 in labels with no predicted samples.\n",
      "  'precision', 'predicted', average, warn_for)\n"
     ]
    }
   ],
   "source": [
    "#Create KNN Classifier\n",
    "knn_clf = KNeighborsClassifier(n_neighbors=15)\n",
    "\n",
    "#Train the model using the training sets\n",
    "knn_clf.fit(X_train, y_train)\n",
    "\n",
    "#Predict the response for test dataset\n",
    "y_pred = knn_clf.predict(X_test)\n",
    "\n",
    "print(\"Accuracy:\",metrics.accuracy_score(y_test, y_pred))\n",
    "\n",
    "print(\"\\n\\n\",classification_report(y_test,y_pred))\n"
   ]
  },
  {
   "cell_type": "markdown",
   "metadata": {},
   "source": [
    "We want to compute average accuracy for each trace size (i.e. for each window size from 200 - the entire window - to 100, 50 and 25)"
   ]
  },
  {
   "cell_type": "code",
   "execution_count": 12,
   "metadata": {},
   "outputs": [
    {
     "name": "stdout",
     "output_type": "stream",
     "text": [
      "Computing trace 200\n",
      "Computing trace 25\n",
      "Computing trace 50\n",
      "Computing trace 100\n"
     ]
    }
   ],
   "source": [
    "cv_results = None\n",
    "\n",
    "# Select the set of features and labels that we use to fit the algorithm\n",
    "for trace_size in trace_stats:\n",
    "    print('Computing trace {}'.format(trace_size))\n",
    "    trace = trace_stats[trace_size]\n",
    "    # separate features from target values\n",
    "    features = trace.drop(columns=['node_id', 'experiment', 'label'])\n",
    "    target = trace['label'].values\n",
    "    \n",
    "    # split dataset into train and test data\n",
    "    X_train, X_test, y_train, y_test = train_test_split(features, target, test_size=0.3, random_state=1)\n",
    "    \n",
    "    #Create KNN Classifier\n",
    "    knn_clf = KNeighborsClassifier(n_neighbors=15)\n",
    "    \n",
    "    #train model with cv of 5\n",
    "    cv_scores = cross_val_score(knn_clf, features, target, cv = 5)\n",
    "    \n",
    "    if cv_results is None:\n",
    "        cv_results = pd.DataFrame({'Model': ['KNN'], \n",
    "                                   'Window Size': [trace_size], \n",
    "                                   'Mean Accuracy': [np.mean(cv_scores)]})\n",
    "    else:\n",
    "        cv_results = pd.concat([cv_results, pd.DataFrame({'Model': ['KNN'], \n",
    "                                             'Window Size': [trace_size], \n",
    "                                             'Mean Accuracy': [np.mean(cv_scores)]})])"
   ]
  },
  {
   "cell_type": "markdown",
   "metadata": {},
   "source": [
    "# Support Vector Machines (SVM) Classification\n",
    "\n",
    "Let us experiment with another classifier"
   ]
  },
  {
   "cell_type": "code",
   "execution_count": 13,
   "metadata": {},
   "outputs": [
    {
     "name": "stdout",
     "output_type": "stream",
     "text": [
      "Accuracy: 0.6666666666666666\n",
      "\n",
      "\n",
      "               precision    recall  f1-score   support\n",
      "\n",
      "  Black Hole       0.62      0.42      0.50        12\n",
      "   Gray Hole       0.68      0.88      0.77        26\n",
      "      Normal       0.00      0.00      0.00         4\n",
      "\n",
      "   micro avg       0.67      0.67      0.67        42\n",
      "   macro avg       0.43      0.43      0.42        42\n",
      "weighted avg       0.60      0.67      0.62        42\n",
      "\n"
     ]
    },
    {
     "name": "stderr",
     "output_type": "stream",
     "text": [
      "/Library/Frameworks/Python.framework/Versions/3.6/lib/python3.6/site-packages/sklearn/metrics/classification.py:1143: UndefinedMetricWarning: Precision and F-score are ill-defined and being set to 0.0 in labels with no predicted samples.\n",
      "  'precision', 'predicted', average, warn_for)\n"
     ]
    }
   ],
   "source": [
    "#Create a svm Classifier\n",
    "svm_clf = svm.SVC(kernel='linear', random_state=9, gamma='scale') # Linear Kernel\n",
    "\n",
    "#Train the model using the training sets\n",
    "svm_clf.fit(X_train, y_train)\n",
    "\n",
    "#Predict the response for test dataset\n",
    "y_pred = svm_clf.predict(X_test)\n",
    "\n",
    "print(\"Accuracy:\",metrics.accuracy_score(y_test, y_pred))\n",
    "\n",
    "print(\"\\n\\n\",classification_report(y_test,y_pred))"
   ]
  },
  {
   "cell_type": "markdown",
   "metadata": {},
   "source": [
    "We want to compute average accuracy for each trace size (i.e. for each window size from 200 - the entire window - to 100, 50 and 25)"
   ]
  },
  {
   "cell_type": "code",
   "execution_count": 14,
   "metadata": {
    "scrolled": true
   },
   "outputs": [
    {
     "name": "stdout",
     "output_type": "stream",
     "text": [
      "Computing trace 200\n",
      "Computing trace 25\n",
      "Computing trace 50\n",
      "Computing trace 100\n"
     ]
    }
   ],
   "source": [
    "# Select the set of features and labels that we use to fit the algorithm\n",
    "for trace_size in trace_stats:\n",
    "    print('Computing trace {}'.format(trace_size))\n",
    "    trace = trace_stats[trace_size]\n",
    "    # separate features from target values\n",
    "    features = trace.drop(columns=['node_id', 'experiment', 'label'])\n",
    "    target = trace['label'].values\n",
    "    \n",
    "    # split dataset into train and test data\n",
    "    X_train, X_test, y_train, y_test = train_test_split(features, target, test_size=0.3, random_state=1)\n",
    "    \n",
    "    #Create SVM Classifier\n",
    "    svm_clf = svm.SVC(kernel='linear', random_state=9, gamma='scale') # Linear Kernel\n",
    "    \n",
    "    #train model with cv of 5\n",
    "    cv_scores = cross_val_score(svm_clf, features, target, cv = 5)\n",
    "    \n",
    "    if cv_results is None:\n",
    "        cv_results = pd.DataFrame({'Model': ['SVM'], \n",
    "                                   'Window Size': [trace_size], \n",
    "                                   'Mean Accuracy': [np.mean(cv_scores)]})\n",
    "    else:\n",
    "        cv_results = pd.concat([cv_results, pd.DataFrame({'Model': ['SVM'], \n",
    "                                             'Window Size': [trace_size], \n",
    "                                             'Mean Accuracy': [np.mean(cv_scores)]})])"
   ]
  },
  {
   "cell_type": "markdown",
   "metadata": {},
   "source": [
    "# Random Forests Classifier\n",
    "\n",
    "Let us experiment with random forests. First, let us select most relevant features."
   ]
  },
  {
   "cell_type": "code",
   "execution_count": 15,
   "metadata": {},
   "outputs": [
    {
     "name": "stderr",
     "output_type": "stream",
     "text": [
      "No handles with labels found to put in legend.\n"
     ]
    },
    {
     "data": {
      "image/png": "[encoded data removed]",
      "text/plain": [
       "<Figure size 432x288 with 1 Axes>"
      ]
     },
     "metadata": {
      "needs_background": "light"
     },
     "output_type": "display_data"
    }
   ],
   "source": [
    "trace_analysis.random_forests_features_selection(X_train, X_test, y_train, y_test, features)"
   ]
  },
  {
   "cell_type": "markdown",
   "metadata": {},
   "source": [
    "Select relevant features"
   ]
  },
  {
   "cell_type": "code",
   "execution_count": 16,
   "metadata": {},
   "outputs": [
    {
     "name": "stdout",
     "output_type": "stream",
     "text": [
      "Targets: {'Gray Hole', 'Black Hole', 'Normal'}\n"
     ]
    }
   ],
   "source": [
    "# separate features from target values\n",
    "features = stats.drop(columns=['node_id', 'experiment', 'label', 'hop'])\n",
    "target = stats['label'].values\n",
    "print('Targets: ' + str(set(target)))\n",
    "\n",
    "# split dataset into train and test data\n",
    "X_train, X_test, y_train, y_test = train_test_split(features, target, test_size=0.3, random_state=1)"
   ]
  },
  {
   "cell_type": "markdown",
   "metadata": {},
   "source": [
    "Predicted values"
   ]
  },
  {
   "cell_type": "code",
   "execution_count": 17,
   "metadata": {},
   "outputs": [
    {
     "name": "stdout",
     "output_type": "stream",
     "text": [
      "Accuracy: 0.5952380952380952\n",
      "\n",
      "\n",
      "               precision    recall  f1-score   support\n",
      "\n",
      "  Black Hole       0.00      0.00      0.00        12\n",
      "   Gray Hole       0.61      0.96      0.75        26\n",
      "      Normal       0.00      0.00      0.00         4\n",
      "\n",
      "   micro avg       0.60      0.60      0.60        42\n",
      "   macro avg       0.20      0.32      0.25        42\n",
      "weighted avg       0.38      0.60      0.46        42\n",
      "\n"
     ]
    },
    {
     "name": "stderr",
     "output_type": "stream",
     "text": [
      "/Library/Frameworks/Python.framework/Versions/3.6/lib/python3.6/site-packages/sklearn/metrics/classification.py:1143: UndefinedMetricWarning: Precision and F-score are ill-defined and being set to 0.0 in labels with no predicted samples.\n",
      "  'precision', 'predicted', average, warn_for)\n"
     ]
    }
   ],
   "source": [
    "#Create a Gaussian Classifier\n",
    "rf_clf = RandomForestClassifier(n_estimators=100)\n",
    "\n",
    "#Train the model using the training sets y_pred=clf.predict(X_test)\n",
    "rf_clf.fit(X_train,y_train)\n",
    "\n",
    "y_pred = rf_clf.predict(X_test)\n",
    "\n",
    "\n",
    "print(\"Accuracy:\",metrics.accuracy_score(y_test, y_pred))\n",
    "\n",
    "print(\"\\n\\n\",classification_report(y_test,y_pred))"
   ]
  },
  {
   "cell_type": "markdown",
   "metadata": {},
   "source": [
    "We want to compute average accuracy for each trace size (i.e. for each window size from 200 - the entire window - to 100, 50 and 25)"
   ]
  },
  {
   "cell_type": "code",
   "execution_count": 16,
   "metadata": {},
   "outputs": [
    {
     "name": "stdout",
     "output_type": "stream",
     "text": [
      "Computing trace 200\n",
      "Targets: {'Black Hole', 'Gray Hole', 'Normal'}\n",
      "Computing trace 25\n",
      "Targets: {'Black Hole', 'Gray Hole', 'Normal'}\n",
      "Computing trace 50\n",
      "Targets: {'Black Hole', 'Gray Hole', 'Normal'}\n",
      "Computing trace 100\n",
      "Targets: {'Black Hole', 'Gray Hole', 'Normal'}\n"
     ]
    }
   ],
   "source": [
    "# Select the set of features and labels that we use to fit the algorithm\n",
    "for trace_size in trace_stats:\n",
    "    print('Computing trace {}'.format(trace_size))\n",
    "    trace = trace_stats[trace_size]\n",
    "    # separate features from target values\n",
    "    features = trace.drop(columns=['node_id', 'experiment', 'label', 'hop'])\n",
    "    target = trace['label'].values\n",
    "    print('Targets: ' + str(set(target)))\n",
    "\n",
    "    # split dataset into train and test data\n",
    "    X_train, X_test, y_train, y_test = train_test_split(features, target, test_size=0.3, random_state=1)\n",
    "    \n",
    "    #Create Random Forest Classifier\n",
    "    rf_clf = RandomForestClassifier(n_estimators=100)\n",
    "    \n",
    "    #train model with cv of 5\n",
    "    cv_scores = cross_val_score(rf_clf, features, target, cv = 5)\n",
    "    \n",
    "    if cv_results is None:\n",
    "        cv_results = pd.DataFrame({'Model': ['Random Forest'], \n",
    "                                   'Window Size': [trace_size], \n",
    "                                   'Mean Accuracy': [np.mean(cv_scores)]})\n",
    "    else:\n",
    "        cv_results = pd.concat([cv_results, pd.DataFrame({'Model': ['Random Forest'], \n",
    "                                             'Window Size': [trace_size], \n",
    "                                             'Mean Accuracy': [np.mean(cv_scores)]})])"
   ]
  },
  {
   "cell_type": "markdown",
   "metadata": {},
   "source": [
    "# Results\n",
    "\n",
    "Here we plot the average results for each model"
   ]
  },
  {
   "cell_type": "code",
   "execution_count": 31,
   "metadata": {},
   "outputs": [
    {
     "data": {
      "text/html": [
       "<div>\n",
       "<style scoped>\n",
       "    .dataframe tbody tr th:only-of-type {\n",
       "        vertical-align: middle;\n",
       "    }\n",
       "\n",
       "    .dataframe tbody tr th {\n",
       "        vertical-align: top;\n",
       "    }\n",
       "\n",
       "    .dataframe thead th {\n",
       "        text-align: right;\n",
       "    }\n",
       "</style>\n",
       "<table border=\"1\" class=\"dataframe\">\n",
       "  <thead>\n",
       "    <tr style=\"text-align: right;\">\n",
       "      <th></th>\n",
       "      <th>Model</th>\n",
       "      <th>Window Size</th>\n",
       "      <th>Mean Accuracy</th>\n",
       "    </tr>\n",
       "  </thead>\n",
       "  <tbody>\n",
       "    <tr>\n",
       "      <th>0</th>\n",
       "      <td>KNN</td>\n",
       "      <td>200</td>\n",
       "      <td>0.576720</td>\n",
       "    </tr>\n",
       "    <tr>\n",
       "      <th>1</th>\n",
       "      <td>KNN</td>\n",
       "      <td>25</td>\n",
       "      <td>0.631953</td>\n",
       "    </tr>\n",
       "    <tr>\n",
       "      <th>2</th>\n",
       "      <td>KNN</td>\n",
       "      <td>50</td>\n",
       "      <td>0.621253</td>\n",
       "    </tr>\n",
       "    <tr>\n",
       "      <th>3</th>\n",
       "      <td>KNN</td>\n",
       "      <td>100</td>\n",
       "      <td>0.631789</td>\n",
       "    </tr>\n",
       "    <tr>\n",
       "      <th>4</th>\n",
       "      <td>SVM</td>\n",
       "      <td>200</td>\n",
       "      <td>0.622646</td>\n",
       "    </tr>\n",
       "    <tr>\n",
       "      <th>5</th>\n",
       "      <td>SVM</td>\n",
       "      <td>25</td>\n",
       "      <td>0.590432</td>\n",
       "    </tr>\n",
       "    <tr>\n",
       "      <th>6</th>\n",
       "      <td>SVM</td>\n",
       "      <td>50</td>\n",
       "      <td>0.601763</td>\n",
       "    </tr>\n",
       "    <tr>\n",
       "      <th>7</th>\n",
       "      <td>SVM</td>\n",
       "      <td>100</td>\n",
       "      <td>0.597560</td>\n",
       "    </tr>\n",
       "    <tr>\n",
       "      <th>8</th>\n",
       "      <td>Random Forest</td>\n",
       "      <td>200</td>\n",
       "      <td>0.497725</td>\n",
       "    </tr>\n",
       "    <tr>\n",
       "      <th>9</th>\n",
       "      <td>Random Forest</td>\n",
       "      <td>25</td>\n",
       "      <td>0.596201</td>\n",
       "    </tr>\n",
       "    <tr>\n",
       "      <th>10</th>\n",
       "      <td>Random Forest</td>\n",
       "      <td>50</td>\n",
       "      <td>0.559802</td>\n",
       "    </tr>\n",
       "    <tr>\n",
       "      <th>11</th>\n",
       "      <td>Random Forest</td>\n",
       "      <td>100</td>\n",
       "      <td>0.545642</td>\n",
       "    </tr>\n",
       "  </tbody>\n",
       "</table>\n",
       "</div>"
      ],
      "text/plain": [
       "            Model  Window Size  Mean Accuracy\n",
       "0             KNN          200       0.576720\n",
       "1             KNN           25       0.631953\n",
       "2             KNN           50       0.621253\n",
       "3             KNN          100       0.631789\n",
       "4             SVM          200       0.622646\n",
       "5             SVM           25       0.590432\n",
       "6             SVM           50       0.601763\n",
       "7             SVM          100       0.597560\n",
       "8   Random Forest          200       0.497725\n",
       "9   Random Forest           25       0.596201\n",
       "10  Random Forest           50       0.559802\n",
       "11  Random Forest          100       0.545642"
      ]
     },
     "execution_count": 31,
     "metadata": {},
     "output_type": "execute_result"
    }
   ],
   "source": [
    "cv_results.reset_index(drop=True)"
   ]
  },
  {
   "cell_type": "code",
   "execution_count": null,
   "metadata": {},
   "outputs": [],
   "source": []
  }
 ],
 "metadata": {
  "kernelspec": {
   "display_name": "Python 3",
   "language": "python",
   "name": "python3"
  },
  "language_info": {
   "codemirror_mode": {
    "name": "ipython",
    "version": 3
   },
   "file_extension": ".py",
   "mimetype": "text/x-python",
   "name": "python",
   "nbconvert_exporter": "python",
   "pygments_lexer": "ipython3",
   "version": "3.6.5"
  }
 },
 "nbformat": 4,
 "nbformat_minor": 2
}
