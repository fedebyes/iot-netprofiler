{
 "cells": [
  {
   "cell_type": "code",
   "execution_count": null,
   "metadata": {},
   "outputs": [],
   "source": [
    "\n",
    "def dict2df(dict):\n",
    "    dfList=[]\n",
    "    bigdata=pd.DataFrame()\n",
    "    for key in testNom.keys():\n",
    "        df=pd.DataFrame(testNom[key]['pkts'])\n",
    "        df['ip']=key\n",
    "        #dfList.append(df)\n",
    "        #print(df)\n",
    "        bigdata=bigdata.append(df,ignore_index=True)\n",
    "\n",
    "    return bigdata\n",
    "        "
   ]
  }
 ],
 "metadata": {
  "kernelspec": {
   "display_name": "Python 3",
   "language": "python",
   "name": "python3"
  },
  "language_info": {
   "codemirror_mode": {
    "name": "ipython",
    "version": 3
   },
   "file_extension": ".py",
   "mimetype": "text/x-python",
   "name": "python",
   "nbconvert_exporter": "python",
   "pygments_lexer": "ipython3",
   "version": "3.7.2"
  }
 },
 "nbformat": 4,
 "nbformat_minor": 2
}
