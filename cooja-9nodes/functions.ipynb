{
 "cells": [
  {
   "cell_type": "markdown",
   "metadata": {},
   "source": [
    "Parsing json data \n",
    "CoojaJsonImporter(dir) imports jsons from the dir in a list\n",
    "dict2df(dict) imports one json and return a df \n",
    "dict2df_list(dict) import one json and return a list of df"
   ]
  },
  {
   "cell_type": "code",
   "execution_count": 1,
   "metadata": {},
   "outputs": [],
   "source": [
    "import os\n",
    "import pandas as pd\n",
    "import numpy as np\n",
    "import json\n",
    "\n",
    "def coojaJsonImporter(dir):\n",
    "        \n",
    "        dataList=[]\n",
    "\n",
    "        for file in os.listdir(dir):\n",
    "            print(\"Importing \"+ file)\n",
    "            with open(dir+\"/\" + file, 'r') as f:\n",
    "\n",
    "                dataList.append(json.load(f))\n",
    "\n",
    "        return dataList\n",
    "\n",
    "def dict2df(dict):\n",
    "    dfList=[]\n",
    "    bigdata=pd.DataFrame()\n",
    "    for key in dict.keys():\n",
    "        df=pd.DataFrame(dict[key]['pkts'])\n",
    "        df['ip']=key\n",
    "        #dfList.append(df)\n",
    "        #print(df)\n",
    "        bigdata=bigdata.append(df,ignore_index=True)\n",
    "\n",
    "    return bigdata\n",
    "        \n",
    "def dict2df_list(dict):\n",
    "    dfList=[]\n",
    "    \n",
    "    for key in dict.keys():\n",
    "        df=pd.DataFrame(dict[key]['pkts'])\n",
    "        df['ip']=key\n",
    "        dfList.append(df)\n",
    "        #print(df)\n",
    "    return dfList\n",
    "    \n",
    "    "
   ]
  },
  {
   "cell_type": "code",
   "execution_count": null,
   "metadata": {},
   "outputs": [],
   "source": []
  }
 ],
 "metadata": {
  "kernelspec": {
   "display_name": "Python 3",
   "language": "python",
   "name": "python3"
  },
  "language_info": {
   "codemirror_mode": {
    "name": "ipython",
    "version": 3
   },
   "file_extension": ".py",
   "mimetype": "text/x-python",
   "name": "python",
   "nbconvert_exporter": "python",
   "pygments_lexer": "ipython3",
   "version": "3.7.2"
  }
 },
 "nbformat": 4,
 "nbformat_minor": 2
}
