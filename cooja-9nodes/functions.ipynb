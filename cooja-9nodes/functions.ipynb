{
 "cells": [
  {
   "cell_type": "markdown",
   "metadata": {},
   "source": [
    "Importing and Creating a function to Import data  "
   ]
  },
  {
   "cell_type": "code",
   "execution_count": 22,
   "metadata": {},
   "outputs": [],
   "source": [
    "def coojaJsonImporter(dir):\n",
    "\n",
    "        dataList=[]\n",
    "\n",
    "        for file in os.listdir(dir):\n",
    "            print(\"Importing \"+ file)\n",
    "            with open(dir+\"/\" + file, 'r') as f:\n",
    "\n",
    "                dataList.append(json.load(f))\n",
    "\n",
    "        return dataList\n",
    "\n",
    "def dict2df(dict):\n",
    "    dfList=[]\n",
    "    bigdata=pd.DataFrame()\n",
    "    for key in testNom.keys():\n",
    "        df=pd.DataFrame(testNom[key]['pkts'])\n",
    "        df['ip']=key\n",
    "        #dfList.append(df)\n",
    "        #print(df)\n",
    "        bigdata=bigdata.append(df,ignore_index=True)\n",
    "\n",
    "    return bigdata\n",
    "        \n",
    "def dict2df_list(dict):\n",
    "    dfList=[]\n",
    "    \n",
    "    for key in testNom.keys():\n",
    "        df=pd.DataFrame(testNom[key]['pkts'])\n",
    "        df['ip']=key\n",
    "        dfList.append(df)\n",
    "        #print(df)\n",
    "    return dfList\n",
    "    \n",
    "    "
   ]
  },
  {
   "cell_type": "code",
   "execution_count": 14,
   "metadata": {},
   "outputs": [],
   "source": [
    "\n",
    "\n"
   ]
  },
  {
   "cell_type": "code",
   "execution_count": 10,
   "metadata": {},
   "outputs": [
    {
     "name": "stdout",
     "output_type": "stream",
     "text": [
      "./traces\n",
      "Importing test_1BH_2018-11-09_12_31_25.json\n",
      "Importing test_1BH_2018-11-09_14_37_46.json\n",
      "Importing test_nom_2018-11-09_08_55_11.json\n"
     ]
    }
   ],
   "source": []
  }
 ],
 "metadata": {
  "kernelspec": {
   "display_name": "Python 3",
   "language": "python",
   "name": "python3"
  },
  "language_info": {
   "codemirror_mode": {
    "name": "ipython",
    "version": 3
   },
   "file_extension": ".py",
   "mimetype": "text/x-python",
   "name": "python",
   "nbconvert_exporter": "python",
   "pygments_lexer": "ipython3",
   "version": "3.7.2"
  }
 },
 "nbformat": 4,
 "nbformat_minor": 2
}
