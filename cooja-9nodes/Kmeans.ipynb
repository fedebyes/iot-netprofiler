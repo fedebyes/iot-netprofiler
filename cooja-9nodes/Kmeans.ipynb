{
 "cells": [
  {
   "cell_type": "code",
   "execution_count": 5,
   "metadata": {},
   "outputs": [],
   "source": [
    "#\"Decomment for install\"\n",
    "#!pip install kmeans\n",
    "#!pip install seaborn"
   ]
  },
  {
   "cell_type": "code",
   "execution_count": 87,
   "metadata": {},
   "outputs": [],
   "source": [
    "#Modules to install via pip pandas,ipynb\n",
    "import pandas as pd\n",
    "import numpy as np\n",
    "import matplotlib.pyplot as plt\n",
    "import json\n",
    "from pprint import pprint\n",
    "import os\n",
    "import import_ipynb\n",
    "import sys\n",
    "import kmeans\n",
    "sys.path.append('../')\n",
    "from functions import *\n",
    "from pandas.plotting import scatter_matrix\n",
    "import cmath as math\n",
    "from mpl_toolkits.mplot3d import Axes3D\n",
    "from sklearn import cluster\n",
    "from sklearn.metrics import confusion_matrix\n",
    "from sklearn.metrics.cluster import normalized_mutual_info_score\n",
    "from sklearn.metrics.cluster import adjusted_rand_score\n",
    "from sklearn.cluster import KMeans\n",
    "# scipy\n",
    "from scipy.cluster.vq import kmeans,vq,whiten\n",
    "import sklearn.metrics as sm\n",
    "import seaborn as sns\n",
    "from sklearn.decomposition import PCA\n",
    "%matplotlib inline"
   ]
  },
  {
   "cell_type": "code",
   "execution_count": null,
   "metadata": {},
   "outputs": [],
   "source": []
  },
  {
   "cell_type": "code",
   "execution_count": 150,
   "metadata": {
    "scrolled": true
   },
   "outputs": [
    {
     "name": "stdout",
     "output_type": "stream",
     "text": [
      "Importing test_1BH_2018-11-09_12_31_25.json\n",
      "Importing test_1BH_2018-11-09_14_37_46.json\n",
      "Importing test_nom_2018-11-09_08_55_11.json\n",
      "13\n",
      "[0 0 0 0 2 0 0 0 0 0 0 0 0 2 0 0 0 0 1 1 1 1 1 1 1 1 1]\n"
     ]
    },
    {
     "data": {
      "text/html": [
       "<div>\n",
       "<style scoped>\n",
       "    .dataframe tbody tr th:only-of-type {\n",
       "        vertical-align: middle;\n",
       "    }\n",
       "\n",
       "    .dataframe tbody tr th {\n",
       "        vertical-align: top;\n",
       "    }\n",
       "\n",
       "    .dataframe thead th {\n",
       "        text-align: right;\n",
       "    }\n",
       "</style>\n",
       "<table border=\"1\" class=\"dataframe\">\n",
       "  <thead>\n",
       "    <tr style=\"text-align: right;\">\n",
       "      <th></th>\n",
       "      <th>label</th>\n",
       "      <th>count</th>\n",
       "      <th>std</th>\n",
       "      <th>mean</th>\n",
       "      <th>var</th>\n",
       "      <th>25%</th>\n",
       "      <th>50%</th>\n",
       "      <th>75%</th>\n",
       "      <th>min</th>\n",
       "      <th>max</th>\n",
       "    </tr>\n",
       "  </thead>\n",
       "  <tbody>\n",
       "    <tr>\n",
       "      <th>0</th>\n",
       "      <td>BH1</td>\n",
       "      <td>98</td>\n",
       "      <td>1403.775442</td>\n",
       "      <td>1868.816327</td>\n",
       "      <td>1.970585e+06</td>\n",
       "      <td>1035.75</td>\n",
       "      <td>1404.5</td>\n",
       "      <td>1883.75</td>\n",
       "      <td>498.0</td>\n",
       "      <td>8170.0</td>\n",
       "    </tr>\n",
       "    <tr>\n",
       "      <th>1</th>\n",
       "      <td>BH1</td>\n",
       "      <td>99</td>\n",
       "      <td>1812.662114</td>\n",
       "      <td>2139.282828</td>\n",
       "      <td>3.285744e+06</td>\n",
       "      <td>1094.00</td>\n",
       "      <td>1430.0</td>\n",
       "      <td>2435.50</td>\n",
       "      <td>615.0</td>\n",
       "      <td>9112.0</td>\n",
       "    </tr>\n",
       "    <tr>\n",
       "      <th>2</th>\n",
       "      <td>BH1</td>\n",
       "      <td>91</td>\n",
       "      <td>1873.889033</td>\n",
       "      <td>3916.604396</td>\n",
       "      <td>3.511460e+06</td>\n",
       "      <td>2471.00</td>\n",
       "      <td>3067.0</td>\n",
       "      <td>4722.00</td>\n",
       "      <td>1236.0</td>\n",
       "      <td>9972.0</td>\n",
       "    </tr>\n",
       "    <tr>\n",
       "      <th>3</th>\n",
       "      <td>BH1</td>\n",
       "      <td>97</td>\n",
       "      <td>1308.893667</td>\n",
       "      <td>1815.742268</td>\n",
       "      <td>1.713203e+06</td>\n",
       "      <td>1035.00</td>\n",
       "      <td>1313.0</td>\n",
       "      <td>2029.00</td>\n",
       "      <td>258.0</td>\n",
       "      <td>6985.0</td>\n",
       "    </tr>\n",
       "    <tr>\n",
       "      <th>4</th>\n",
       "      <td>BH1</td>\n",
       "      <td>25</td>\n",
       "      <td>2220.932875</td>\n",
       "      <td>4667.000000</td>\n",
       "      <td>4.932543e+06</td>\n",
       "      <td>3024.00</td>\n",
       "      <td>3943.0</td>\n",
       "      <td>6051.00</td>\n",
       "      <td>2004.0</td>\n",
       "      <td>9803.0</td>\n",
       "    </tr>\n",
       "  </tbody>\n",
       "</table>\n",
       "</div>"
      ],
      "text/plain": [
       "  label  count          std         mean           var      25%     50%  \\\n",
       "0   BH1     98  1403.775442  1868.816327  1.970585e+06  1035.75  1404.5   \n",
       "1   BH1     99  1812.662114  2139.282828  3.285744e+06  1094.00  1430.0   \n",
       "2   BH1     91  1873.889033  3916.604396  3.511460e+06  2471.00  3067.0   \n",
       "3   BH1     97  1308.893667  1815.742268  1.713203e+06  1035.00  1313.0   \n",
       "4   BH1     25  2220.932875  4667.000000  4.932543e+06  3024.00  3943.0   \n",
       "\n",
       "       75%     min     max  \n",
       "0  1883.75   498.0  8170.0  \n",
       "1  2435.50   615.0  9112.0  \n",
       "2  4722.00  1236.0  9972.0  \n",
       "3  2029.00   258.0  6985.0  \n",
       "4  6051.00  2004.0  9803.0  "
      ]
     },
     "execution_count": 150,
     "metadata": {},
     "output_type": "execute_result"
    }
   ],
   "source": [
    "dataList=coojaJsonImporter(\"./traces\")\n",
    "data=[]\n",
    "cases=[\n",
    "      \"BH1\",\n",
    "        \"BH2\",\n",
    "    \"normal\"\n",
    "      ]\n",
    "\n",
    "BlackHole=[-1,4,5+8]\n",
    "for nodeList in dataList:\n",
    "    data.append(createNodes(nodeList))\n",
    "\n",
    "nodeListNorm=createNodes(testNorm)\n",
    "nodeListBH1=createNodes(test1BH1)\n",
    "nodeListBH2=createNodes(test1BH2)\n",
    "#All data collection is in variable node that is a list of list of nodes\n",
    "#3 nets input x 9 nodes by net\n",
    "data[0][0].pkts[1:5] \n",
    "columns=[\n",
    "    \"count\",\n",
    "    \"label\"\n",
    "]\n",
    "d={ \"label\":[],\n",
    "    \"count\":[],\n",
    "    \"std\":  [],\n",
    "    \"mean\": [],\n",
    "    \"var\":  [],\n",
    "    \"25%\":  [],\n",
    "   \"50%\":[],\n",
    "   \"75%\":[],\n",
    "   \"min\":[],\n",
    "   \"max\":[]\n",
    "   #\"rtt/pkt\":[]\n",
    "}\n",
    "count=[]\n",
    "labels=[]\n",
    "var=[]\n",
    "#stats=pd.DataFrame(columns=columns)\n",
    "rows=[count,labels]\n",
    "for i in range(len(data)):\n",
    "    for j in range(len(data[i])):\n",
    "            #df1 = df1.assign(e=p.Series(np.random.randn(sLength)).values)\n",
    "            node=data[i][j]\n",
    "            name=str(j)+\" \"+cases[i]\n",
    "            #print(name)\n",
    "            #print(node.pkts['pkt'].count())\n",
    "            #stats[\"count\"]=node.pkts['pkt'].count()\n",
    "            d[\"count\"].append(data[i][j].pkts['rtt'].count())\n",
    "            d[\"std\"].append(data[i][j].pkts['rtt'].std())\n",
    "            d[\"mean\"].append(data[i][j].pkts['rtt'].mean())\n",
    "            d[\"var\"].append(data[i][j].pkts['rtt'].var())\n",
    "            d[\"label\"].append(cases[i])\n",
    "            d[\"25%\"].append(data[i][j].pkts['rtt'].describe()[\"25%\"])\n",
    "            d[\"50%\"].append(data[i][j].pkts['rtt'].describe()[\"50%\"])\n",
    "            d[\"75%\"].append(data[i][j].pkts['rtt'].describe()[\"75%\"])\n",
    "            d[\"min\"].append(data[i][j].pkts['rtt'].describe()[\"min\"])\n",
    "            d[\"max\"].append(data[i][j].pkts['rtt'].describe()[\"max\"])\n",
    "            ## d[\"max\"].append(data[i][j].pkts['rtt']\n",
    "            #var.append(data[i][j].pkts['pkt'].var())\n",
    "            #stats[name]\n",
    "            #stats= stats.assign(ip=pd.Series(node.pkts['pkt'].describe()).values)\n",
    "            #stats.append(node.pkts['pkt'].describe())\n",
    "\n",
    "            \n",
    "            \n",
    "stats=pd.DataFrame(d)            \n",
    "\n",
    "stats\n",
    "correction=[]\n",
    "correction2=[] #for 3 cluster 0:normal net 1:bh net 2:bh\n",
    "correction3=[] #for 3 cluster 0:normal net 1:bh net 2:bh net\n",
    "for i in range(len(d[\"label\"])):\n",
    "    el=d[\"label\"][i]\n",
    "    if el==\"normal\":\n",
    "        correction.append(1)\n",
    "        correction2.append(1)\n",
    "        \n",
    "    else:\n",
    "        #print(el==\"BH2\" and i==BlackHole[2])\n",
    "        correction.append(0)\n",
    "        if ((el==\"BH1\" and i==BlackHole[1]) or\n",
    "            (el==\"BH2\" and i==BlackHole[2])):\n",
    "            \n",
    "            correction2.append(2)\n",
    "        else:\n",
    "            correction2.append(0)\n",
    "        \n",
    "\n",
    "correction=np.array(correction)\n",
    "correction2=np.array(correction2)\n",
    "print(correction2)\n",
    "stats.head()"
   ]
  },
  {
   "cell_type": "code",
   "execution_count": null,
   "metadata": {},
   "outputs": [],
   "source": []
  },
  {
   "cell_type": "code",
   "execution_count": 107,
   "metadata": {},
   "outputs": [
    {
     "name": "stdout",
     "output_type": "stream",
     "text": [
      "   count         mean\n",
      "0     98  1868.816327\n",
      "1     99  2139.282828\n",
      "2     91  3916.604396\n",
      "3     97  1815.742268\n",
      "4     25  4667.000000\n"
     ]
    }
   ],
   "source": [
    "data=stats.drop([\"label\",\"25%\",\"std\",\"var\",\"75%\",\"50%\",\"min\",\"max\"],axis=1)\n",
    "\n",
    "dataC=stats[\"label\"]\n",
    "print(data.head())\n",
    "#Y = data[['var']]\n",
    "#X = data[['std']]\n",
    "\n"
   ]
  },
  {
   "cell_type": "markdown",
   "metadata": {},
   "source": [
    "Kmeans with 2 clusters, using just count and mean features, probability 66%"
   ]
  },
  {
   "cell_type": "code",
   "execution_count": 110,
   "metadata": {},
   "outputs": [
    {
     "name": "stdout",
     "output_type": "stream",
     "text": [
      "[1 1 0 1 0 0 0 0 0 1 1 0 1 0 0 0 0 0 1 1 1 1 0 0 1 0 1]\n",
      "[0 0 0 0 0 0 0 0 0 0 0 0 0 0 0 0 0 0 1 1 1 1 1 1 1 1 1]\n",
      "0.6666666666666666\n",
      "[[12  6]\n",
      " [ 3  6]]\n"
     ]
    }
   ],
   "source": [
    "kmeans = KMeans(n_clusters=2)\n",
    "kmeans.fit(data)\n",
    "labels = kmeans.predict(data)\n",
    "centroids = kmeans.cluster_centers_\n",
    "\n",
    "\n",
    "print(labels)\n",
    "print(correction)\n",
    "\n",
    "# Performance Metrics\n",
    "accuracy=sm.accuracy_score(correction, labels)\n",
    "\n",
    "# Confusion Matrix\n",
    "confusionMatrix=sm.confusion_matrix(correction, labels)\n",
    "\n",
    "print(accuracy)\n",
    "print(confusionMatrix)"
   ]
  },
  {
   "cell_type": "code",
   "execution_count": 120,
   "metadata": {},
   "outputs": [
    {
     "name": "stdout",
     "output_type": "stream",
     "text": [
      "[1 0 0 1 0 0 0 0 0 1 0 0 1 0 0 0 0 0 1 1 1 1 1 1 1 1 1]\n",
      "[0 0 0 0 0 0 0 0 0 0 0 0 0 0 0 0 0 0 1 1 1 1 1 1 1 1 1]\n",
      "0.8518518518518519\n",
      "[[14  4]\n",
      " [ 0  9]]\n"
     ]
    }
   ],
   "source": [
    "dataplus=stats.drop([\"label\"],axis=1)\n",
    "data=dataplus\n",
    "kmeans = KMeans(n_clusters=2)\n",
    "kmeans.fit(data)\n",
    "labels = kmeans.predict(data)\n",
    "centroids = kmeans.cluster_centers_\n",
    "\n",
    "\n",
    "print(labels)\n",
    "print(correction)\n",
    "\n",
    "# Performance Metrics\n",
    "accuracy=sm.accuracy_score(correction, labels)\n",
    "\n",
    "# Confusion Matrix\n",
    "confusionMatrix=sm.confusion_matrix(correction, labels)\n",
    "\n",
    "print(accuracy)\n",
    "print(confusionMatrix)\n",
    "\n",
    "\n"
   ]
  },
  {
   "cell_type": "code",
   "execution_count": 114,
   "metadata": {},
   "outputs": [
    {
     "data": {
      "image/png": "[encoded data removed]",
      "text/plain": [
       "<Figure size 432x288 with 1 Axes>"
      ]
     },
     "metadata": {
      "needs_background": "light"
     },
     "output_type": "display_data"
    }
   ],
   "source": [
    "Y=data\n",
    "Nc = range(1, 20)\n",
    "\n",
    "kmeans = [KMeans(n_clusters=i) for i in Nc]\n",
    "\n",
    "kmeans\n",
    "\n",
    "score = [kmeans[i].fit(Y).score(Y) for i in range(len(kmeans))]\n",
    "\n",
    "score\n",
    "\n",
    "plt.plot(Nc,score)\n",
    "\n",
    "plt.xlabel('Number of Clusters')\n",
    "\n",
    "plt.ylabel('Score')\n",
    "\n",
    "plt.title('Elbow Curve')\n",
    "\n",
    "plt.show()\n"
   ]
  },
  {
   "cell_type": "code",
   "execution_count": 115,
   "metadata": {},
   "outputs": [
    {
     "data": {
      "image/png": "[encoded data removed]",
      "text/plain": [
       "<Figure size 360x360 with 1 Axes>"
      ]
     },
     "metadata": {
      "needs_background": "light"
     },
     "output_type": "display_data"
    }
   ],
   "source": [
    "fig = plt.figure(figsize=(5, 5))\n",
    "\n",
    "colors = map(lambda x: colmap[x+1], labels)\n",
    "\n",
    "\n",
    "plt.scatter(data['count'], data['mean'], alpha=0.5)\n",
    "plt.scatter(centroids[:, 0], centroids[:, 1], c='red', s=50)\n",
    "\n",
    "plt.show()"
   ]
  },
  {
   "cell_type": "code",
   "execution_count": 116,
   "metadata": {},
   "outputs": [],
   "source": [
    "#https://www.learndatasci.com/tutorials/k-means-clustering-algorithms-python-intro/\n",
    "#df=np.array(X,Y)\n",
    "\n",
    "\n"
   ]
  },
  {
   "cell_type": "code",
   "execution_count": null,
   "metadata": {},
   "outputs": [],
   "source": []
  },
  {
   "cell_type": "code",
   "execution_count": 117,
   "metadata": {},
   "outputs": [
    {
     "data": {
      "text/html": [
       "<div>\n",
       "<style scoped>\n",
       "    .dataframe tbody tr th:only-of-type {\n",
       "        vertical-align: middle;\n",
       "    }\n",
       "\n",
       "    .dataframe tbody tr th {\n",
       "        vertical-align: top;\n",
       "    }\n",
       "\n",
       "    .dataframe thead th {\n",
       "        text-align: right;\n",
       "    }\n",
       "</style>\n",
       "<table border=\"1\" class=\"dataframe\">\n",
       "  <thead>\n",
       "    <tr style=\"text-align: right;\">\n",
       "      <th></th>\n",
       "      <th>x1</th>\n",
       "      <th>x2</th>\n",
       "      <th>labels</th>\n",
       "    </tr>\n",
       "  </thead>\n",
       "  <tbody>\n",
       "    <tr>\n",
       "      <th>0</th>\n",
       "      <td>-1.906469e+05</td>\n",
       "      <td>1109.374349</td>\n",
       "      <td>BH1</td>\n",
       "    </tr>\n",
       "    <tr>\n",
       "      <th>1</th>\n",
       "      <td>1.124512e+06</td>\n",
       "      <td>1558.013436</td>\n",
       "      <td>BH1</td>\n",
       "    </tr>\n",
       "    <tr>\n",
       "      <th>2</th>\n",
       "      <td>1.350229e+06</td>\n",
       "      <td>-95.831043</td>\n",
       "      <td>BH1</td>\n",
       "    </tr>\n",
       "    <tr>\n",
       "      <th>3</th>\n",
       "      <td>-4.480298e+05</td>\n",
       "      <td>1021.728477</td>\n",
       "      <td>BH1</td>\n",
       "    </tr>\n",
       "    <tr>\n",
       "      <th>4</th>\n",
       "      <td>2.771312e+06</td>\n",
       "      <td>-69.901685</td>\n",
       "      <td>BH1</td>\n",
       "    </tr>\n",
       "  </tbody>\n",
       "</table>\n",
       "</div>"
      ],
      "text/plain": [
       "             x1           x2 labels\n",
       "0 -1.906469e+05  1109.374349    BH1\n",
       "1  1.124512e+06  1558.013436    BH1\n",
       "2  1.350229e+06   -95.831043    BH1\n",
       "3 -4.480298e+05  1021.728477    BH1\n",
       "4  2.771312e+06   -69.901685    BH1"
      ]
     },
     "execution_count": 117,
     "metadata": {},
     "output_type": "execute_result"
    }
   ],
   "source": [
    "\n",
    "\n",
    "X = dataplus.iloc[:,0:4]\n",
    "pca = PCA(n_components=2)\n",
    "pca.fit(X)\n",
    "X_ = pca.transform(X)\n",
    "\n",
    "dfPCA = pd.DataFrame({'x1': X_[:,0], 'x2': X_[:,1]})\n",
    "dfPCA['labels'] = stats['label']\n",
    "dfPCA.head()"
   ]
  },
  {
   "cell_type": "code",
   "execution_count": 118,
   "metadata": {},
   "outputs": [
    {
     "data": {
      "image/png": "[encoded data removed]",
      "text/plain": [
       "<Figure size 504x360 with 1 Axes>"
      ]
     },
     "metadata": {
      "needs_background": "light"
     },
     "output_type": "display_data"
    }
   ],
   "source": [
    "\n",
    "labels = stats['label'].unique().tolist()\n",
    "plt.figure(figsize=(7,5))\n",
    "for lab in labels:\n",
    "    plt.scatter(dfPCA.loc[dfPCA['labels'] == lab, 'x1'],  dfPCA.loc[dfPCA['labels'] == lab, 'x2'], label=lab)\n",
    "    plt.legend()"
   ]
  },
  {
   "cell_type": "markdown",
   "metadata": {},
   "source": [
    "Experiment with 3 clusters trying also to find the black Hole node, 0.74% of probability finding a black hole in the network"
   ]
  },
  {
   "cell_type": "code",
   "execution_count": 166,
   "metadata": {},
   "outputs": [
    {
     "name": "stdout",
     "output_type": "stream",
     "text": [
      "[2 0 0 2 0 0 0 0 0 2 2 0 2 0 0 0 0 0 1 1 1 1 1 1 1 1 1]\n",
      "[0 0 0 0 2 0 0 0 0 0 0 0 0 2 0 0 0 0 1 1 1 1 1 1 1 1 1]\n",
      "0.7407407407407407\n",
      "[[11  0  5]\n",
      " [ 0  9  0]\n",
      " [ 2  0  0]]\n"
     ]
    }
   ],
   "source": [
    "kmeans = KMeans(n_clusters=3)\n",
    "kmeans.fit(dataplus)\n",
    "labels = kmeans.predict(dataplus)\n",
    "centroids = kmeans.cluster_centers_\n",
    "\n",
    "\n",
    "print(labels)\n",
    "print(correction2)\n",
    "\n",
    "\n",
    "# Performance Metrics\n",
    "accuracy=sm.accuracy_score(correction2, labels)\n",
    "\n",
    "# Confusion Matrix\n",
    "confusionMatrix=sm.confusion_matrix(correction2, labels)\n",
    "\n",
    "print(accuracy)\n",
    "print(confusionMatrix)"
   ]
  },
  {
   "cell_type": "code",
   "execution_count": 175,
   "metadata": {},
   "outputs": [
    {
     "name": "stdout",
     "output_type": "stream",
     "text": [
      "[0 0 0 0 0 0 0 0 0 0 0 0 0 0 0 0 0 0 1 1 1 1 1 1 1 1 1]\n",
      "[0 0 0 0 0 0 0 0 0 0 0 0 0 0 0 0 0 0 1 1 1 1 1 1 1 1 1]\n",
      "1.0\n",
      "[[18  0]\n",
      " [ 0  9]]\n"
     ]
    }
   ],
   "source": [
    "for i in range(len(labels)):\n",
    "    if labels[i]==2:\n",
    "        labels[i]=0\n",
    "       \n",
    "    if correction2[i]==2:\n",
    "        correction2[i]=0\n",
    "print(labels)\n",
    "print(correction2)        \n",
    "# Performance Metrics\n",
    "accuracy=sm.accuracy_score(correction2, labels)\n",
    "\n",
    "# Confusion Matrix\n",
    "confusionMatrix=sm.confusion_matrix(correction2, labels)\n",
    "\n",
    "print(accuracy)\n",
    "print(confusionMatrix)"
   ]
  },
  {
   "cell_type": "markdown",
   "metadata": {},
   "source": [
    "Example adding also the 16 nodes, clearly the accuracy goes down as we dont have many data"
   ]
  },
  {
   "cell_type": "code",
   "execution_count": 187,
   "metadata": {},
   "outputs": [
    {
     "name": "stdout",
     "output_type": "stream",
     "text": [
      "Importing test_1BH_16nodes2018-11-09_19_46_22.json\n",
      "Importing test_1BH_2018-11-09_12_31_25.json\n",
      "Importing test_1BH_2018-11-09_14_37_46.json\n",
      "Importing test_nom_2018-11-09_08_55_11.json\n",
      "[0 0 0 0 0 0 0 0 0 0 0 0 0 0 0 0 0 0 0 1 0 0 0 0 0 1 0 0 1 0 0 0 0 0 1 1 1\n",
      " 1 1 1 1 1 1]\n",
      "[0 0 0 0 0 0 0 0 0 0 0 0 0 0 0 0 0 0 0 0 0 0 0 0 0 1 1 1 1 1 1 1 1 1 0 0 0\n",
      " 0 0 0 0 0 0]\n",
      "0.6046511627906976\n",
      "[[24 10]\n",
      " [ 7  2]]\n"
     ]
    }
   ],
   "source": [
    "dataList=coojaJsonImporter(\"../cooja-16nodes/traces/\")\n",
    "\n",
    "data=[]\n",
    "cases=[\n",
    "      \"BH1\",\n",
    "        \"BH2\",\n",
    "    \"normal\",\n",
    "    \"BH3\"\n",
    "      ]\n",
    "\n",
    "BlackHole=[-1,4,5+8,-1]\n",
    "for nodeList in dataList:\n",
    "    data.append(createNodes(nodeList))\n",
    "dataList=coojaJsonImporter(\"../cooja-9nodes/traces/\")\n",
    "for nodeList in dataList:\n",
    "    data.append(createNodes(nodeList))\n",
    "    \n",
    "d={ \"label\":[],\n",
    "    \"count\":[],\n",
    "    \"std\":  [],\n",
    "    \"mean\": [],\n",
    "    \"var\":  [],\n",
    "    \"25%\":  [],\n",
    "   \"50%\":[],\n",
    "   \"75%\":[],\n",
    "   \"min\":[],\n",
    "   \"max\":[]\n",
    "   #\"rtt/pkt\":[]\n",
    "}\n",
    "count=[]\n",
    "labels=[]\n",
    "var=[]\n",
    "#stats=pd.DataFrame(columns=columns)\n",
    "rows=[count,labels]\n",
    "for i in range(len(data)):\n",
    "    for j in range(len(data[i])):\n",
    "            #df1 = df1.assign(e=p.Series(np.random.randn(sLength)).values)\n",
    "            node=data[i][j]\n",
    "            name=str(j)+\" \"+cases[i]\n",
    "            d[\"count\"].append(data[i][j].pkts['rtt'].count())\n",
    "            d[\"std\"].append(data[i][j].pkts['rtt'].std())\n",
    "            d[\"mean\"].append(data[i][j].pkts['rtt'].mean())\n",
    "            d[\"var\"].append(data[i][j].pkts['rtt'].var())\n",
    "            d[\"label\"].append(cases[i])\n",
    "            d[\"25%\"].append(data[i][j].pkts['rtt'].describe()[\"25%\"])\n",
    "            d[\"50%\"].append(data[i][j].pkts['rtt'].describe()[\"50%\"])\n",
    "            d[\"75%\"].append(data[i][j].pkts['rtt'].describe()[\"75%\"])\n",
    "            d[\"min\"].append(data[i][j].pkts['rtt'].describe()[\"min\"])\n",
    "            d[\"max\"].append(data[i][j].pkts['rtt'].describe()[\"max\"])\n",
    "          \n",
    "            \n",
    "            \n",
    "stats=pd.DataFrame(d)        \n",
    "correction=[]\n",
    "correction2=[] #for 3 cluster 0:normal net 1:bh net 2:bh\n",
    "for i in range(len(d[\"label\"])):\n",
    "    el=d[\"label\"][i]\n",
    "    if el==\"normal\":\n",
    "        correction.append(1)\n",
    "        correction2.append(1)\n",
    "        \n",
    "    else:\n",
    "        #print(el==\"BH2\" and i==BlackHole[2])\n",
    "        correction.append(0)\n",
    "        if ((el==\"BH1\" and i==BlackHole[1]) or\n",
    "            (el==\"BH2\" and i==BlackHole[2])):\n",
    "            \n",
    "            correction2.append(2)\n",
    "        else:\n",
    "            correction2.append(0)\n",
    "        \n",
    "\n",
    "correction=np.array(correction)\n",
    "correction2=np.array(correction2)\n",
    "data=stats.drop([\"label\",\"25%\",\"var\",\"75%\",\"50%\",\"min\",\"max\",\"mean\"],axis=1)\n",
    "\n",
    "kmeans = KMeans(n_clusters=2)\n",
    "kmeans.fit(data)\n",
    "labels = kmeans.predict(data)\n",
    "centroids = kmeans.cluster_centers_\n",
    "\n",
    "\n",
    "print(labels)\n",
    "print(correction)\n",
    "\n",
    "# Performance Metrics\n",
    "accuracy=sm.accuracy_score(correction, labels)\n",
    "\n",
    "# Confusion Matrix\n",
    "confusionMatrix=sm.confusion_matrix(correction, labels)\n",
    "\n",
    "print(accuracy)\n",
    "print(confusionMatrix)\n",
    "\n"
   ]
  },
  {
   "cell_type": "markdown",
   "metadata": {},
   "source": [
    "Last experiment: using windows so we can have virtually more data to work\n",
    "\n"
   ]
  },
  {
   "cell_type": "code",
   "execution_count": 403,
   "metadata": {},
   "outputs": [
    {
     "name": "stdout",
     "output_type": "stream",
     "text": [
      "Importing test_1BH_2018-11-09_12_31_25.json\n",
      "Importing test_1BH_2018-11-09_14_37_46.json\n",
      "Importing test_nom_2018-11-09_08_55_11.json\n"
     ]
    }
   ],
   "source": [
    "\n",
    "dataList=coojaJsonImporter(\"./traces\")\n",
    "data=[]\n",
    "cases=[\n",
    "      \"BH1\",\n",
    "        \"BH2\",\n",
    "    \"normal\"\n",
    "      ]\n",
    "\n",
    "for nodeList in dataList:\n",
    "    data.append(createNodes(nodeList))\n",
    "    \n",
    "d={ \"label\":[],\n",
    "    \"count\":[],\n",
    "    \"std\":  [],\n",
    "    \"mean\": [],\n",
    "    \"var\":  [],\n",
    "    \"25%\":  [],\n",
    "   \"50%\":[],\n",
    "   \"75%\":[],\n",
    "   \"min\":[],\n",
    "   \"max\":[]\n",
    "   #\"rtt/pkt\":[]\n",
    "}\n",
    "count=[]\n",
    "labels=[]\n",
    "var=[]\n",
    "#stats=pd.DataFrame(columns=columns)\n",
    "rows=[count,labels]\n",
    "window=3\n",
    "for i in range(len(data)):\n",
    "    for j in range(len(data[i])):\n",
    "        n=len(data[i][j].pkts[\"rtt\"])\n",
    "        #print(n)\n",
    "        for z in range(0,n,window):\n",
    "            #print(z)\n",
    "            \n",
    "            #df1 = df1.assign(e=p.Series(np.random.randn(sLength)).values)\n",
    "            node=data[i][j]\n",
    "            name=str(j)+\" \"+cases[i]\n",
    "            d[\"count\"].append(data[i][j].pkts['rtt'][z:z+window].count())\n",
    "            d[\"std\"].append(data[i][j].pkts['rtt'][z:z+window].std())\n",
    "            d[\"mean\"].append(data[i][j].pkts['rtt'][z:z+window].mean())\n",
    "            d[\"var\"].append(data[i][j].pkts['rtt'][z:z+window].var())\n",
    "            d[\"label\"].append(cases[i])\n",
    "            d[\"25%\"].append(data[i][j].pkts['rtt'][z:z+window].describe()[\"25%\"])\n",
    "            d[\"50%\"].append(data[i][j].pkts['rtt'][z:z+window].describe()[\"50%\"])\n",
    "            d[\"75%\"].append(data[i][j].pkts['rtt'][z:z+window].describe()[\"75%\"])\n",
    "            d[\"min\"].append(data[i][j].pkts['rtt'][z:z+window].describe()[\"min\"])\n",
    "            d[\"max\"].append(data[i][j].pkts['rtt'][z:z+window].describe()[\"max\"])\n"
   ]
  },
  {
   "cell_type": "code",
   "execution_count": 404,
   "metadata": {},
   "outputs": [
    {
     "name": "stdout",
     "output_type": "stream",
     "text": [
      "(774, 10)\n",
      "Index(['label', 'count', 'std', 'mean', 'var', '25%', '50%', '75%', 'min',\n",
      "       'max'],\n",
      "      dtype='object')\n"
     ]
    }
   ],
   "source": [
    "stats=pd.DataFrame(d)            \n",
    "print(stats.shape)\n",
    "stats=stats.dropna()\n",
    "print(stats.columns)"
   ]
  },
  {
   "cell_type": "code",
   "execution_count": 450,
   "metadata": {},
   "outputs": [
    {
     "data": {
      "text/plain": [
       "Index(['mean', 'var', 'min', 'max'], dtype='object')"
      ]
     },
     "execution_count": 450,
     "metadata": {},
     "output_type": "execute_result"
    }
   ],
   "source": [
    "\n",
    "data=stats.drop([\"label\",\"25%\",\"count\",\"75%\",\"50%\",\"std\"],axis=1)\n",
    "\n",
    "#dataplus=stats.drop([\"label\"],axis=1)\n",
    "\n",
    "#data=dataplus\n",
    "kmeans = KMeans(n_clusters=2)\n",
    "kmeans.fit(data)\n",
    "labels = kmeans.predict(data)\n",
    "centroids = kmeans.cluster_centers_\n",
    "\n",
    "data.columns\n"
   ]
  },
  {
   "cell_type": "code",
   "execution_count": 451,
   "metadata": {},
   "outputs": [
    {
     "name": "stdout",
     "output_type": "stream",
     "text": [
      "756\n",
      "756\n"
     ]
    }
   ],
   "source": [
    "correction=[]\n",
    "#stats=stats.dropna()\n",
    "\n",
    "col=np.array(stats[\"label\"])\n",
    "\n",
    "for i in range(len(col)):\n",
    "    el=col[i]\n",
    "    if el==\"normal\":\n",
    "        correction.append(1)\n",
    "      \n",
    "        \n",
    "    else:\n",
    "       \n",
    "        correction.append(0)\n",
    "        \n",
    "\n",
    "correction=np.array(correction)\n",
    "print(len(correction))\n",
    "print(len(labels))"
   ]
  },
  {
   "cell_type": "code",
   "execution_count": 452,
   "metadata": {},
   "outputs": [
    {
     "name": "stdout",
     "output_type": "stream",
     "text": [
      "0.48677248677248675\n",
      "[[ 73 386]\n",
      " [  2 295]]\n"
     ]
    }
   ],
   "source": [
    "#print(labels)\n",
    "#print(correction)\n",
    "\n",
    "# Performance Metrics\n",
    "accuracy=sm.accuracy_score(correction, labels)\n",
    "\n",
    "# Confusion Matrix\n",
    "confusionMatrix=sm.confusion_matrix(correction, labels)\n",
    "\n",
    "print(accuracy)\n",
    "print(confusionMatrix)"
   ]
  },
  {
   "cell_type": "code",
   "execution_count": 448,
   "metadata": {},
   "outputs": [
    {
     "data": {
      "text/html": [
       "<div>\n",
       "<style scoped>\n",
       "    .dataframe tbody tr th:only-of-type {\n",
       "        vertical-align: middle;\n",
       "    }\n",
       "\n",
       "    .dataframe tbody tr th {\n",
       "        vertical-align: top;\n",
       "    }\n",
       "\n",
       "    .dataframe thead th {\n",
       "        text-align: right;\n",
       "    }\n",
       "</style>\n",
       "<table border=\"1\" class=\"dataframe\">\n",
       "  <thead>\n",
       "    <tr style=\"text-align: right;\">\n",
       "      <th></th>\n",
       "      <th>x1</th>\n",
       "      <th>x2</th>\n",
       "      <th>labels</th>\n",
       "    </tr>\n",
       "  </thead>\n",
       "  <tbody>\n",
       "    <tr>\n",
       "      <th>0</th>\n",
       "      <td>1.454152e+07</td>\n",
       "      <td>-2749.275168</td>\n",
       "      <td>BH1</td>\n",
       "    </tr>\n",
       "    <tr>\n",
       "      <th>1</th>\n",
       "      <td>1.568645e+07</td>\n",
       "      <td>-3194.071084</td>\n",
       "      <td>BH1</td>\n",
       "    </tr>\n",
       "    <tr>\n",
       "      <th>2</th>\n",
       "      <td>-1.876191e+06</td>\n",
       "      <td>-1493.537478</td>\n",
       "      <td>BH1</td>\n",
       "    </tr>\n",
       "    <tr>\n",
       "      <th>3</th>\n",
       "      <td>-1.155392e+06</td>\n",
       "      <td>-1109.583689</td>\n",
       "      <td>BH1</td>\n",
       "    </tr>\n",
       "    <tr>\n",
       "      <th>4</th>\n",
       "      <td>-1.155969e+06</td>\n",
       "      <td>-1109.145959</td>\n",
       "      <td>BH1</td>\n",
       "    </tr>\n",
       "  </tbody>\n",
       "</table>\n",
       "</div>"
      ],
      "text/plain": [
       "             x1           x2 labels\n",
       "0  1.454152e+07 -2749.275168    BH1\n",
       "1  1.568645e+07 -3194.071084    BH1\n",
       "2 -1.876191e+06 -1493.537478    BH1\n",
       "3 -1.155392e+06 -1109.583689    BH1\n",
       "4 -1.155969e+06 -1109.145959    BH1"
      ]
     },
     "execution_count": 448,
     "metadata": {},
     "output_type": "execute_result"
    }
   ],
   "source": [
    "X = dataplus.iloc[:,0:4]\n",
    "pca = PCA(n_components=2)\n",
    "pca.fit(X)\n",
    "X_ = pca.transform(X)\n",
    "\n",
    "dfPCA = pd.DataFrame({'x1': X_[:,0], 'x2': X_[:,1]})\n",
    "dfPCA['labels'] = stats['label']\n",
    "dfPCA.head()\n",
    "\n"
   ]
  },
  {
   "cell_type": "code",
   "execution_count": 449,
   "metadata": {},
   "outputs": [
    {
     "data": {
      "image/png": "[encoded data removed]",
      "text/plain": [
       "<Figure size 504x360 with 1 Axes>"
      ]
     },
     "metadata": {
      "needs_background": "light"
     },
     "output_type": "display_data"
    }
   ],
   "source": [
    "labels = stats['label'].unique().tolist()\n",
    "plt.figure(figsize=(7,5))\n",
    "for lab in labels:\n",
    "    plt.scatter(dfPCA.loc[dfPCA['labels'] == lab, 'x1'],  dfPCA.loc[dfPCA['labels'] == lab, 'x2'], label=lab, alpha=0.5)\n",
    "    plt.legend()"
   ]
  },
  {
   "cell_type": "code",
   "execution_count": null,
   "metadata": {},
   "outputs": [],
   "source": []
  },
  {
   "cell_type": "code",
   "execution_count": null,
   "metadata": {},
   "outputs": [],
   "source": []
  },
  {
   "cell_type": "code",
   "execution_count": null,
   "metadata": {},
   "outputs": [],
   "source": []
  },
  {
   "cell_type": "code",
   "execution_count": null,
   "metadata": {},
   "outputs": [],
   "source": []
  }
 ],
 "metadata": {
  "kernelspec": {
   "display_name": "Python 3",
   "language": "python",
   "name": "python3"
  },
  "language_info": {
   "codemirror_mode": {
    "name": "ipython",
    "version": 3
   },
   "file_extension": ".py",
   "mimetype": "text/x-python",
   "name": "python",
   "nbconvert_exporter": "python",
   "pygments_lexer": "ipython3",
   "version": "3.7.2"
  }
 },
 "nbformat": 4,
 "nbformat_minor": 2
}
