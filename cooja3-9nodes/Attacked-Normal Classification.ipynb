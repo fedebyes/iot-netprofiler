{
 "cells": [
  {
   "cell_type": "code",
   "execution_count": 27,
   "metadata": {},
   "outputs": [],
   "source": [
    "import pandas as pd\n",
    "import numpy as np\n",
    "from scipy import stats as sp\n",
    "import sys, os\n",
    "sys.path.append('../')\n",
    "import trace_analysis\n",
    "import plots_analysis\n",
    "import trace_statistics\n",
    "import trace_classification\n",
    "import csv\n",
    "import warnings \n",
    "warnings.filterwarnings('ignore')"
   ]
  },
  {
   "cell_type": "markdown",
   "metadata": {},
   "source": [
    "# Data Preparation\n",
    "\n",
    "\n",
    "Prepare the data to be used with kNN"
   ]
  },
  {
   "cell_type": "code",
   "execution_count": 2,
   "metadata": {},
   "outputs": [
    {
     "data": {
      "text/html": [
       "<div>\n",
       "<style scoped>\n",
       "    .dataframe tbody tr th:only-of-type {\n",
       "        vertical-align: middle;\n",
       "    }\n",
       "\n",
       "    .dataframe tbody tr th {\n",
       "        vertical-align: top;\n",
       "    }\n",
       "\n",
       "    .dataframe thead th {\n",
       "        text-align: right;\n",
       "    }\n",
       "</style>\n",
       "<table border=\"1\" class=\"dataframe\">\n",
       "  <thead>\n",
       "    <tr style=\"text-align: right;\">\n",
       "      <th></th>\n",
       "      <th>node_id</th>\n",
       "      <th>experiment</th>\n",
       "      <th>count</th>\n",
       "      <th>mean</th>\n",
       "      <th>var</th>\n",
       "      <th>std</th>\n",
       "      <th>hop</th>\n",
       "      <th>min</th>\n",
       "      <th>max</th>\n",
       "      <th>loss</th>\n",
       "      <th>outliers</th>\n",
       "      <th>label</th>\n",
       "    </tr>\n",
       "  </thead>\n",
       "  <tbody>\n",
       "    <tr>\n",
       "      <th>0</th>\n",
       "      <td>aaaa::212:7404:4:404:</td>\n",
       "      <td>grid_1gh-9_2019-02-15_19:19_</td>\n",
       "      <td>186</td>\n",
       "      <td>102.369355</td>\n",
       "      <td>5317.077813</td>\n",
       "      <td>72.918295</td>\n",
       "      <td>2</td>\n",
       "      <td>52.7</td>\n",
       "      <td>582.0</td>\n",
       "      <td>0.070</td>\n",
       "      <td>6</td>\n",
       "      <td>Attacked</td>\n",
       "    </tr>\n",
       "    <tr>\n",
       "      <th>1</th>\n",
       "      <td>aaaa::212:7405:5:505:</td>\n",
       "      <td>grid_1gh-9_2019-02-15_19:19_</td>\n",
       "      <td>109</td>\n",
       "      <td>179.700000</td>\n",
       "      <td>7535.613519</td>\n",
       "      <td>86.807912</td>\n",
       "      <td>3</td>\n",
       "      <td>83.1</td>\n",
       "      <td>522.0</td>\n",
       "      <td>0.455</td>\n",
       "      <td>5</td>\n",
       "      <td>Attacked</td>\n",
       "    </tr>\n",
       "    <tr>\n",
       "      <th>2</th>\n",
       "      <td>aaaa::212:7402:2:202:</td>\n",
       "      <td>grid_1gh-9_2019-02-15_19:19_</td>\n",
       "      <td>120</td>\n",
       "      <td>117.465000</td>\n",
       "      <td>5047.521118</td>\n",
       "      <td>71.045909</td>\n",
       "      <td>2</td>\n",
       "      <td>48.4</td>\n",
       "      <td>374.0</td>\n",
       "      <td>0.400</td>\n",
       "      <td>6</td>\n",
       "      <td>Attacked</td>\n",
       "    </tr>\n",
       "    <tr>\n",
       "      <th>3</th>\n",
       "      <td>aaaa::212:740a:a:a0a:</td>\n",
       "      <td>grid_1gh-9_2019-02-15_19:19_</td>\n",
       "      <td>99</td>\n",
       "      <td>215.575758</td>\n",
       "      <td>7842.838590</td>\n",
       "      <td>88.559802</td>\n",
       "      <td>4</td>\n",
       "      <td>143.0</td>\n",
       "      <td>611.0</td>\n",
       "      <td>0.505</td>\n",
       "      <td>5</td>\n",
       "      <td>Attacked</td>\n",
       "    </tr>\n",
       "    <tr>\n",
       "      <th>4</th>\n",
       "      <td>aaaa::212:7409:9:909:</td>\n",
       "      <td>grid_1gh-9_2019-02-15_19:19_</td>\n",
       "      <td>171</td>\n",
       "      <td>201.941520</td>\n",
       "      <td>8513.949501</td>\n",
       "      <td>92.271065</td>\n",
       "      <td>3</td>\n",
       "      <td>112.0</td>\n",
       "      <td>694.0</td>\n",
       "      <td>0.145</td>\n",
       "      <td>11</td>\n",
       "      <td>Attacked</td>\n",
       "    </tr>\n",
       "  </tbody>\n",
       "</table>\n",
       "</div>"
      ],
      "text/plain": [
       "                 node_id                    experiment  count        mean  \\\n",
       "0  aaaa::212:7404:4:404:  grid_1gh-9_2019-02-15_19:19_    186  102.369355   \n",
       "1  aaaa::212:7405:5:505:  grid_1gh-9_2019-02-15_19:19_    109  179.700000   \n",
       "2  aaaa::212:7402:2:202:  grid_1gh-9_2019-02-15_19:19_    120  117.465000   \n",
       "3  aaaa::212:740a:a:a0a:  grid_1gh-9_2019-02-15_19:19_     99  215.575758   \n",
       "4  aaaa::212:7409:9:909:  grid_1gh-9_2019-02-15_19:19_    171  201.941520   \n",
       "\n",
       "           var        std  hop    min    max   loss  outliers     label  \n",
       "0  5317.077813  72.918295    2   52.7  582.0  0.070         6  Attacked  \n",
       "1  7535.613519  86.807912    3   83.1  522.0  0.455         5  Attacked  \n",
       "2  5047.521118  71.045909    2   48.4  374.0  0.400         6  Attacked  \n",
       "3  7842.838590  88.559802    4  143.0  611.0  0.505         5  Attacked  \n",
       "4  8513.949501  92.271065    3  112.0  694.0  0.145        11  Attacked  "
      ]
     },
     "execution_count": 2,
     "metadata": {},
     "output_type": "execute_result"
    }
   ],
   "source": [
    "plots = set()\n",
    "with open('traces/traces.csv') as csv_file:\n",
    "    csv_reader = csv.reader(csv_file, delimiter=',')\n",
    "    line_count = 0\n",
    "    for row in csv_reader:\n",
    "        if line_count == 0:\n",
    "            line_count += 1\n",
    "            continue\n",
    "        else:\n",
    "            plots.add((row[1], row[2]))\n",
    "\n",
    "plots = list(plots)  \n",
    "\n",
    "stats = None\n",
    "win_25_stats = None\n",
    "win_50_stats = None\n",
    "win_100_stats = None\n",
    "\n",
    "for row in plots:\n",
    "    label = 'Normal'\n",
    "    experiment = row[1]\n",
    "    \n",
    "    # Assign a label\n",
    "    if row[1].find('gh') >= 0 or row[1].find('bh') >= 0:\n",
    "        label = 'Attacked'\n",
    "    nodes, packets_node = trace_analysis.process_cooja2_traces(row[0], row[1])\n",
    "    \n",
    "    # Update stats\n",
    "    if stats is None:\n",
    "        stats = trace_statistics.compute_labeled_statistics(nodes, packets_node, label, experiment)\n",
    "        win_25_stats = trace_statistics.compute_window_labeled_statistics(nodes, packets_node, label, experiment, 25)\n",
    "        win_50_stats = trace_statistics.compute_window_labeled_statistics(nodes, packets_node, label, experiment, 50)\n",
    "        win_100_stats = trace_statistics.compute_window_labeled_statistics(nodes, packets_node, label, experiment, 100)\n",
    "    else:\n",
    "        stats = pd.concat([stats, trace_statistics.compute_labeled_statistics(nodes, packets_node, label, experiment)])\n",
    "        win_25_stats = pd.concat([win_25_stats, trace_statistics.compute_window_labeled_statistics(nodes, packets_node, label, experiment, 25)])\n",
    "        win_50_stats = pd.concat([win_50_stats, trace_statistics.compute_window_labeled_statistics(nodes, packets_node, label, experiment, 50)])\n",
    "        win_100_stats = pd.concat([win_100_stats, trace_statistics.compute_window_labeled_statistics(nodes, packets_node, label, experiment, 100)])\n",
    "        \n",
    "stats = stats.reset_index(drop=True)\n",
    "win_25_stats = win_25_stats.reset_index(drop=True)\n",
    "win_50_stats = win_50_stats.reset_index(drop=True)\n",
    "win_100_stats = win_100_stats.reset_index(drop=True)\n",
    "\n",
    "# Create a dictionary containing all the statistics for each trace size\n",
    "trace_stats = {200: stats, 25: win_25_stats, 50: win_50_stats, 100: win_100_stats}\n",
    "stats.head(5)"
   ]
  },
  {
   "cell_type": "markdown",
   "metadata": {},
   "source": [
    "Stats for single network"
   ]
  },
  {
   "cell_type": "code",
   "execution_count": 3,
   "metadata": {},
   "outputs": [
    {
     "data": {
      "text/html": [
       "<div>\n",
       "<style scoped>\n",
       "    .dataframe tbody tr th:only-of-type {\n",
       "        vertical-align: middle;\n",
       "    }\n",
       "\n",
       "    .dataframe tbody tr th {\n",
       "        vertical-align: top;\n",
       "    }\n",
       "\n",
       "    .dataframe thead th {\n",
       "        text-align: right;\n",
       "    }\n",
       "</style>\n",
       "<table border=\"1\" class=\"dataframe\">\n",
       "  <thead>\n",
       "    <tr style=\"text-align: right;\">\n",
       "      <th></th>\n",
       "      <th>experiment</th>\n",
       "      <th>label</th>\n",
       "      <th>1</th>\n",
       "      <th>2</th>\n",
       "      <th>3</th>\n",
       "      <th>4</th>\n",
       "      <th>5</th>\n",
       "      <th>6</th>\n",
       "      <th>7</th>\n",
       "      <th>8</th>\n",
       "      <th>9</th>\n",
       "    </tr>\n",
       "  </thead>\n",
       "  <tbody>\n",
       "    <tr>\n",
       "      <th>0</th>\n",
       "      <td>grid9_1bh-3_2019-02-13_16:28_</td>\n",
       "      <td>Attacked</td>\n",
       "      <td>0.070</td>\n",
       "      <td>9.223372e+18</td>\n",
       "      <td>9.223372e+18</td>\n",
       "      <td>9.223372e+18</td>\n",
       "      <td>9.223372e+18</td>\n",
       "      <td>9.223372e+18</td>\n",
       "      <td>9.223372e+18</td>\n",
       "      <td>9.223372e+18</td>\n",
       "      <td>9.223372e+18</td>\n",
       "    </tr>\n",
       "    <tr>\n",
       "      <th>1</th>\n",
       "      <td>grid9_1bh-3_2019-02-13_22:05_</td>\n",
       "      <td>Attacked</td>\n",
       "      <td>0.045</td>\n",
       "      <td>9.223372e+18</td>\n",
       "      <td>9.223372e+18</td>\n",
       "      <td>9.223372e+18</td>\n",
       "      <td>9.223372e+18</td>\n",
       "      <td>9.223372e+18</td>\n",
       "      <td>9.223372e+18</td>\n",
       "      <td>9.223372e+18</td>\n",
       "      <td>9.223372e+18</td>\n",
       "    </tr>\n",
       "    <tr>\n",
       "      <th>2</th>\n",
       "      <td>grid9_1bh-5_2019-02-13_15:31_</td>\n",
       "      <td>Attacked</td>\n",
       "      <td>0.040</td>\n",
       "      <td>7.500000e-02</td>\n",
       "      <td>1.900000e-01</td>\n",
       "      <td>2.000000e-02</td>\n",
       "      <td>2.450000e-01</td>\n",
       "      <td>8.500000e-02</td>\n",
       "      <td>9.500000e-02</td>\n",
       "      <td>1.900000e-01</td>\n",
       "      <td>1.450000e-01</td>\n",
       "    </tr>\n",
       "    <tr>\n",
       "      <th>3</th>\n",
       "      <td>grid9_1bh-5_2019-02-13_21:44_</td>\n",
       "      <td>Attacked</td>\n",
       "      <td>0.115</td>\n",
       "      <td>1.600000e-01</td>\n",
       "      <td>2.000000e-02</td>\n",
       "      <td>3.000000e-02</td>\n",
       "      <td>2.100000e-01</td>\n",
       "      <td>1.750000e-01</td>\n",
       "      <td>9.000000e-02</td>\n",
       "      <td>7.500000e-02</td>\n",
       "      <td>1.350000e-01</td>\n",
       "    </tr>\n",
       "    <tr>\n",
       "      <th>4</th>\n",
       "      <td>grid9_1bh-6_2019-02-13_12:59_</td>\n",
       "      <td>Attacked</td>\n",
       "      <td>0.080</td>\n",
       "      <td>1.650000e-01</td>\n",
       "      <td>1.000000e-01</td>\n",
       "      <td>2.050000e-01</td>\n",
       "      <td>4.000000e-02</td>\n",
       "      <td>1.550000e-01</td>\n",
       "      <td>1.000000e-02</td>\n",
       "      <td>1.650000e-01</td>\n",
       "      <td>9.223372e+18</td>\n",
       "    </tr>\n",
       "  </tbody>\n",
       "</table>\n",
       "</div>"
      ],
      "text/plain": [
       "                      experiment     label      1             2             3  \\\n",
       "0  grid9_1bh-3_2019-02-13_16:28_  Attacked  0.070  9.223372e+18  9.223372e+18   \n",
       "1  grid9_1bh-3_2019-02-13_22:05_  Attacked  0.045  9.223372e+18  9.223372e+18   \n",
       "2  grid9_1bh-5_2019-02-13_15:31_  Attacked  0.040  7.500000e-02  1.900000e-01   \n",
       "3  grid9_1bh-5_2019-02-13_21:44_  Attacked  0.115  1.600000e-01  2.000000e-02   \n",
       "4  grid9_1bh-6_2019-02-13_12:59_  Attacked  0.080  1.650000e-01  1.000000e-01   \n",
       "\n",
       "              4             5             6             7             8  \\\n",
       "0  9.223372e+18  9.223372e+18  9.223372e+18  9.223372e+18  9.223372e+18   \n",
       "1  9.223372e+18  9.223372e+18  9.223372e+18  9.223372e+18  9.223372e+18   \n",
       "2  2.000000e-02  2.450000e-01  8.500000e-02  9.500000e-02  1.900000e-01   \n",
       "3  3.000000e-02  2.100000e-01  1.750000e-01  9.000000e-02  7.500000e-02   \n",
       "4  2.050000e-01  4.000000e-02  1.550000e-01  1.000000e-02  1.650000e-01   \n",
       "\n",
       "              9  \n",
       "0  9.223372e+18  \n",
       "1  9.223372e+18  \n",
       "2  1.450000e-01  \n",
       "3  1.350000e-01  \n",
       "4  9.223372e+18  "
      ]
     },
     "execution_count": 3,
     "metadata": {},
     "output_type": "execute_result"
    }
   ],
   "source": [
    "net_stats = trace_statistics.compute_labeled_statistics_by_network(stats, 'loss', 9)\n",
    "net_win_25_stats = trace_statistics.compute_window_labeled_statistics_by_network(win_25_stats, 'loss', 9, 25)\n",
    "net_win_50_stats = trace_statistics.compute_window_labeled_statistics_by_network(win_50_stats, 'loss', 9, 50)\n",
    "net_win_100_stats = trace_statistics.compute_window_labeled_statistics_by_network(win_100_stats, 'loss', 9, 100)\n",
    "\n",
    "# Create a dictionary containing all the statistics for each trace size\n",
    "network_stats = {200: net_stats, 25: net_win_25_stats, 50: net_win_50_stats, 100: net_win_100_stats}\n",
    "net_stats.head(5)"
   ]
  },
  {
   "cell_type": "markdown",
   "metadata": {},
   "source": [
    "# Feature Selection\n",
    "\n",
    "Select the set of features and labels that we use to fit the algorithm"
   ]
  },
  {
   "cell_type": "code",
   "execution_count": 4,
   "metadata": {},
   "outputs": [
    {
     "data": {
      "image/png": "[encoded data removed]",
      "text/plain": [
       "<Figure size 864x576 with 4 Axes>"
      ]
     },
     "metadata": {
      "needs_background": "light"
     },
     "output_type": "display_data"
    }
   ],
   "source": [
    "plots_analysis.random_forests_features_selection(trace_stats)"
   ]
  },
  {
   "cell_type": "code",
   "execution_count": 5,
   "metadata": {},
   "outputs": [],
   "source": [
    "results = None            # Results from each classification algorithm\n",
    "cv_results = None         # Cross validation results from each classification algorithm\n",
    "net_results = None            # Results from each classification algorithm\n",
    "cv_net_results = None         # Cross validation results from each classification algorithm\n",
    "\n",
    "features_to_drop = ['node_id', 'experiment', 'label', 'hop', 'loss', 'count', 'outliers']\n",
    "net_features_to_drop = ['experiment', 'label']"
   ]
  },
  {
   "cell_type": "markdown",
   "metadata": {},
   "source": [
    "# Random Forests Classifier\n",
    "\n",
    "Let us experiment with random forests. First, let us select most relevant features."
   ]
  },
  {
   "cell_type": "code",
   "execution_count": 6,
   "metadata": {},
   "outputs": [
    {
     "name": "stdout",
     "output_type": "stream",
     "text": [
      "Computing trace 200\n",
      "Computing trace 25\n",
      "Computing trace 50\n",
      "Computing trace 100\n"
     ]
    }
   ],
   "source": [
    "results = pd.concat([results, \n",
    "                     trace_classification.random_forest_classification(trace_stats, features_to_drop)\n",
    "                    ])"
   ]
  },
  {
   "cell_type": "markdown",
   "metadata": {},
   "source": [
    "We want to compute average accuracy for each trace size (i.e. for each window size from 200 - the entire window - to 100, 50 and 25)"
   ]
  },
  {
   "cell_type": "code",
   "execution_count": 7,
   "metadata": {},
   "outputs": [
    {
     "name": "stdout",
     "output_type": "stream",
     "text": [
      "Computing trace 200\n",
      "Computing trace 25\n",
      "Computing trace 50\n",
      "Computing trace 100\n"
     ]
    }
   ],
   "source": [
    "cv_results = pd.concat([cv_results, \n",
    "                     trace_classification.random_forest_cross_validation(trace_stats, features_to_drop)\n",
    "                    ])"
   ]
  },
  {
   "cell_type": "markdown",
   "metadata": {},
   "source": [
    "Let's do the same for the whole network"
   ]
  },
  {
   "cell_type": "code",
   "execution_count": 28,
   "metadata": {},
   "outputs": [
    {
     "name": "stdout",
     "output_type": "stream",
     "text": [
      "Computing trace 200\n",
      "Computing trace 25\n",
      "Computing trace 50\n",
      "Computing trace 100\n"
     ]
    }
   ],
   "source": [
    "net_results = pd.concat([net_results, \n",
    "                     trace_classification.random_forest_classification(network_stats, net_features_to_drop)\n",
    "                    ])"
   ]
  },
  {
   "cell_type": "markdown",
   "metadata": {},
   "source": [
    "Cross validation"
   ]
  },
  {
   "cell_type": "code",
   "execution_count": 9,
   "metadata": {},
   "outputs": [
    {
     "name": "stdout",
     "output_type": "stream",
     "text": [
      "Computing trace 200\n",
      "Computing trace 25\n",
      "Computing trace 50\n",
      "Computing trace 100\n"
     ]
    }
   ],
   "source": [
    "cv_net_results = pd.concat([cv_net_results, \n",
    "                     trace_classification.random_forest_cross_validation(network_stats, net_features_to_drop, cross_val=3)\n",
    "                    ])"
   ]
  },
  {
   "cell_type": "markdown",
   "metadata": {},
   "source": [
    "# K-Nearest Neighbor (KNN) Classification\n",
    "\n",
    "Let us first observe the accuracies for different values of k"
   ]
  },
  {
   "cell_type": "code",
   "execution_count": 10,
   "metadata": {},
   "outputs": [
    {
     "data": {
      "image/png": "[encoded data removed]",
      "text/plain": [
       "<Figure size 864x576 with 4 Axes>"
      ]
     },
     "metadata": {
      "needs_background": "light"
     },
     "output_type": "display_data"
    }
   ],
   "source": [
    "plots_analysis.knn_test_number_of_neighbors(trace_stats, 30)"
   ]
  },
  {
   "cell_type": "markdown",
   "metadata": {},
   "source": [
    "Let's build KNN classifier "
   ]
  },
  {
   "cell_type": "code",
   "execution_count": 11,
   "metadata": {},
   "outputs": [
    {
     "name": "stdout",
     "output_type": "stream",
     "text": [
      "Computing trace 200\n",
      "Computing trace 25\n",
      "Computing trace 50\n",
      "Computing trace 100\n"
     ]
    }
   ],
   "source": [
    "results = pd.concat([results, \n",
    "                     trace_classification.k_nearest_neighbor_classification(trace_stats, features_to_drop, n_neighbors=11)\n",
    "                    ])"
   ]
  },
  {
   "cell_type": "markdown",
   "metadata": {},
   "source": [
    "We want to compute average accuracy for each trace size (i.e. for each window size from 200 - the entire window - to 100, 50 and 25)"
   ]
  },
  {
   "cell_type": "code",
   "execution_count": 12,
   "metadata": {},
   "outputs": [
    {
     "name": "stdout",
     "output_type": "stream",
     "text": [
      "Computing trace 200\n",
      "Computing trace 25\n",
      "Computing trace 50\n",
      "Computing trace 100\n"
     ]
    }
   ],
   "source": [
    "cv_results = pd.concat([cv_results, \n",
    "                     trace_classification.k_nearest_neighbor_cross_validation(trace_stats, features_to_drop, n_neighbors=11)\n",
    "                    ])"
   ]
  },
  {
   "cell_type": "markdown",
   "metadata": {},
   "source": [
    "Let's do the same for the whole network"
   ]
  },
  {
   "cell_type": "code",
   "execution_count": 29,
   "metadata": {},
   "outputs": [
    {
     "name": "stdout",
     "output_type": "stream",
     "text": [
      "Computing trace 200\n",
      "Computing trace 25\n",
      "Computing trace 50\n",
      "Computing trace 100\n"
     ]
    }
   ],
   "source": [
    "net_results = pd.concat([net_results, \n",
    "                     trace_classification.k_nearest_neighbor_classification(network_stats, net_features_to_drop)\n",
    "                    ])"
   ]
  },
  {
   "cell_type": "markdown",
   "metadata": {},
   "source": [
    "Cross validation"
   ]
  },
  {
   "cell_type": "code",
   "execution_count": 14,
   "metadata": {},
   "outputs": [
    {
     "name": "stdout",
     "output_type": "stream",
     "text": [
      "Computing trace 200\n",
      "Computing trace 25\n",
      "Computing trace 50\n",
      "Computing trace 100\n"
     ]
    }
   ],
   "source": [
    "cv_net_results = pd.concat([cv_net_results, \n",
    "                     trace_classification.k_nearest_neighbor_cross_validation(network_stats, net_features_to_drop, cross_val=3)\n",
    "                    ])"
   ]
  },
  {
   "cell_type": "markdown",
   "metadata": {},
   "source": [
    "# Support Vector Machines (SVM) Classification\n",
    "\n",
    "Let us experiment with another classifier"
   ]
  },
  {
   "cell_type": "code",
   "execution_count": 30,
   "metadata": {},
   "outputs": [
    {
     "name": "stdout",
     "output_type": "stream",
     "text": [
      "Computing trace 200\n",
      "Computing trace 25\n",
      "Computing trace 50\n",
      "Computing trace 100\n"
     ]
    }
   ],
   "source": [
    "results = pd.concat([results, \n",
    "                     trace_classification.support_vector_machines_classification(trace_stats, features_to_drop, kernel='rbf')\n",
    "                    ])"
   ]
  },
  {
   "cell_type": "markdown",
   "metadata": {},
   "source": [
    "We want to compute average accuracy for each trace size (i.e. for each window size from 200 - the entire window - to 100, 50 and 25)"
   ]
  },
  {
   "cell_type": "code",
   "execution_count": 16,
   "metadata": {},
   "outputs": [
    {
     "name": "stdout",
     "output_type": "stream",
     "text": [
      "Computing trace 200\n",
      "Computing trace 25\n",
      "Computing trace 50\n",
      "Computing trace 100\n"
     ]
    }
   ],
   "source": [
    "cv_results = pd.concat([cv_results, \n",
    "                     trace_classification.support_vector_machines_cross_validation(trace_stats, features_to_drop, kernel='rbf')\n",
    "                    ])"
   ]
  },
  {
   "cell_type": "markdown",
   "metadata": {},
   "source": [
    "Let's do the same for the whole network"
   ]
  },
  {
   "cell_type": "code",
   "execution_count": 31,
   "metadata": {},
   "outputs": [
    {
     "name": "stdout",
     "output_type": "stream",
     "text": [
      "Computing trace 200\n",
      "Computing trace 25\n",
      "Computing trace 50\n",
      "Computing trace 100\n"
     ]
    }
   ],
   "source": [
    "net_results = pd.concat([net_results, \n",
    "                     trace_classification.support_vector_machines_classification(network_stats, net_features_to_drop, kernel='rbf')\n",
    "                    ])"
   ]
  },
  {
   "cell_type": "markdown",
   "metadata": {},
   "source": [
    "Cross validation"
   ]
  },
  {
   "cell_type": "code",
   "execution_count": 18,
   "metadata": {},
   "outputs": [
    {
     "data": {
      "text/plain": [
       "'\\ncv_net_results = pd.concat([cv_net_results, \\n                     trace_classification.support_vector_machines_cross_validation(network_stats, net_features_to_drop, cross_val=3)\\n                    ])\\n'"
      ]
     },
     "execution_count": 18,
     "metadata": {},
     "output_type": "execute_result"
    }
   ],
   "source": [
    "'''\n",
    "cv_net_results = pd.concat([cv_net_results, \n",
    "                     trace_classification.support_vector_machines_cross_validation(network_stats, net_features_to_drop, cross_val=3)\n",
    "                    ])\n",
    "'''"
   ]
  },
  {
   "cell_type": "markdown",
   "metadata": {},
   "source": [
    "# One Vs The Rest Classifier\n",
    "\n",
    "SVM performs really well, but it is slow. Now we try to implement it in a most efficient way. The strategy consists in fitting one classifier per class. For each classifier, the class is fitted against all the other classes"
   ]
  },
  {
   "cell_type": "code",
   "execution_count": 32,
   "metadata": {},
   "outputs": [
    {
     "name": "stdout",
     "output_type": "stream",
     "text": [
      "Computing trace 200\n",
      "Computing trace 25\n",
      "Computing trace 50\n",
      "Computing trace 100\n"
     ]
    }
   ],
   "source": [
    "results = pd.concat([results, \n",
    "                     trace_classification.ensalble_svm_classification(trace_stats, features_to_drop, n_estimators=15)\n",
    "                    ])"
   ]
  },
  {
   "cell_type": "markdown",
   "metadata": {},
   "source": [
    "Cross validate"
   ]
  },
  {
   "cell_type": "code",
   "execution_count": 33,
   "metadata": {},
   "outputs": [
    {
     "name": "stdout",
     "output_type": "stream",
     "text": [
      "Computing trace 200\n",
      "Computing trace 25\n",
      "Computing trace 50\n",
      "Computing trace 100\n"
     ]
    }
   ],
   "source": [
    "cv_results = pd.concat([cv_results, \n",
    "                     trace_classification.ensalble_svm_cross_validation(trace_stats, features_to_drop, n_estimators=15)\n",
    "                    ])"
   ]
  },
  {
   "cell_type": "markdown",
   "metadata": {},
   "source": [
    "Let's do the same for the whole network"
   ]
  },
  {
   "cell_type": "code",
   "execution_count": 34,
   "metadata": {},
   "outputs": [
    {
     "name": "stdout",
     "output_type": "stream",
     "text": [
      "Computing trace 200\n",
      "Computing trace 25\n",
      "Computing trace 50\n",
      "Computing trace 100\n"
     ]
    }
   ],
   "source": [
    "net_results = pd.concat([net_results, \n",
    "                     trace_classification.ensalble_svm_classification(network_stats, net_features_to_drop)\n",
    "                    ])"
   ]
  },
  {
   "cell_type": "markdown",
   "metadata": {},
   "source": [
    "Cross validation"
   ]
  },
  {
   "cell_type": "code",
   "execution_count": 35,
   "metadata": {},
   "outputs": [
    {
     "name": "stdout",
     "output_type": "stream",
     "text": [
      "Computing trace 200\n",
      "Computing trace 25\n",
      "Computing trace 50\n",
      "Computing trace 100\n"
     ]
    }
   ],
   "source": [
    "cv_net_results = pd.concat([cv_net_results, \n",
    "                     trace_classification.ensalble_svm_cross_validation(network_stats, net_features_to_drop, cross_val=3)\n",
    "                    ])"
   ]
  },
  {
   "cell_type": "markdown",
   "metadata": {},
   "source": [
    "# Per Node Results\n",
    "\n",
    "Results from each model"
   ]
  },
  {
   "cell_type": "code",
   "execution_count": 23,
   "metadata": {
    "scrolled": true
   },
   "outputs": [
    {
     "data": {
      "text/html": [
       "<div>\n",
       "<style scoped>\n",
       "    .dataframe tbody tr th:only-of-type {\n",
       "        vertical-align: middle;\n",
       "    }\n",
       "\n",
       "    .dataframe tbody tr th {\n",
       "        vertical-align: top;\n",
       "    }\n",
       "\n",
       "    .dataframe thead th {\n",
       "        text-align: right;\n",
       "    }\n",
       "</style>\n",
       "<table border=\"1\" class=\"dataframe\">\n",
       "  <thead>\n",
       "    <tr style=\"text-align: right;\">\n",
       "      <th></th>\n",
       "      <th>Model</th>\n",
       "      <th>Window Size</th>\n",
       "      <th>Accuracy</th>\n",
       "      <th>Precision</th>\n",
       "      <th>Recall</th>\n",
       "      <th>F1-score</th>\n",
       "      <th>Training Time (sec)</th>\n",
       "      <th>Testing Time (sec)</th>\n",
       "    </tr>\n",
       "  </thead>\n",
       "  <tbody>\n",
       "    <tr>\n",
       "      <th>0</th>\n",
       "      <td>Random Forest</td>\n",
       "      <td>200</td>\n",
       "      <td>0.763889</td>\n",
       "      <td>0.550549</td>\n",
       "      <td>0.528325</td>\n",
       "      <td>0.526132</td>\n",
       "      <td>0.088880</td>\n",
       "      <td>0.010382</td>\n",
       "    </tr>\n",
       "    <tr>\n",
       "      <th>1</th>\n",
       "      <td>Random Forest</td>\n",
       "      <td>25</td>\n",
       "      <td>0.763462</td>\n",
       "      <td>0.565261</td>\n",
       "      <td>0.515918</td>\n",
       "      <td>0.489296</td>\n",
       "      <td>0.232175</td>\n",
       "      <td>0.011762</td>\n",
       "    </tr>\n",
       "    <tr>\n",
       "      <th>2</th>\n",
       "      <td>Random Forest</td>\n",
       "      <td>50</td>\n",
       "      <td>0.807407</td>\n",
       "      <td>0.620000</td>\n",
       "      <td>0.556306</td>\n",
       "      <td>0.562562</td>\n",
       "      <td>0.149102</td>\n",
       "      <td>0.008999</td>\n",
       "    </tr>\n",
       "    <tr>\n",
       "      <th>3</th>\n",
       "      <td>Random Forest</td>\n",
       "      <td>100</td>\n",
       "      <td>0.804348</td>\n",
       "      <td>0.581846</td>\n",
       "      <td>0.552116</td>\n",
       "      <td>0.558269</td>\n",
       "      <td>0.118608</td>\n",
       "      <td>0.007955</td>\n",
       "    </tr>\n",
       "    <tr>\n",
       "      <th>4</th>\n",
       "      <td>KNN</td>\n",
       "      <td>200</td>\n",
       "      <td>0.805556</td>\n",
       "      <td>0.661765</td>\n",
       "      <td>0.554187</td>\n",
       "      <td>0.555556</td>\n",
       "      <td>0.002322</td>\n",
       "      <td>0.004973</td>\n",
       "    </tr>\n",
       "    <tr>\n",
       "      <th>5</th>\n",
       "      <td>KNN</td>\n",
       "      <td>25</td>\n",
       "      <td>0.767308</td>\n",
       "      <td>0.604360</td>\n",
       "      <td>0.533757</td>\n",
       "      <td>0.520686</td>\n",
       "      <td>0.001810</td>\n",
       "      <td>0.014775</td>\n",
       "    </tr>\n",
       "    <tr>\n",
       "      <th>6</th>\n",
       "      <td>KNN</td>\n",
       "      <td>50</td>\n",
       "      <td>0.822222</td>\n",
       "      <td>0.667308</td>\n",
       "      <td>0.540822</td>\n",
       "      <td>0.536414</td>\n",
       "      <td>0.001195</td>\n",
       "      <td>0.008216</td>\n",
       "    </tr>\n",
       "    <tr>\n",
       "      <th>7</th>\n",
       "      <td>KNN</td>\n",
       "      <td>100</td>\n",
       "      <td>0.833333</td>\n",
       "      <td>0.641767</td>\n",
       "      <td>0.550940</td>\n",
       "      <td>0.556890</td>\n",
       "      <td>0.001085</td>\n",
       "      <td>0.004713</td>\n",
       "    </tr>\n",
       "    <tr>\n",
       "      <th>8</th>\n",
       "      <td>SVM</td>\n",
       "      <td>200</td>\n",
       "      <td>0.805556</td>\n",
       "      <td>0.402778</td>\n",
       "      <td>0.500000</td>\n",
       "      <td>0.446154</td>\n",
       "      <td>0.002267</td>\n",
       "      <td>0.000857</td>\n",
       "    </tr>\n",
       "    <tr>\n",
       "      <th>9</th>\n",
       "      <td>SVM</td>\n",
       "      <td>25</td>\n",
       "      <td>0.775000</td>\n",
       "      <td>0.388247</td>\n",
       "      <td>0.498762</td>\n",
       "      <td>0.436620</td>\n",
       "      <td>0.036010</td>\n",
       "      <td>0.006511</td>\n",
       "    </tr>\n",
       "    <tr>\n",
       "      <th>10</th>\n",
       "      <td>SVM</td>\n",
       "      <td>50</td>\n",
       "      <td>0.825926</td>\n",
       "      <td>0.912639</td>\n",
       "      <td>0.510417</td>\n",
       "      <td>0.472547</td>\n",
       "      <td>0.009539</td>\n",
       "      <td>0.002451</td>\n",
       "    </tr>\n",
       "    <tr>\n",
       "      <th>11</th>\n",
       "      <td>SVM</td>\n",
       "      <td>100</td>\n",
       "      <td>0.826087</td>\n",
       "      <td>0.419118</td>\n",
       "      <td>0.491379</td>\n",
       "      <td>0.452381</td>\n",
       "      <td>0.003630</td>\n",
       "      <td>0.001964</td>\n",
       "    </tr>\n",
       "    <tr>\n",
       "      <th>12</th>\n",
       "      <td>OneVsRestClassifier (SVM)</td>\n",
       "      <td>200</td>\n",
       "      <td>0.583333</td>\n",
       "      <td>0.533333</td>\n",
       "      <td>0.551724</td>\n",
       "      <td>0.509091</td>\n",
       "      <td>0.728531</td>\n",
       "      <td>0.002827</td>\n",
       "    </tr>\n",
       "    <tr>\n",
       "      <th>13</th>\n",
       "      <td>OneVsRestClassifier (SVM)</td>\n",
       "      <td>25</td>\n",
       "      <td>0.776923</td>\n",
       "      <td>0.388462</td>\n",
       "      <td>0.500000</td>\n",
       "      <td>0.437229</td>\n",
       "      <td>5.800188</td>\n",
       "      <td>0.002713</td>\n",
       "    </tr>\n",
       "    <tr>\n",
       "      <th>14</th>\n",
       "      <td>OneVsRestClassifier (SVM)</td>\n",
       "      <td>50</td>\n",
       "      <td>0.648148</td>\n",
       "      <td>0.528220</td>\n",
       "      <td>0.541104</td>\n",
       "      <td>0.521268</td>\n",
       "      <td>2.833836</td>\n",
       "      <td>0.002590</td>\n",
       "    </tr>\n",
       "    <tr>\n",
       "      <th>15</th>\n",
       "      <td>OneVsRestClassifier (SVM)</td>\n",
       "      <td>100</td>\n",
       "      <td>0.514493</td>\n",
       "      <td>0.514493</td>\n",
       "      <td>0.527038</td>\n",
       "      <td>0.450787</td>\n",
       "      <td>1.400043</td>\n",
       "      <td>0.002243</td>\n",
       "    </tr>\n",
       "  </tbody>\n",
       "</table>\n",
       "</div>"
      ],
      "text/plain": [
       "                        Model  Window Size  Accuracy  Precision    Recall  \\\n",
       "0               Random Forest          200  0.763889   0.550549  0.528325   \n",
       "1               Random Forest           25  0.763462   0.565261  0.515918   \n",
       "2               Random Forest           50  0.807407   0.620000  0.556306   \n",
       "3               Random Forest          100  0.804348   0.581846  0.552116   \n",
       "4                         KNN          200  0.805556   0.661765  0.554187   \n",
       "5                         KNN           25  0.767308   0.604360  0.533757   \n",
       "6                         KNN           50  0.822222   0.667308  0.540822   \n",
       "7                         KNN          100  0.833333   0.641767  0.550940   \n",
       "8                         SVM          200  0.805556   0.402778  0.500000   \n",
       "9                         SVM           25  0.775000   0.388247  0.498762   \n",
       "10                        SVM           50  0.825926   0.912639  0.510417   \n",
       "11                        SVM          100  0.826087   0.419118  0.491379   \n",
       "12  OneVsRestClassifier (SVM)          200  0.583333   0.533333  0.551724   \n",
       "13  OneVsRestClassifier (SVM)           25  0.776923   0.388462  0.500000   \n",
       "14  OneVsRestClassifier (SVM)           50  0.648148   0.528220  0.541104   \n",
       "15  OneVsRestClassifier (SVM)          100  0.514493   0.514493  0.527038   \n",
       "\n",
       "    F1-score  Training Time (sec)  Testing Time (sec)  \n",
       "0   0.526132             0.088880            0.010382  \n",
       "1   0.489296             0.232175            0.011762  \n",
       "2   0.562562             0.149102            0.008999  \n",
       "3   0.558269             0.118608            0.007955  \n",
       "4   0.555556             0.002322            0.004973  \n",
       "5   0.520686             0.001810            0.014775  \n",
       "6   0.536414             0.001195            0.008216  \n",
       "7   0.556890             0.001085            0.004713  \n",
       "8   0.446154             0.002267            0.000857  \n",
       "9   0.436620             0.036010            0.006511  \n",
       "10  0.472547             0.009539            0.002451  \n",
       "11  0.452381             0.003630            0.001964  \n",
       "12  0.509091             0.728531            0.002827  \n",
       "13  0.437229             5.800188            0.002713  \n",
       "14  0.521268             2.833836            0.002590  \n",
       "15  0.450787             1.400043            0.002243  "
      ]
     },
     "execution_count": 23,
     "metadata": {},
     "output_type": "execute_result"
    }
   ],
   "source": [
    "results.reset_index(drop=True)"
   ]
  },
  {
   "cell_type": "markdown",
   "metadata": {},
   "source": [
    "Here we plot the average results for each model computed with cross validation"
   ]
  },
  {
   "cell_type": "code",
   "execution_count": 24,
   "metadata": {
    "scrolled": true
   },
   "outputs": [
    {
     "data": {
      "text/html": [
       "<div>\n",
       "<style scoped>\n",
       "    .dataframe tbody tr th:only-of-type {\n",
       "        vertical-align: middle;\n",
       "    }\n",
       "\n",
       "    .dataframe tbody tr th {\n",
       "        vertical-align: top;\n",
       "    }\n",
       "\n",
       "    .dataframe thead th {\n",
       "        text-align: right;\n",
       "    }\n",
       "</style>\n",
       "<table border=\"1\" class=\"dataframe\">\n",
       "  <thead>\n",
       "    <tr style=\"text-align: right;\">\n",
       "      <th></th>\n",
       "      <th>Model</th>\n",
       "      <th>Window Size</th>\n",
       "      <th>Mean Accuracy</th>\n",
       "    </tr>\n",
       "  </thead>\n",
       "  <tbody>\n",
       "    <tr>\n",
       "      <th>0</th>\n",
       "      <td>Random Forest</td>\n",
       "      <td>200</td>\n",
       "      <td>0.768794</td>\n",
       "    </tr>\n",
       "    <tr>\n",
       "      <th>1</th>\n",
       "      <td>Random Forest</td>\n",
       "      <td>25</td>\n",
       "      <td>0.761971</td>\n",
       "    </tr>\n",
       "    <tr>\n",
       "      <th>2</th>\n",
       "      <td>Random Forest</td>\n",
       "      <td>50</td>\n",
       "      <td>0.770348</td>\n",
       "    </tr>\n",
       "    <tr>\n",
       "      <th>3</th>\n",
       "      <td>Random Forest</td>\n",
       "      <td>100</td>\n",
       "      <td>0.750000</td>\n",
       "    </tr>\n",
       "    <tr>\n",
       "      <th>4</th>\n",
       "      <td>KNN</td>\n",
       "      <td>200</td>\n",
       "      <td>0.789628</td>\n",
       "    </tr>\n",
       "    <tr>\n",
       "      <th>5</th>\n",
       "      <td>KNN</td>\n",
       "      <td>25</td>\n",
       "      <td>0.782757</td>\n",
       "    </tr>\n",
       "    <tr>\n",
       "      <th>6</th>\n",
       "      <td>KNN</td>\n",
       "      <td>50</td>\n",
       "      <td>0.792657</td>\n",
       "    </tr>\n",
       "    <tr>\n",
       "      <th>7</th>\n",
       "      <td>KNN</td>\n",
       "      <td>100</td>\n",
       "      <td>0.789130</td>\n",
       "    </tr>\n",
       "    <tr>\n",
       "      <th>8</th>\n",
       "      <td>SVM</td>\n",
       "      <td>200</td>\n",
       "      <td>0.806649</td>\n",
       "    </tr>\n",
       "    <tr>\n",
       "      <th>9</th>\n",
       "      <td>SVM</td>\n",
       "      <td>25</td>\n",
       "      <td>0.800115</td>\n",
       "    </tr>\n",
       "    <tr>\n",
       "      <th>10</th>\n",
       "      <td>SVM</td>\n",
       "      <td>50</td>\n",
       "      <td>0.807145</td>\n",
       "    </tr>\n",
       "    <tr>\n",
       "      <th>11</th>\n",
       "      <td>SVM</td>\n",
       "      <td>100</td>\n",
       "      <td>0.800000</td>\n",
       "    </tr>\n",
       "    <tr>\n",
       "      <th>12</th>\n",
       "      <td>OneVsRestClassifier (SVM)</td>\n",
       "      <td>200</td>\n",
       "      <td>0.542642</td>\n",
       "    </tr>\n",
       "    <tr>\n",
       "      <th>13</th>\n",
       "      <td>OneVsRestClassifier (SVM)</td>\n",
       "      <td>25</td>\n",
       "      <td>0.664221</td>\n",
       "    </tr>\n",
       "    <tr>\n",
       "      <th>14</th>\n",
       "      <td>OneVsRestClassifier (SVM)</td>\n",
       "      <td>50</td>\n",
       "      <td>0.696772</td>\n",
       "    </tr>\n",
       "    <tr>\n",
       "      <th>15</th>\n",
       "      <td>OneVsRestClassifier (SVM)</td>\n",
       "      <td>100</td>\n",
       "      <td>0.643478</td>\n",
       "    </tr>\n",
       "  </tbody>\n",
       "</table>\n",
       "</div>"
      ],
      "text/plain": [
       "                        Model  Window Size  Mean Accuracy\n",
       "0               Random Forest          200       0.768794\n",
       "1               Random Forest           25       0.761971\n",
       "2               Random Forest           50       0.770348\n",
       "3               Random Forest          100       0.750000\n",
       "4                         KNN          200       0.789628\n",
       "5                         KNN           25       0.782757\n",
       "6                         KNN           50       0.792657\n",
       "7                         KNN          100       0.789130\n",
       "8                         SVM          200       0.806649\n",
       "9                         SVM           25       0.800115\n",
       "10                        SVM           50       0.807145\n",
       "11                        SVM          100       0.800000\n",
       "12  OneVsRestClassifier (SVM)          200       0.542642\n",
       "13  OneVsRestClassifier (SVM)           25       0.664221\n",
       "14  OneVsRestClassifier (SVM)           50       0.696772\n",
       "15  OneVsRestClassifier (SVM)          100       0.643478"
      ]
     },
     "execution_count": 24,
     "metadata": {},
     "output_type": "execute_result"
    }
   ],
   "source": [
    "cv_results.reset_index(drop=True)"
   ]
  },
  {
   "cell_type": "markdown",
   "metadata": {},
   "source": [
    "# Network Results\n",
    "\n",
    "Here we print the results from each model on the whole network"
   ]
  },
  {
   "cell_type": "code",
   "execution_count": 25,
   "metadata": {},
   "outputs": [
    {
     "data": {
      "text/html": [
       "<div>\n",
       "<style scoped>\n",
       "    .dataframe tbody tr th:only-of-type {\n",
       "        vertical-align: middle;\n",
       "    }\n",
       "\n",
       "    .dataframe tbody tr th {\n",
       "        vertical-align: top;\n",
       "    }\n",
       "\n",
       "    .dataframe thead th {\n",
       "        text-align: right;\n",
       "    }\n",
       "</style>\n",
       "<table border=\"1\" class=\"dataframe\">\n",
       "  <thead>\n",
       "    <tr style=\"text-align: right;\">\n",
       "      <th></th>\n",
       "      <th>Model</th>\n",
       "      <th>Window Size</th>\n",
       "      <th>Accuracy</th>\n",
       "      <th>Precision</th>\n",
       "      <th>Recall</th>\n",
       "      <th>F1-score</th>\n",
       "      <th>Training Time (sec)</th>\n",
       "      <th>Testing Time (sec)</th>\n",
       "    </tr>\n",
       "  </thead>\n",
       "  <tbody>\n",
       "    <tr>\n",
       "      <th>0</th>\n",
       "      <td>Random Forest</td>\n",
       "      <td>200</td>\n",
       "      <td>0.888889</td>\n",
       "      <td>0.444444</td>\n",
       "      <td>0.5000</td>\n",
       "      <td>0.470588</td>\n",
       "      <td>0.087240</td>\n",
       "      <td>0.006499</td>\n",
       "    </tr>\n",
       "    <tr>\n",
       "      <th>1</th>\n",
       "      <td>Random Forest</td>\n",
       "      <td>25</td>\n",
       "      <td>0.777778</td>\n",
       "      <td>0.388889</td>\n",
       "      <td>0.5000</td>\n",
       "      <td>0.437500</td>\n",
       "      <td>0.071328</td>\n",
       "      <td>0.009852</td>\n",
       "    </tr>\n",
       "    <tr>\n",
       "      <th>2</th>\n",
       "      <td>Random Forest</td>\n",
       "      <td>50</td>\n",
       "      <td>0.750000</td>\n",
       "      <td>0.409091</td>\n",
       "      <td>0.4500</td>\n",
       "      <td>0.428571</td>\n",
       "      <td>0.095303</td>\n",
       "      <td>0.006577</td>\n",
       "    </tr>\n",
       "    <tr>\n",
       "      <th>3</th>\n",
       "      <td>Random Forest</td>\n",
       "      <td>100</td>\n",
       "      <td>0.833333</td>\n",
       "      <td>0.416667</td>\n",
       "      <td>0.5000</td>\n",
       "      <td>0.454545</td>\n",
       "      <td>0.069689</td>\n",
       "      <td>0.010828</td>\n",
       "    </tr>\n",
       "    <tr>\n",
       "      <th>4</th>\n",
       "      <td>KNN</td>\n",
       "      <td>200</td>\n",
       "      <td>0.666667</td>\n",
       "      <td>0.625000</td>\n",
       "      <td>0.8125</td>\n",
       "      <td>0.584615</td>\n",
       "      <td>0.002054</td>\n",
       "      <td>0.001967</td>\n",
       "    </tr>\n",
       "    <tr>\n",
       "      <th>5</th>\n",
       "      <td>KNN</td>\n",
       "      <td>25</td>\n",
       "      <td>0.777778</td>\n",
       "      <td>0.388889</td>\n",
       "      <td>0.5000</td>\n",
       "      <td>0.437500</td>\n",
       "      <td>0.001327</td>\n",
       "      <td>0.004076</td>\n",
       "    </tr>\n",
       "    <tr>\n",
       "      <th>6</th>\n",
       "      <td>KNN</td>\n",
       "      <td>50</td>\n",
       "      <td>0.833333</td>\n",
       "      <td>0.416667</td>\n",
       "      <td>0.5000</td>\n",
       "      <td>0.454545</td>\n",
       "      <td>0.000960</td>\n",
       "      <td>0.001899</td>\n",
       "    </tr>\n",
       "    <tr>\n",
       "      <th>7</th>\n",
       "      <td>KNN</td>\n",
       "      <td>100</td>\n",
       "      <td>0.833333</td>\n",
       "      <td>0.416667</td>\n",
       "      <td>0.5000</td>\n",
       "      <td>0.454545</td>\n",
       "      <td>0.000864</td>\n",
       "      <td>0.001449</td>\n",
       "    </tr>\n",
       "    <tr>\n",
       "      <th>8</th>\n",
       "      <td>SVM</td>\n",
       "      <td>200</td>\n",
       "      <td>0.888889</td>\n",
       "      <td>0.444444</td>\n",
       "      <td>0.5000</td>\n",
       "      <td>0.470588</td>\n",
       "      <td>0.001850</td>\n",
       "      <td>0.000941</td>\n",
       "    </tr>\n",
       "    <tr>\n",
       "      <th>9</th>\n",
       "      <td>SVM</td>\n",
       "      <td>25</td>\n",
       "      <td>0.777778</td>\n",
       "      <td>0.388889</td>\n",
       "      <td>0.5000</td>\n",
       "      <td>0.437500</td>\n",
       "      <td>0.001079</td>\n",
       "      <td>0.000684</td>\n",
       "    </tr>\n",
       "    <tr>\n",
       "      <th>10</th>\n",
       "      <td>SVM</td>\n",
       "      <td>50</td>\n",
       "      <td>0.833333</td>\n",
       "      <td>0.416667</td>\n",
       "      <td>0.5000</td>\n",
       "      <td>0.454545</td>\n",
       "      <td>0.001348</td>\n",
       "      <td>0.000688</td>\n",
       "    </tr>\n",
       "    <tr>\n",
       "      <th>11</th>\n",
       "      <td>SVM</td>\n",
       "      <td>100</td>\n",
       "      <td>0.833333</td>\n",
       "      <td>0.416667</td>\n",
       "      <td>0.5000</td>\n",
       "      <td>0.454545</td>\n",
       "      <td>0.000873</td>\n",
       "      <td>0.000765</td>\n",
       "    </tr>\n",
       "    <tr>\n",
       "      <th>12</th>\n",
       "      <td>OneVsRestClassifier (SVM)</td>\n",
       "      <td>200</td>\n",
       "      <td>0.888889</td>\n",
       "      <td>0.444444</td>\n",
       "      <td>0.5000</td>\n",
       "      <td>0.470588</td>\n",
       "      <td>0.019359</td>\n",
       "      <td>0.003280</td>\n",
       "    </tr>\n",
       "    <tr>\n",
       "      <th>13</th>\n",
       "      <td>OneVsRestClassifier (SVM)</td>\n",
       "      <td>25</td>\n",
       "      <td>0.777778</td>\n",
       "      <td>0.388889</td>\n",
       "      <td>0.5000</td>\n",
       "      <td>0.437500</td>\n",
       "      <td>0.022470</td>\n",
       "      <td>0.003003</td>\n",
       "    </tr>\n",
       "    <tr>\n",
       "      <th>14</th>\n",
       "      <td>OneVsRestClassifier (SVM)</td>\n",
       "      <td>50</td>\n",
       "      <td>0.833333</td>\n",
       "      <td>0.416667</td>\n",
       "      <td>0.5000</td>\n",
       "      <td>0.454545</td>\n",
       "      <td>0.016344</td>\n",
       "      <td>0.002899</td>\n",
       "    </tr>\n",
       "    <tr>\n",
       "      <th>15</th>\n",
       "      <td>OneVsRestClassifier (SVM)</td>\n",
       "      <td>100</td>\n",
       "      <td>0.833333</td>\n",
       "      <td>0.416667</td>\n",
       "      <td>0.5000</td>\n",
       "      <td>0.454545</td>\n",
       "      <td>0.013461</td>\n",
       "      <td>0.002406</td>\n",
       "    </tr>\n",
       "  </tbody>\n",
       "</table>\n",
       "</div>"
      ],
      "text/plain": [
       "                        Model  Window Size  Accuracy  Precision  Recall  \\\n",
       "0               Random Forest          200  0.888889   0.444444  0.5000   \n",
       "1               Random Forest           25  0.777778   0.388889  0.5000   \n",
       "2               Random Forest           50  0.750000   0.409091  0.4500   \n",
       "3               Random Forest          100  0.833333   0.416667  0.5000   \n",
       "4                         KNN          200  0.666667   0.625000  0.8125   \n",
       "5                         KNN           25  0.777778   0.388889  0.5000   \n",
       "6                         KNN           50  0.833333   0.416667  0.5000   \n",
       "7                         KNN          100  0.833333   0.416667  0.5000   \n",
       "8                         SVM          200  0.888889   0.444444  0.5000   \n",
       "9                         SVM           25  0.777778   0.388889  0.5000   \n",
       "10                        SVM           50  0.833333   0.416667  0.5000   \n",
       "11                        SVM          100  0.833333   0.416667  0.5000   \n",
       "12  OneVsRestClassifier (SVM)          200  0.888889   0.444444  0.5000   \n",
       "13  OneVsRestClassifier (SVM)           25  0.777778   0.388889  0.5000   \n",
       "14  OneVsRestClassifier (SVM)           50  0.833333   0.416667  0.5000   \n",
       "15  OneVsRestClassifier (SVM)          100  0.833333   0.416667  0.5000   \n",
       "\n",
       "    F1-score  Training Time (sec)  Testing Time (sec)  \n",
       "0   0.470588             0.087240            0.006499  \n",
       "1   0.437500             0.071328            0.009852  \n",
       "2   0.428571             0.095303            0.006577  \n",
       "3   0.454545             0.069689            0.010828  \n",
       "4   0.584615             0.002054            0.001967  \n",
       "5   0.437500             0.001327            0.004076  \n",
       "6   0.454545             0.000960            0.001899  \n",
       "7   0.454545             0.000864            0.001449  \n",
       "8   0.470588             0.001850            0.000941  \n",
       "9   0.437500             0.001079            0.000684  \n",
       "10  0.454545             0.001348            0.000688  \n",
       "11  0.454545             0.000873            0.000765  \n",
       "12  0.470588             0.019359            0.003280  \n",
       "13  0.437500             0.022470            0.003003  \n",
       "14  0.454545             0.016344            0.002899  \n",
       "15  0.454545             0.013461            0.002406  "
      ]
     },
     "execution_count": 25,
     "metadata": {},
     "output_type": "execute_result"
    }
   ],
   "source": [
    "net_results.reset_index(drop=True)"
   ]
  },
  {
   "cell_type": "markdown",
   "metadata": {},
   "source": [
    "Here we plot the average results for each model computed with cross validation"
   ]
  },
  {
   "cell_type": "code",
   "execution_count": 26,
   "metadata": {},
   "outputs": [
    {
     "data": {
      "text/html": [
       "<div>\n",
       "<style scoped>\n",
       "    .dataframe tbody tr th:only-of-type {\n",
       "        vertical-align: middle;\n",
       "    }\n",
       "\n",
       "    .dataframe tbody tr th {\n",
       "        vertical-align: top;\n",
       "    }\n",
       "\n",
       "    .dataframe thead th {\n",
       "        text-align: right;\n",
       "    }\n",
       "</style>\n",
       "<table border=\"1\" class=\"dataframe\">\n",
       "  <thead>\n",
       "    <tr style=\"text-align: right;\">\n",
       "      <th></th>\n",
       "      <th>Model</th>\n",
       "      <th>Window Size</th>\n",
       "      <th>Mean Accuracy</th>\n",
       "    </tr>\n",
       "  </thead>\n",
       "  <tbody>\n",
       "    <tr>\n",
       "      <th>0</th>\n",
       "      <td>Random Forest</td>\n",
       "      <td>200</td>\n",
       "      <td>0.765320</td>\n",
       "    </tr>\n",
       "    <tr>\n",
       "      <th>1</th>\n",
       "      <td>Random Forest</td>\n",
       "      <td>25</td>\n",
       "      <td>0.829148</td>\n",
       "    </tr>\n",
       "    <tr>\n",
       "      <th>2</th>\n",
       "      <td>Random Forest</td>\n",
       "      <td>50</td>\n",
       "      <td>0.792407</td>\n",
       "    </tr>\n",
       "    <tr>\n",
       "      <th>3</th>\n",
       "      <td>Random Forest</td>\n",
       "      <td>100</td>\n",
       "      <td>0.784586</td>\n",
       "    </tr>\n",
       "    <tr>\n",
       "      <th>4</th>\n",
       "      <td>KNN</td>\n",
       "      <td>200</td>\n",
       "      <td>0.728283</td>\n",
       "    </tr>\n",
       "    <tr>\n",
       "      <th>5</th>\n",
       "      <td>KNN</td>\n",
       "      <td>25</td>\n",
       "      <td>0.712535</td>\n",
       "    </tr>\n",
       "    <tr>\n",
       "      <th>6</th>\n",
       "      <td>KNN</td>\n",
       "      <td>50</td>\n",
       "      <td>0.670872</td>\n",
       "    </tr>\n",
       "    <tr>\n",
       "      <th>7</th>\n",
       "      <td>KNN</td>\n",
       "      <td>100</td>\n",
       "      <td>0.786257</td>\n",
       "    </tr>\n",
       "    <tr>\n",
       "      <th>8</th>\n",
       "      <td>OneVsRestClassifier (SVM)</td>\n",
       "      <td>200</td>\n",
       "      <td>0.835690</td>\n",
       "    </tr>\n",
       "    <tr>\n",
       "      <th>9</th>\n",
       "      <td>OneVsRestClassifier (SVM)</td>\n",
       "      <td>25</td>\n",
       "      <td>0.708882</td>\n",
       "    </tr>\n",
       "    <tr>\n",
       "      <th>10</th>\n",
       "      <td>OneVsRestClassifier (SVM)</td>\n",
       "      <td>50</td>\n",
       "      <td>0.809084</td>\n",
       "    </tr>\n",
       "    <tr>\n",
       "      <th>11</th>\n",
       "      <td>OneVsRestClassifier (SVM)</td>\n",
       "      <td>100</td>\n",
       "      <td>0.767210</td>\n",
       "    </tr>\n",
       "  </tbody>\n",
       "</table>\n",
       "</div>"
      ],
      "text/plain": [
       "                        Model  Window Size  Mean Accuracy\n",
       "0               Random Forest          200       0.765320\n",
       "1               Random Forest           25       0.829148\n",
       "2               Random Forest           50       0.792407\n",
       "3               Random Forest          100       0.784586\n",
       "4                         KNN          200       0.728283\n",
       "5                         KNN           25       0.712535\n",
       "6                         KNN           50       0.670872\n",
       "7                         KNN          100       0.786257\n",
       "8   OneVsRestClassifier (SVM)          200       0.835690\n",
       "9   OneVsRestClassifier (SVM)           25       0.708882\n",
       "10  OneVsRestClassifier (SVM)           50       0.809084\n",
       "11  OneVsRestClassifier (SVM)          100       0.767210"
      ]
     },
     "execution_count": 26,
     "metadata": {},
     "output_type": "execute_result"
    }
   ],
   "source": [
    "cv_net_results.reset_index(drop=True)"
   ]
  },
  {
   "cell_type": "code",
   "execution_count": null,
   "metadata": {},
   "outputs": [],
   "source": []
  }
 ],
 "metadata": {
  "kernelspec": {
   "display_name": "Python 3",
   "language": "python",
   "name": "python3"
  },
  "language_info": {
   "codemirror_mode": {
    "name": "ipython",
    "version": 3
   },
   "file_extension": ".py",
   "mimetype": "text/x-python",
   "name": "python",
   "nbconvert_exporter": "python",
   "pygments_lexer": "ipython3",
   "version": "3.7.2"
  }
 },
 "nbformat": 4,
 "nbformat_minor": 2
}
