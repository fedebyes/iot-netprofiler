{
 "cells": [
  {
   "cell_type": "code",
   "execution_count": 5,
   "metadata": {},
   "outputs": [],
   "source": [
    "import pandas as pd\n",
    "import numpy as np\n",
    "from scipy import stats as sp\n",
    "import sys, os\n",
    "sys.path.append('../')\n",
    "import trace_analysis\n",
    "import plots_analysis\n",
    "import trace_statistics\n",
    "\n",
    "# KNN\n",
    "from sklearn.neighbors import KNeighborsClassifier\n",
    "from sklearn.model_selection import train_test_split\n",
    "from sklearn import metrics\n",
    "from sklearn.metrics import classification_report\n",
    "from sklearn.model_selection import GridSearchCV\n",
    "from sklearn.model_selection import cross_val_score\n",
    "# SVM\n",
    "from sklearn import svm\n",
    "#Import Random Forest Model\n",
    "from sklearn.ensemble import RandomForestClassifier"
   ]
  },
  {
   "cell_type": "markdown",
   "metadata": {},
   "source": [
    "# Data Preparation\n",
    "\n",
    "\n",
    "Prepare the data to be used with kNN"
   ]
  },
  {
   "cell_type": "code",
   "execution_count": 6,
   "metadata": {},
   "outputs": [
    {
     "data": {
      "text/html": [
       "<div>\n",
       "<style scoped>\n",
       "    .dataframe tbody tr th:only-of-type {\n",
       "        vertical-align: middle;\n",
       "    }\n",
       "\n",
       "    .dataframe tbody tr th {\n",
       "        vertical-align: top;\n",
       "    }\n",
       "\n",
       "    .dataframe thead th {\n",
       "        text-align: right;\n",
       "    }\n",
       "</style>\n",
       "<table border=\"1\" class=\"dataframe\">\n",
       "  <thead>\n",
       "    <tr style=\"text-align: right;\">\n",
       "      <th></th>\n",
       "      <th>node_id</th>\n",
       "      <th>experiment</th>\n",
       "      <th>count</th>\n",
       "      <th>mean</th>\n",
       "      <th>var</th>\n",
       "      <th>std</th>\n",
       "      <th>hop</th>\n",
       "      <th>min</th>\n",
       "      <th>max</th>\n",
       "      <th>loss</th>\n",
       "      <th>label</th>\n",
       "    </tr>\n",
       "  </thead>\n",
       "  <tbody>\n",
       "    <tr>\n",
       "      <th>0</th>\n",
       "      <td>aaaa::212:7404:4:404:</td>\n",
       "      <td>normal</td>\n",
       "      <td>141</td>\n",
       "      <td>339.276596</td>\n",
       "      <td>85174.044377</td>\n",
       "      <td>291.845926</td>\n",
       "      <td>2</td>\n",
       "      <td>106.0</td>\n",
       "      <td>1563.0</td>\n",
       "      <td>0.295</td>\n",
       "      <td>Normal</td>\n",
       "    </tr>\n",
       "    <tr>\n",
       "      <th>1</th>\n",
       "      <td>aaaa::212:7405:5:505:</td>\n",
       "      <td>normal</td>\n",
       "      <td>178</td>\n",
       "      <td>392.123596</td>\n",
       "      <td>28083.058084</td>\n",
       "      <td>167.580005</td>\n",
       "      <td>3</td>\n",
       "      <td>197.0</td>\n",
       "      <td>1557.0</td>\n",
       "      <td>0.110</td>\n",
       "      <td>Normal</td>\n",
       "    </tr>\n",
       "    <tr>\n",
       "      <th>2</th>\n",
       "      <td>aaaa::212:7407:7:707:</td>\n",
       "      <td>normal</td>\n",
       "      <td>151</td>\n",
       "      <td>486.913907</td>\n",
       "      <td>68843.959205</td>\n",
       "      <td>262.381324</td>\n",
       "      <td>3</td>\n",
       "      <td>214.0</td>\n",
       "      <td>1623.0</td>\n",
       "      <td>0.245</td>\n",
       "      <td>Normal</td>\n",
       "    </tr>\n",
       "    <tr>\n",
       "      <th>3</th>\n",
       "      <td>aaaa::212:7406:6:606:</td>\n",
       "      <td>normal</td>\n",
       "      <td>176</td>\n",
       "      <td>315.613636</td>\n",
       "      <td>40342.752727</td>\n",
       "      <td>200.855054</td>\n",
       "      <td>2</td>\n",
       "      <td>129.0</td>\n",
       "      <td>1144.0</td>\n",
       "      <td>0.120</td>\n",
       "      <td>Normal</td>\n",
       "    </tr>\n",
       "    <tr>\n",
       "      <th>4</th>\n",
       "      <td>aaaa::212:740a:a:a0a:</td>\n",
       "      <td>normal</td>\n",
       "      <td>181</td>\n",
       "      <td>497.646409</td>\n",
       "      <td>66065.140945</td>\n",
       "      <td>257.031401</td>\n",
       "      <td>4</td>\n",
       "      <td>260.0</td>\n",
       "      <td>1945.0</td>\n",
       "      <td>0.095</td>\n",
       "      <td>Normal</td>\n",
       "    </tr>\n",
       "  </tbody>\n",
       "</table>\n",
       "</div>"
      ],
      "text/plain": [
       "                 node_id experiment  count        mean           var  \\\n",
       "0  aaaa::212:7404:4:404:     normal    141  339.276596  85174.044377   \n",
       "1  aaaa::212:7405:5:505:     normal    178  392.123596  28083.058084   \n",
       "2  aaaa::212:7407:7:707:     normal    151  486.913907  68843.959205   \n",
       "3  aaaa::212:7406:6:606:     normal    176  315.613636  40342.752727   \n",
       "4  aaaa::212:740a:a:a0a:     normal    181  497.646409  66065.140945   \n",
       "\n",
       "          std  hop    min     max   loss   label  \n",
       "0  291.845926    2  106.0  1563.0  0.295  Normal  \n",
       "1  167.580005    3  197.0  1557.0  0.110  Normal  \n",
       "2  262.381324    3  214.0  1623.0  0.245  Normal  \n",
       "3  200.855054    2  129.0  1144.0  0.120  Normal  \n",
       "4  257.031401    4  260.0  1945.0  0.095  Normal  "
      ]
     },
     "execution_count": 6,
     "metadata": {},
     "output_type": "execute_result"
    }
   ],
   "source": [
    "plots = [(\"traces/normal/\", 'grid9_normal_2019-02-13_17:05'),\n",
    "         (\"traces/1bh-3/\", 'grid9_1bh-3_2019-02-13_16:28'),\n",
    "         (\"traces/1bh-5/\", 'grid9_1bh-5_2019-02-13_15:31'),\n",
    "         (\"traces/1bh-6/\", 'grid9_1bh-6_2019-02-13_12:59'),\n",
    "         (\"traces/1bh-7/\", 'grid9_1bh-7_2019-02-13_15:08'),\n",
    "         (\"traces/1bh-9/\", 'grid9_1bh-9_2019-02-13_15:57'),\n",
    "         (\"traces/1gh-3/\", 'grid_1gh-5_2019-02-15_22:09'),\n",
    "         (\"traces/1gh-5/\", 'grid_1gh-5_2019-02-15_22:09'),\n",
    "         (\"traces/1gh-6/\", 'grid_1gh-6_2019-02-15_18:25'),\n",
    "         (\"traces/1gh-7/\", 'grid9_1bh-7_2019-02-13_15:08'),\n",
    "         (\"traces/1gh-9/\", 'grid_1gh-9_2019-02-15_19:19')\n",
    "        ]\n",
    "\n",
    "stats = None\n",
    "win_25_stats = None\n",
    "win_50_stats = None\n",
    "win_100_stats = None\n",
    "\n",
    "for row in plots:\n",
    "    label = 'Normal'\n",
    "    experiment = row[0].split('/')[1]\n",
    "    \n",
    "    # Assign a label\n",
    "    if row[0].find('gh') >= 0 or row[0].find('bh') >= 0:\n",
    "        label = 'Attacked'\n",
    "    nodes, packets_node = trace_analysis.process_cooja2_traces(row[0], row[1])\n",
    "    \n",
    "    # Update stats\n",
    "    if stats is None:\n",
    "        stats = trace_statistics.compute_labeled_statistics(nodes, packets_node, label, experiment)\n",
    "        win_25_stats = trace_statistics.compute_window_labeled_statistics(nodes, packets_node, label, experiment, 25)\n",
    "        win_50_stats = trace_statistics.compute_window_labeled_statistics(nodes, packets_node, label, experiment, 50)\n",
    "        win_100_stats = trace_statistics.compute_window_labeled_statistics(nodes, packets_node, label, experiment, 100)\n",
    "    else:\n",
    "        stats = pd.concat([stats, trace_statistics.compute_labeled_statistics(nodes, packets_node, label, experiment)])\n",
    "        win_25_stats = pd.concat([win_25_stats, trace_statistics.compute_window_labeled_statistics(nodes, packets_node, label, experiment, 25)])\n",
    "        win_50_stats = pd.concat([win_50_stats, trace_statistics.compute_window_labeled_statistics(nodes, packets_node, label, experiment, 50)])\n",
    "        win_100_stats = pd.concat([win_100_stats, trace_statistics.compute_window_labeled_statistics(nodes, packets_node, label, experiment, 100)])\n",
    "        \n",
    "stats = stats.reset_index(drop=True)\n",
    "win_25_stats = win_25_stats.reset_index(drop=True)\n",
    "win_50_stats = win_50_stats.reset_index(drop=True)\n",
    "win_100_stats = win_100_stats.reset_index(drop=True)\n",
    "\n",
    "# Create a dictionary containing all the statistics for each trace size\n",
    "trace_stats = {200: stats, 25: win_25_stats, 50: win_50_stats, 100: win_100_stats}\n",
    "stats.head(5)"
   ]
  },
  {
   "cell_type": "markdown",
   "metadata": {},
   "source": [
    "Select the set of features and labels that we use to fit the algorithm"
   ]
  },
  {
   "cell_type": "code",
   "execution_count": 7,
   "metadata": {},
   "outputs": [
    {
     "name": "stdout",
     "output_type": "stream",
     "text": [
      "Targets: {'Normal', 'Attacked'}\n"
     ]
    }
   ],
   "source": [
    "# separate features from target values\n",
    "features = stats.drop(columns=['node_id', 'experiment', 'label'])\n",
    "target = stats['label'].values\n",
    "print('Targets: ' + str(set(target)))\n",
    "\n",
    "# split dataset into train and test data\n",
    "X_train, X_test, y_train, y_test = train_test_split(features, target, test_size=0.3, random_state=1)"
   ]
  },
  {
   "cell_type": "markdown",
   "metadata": {},
   "source": [
    "# K-Nearest Neighbor (KNN) Classification\n",
    "\n",
    "Let us first observe the accuracies for different values of k"
   ]
  },
  {
   "cell_type": "code",
   "execution_count": 8,
   "metadata": {},
   "outputs": [
    {
     "data": {
      "image/png": "[encoded data removed]",
      "text/plain": [
       "<Figure size 432x288 with 1 Axes>"
      ]
     },
     "metadata": {
      "needs_background": "light"
     },
     "output_type": "display_data"
    }
   ],
   "source": [
    "trace_analysis.knn_test_number_of_neighbors(X_train, X_test, y_train, y_test)"
   ]
  },
  {
   "cell_type": "markdown",
   "metadata": {},
   "source": [
    "Let's build KNN classifier "
   ]
  },
  {
   "cell_type": "code",
   "execution_count": 9,
   "metadata": {},
   "outputs": [
    {
     "name": "stdout",
     "output_type": "stream",
     "text": [
      "Accuracy: 1.0\n",
      "\n",
      "\n",
      "               precision    recall  f1-score   support\n",
      "\n",
      "    Attacked       1.00      1.00      1.00        21\n",
      "      Normal       1.00      1.00      1.00         1\n",
      "\n",
      "   micro avg       1.00      1.00      1.00        22\n",
      "   macro avg       1.00      1.00      1.00        22\n",
      "weighted avg       1.00      1.00      1.00        22\n",
      "\n"
     ]
    }
   ],
   "source": [
    "#Create KNN Classifier\n",
    "knn = KNeighborsClassifier(n_neighbors=11)\n",
    "\n",
    "#Train the model using the training sets\n",
    "knn.fit(X_train, y_train)\n",
    "\n",
    "#Predict the response for test dataset\n",
    "y_pred = knn.predict(X_test)\n",
    "\n",
    "print(\"Accuracy:\",metrics.accuracy_score(y_test, y_pred))\n",
    "\n",
    "print(\"\\n\\n\",classification_report(y_test,y_pred))\n"
   ]
  },
  {
   "cell_type": "markdown",
   "metadata": {},
   "source": [
    "We want to compute average accuracy for each trace size (i.e. for each window size from 200 - the entire window - to 100, 50 and 25)"
   ]
  },
  {
   "cell_type": "code",
   "execution_count": 10,
   "metadata": {},
   "outputs": [
    {
     "name": "stdout",
     "output_type": "stream",
     "text": [
      "Computing trace 200\n",
      "Computing trace 25\n",
      "Computing trace 50\n",
      "Computing trace 100\n"
     ]
    }
   ],
   "source": [
    "cv_results = None\n",
    "\n",
    "# Select the set of features and labels that we use to fit the algorithm\n",
    "for trace_size in trace_stats:\n",
    "    print('Computing trace {}'.format(trace_size))\n",
    "    trace = trace_stats[trace_size]\n",
    "    # separate features from target values\n",
    "    features = trace.drop(columns=['node_id', 'experiment', 'label'])\n",
    "    target = trace['label'].values\n",
    "    \n",
    "    # split dataset into train and test data\n",
    "    X_train, X_test, y_train, y_test = train_test_split(features, target, test_size=0.3, random_state=1)\n",
    "    \n",
    "    #Create KNN Classifier\n",
    "    knn_clf = KNeighborsClassifier(n_neighbors=11)\n",
    "    \n",
    "    #train model with cv of 5\n",
    "    cv_scores = cross_val_score(knn_clf, features, target, cv = 5)\n",
    "    \n",
    "    if cv_results is None:\n",
    "        cv_results = pd.DataFrame({'Model': ['KNN'], \n",
    "                                   'Window Size': [trace_size], \n",
    "                                   'Mean Accuracy': [np.mean(cv_scores)]})\n",
    "    else:\n",
    "        cv_results = pd.concat([cv_results, pd.DataFrame({'Model': ['KNN'], \n",
    "                                             'Window Size': [trace_size], \n",
    "                                             'Mean Accuracy': [np.mean(cv_scores)]})])"
   ]
  },
  {
   "cell_type": "markdown",
   "metadata": {},
   "source": [
    "# Support Vector Machines (SVM) Classification\n",
    "\n",
    "Let us experiment with another classifier"
   ]
  },
  {
   "cell_type": "code",
   "execution_count": 8,
   "metadata": {},
   "outputs": [
    {
     "name": "stdout",
     "output_type": "stream",
     "text": [
      "Accuracy: 0.8604651162790697\n",
      "\n",
      "\n",
      "               precision    recall  f1-score   support\n",
      "\n",
      "    Attacked       0.97      0.87      0.92        38\n",
      "      Normal       0.44      0.80      0.57         5\n",
      "\n",
      "   micro avg       0.86      0.86      0.86        43\n",
      "   macro avg       0.71      0.83      0.74        43\n",
      "weighted avg       0.91      0.86      0.88        43\n",
      "\n"
     ]
    }
   ],
   "source": [
    "#Create a svm Classifier\n",
    "svm_clf = svm.SVC(kernel='linear', random_state=9, gamma='scale') # Linear Kernel\n",
    "\n",
    "#Train the model using the training sets\n",
    "svm_clf.fit(X_train, y_train)\n",
    "\n",
    "#Predict the response for test dataset\n",
    "y_pred = svm_clf.predict(X_test)\n",
    "\n",
    "print(\"Accuracy:\",metrics.accuracy_score(y_test, y_pred))\n",
    "\n",
    "print(\"\\n\\n\",classification_report(y_test,y_pred))"
   ]
  },
  {
   "cell_type": "markdown",
   "metadata": {},
   "source": [
    "We want to compute average accuracy for each trace size (i.e. for each window size from 200 - the entire window - to 100, 50 and 25)"
   ]
  },
  {
   "cell_type": "code",
   "execution_count": 11,
   "metadata": {},
   "outputs": [
    {
     "name": "stdout",
     "output_type": "stream",
     "text": [
      "Computing trace 200\n",
      "Computing trace 25\n",
      "Computing trace 50\n",
      "Computing trace 100\n"
     ]
    }
   ],
   "source": [
    "# Select the set of features and labels that we use to fit the algorithm\n",
    "for trace_size in trace_stats:\n",
    "    print('Computing trace {}'.format(trace_size))\n",
    "    trace = trace_stats[trace_size]\n",
    "    # separate features from target values\n",
    "    features = trace.drop(columns=['node_id', 'experiment', 'label'])\n",
    "    target = trace['label'].values\n",
    "    \n",
    "    # split dataset into train and test data\n",
    "    X_train, X_test, y_train, y_test = train_test_split(features, target, test_size=0.3, random_state=1)\n",
    "    \n",
    "    #Create SVM Classifier\n",
    "    svm_clf = svm.SVC(kernel='linear', random_state=9, gamma='scale') # Linear Kernel\n",
    "    \n",
    "    #train model with cv of 5\n",
    "    cv_scores = cross_val_score(svm_clf, features, target, cv = 5)\n",
    "    \n",
    "    if cv_results is None:\n",
    "        cv_results = pd.DataFrame({'Model': ['SVM'], \n",
    "                                   'Window Size': [trace_size], \n",
    "                                   'Mean Accuracy': [np.mean(cv_scores)]})\n",
    "    else:\n",
    "        cv_results = pd.concat([cv_results, pd.DataFrame({'Model': ['SVM'], \n",
    "                                             'Window Size': [trace_size], \n",
    "                                             'Mean Accuracy': [np.mean(cv_scores)]})])"
   ]
  },
  {
   "cell_type": "markdown",
   "metadata": {},
   "source": [
    "# Random Forests Classifier\n",
    "\n",
    "Let us experiment with random forests. First, let us select most relevant features."
   ]
  },
  {
   "cell_type": "code",
   "execution_count": 8,
   "metadata": {},
   "outputs": [
    {
     "name": "stderr",
     "output_type": "stream",
     "text": [
      "No handles with labels found to put in legend.\n"
     ]
    },
    {
     "data": {
      "image/png": "[encoded data removed]",
      "text/plain": [
       "<Figure size 432x288 with 1 Axes>"
      ]
     },
     "metadata": {
      "needs_background": "light"
     },
     "output_type": "display_data"
    }
   ],
   "source": [
    "trace_analysis.random_forests_features_selection(X_train, X_test, y_train, y_test, features)"
   ]
  },
  {
   "cell_type": "markdown",
   "metadata": {},
   "source": [
    "Select relevant features"
   ]
  },
  {
   "cell_type": "code",
   "execution_count": 17,
   "metadata": {},
   "outputs": [
    {
     "name": "stdout",
     "output_type": "stream",
     "text": [
      "Targets: {'Normal', 'Gray Hole', 'Black Hole'}\n"
     ]
    }
   ],
   "source": [
    "# separate features from target values\n",
    "features = stats.drop(columns=['node_id', 'experiment', 'label', 'hop'])\n",
    "target = stats['label'].values\n",
    "print('Targets: ' + str(set(target)))\n",
    "\n",
    "# split dataset into train and test data\n",
    "X_train, X_test, y_train, y_test = train_test_split(features, target, test_size=0.3, random_state=1)"
   ]
  },
  {
   "cell_type": "markdown",
   "metadata": {},
   "source": [
    "Predicted values"
   ]
  },
  {
   "cell_type": "code",
   "execution_count": 12,
   "metadata": {},
   "outputs": [
    {
     "name": "stdout",
     "output_type": "stream",
     "text": [
      "Accuracy: 0.9767441860465116\n",
      "\n",
      "\n",
      "               precision    recall  f1-score   support\n",
      "\n",
      "    Attacked       0.97      1.00      0.99        38\n",
      "      Normal       1.00      0.80      0.89         5\n",
      "\n",
      "   micro avg       0.98      0.98      0.98        43\n",
      "   macro avg       0.99      0.90      0.94        43\n",
      "weighted avg       0.98      0.98      0.98        43\n",
      "\n"
     ]
    }
   ],
   "source": [
    "#Create a Gaussian Classifier\n",
    "rf_clf = RandomForestClassifier(n_estimators=100)\n",
    "\n",
    "#Train the model using the training sets y_pred=clf.predict(X_test)\n",
    "rf_clf.fit(X_train,y_train)\n",
    "\n",
    "y_pred = rf_clf.predict(X_test)\n",
    "\n",
    "\n",
    "print(\"Accuracy:\",metrics.accuracy_score(y_test, y_pred))\n",
    "\n",
    "print(\"\\n\\n\",classification_report(y_test,y_pred))"
   ]
  },
  {
   "cell_type": "markdown",
   "metadata": {},
   "source": [
    "We want to compute average accuracy for each trace size (i.e. for each window size from 200 - the entire window - to 100, 50 and 25)"
   ]
  },
  {
   "cell_type": "code",
   "execution_count": 13,
   "metadata": {},
   "outputs": [
    {
     "name": "stdout",
     "output_type": "stream",
     "text": [
      "Computing trace 200\n",
      "Targets: {'Normal', 'Attacked'}\n",
      "Computing trace 25\n",
      "Targets: {'Normal', 'Attacked'}\n",
      "Computing trace 50\n",
      "Targets: {'Normal', 'Attacked'}\n",
      "Computing trace 100\n",
      "Targets: {'Normal', 'Attacked'}\n"
     ]
    }
   ],
   "source": [
    "# Select the set of features and labels that we use to fit the algorithm\n",
    "for trace_size in trace_stats:\n",
    "    print('Computing trace {}'.format(trace_size))\n",
    "    trace = trace_stats[trace_size]\n",
    "    # separate features from target values\n",
    "    features = trace.drop(columns=['node_id', 'experiment', 'label', 'hop'])\n",
    "    target = trace['label'].values\n",
    "    print('Targets: ' + str(set(target)))\n",
    "\n",
    "    # split dataset into train and test data\n",
    "    X_train, X_test, y_train, y_test = train_test_split(features, target, test_size=0.3, random_state=1)\n",
    "    \n",
    "    #Create Random Forest Classifier\n",
    "    rf_clf = RandomForestClassifier(n_estimators=100)\n",
    "    \n",
    "    #train model with cv of 5\n",
    "    cv_scores = cross_val_score(rf_clf, features, target, cv = 5)\n",
    "    \n",
    "    if cv_results is None:\n",
    "        cv_results = pd.DataFrame({'Model': ['Random Forest'], \n",
    "                                   'Window Size': [trace_size], \n",
    "                                   'Mean Accuracy': [np.mean(cv_scores)]})\n",
    "    else:\n",
    "        cv_results = pd.concat([cv_results, pd.DataFrame({'Model': ['Random Forest'], \n",
    "                                             'Window Size': [trace_size], \n",
    "                                             'Mean Accuracy': [np.mean(cv_scores)]})])"
   ]
  },
  {
   "cell_type": "markdown",
   "metadata": {},
   "source": [
    "# Results\n",
    "\n",
    "Here we plot the average results for each model computed with cross validation"
   ]
  },
  {
   "cell_type": "code",
   "execution_count": 15,
   "metadata": {
    "scrolled": true
   },
   "outputs": [
    {
     "data": {
      "text/html": [
       "<div>\n",
       "<style scoped>\n",
       "    .dataframe tbody tr th:only-of-type {\n",
       "        vertical-align: middle;\n",
       "    }\n",
       "\n",
       "    .dataframe tbody tr th {\n",
       "        vertical-align: top;\n",
       "    }\n",
       "\n",
       "    .dataframe thead th {\n",
       "        text-align: right;\n",
       "    }\n",
       "</style>\n",
       "<table border=\"1\" class=\"dataframe\">\n",
       "  <thead>\n",
       "    <tr style=\"text-align: right;\">\n",
       "      <th></th>\n",
       "      <th>Model</th>\n",
       "      <th>Window Size</th>\n",
       "      <th>Mean Accuracy</th>\n",
       "    </tr>\n",
       "  </thead>\n",
       "  <tbody>\n",
       "    <tr>\n",
       "      <th>0</th>\n",
       "      <td>KNN</td>\n",
       "      <td>200</td>\n",
       "      <td>0.905714</td>\n",
       "    </tr>\n",
       "    <tr>\n",
       "      <th>1</th>\n",
       "      <td>KNN</td>\n",
       "      <td>25</td>\n",
       "      <td>0.893035</td>\n",
       "    </tr>\n",
       "    <tr>\n",
       "      <th>2</th>\n",
       "      <td>KNN</td>\n",
       "      <td>50</td>\n",
       "      <td>0.904636</td>\n",
       "    </tr>\n",
       "    <tr>\n",
       "      <th>3</th>\n",
       "      <td>KNN</td>\n",
       "      <td>100</td>\n",
       "      <td>0.943806</td>\n",
       "    </tr>\n",
       "    <tr>\n",
       "      <th>4</th>\n",
       "      <td>SVM</td>\n",
       "      <td>200</td>\n",
       "      <td>0.945714</td>\n",
       "    </tr>\n",
       "    <tr>\n",
       "      <th>5</th>\n",
       "      <td>SVM</td>\n",
       "      <td>25</td>\n",
       "      <td>0.900655</td>\n",
       "    </tr>\n",
       "    <tr>\n",
       "      <th>6</th>\n",
       "      <td>SVM</td>\n",
       "      <td>50</td>\n",
       "      <td>0.893864</td>\n",
       "    </tr>\n",
       "    <tr>\n",
       "      <th>7</th>\n",
       "      <td>SVM</td>\n",
       "      <td>100</td>\n",
       "      <td>0.901916</td>\n",
       "    </tr>\n",
       "    <tr>\n",
       "      <th>8</th>\n",
       "      <td>Random Forest</td>\n",
       "      <td>200</td>\n",
       "      <td>0.932381</td>\n",
       "    </tr>\n",
       "    <tr>\n",
       "      <th>9</th>\n",
       "      <td>Random Forest</td>\n",
       "      <td>25</td>\n",
       "      <td>0.904519</td>\n",
       "    </tr>\n",
       "    <tr>\n",
       "      <th>10</th>\n",
       "      <td>Random Forest</td>\n",
       "      <td>50</td>\n",
       "      <td>0.919319</td>\n",
       "    </tr>\n",
       "    <tr>\n",
       "      <th>11</th>\n",
       "      <td>Random Forest</td>\n",
       "      <td>100</td>\n",
       "      <td>0.922605</td>\n",
       "    </tr>\n",
       "  </tbody>\n",
       "</table>\n",
       "</div>"
      ],
      "text/plain": [
       "            Model  Window Size  Mean Accuracy\n",
       "0             KNN          200       0.905714\n",
       "1             KNN           25       0.893035\n",
       "2             KNN           50       0.904636\n",
       "3             KNN          100       0.943806\n",
       "4             SVM          200       0.945714\n",
       "5             SVM           25       0.900655\n",
       "6             SVM           50       0.893864\n",
       "7             SVM          100       0.901916\n",
       "8   Random Forest          200       0.932381\n",
       "9   Random Forest           25       0.904519\n",
       "10  Random Forest           50       0.919319\n",
       "11  Random Forest          100       0.922605"
      ]
     },
     "execution_count": 15,
     "metadata": {},
     "output_type": "execute_result"
    }
   ],
   "source": [
    "cv_results.reset_index(drop=True)"
   ]
  },
  {
   "cell_type": "code",
   "execution_count": null,
   "metadata": {},
   "outputs": [],
   "source": []
  }
 ],
 "metadata": {
  "kernelspec": {
   "display_name": "Python 3",
   "language": "python",
   "name": "python3"
  },
  "language_info": {
   "codemirror_mode": {
    "name": "ipython",
    "version": 3
   },
   "file_extension": ".py",
   "mimetype": "text/x-python",
   "name": "python",
   "nbconvert_exporter": "python",
   "pygments_lexer": "ipython3",
   "version": "3.6.5"
  }
 },
 "nbformat": 4,
 "nbformat_minor": 2
}
