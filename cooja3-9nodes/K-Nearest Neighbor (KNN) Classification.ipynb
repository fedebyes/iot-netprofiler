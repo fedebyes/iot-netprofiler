{
 "cells": [
  {
   "cell_type": "code",
   "execution_count": 1,
   "metadata": {},
   "outputs": [],
   "source": [
    "import pandas as pd\n",
    "import numpy as np\n",
    "from scipy import stats as sp\n",
    "import sys, os\n",
    "sys.path.append('../')\n",
    "import trace_analysis\n",
    "import plots_analysis\n",
    "import trace_statistics\n",
    "\n",
    "# KNN\n",
    "from sklearn.neighbors import KNeighborsClassifier\n",
    "from sklearn.model_selection import train_test_split\n",
    "from sklearn import metrics\n",
    "from sklearn.metrics import classification_report\n",
    "from sklearn.model_selection import GridSearchCV\n"
   ]
  },
  {
   "cell_type": "markdown",
   "metadata": {},
   "source": [
    "Prepare the data to be used with kNN"
   ]
  },
  {
   "cell_type": "code",
   "execution_count": 2,
   "metadata": {},
   "outputs": [
    {
     "data": {
      "text/html": [
       "<div>\n",
       "<style scoped>\n",
       "    .dataframe tbody tr th:only-of-type {\n",
       "        vertical-align: middle;\n",
       "    }\n",
       "\n",
       "    .dataframe tbody tr th {\n",
       "        vertical-align: top;\n",
       "    }\n",
       "\n",
       "    .dataframe thead th {\n",
       "        text-align: right;\n",
       "    }\n",
       "</style>\n",
       "<table border=\"1\" class=\"dataframe\">\n",
       "  <thead>\n",
       "    <tr style=\"text-align: right;\">\n",
       "      <th></th>\n",
       "      <th>node_id</th>\n",
       "      <th>count</th>\n",
       "      <th>mean</th>\n",
       "      <th>var</th>\n",
       "      <th>std</th>\n",
       "      <th>hop</th>\n",
       "      <th>min</th>\n",
       "      <th>max</th>\n",
       "      <th>loss</th>\n",
       "      <th>label</th>\n",
       "    </tr>\n",
       "  </thead>\n",
       "  <tbody>\n",
       "    <tr>\n",
       "      <th>0</th>\n",
       "      <td>aaaa::212:7404:4:404:</td>\n",
       "      <td>141</td>\n",
       "      <td>339.276596</td>\n",
       "      <td>85174.044377</td>\n",
       "      <td>291.845926</td>\n",
       "      <td>2</td>\n",
       "      <td>106.0</td>\n",
       "      <td>1563.0</td>\n",
       "      <td>0.705</td>\n",
       "      <td>Normal</td>\n",
       "    </tr>\n",
       "    <tr>\n",
       "      <th>1</th>\n",
       "      <td>aaaa::212:7405:5:505:</td>\n",
       "      <td>178</td>\n",
       "      <td>392.123596</td>\n",
       "      <td>28083.058084</td>\n",
       "      <td>167.580005</td>\n",
       "      <td>3</td>\n",
       "      <td>197.0</td>\n",
       "      <td>1557.0</td>\n",
       "      <td>0.890</td>\n",
       "      <td>Normal</td>\n",
       "    </tr>\n",
       "    <tr>\n",
       "      <th>2</th>\n",
       "      <td>aaaa::212:7407:7:707:</td>\n",
       "      <td>151</td>\n",
       "      <td>486.913907</td>\n",
       "      <td>68843.959205</td>\n",
       "      <td>262.381324</td>\n",
       "      <td>3</td>\n",
       "      <td>214.0</td>\n",
       "      <td>1623.0</td>\n",
       "      <td>0.755</td>\n",
       "      <td>Normal</td>\n",
       "    </tr>\n",
       "    <tr>\n",
       "      <th>3</th>\n",
       "      <td>aaaa::212:7406:6:606:</td>\n",
       "      <td>176</td>\n",
       "      <td>315.613636</td>\n",
       "      <td>40342.752727</td>\n",
       "      <td>200.855054</td>\n",
       "      <td>2</td>\n",
       "      <td>129.0</td>\n",
       "      <td>1144.0</td>\n",
       "      <td>0.880</td>\n",
       "      <td>Normal</td>\n",
       "    </tr>\n",
       "    <tr>\n",
       "      <th>4</th>\n",
       "      <td>aaaa::212:740a:a:a0a:</td>\n",
       "      <td>181</td>\n",
       "      <td>497.646409</td>\n",
       "      <td>66065.140945</td>\n",
       "      <td>257.031401</td>\n",
       "      <td>4</td>\n",
       "      <td>260.0</td>\n",
       "      <td>1945.0</td>\n",
       "      <td>0.905</td>\n",
       "      <td>Normal</td>\n",
       "    </tr>\n",
       "  </tbody>\n",
       "</table>\n",
       "</div>"
      ],
      "text/plain": [
       "                 node_id  count        mean           var         std  hop  \\\n",
       "0  aaaa::212:7404:4:404:    141  339.276596  85174.044377  291.845926    2   \n",
       "1  aaaa::212:7405:5:505:    178  392.123596  28083.058084  167.580005    3   \n",
       "2  aaaa::212:7407:7:707:    151  486.913907  68843.959205  262.381324    3   \n",
       "3  aaaa::212:7406:6:606:    176  315.613636  40342.752727  200.855054    2   \n",
       "4  aaaa::212:740a:a:a0a:    181  497.646409  66065.140945  257.031401    4   \n",
       "\n",
       "     min     max   loss   label  \n",
       "0  106.0  1563.0  0.705  Normal  \n",
       "1  197.0  1557.0  0.890  Normal  \n",
       "2  214.0  1623.0  0.755  Normal  \n",
       "3  129.0  1144.0  0.880  Normal  \n",
       "4  260.0  1945.0  0.905  Normal  "
      ]
     },
     "execution_count": 2,
     "metadata": {},
     "output_type": "execute_result"
    }
   ],
   "source": [
    "plots = [(\"traces/normal/\", 'grid9_normal_2019-02-13_17:05'),\n",
    "         (\"traces/1bh-3/\", 'grid9_1bh-3_2019-02-13_16:28'),\n",
    "         (\"traces/1bh-5/\", 'grid9_1bh-5_2019-02-13_15:31'),\n",
    "         (\"traces/1bh-6/\", 'grid9_1bh-6_2019-02-13_12:59'),\n",
    "         (\"traces/1bh-7/\", 'grid9_1bh-7_2019-02-13_15:08'),\n",
    "         (\"traces/1bh-9/\", 'grid9_1bh-9_2019-02-13_15:57'),\n",
    "         (\"traces/1gh-3/\", 'grid_1gh-5_2019-02-15_22:09'),\n",
    "         (\"traces/1gh-5/\", 'grid_1gh-5_2019-02-15_22:09'),\n",
    "         (\"traces/1gh-6/\", 'grid_1gh-6_2019-02-15_18:25'),\n",
    "         (\"traces/1gh-7/\", 'grid9_1bh-7_2019-02-13_15:08'),\n",
    "         (\"traces/1gh-9/\", 'grid_1gh-9_2019-02-15_19:19')\n",
    "        ]\n",
    "\n",
    "stats = None\n",
    "\n",
    "for row in plots:\n",
    "    label = 'Normal'\n",
    "    \n",
    "    # Assign a label\n",
    "    if row[0].find('gh') >= 0:\n",
    "        label = 'Gray Hole'\n",
    "    elif row[0].find('bh') >= 0:\n",
    "        label = 'Black Hole'\n",
    "    nodes, packets_node = trace_analysis.process_cooja2_traces(row[0], row[1])\n",
    "    \n",
    "    # Update stats\n",
    "    if stats is None:\n",
    "        stats = trace_statistics.compute_labeled_statistics(nodes, packets_node, label)\n",
    "    else:\n",
    "        stats = pd.concat([stats, trace_statistics.compute_labeled_statistics(nodes, packets_node, label)])\n",
    "        \n",
    "stats = stats.reset_index(drop=True)\n",
    "stats.head(5)"
   ]
  },
  {
   "cell_type": "markdown",
   "metadata": {},
   "source": [
    "Select the set of features and labels that we use to fit the algorithm"
   ]
  },
  {
   "cell_type": "code",
   "execution_count": 3,
   "metadata": {},
   "outputs": [
    {
     "name": "stdout",
     "output_type": "stream",
     "text": [
      "Targets: {'Black Hole', 'Gray Hole', 'Normal'}\n"
     ]
    }
   ],
   "source": [
    "# separate features from target values\n",
    "features = stats.drop(columns=['node_id', 'label'])\n",
    "target = stats['label'].values\n",
    "print('Targets: ' + str(set(target)))\n",
    "\n",
    "# split dataset into train and test data\n",
    "X_train, X_test, y_train, y_test = train_test_split(features, target, test_size=0.3, random_state=1)"
   ]
  },
  {
   "cell_type": "markdown",
   "metadata": {},
   "source": [
    "Let us first observe the accuracies for different values of k"
   ]
  },
  {
   "cell_type": "code",
   "execution_count": 4,
   "metadata": {},
   "outputs": [
    {
     "data": {
      "image/png": "[encoded data removed]",
      "text/plain": [
       "<Figure size 432x288 with 1 Axes>"
      ]
     },
     "metadata": {
      "needs_background": "light"
     },
     "output_type": "display_data"
    }
   ],
   "source": [
    "trace_analysis.knn_test_number_of_neighbors(X_train, X_test, y_train, y_test)"
   ]
  },
  {
   "cell_type": "markdown",
   "metadata": {},
   "source": [
    "Let's build KNN classifier "
   ]
  },
  {
   "cell_type": "code",
   "execution_count": 9,
   "metadata": {},
   "outputs": [
    {
     "name": "stdout",
     "output_type": "stream",
     "text": [
      "Accuracy: 0.7272727272727273\n",
      "\n",
      "\n",
      "               precision    recall  f1-score   support\n",
      "\n",
      "  Black Hole       0.86      0.55      0.67        11\n",
      "   Gray Hole       0.64      0.90      0.75        10\n",
      "      Normal       1.00      1.00      1.00         1\n",
      "\n",
      "   micro avg       0.73      0.73      0.73        22\n",
      "   macro avg       0.83      0.82      0.81        22\n",
      "weighted avg       0.77      0.73      0.72        22\n",
      "\n"
     ]
    }
   ],
   "source": [
    "#Create KNN Classifier\n",
    "knn = KNeighborsClassifier(n_neighbors=7)\n",
    "\n",
    "#Train the model using the training sets\n",
    "knn.fit(X_train, y_train)\n",
    "\n",
    "#Predict the response for test dataset\n",
    "y_pred = knn.predict(X_test)\n",
    "\n",
    "print(\"Accuracy:\",metrics.accuracy_score(y_test, y_pred))\n",
    "\n",
    "print(\"\\n\\n\",classification_report(y_test,y_pred))\n"
   ]
  }
 ],
 "metadata": {
  "kernelspec": {
   "display_name": "Python 3",
   "language": "python",
   "name": "python3"
  },
  "language_info": {
   "codemirror_mode": {
    "name": "ipython",
    "version": 3
   },
   "file_extension": ".py",
   "mimetype": "text/x-python",
   "name": "python",
   "nbconvert_exporter": "python",
   "pygments_lexer": "ipython3",
   "version": "3.6.5"
  }
 },
 "nbformat": 4,
 "nbformat_minor": 2
}
