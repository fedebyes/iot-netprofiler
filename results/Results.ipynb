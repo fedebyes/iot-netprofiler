{
 "cells": [
  {
   "cell_type": "code",
   "execution_count": 1,
   "metadata": {},
   "outputs": [],
   "source": [
    "import sys\n",
    "\n",
    "import pandas as pd\n",
    "\n",
    "sys.path.append('../lib/')\n",
    "from lib.functions import *\n"
   ]
  },
  {
   "cell_type": "markdown",
   "metadata": {},
   "source": [
    "Problem 1.1 (easy): Given a set of traces collected from the network, we want to characterize if the whole network includes at least 1 malicious node.\n",
    "\n",
    "Results:\n",
    "\n",
    "\\begin{itemize}\n",
    "\n",
    "\\item Using K-means based on per-node packet loss, we can achieve high accuracy.\n",
    "\n",
    "\\item Performance of K-means for 50, 200 sized traces.\n",
    " \n",
    "\\end{itemize}\n",
    "\n",
    "\n",
    "Problem 1.2: Given a set of traces collected from the network, we want to characterize if the whole network includes at least 1 malicious node and also identify the type of attack.\n",
    "\n",
    "\\begin{itemize}\n",
    "\n",
    "\\item Using K-means based on per-node packet loss, the accuracy is not high.\n",
    " \n",
    "\\end{itemize}\n",
    "\n",
    "\n",
    "Problem 2.1: Given a set of traces collected from the network, we want to characterize each node in the network if it is a malicious node.\n",
    "\n",
    "Problem 2.2: Given a set of traces collected from the network, we want to characterize each node in the network if it is affected by a malicious node.\n",
    "\n",
    "Problem 2.3: Given a set of traces collected from the network, we want to characterize each node in the network is a malicious node and also identify the type of attack.\n",
    "\n",
    "Problem 2.4: Given a set of traces collected from the network, we want to characterize each node in the network if it is affected by a malicious node and also identify the type of attack.\n",
    "\n",
    "Import dimension is the number of packets that consistute the trace. We wish that the traces are minimized.\n",
    "\n",
    "\n",
    "\n",
    "\\item Grid 3x3, Grid 4x4 -- Table with statistics: packet loss, average RTT, ...\n",
    "\n",
    "\\item Grid 3x3 -- GH 30\\% and GH 70\\%\n",
    "\n",
    "\\item KMeans Table with accuracy: \n",
    " \n"
   ]
  },
  {
   "cell_type": "markdown",
   "metadata": {},
   "source": [
    "Problem 1.1 \n",
    "\n",
    "\n",
    "\n",
    "\n"
   ]
  },
  {
   "cell_type": "code",
   "execution_count": 2,
   "metadata": {},
   "outputs": [
    {
     "name": "stdout",
     "output_type": "stream",
     "text": [
      "Reading Traces from ../cooja3-16nodes\nReading Traces from ../cooja3-9nodes\n"
     ]
    },
    {
     "data": {
      "text/html": [
       "<div>\n",
       "<style scoped>\n",
       "    .dataframe tbody tr th:only-of-type {\n",
       "        vertical-align: middle;\n",
       "    }\n",
       "\n",
       "    .dataframe tbody tr th {\n",
       "        vertical-align: top;\n",
       "    }\n",
       "\n",
       "    .dataframe thead th {\n",
       "        text-align: right;\n",
       "    }\n",
       "</style>\n",
       "<table border=\"1\" class=\"dataframe\">\n",
       "  <thead>\n",
       "    <tr style=\"text-align: right;\">\n",
       "      <th></th>\n",
       "    </tr>\n",
       "  </thead>\n",
       "  <tbody>\n",
       "  </tbody>\n",
       "</table>\n",
       "</div>"
      ],
      "text/plain": [
       "<div>\n",
       "<style scoped>\n",
       "    .dataframe tbody tr th:only-of-type {\n",
       "        vertical-align: middle;\n",
       "    }\n",
       "\n",
       "    .dataframe tbody tr th {\n",
       "        vertical-align: top;\n",
       "    }\n",
       "\n",
       "    .dataframe thead th {\n",
       "        text-align: right;\n",
       "    }\n",
       "</style>\n",
       "<table border=\"1\" class=\"dataframe\">\n",
       "  <thead>\n",
       "    <tr style=\"text-align: right;\">\n",
       "      <th></th>\n",
       "    </tr>\n",
       "  </thead>\n",
       "  <tbody>\n",
       "  </tbody>\n",
       "</table>\n",
       "</div>"
      ]
     },
     "execution_count": 2,
     "metadata": {},
     "output_type": "execute_result"
    }
   ],
   "source": [
    "#Creates the new traces, to use just if added new traces to create a traces database and not adding them manually\n",
    "\n",
    "directory=\"../cooja3-16nodes\"\n",
    "df=get_traces_csv(directory)\n",
    "directory=\"../cooja3-9nodes\"\n",
    "df=get_traces_csv(directory)\n",
    "\n",
    "\n",
    "df"
   ]
  },
  {
   "cell_type": "code",
   "execution_count": 4,
   "metadata": {},
   "outputs": [
    {
     "name": "stdout",
     "output_type": "stream",
     "text": [
      "Empty DataFrame\n",
      "Columns: []\n",
      "Index: []\n"
     ]
    }
   ],
   "source": [
    "print(df)"
   ]
  },
  {
   "cell_type": "code",
   "execution_count": 5,
   "metadata": {},
   "outputs": [
    {
     "name": "stdout",
     "output_type": "stream",
     "text": [
      "['traces/1bh-6/home/fedebyes/Workspace/Master Thesis/iot-netprofiler/cooja3-9nodes/'\n 'traces/1bh-6/home/fedebyes/Workspace/Master Thesis/iot-netprofiler/cooja3-9nodes/'\n 'traces/normal/home/fedebyes/Workspace/Master Thesis/iot-netprofiler/cooja3-9nodes/'\n 'traces/normal/home/fedebyes/Workspace/Master Thesis/iot-netprofiler/cooja3-9nodes/'\n 'traces/normal/home/fedebyes/Workspace/Master Thesis/iot-netprofiler/cooja3-9nodes/'\n 'traces/1bh-7/home/fedebyes/Workspace/Master Thesis/iot-netprofiler/cooja3-9nodes/'\n 'traces/1bh-7/home/fedebyes/Workspace/Master Thesis/iot-netprofiler/cooja3-9nodes/'\n 'traces/rnd-1/home/fedebyes/Workspace/Master Thesis/iot-netprofiler/cooja3-9nodes/'\n 'traces/rnd-1/home/fedebyes/Workspace/Master Thesis/iot-netprofiler/cooja3-9nodes/'\n 'traces/rnd-1/home/fedebyes/Workspace/Master Thesis/iot-netprofiler/cooja3-9nodes/'\n 'traces/rnd-1/home/fedebyes/Workspace/Master Thesis/iot-netprofiler/cooja3-9nodes/'\n 'traces/rnd-1/home/fedebyes/Workspace/Master Thesis/iot-netprofiler/cooja3-9nodes/'\n 'traces/rnd-1/home/fedebyes/Workspace/Master Thesis/iot-netprofiler/cooja3-9nodes/'\n 'traces/rnd-1/home/fedebyes/Workspace/Master Thesis/iot-netprofiler/cooja3-9nodes/'\n 'traces/1gh-7/home/fedebyes/Workspace/Master Thesis/iot-netprofiler/cooja3-9nodes/'\n 'traces/1gh-9/home/fedebyes/Workspace/Master Thesis/iot-netprofiler/cooja3-9nodes/'\n 'traces/1gh-5/home/fedebyes/Workspace/Master Thesis/iot-netprofiler/cooja3-9nodes/'\n 'traces/1gh-6/home/fedebyes/Workspace/Master Thesis/iot-netprofiler/cooja3-9nodes/'\n 'traces/1bh-9/home/fedebyes/Workspace/Master Thesis/iot-netprofiler/cooja3-9nodes/'\n 'traces/1bh-9/home/fedebyes/Workspace/Master Thesis/iot-netprofiler/cooja3-9nodes/'\n 'traces/1bh-5/home/fedebyes/Workspace/Master Thesis/iot-netprofiler/cooja3-9nodes/'\n 'traces/1bh-5/home/fedebyes/Workspace/Master Thesis/iot-netprofiler/cooja3-9nodes/'\n 'traces/rnd-2/home/fedebyes/Workspace/Master Thesis/iot-netprofiler/cooja3-9nodes/'\n 'traces/rnd-2/home/fedebyes/Workspace/Master Thesis/iot-netprofiler/cooja3-9nodes/'\n 'traces/rnd-2/home/fedebyes/Workspace/Master Thesis/iot-netprofiler/cooja3-9nodes/'\n 'traces/rnd-2/home/fedebyes/Workspace/Master Thesis/iot-netprofiler/cooja3-9nodes/'\n 'traces/rnd-2/home/fedebyes/Workspace/Master Thesis/iot-netprofiler/cooja3-9nodes/'\n 'traces/1gh-3/home/fedebyes/Workspace/Master Thesis/iot-netprofiler/cooja3-9nodes/'\n 'traces/1bh-3/home/fedebyes/Workspace/Master Thesis/iot-netprofiler/cooja3-9nodes/'\n 'traces/1bh-3/home/fedebyes/Workspace/Master Thesis/iot-netprofiler/cooja3-9nodes/']\n"
     ]
    },
    {
     "name": "stdout",
     "output_type": "stream",
     "text": [
      "Processing...\n"
     ]
    },
    {
     "name": "stdout",
     "output_type": "stream",
     "text": [
      "[0 0 0 ... 0 0 0]\n                              case                   predicted    real\n0    grid9_1bh-6_2019-02-13_19:15_  61.111111111111114% normal      BH\n1    grid9_1bh-6_2019-02-13_12:59_   86.11111111111111% normal      BH\n2   grid9_normal_2019-02-13_18:51_               100.0% normal  normal\n3   grid9_normal_2019-02-13_22:23_               100.0% normal  normal\n4   grid9_normal_2019-02-13_17:05_   97.22222222222221% normal  normal\n5    grid9_1bh-7_2019-02-13_20:02_                75.0% normal      BH\n6    grid9_1bh-7_2019-02-13_15:08_   88.88888888888889% normal      BH\n7      rnd_1gh-2_2019-02-16_08:37_   88.88888888888889% normal      BH\n8      rnd_1bh-2_2019-02-14_15:38_   80.55555555555556% normal      BH\n9      rnd_1bh-7_2019-02-14_13:57_   94.44444444444444% normal      BH\n10     rnd_1bh-9_2019-02-14_15:15_   22.22222222222222% normal      BH\n11     rnd_1gh-9_2019-02-16_10:36_   36.11111111111111% normal      BH\n12    rnd_normal_2019-02-14_13:37_   88.88888888888889% normal  normal\n13     rnd_1gh-7_2019-02-16_10:16_   94.44444444444444% normal      BH\n14    grid_1gh-7_2019-02-15_21:28_   94.44444444444444% normal      BH\n15    grid_1gh-9_2019-02-15_19:19_   72.22222222222221% normal      BH\n16    grid_1gh-5_2019-02-15_22:09_   86.11111111111111% normal      BH\n17    grid_1gh-6_2019-02-15_18:25_   91.66666666666666% normal      BH\n18   grid9_1bh-9_2019-02-13_19:35_   83.33333333333334% normal      BH\n19   grid9_1bh-9_2019-02-13_15:57_   94.44444444444444% normal      BH\n20   grid9_1bh-5_2019-02-13_21:44_   86.11111111111111% normal      BH\n21   grid9_1bh-5_2019-02-13_15:31_   94.44444444444444% normal      BH\n22    rnd2_1bh-3_2019-02-14_17:02_   77.77777777777779% normal      BH\n23    rnd2_1bh-6_2019-02-15_16:56_   80.55555555555556% normal      BH\n24   rnd2_normal_2019-02-14_16:07_   94.44444444444444% normal  normal\n25   rnd-2_1gh-3_2019-02-16_11:41_                75.0% normal      BH\n26    rnd2_1bh-8_2019-02-15_17:28_               100.0% normal      BH\n27    grid_1gh-3_2019-02-15_22:33_  30.555555555555557% normal      BH\n28   grid9_1bh-3_2019-02-13_16:28_   11.11111111111111% normal      BH\n29   grid9_1bh-3_2019-02-13_22:05_   11.11111111111111% normal      BH\n"
     ]
    }
   ],
   "source": [
    "directory=os.getcwd()+\"/cooja3-9nodes/\"\n",
    "df=pd.read_csv(directory+\"/traces/traces.csv\", sep='\\t', encoding='utf-8')\n",
    "\n",
    "results_kmeans,stats_kmeans=analyze_network(directory,df,200,50)\n",
    "print(results_kmeans)"
   ]
  },
  {
   "cell_type": "code",
   "execution_count": 15,
   "metadata": {},
   "outputs": [],
   "source": []
  },
  {
   "cell_type": "code",
   "execution_count": 11,
   "metadata": {},
   "outputs": [],
   "source": []
  },
  {
   "cell_type": "code",
   "execution_count": null,
   "metadata": {},
   "outputs": [],
   "source": []
  }
 ],
 "metadata": {
  "kernelspec": {
   "display_name": "Python 3",
   "language": "python",
   "name": "python3"
  },
  "language_info": {
   "codemirror_mode": {
    "name": "ipython",
    "version": 3
   },
   "file_extension": ".py",
   "mimetype": "text/x-python",
   "name": "python",
   "nbconvert_exporter": "python",
   "pygments_lexer": "ipython3",
   "version": "3.7.2"
  }
 },
 "nbformat": 4,
 "nbformat_minor": 2
}
