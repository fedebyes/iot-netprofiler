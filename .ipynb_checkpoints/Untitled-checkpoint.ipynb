{
 "cells": [
  {
   "cell_type": "code",
   "execution_count": 30,
   "metadata": {},
   "outputs": [],
   "source": [
    "#Modules to install via pip pandas,ipynb\n",
    "import pandas as pd\n",
    "import numpy as np\n",
    "\n",
    "import matplotlib.pyplot as plt\n",
    "import json\n",
    "from pprint import pprint\n",
    "import os\n",
    "import import_ipynb\n",
    "import sys\n",
    "\n",
    "sys.path.append('../')\n",
    "from functions import *\n",
    "from trace_analysis import*\n",
    "from pandas.plotting import scatter_matrix\n",
    "\n",
    "def importIOTData(directory,tracefiles):\n",
    "    data=[]\n",
    "    cases=tracefiles\n",
    "    #print(tracefiles)\n",
    "    for i in range(len(tracefiles)):\n",
    "        print(\"Importing \"+directory+tracefiles[i])\n",
    "        nodes=process_iotlab_node_by_node(directory, tracefiles[i])\n",
    "        data.append(nodes)\n",
    "        \n",
    "    return data"
   ]
  },
  {
   "cell_type": "code",
   "execution_count": 32,
   "metadata": {},
   "outputs": [
    {
     "name": "stdout",
     "output_type": "stream",
     "text": [
      "Importing /home/fedebyes/Workspace/Master Thesis/iot-netprofiler/iot-lab-25nodes/traces/2019-01JAN-28-01\n"
     ]
    }
   ],
   "source": [
    "directory=\"/home/fedebyes/Workspace/Master Thesis/iot-netprofiler/\"\n",
    "directory=directory+\"iot-lab-25nodes/\"\n",
    "\n",
    "traces=directory+\"traces/\"\n",
    "tracefiles=[\n",
    "    \"2019-01JAN-28-01\",\n",
    "    #\"2019-01JAN-30-1\",\n",
    "    #\"2019-01JAN-30-1b169\",\n",
    "    #\"2019-01JAN-30-1b169b153b182\",\n",
    "    #\"2019-01JAN-30-2\",\n",
    "    #\"2019-01JAN-30-3b113b122b145b166b185\"\n",
    "    \n",
    "]\n",
    "colors = [ 'orange','dodgerblue', 'green','violet']\n",
    "\n",
    "#print(len(tracefiles))\n",
    "#nodes=process_iotlab_node_by_node(traces, tracefiles[0])\n",
    "data=importIOTData(traces,tracefiles)"
   ]
  },
  {
   "cell_type": "code",
   "execution_count": null,
   "metadata": {},
   "outputs": [],
   "source": []
  },
  {
   "cell_type": "code",
   "execution_count": 33,
   "metadata": {},
   "outputs": [
    {
     "ename": "NameError",
     "evalue": "name 'colors' is not defined",
     "output_type": "error",
     "traceback": [
      "\u001b[0;31m---------------------------------------------------------------------------\u001b[0m",
      "\u001b[0;31mNameError\u001b[0m                                 Traceback (most recent call last)",
      "\u001b[0;32m<ipython-input-33-06a3d2527ac9>\u001b[0m in \u001b[0;36m<module>\u001b[0;34m\u001b[0m\n\u001b[0;32m----> 1\u001b[0;31m \u001b[0mprintDensityByCase\u001b[0m\u001b[0;34m(\u001b[0m\u001b[0mdirectory\u001b[0m\u001b[0;34m,\u001b[0m\u001b[0mdata\u001b[0m\u001b[0;34m,\u001b[0m\u001b[0;34m(\u001b[0m\u001b[0;36m15\u001b[0m\u001b[0;34m,\u001b[0m\u001b[0;36m20\u001b[0m\u001b[0;34m)\u001b[0m\u001b[0;34m,\u001b[0m\u001b[0;34m\"densitybyCase\"\u001b[0m\u001b[0;34m,\u001b[0m\u001b[0mcolors\u001b[0m\u001b[0;34m,\u001b[0m\u001b[0mcases\u001b[0m\u001b[0;34m)\u001b[0m\u001b[0;34m\u001b[0m\u001b[0;34m\u001b[0m\u001b[0m\n\u001b[0m",
      "\u001b[0;31mNameError\u001b[0m: name 'colors' is not defined"
     ]
    }
   ],
   "source": [
    "printDensityByCase(directory,data,(15,20),\"densitybyCase\",colors,cases)"
   ]
  },
  {
   "cell_type": "code",
   "execution_count": null,
   "metadata": {},
   "outputs": [],
   "source": [
    "printDensityByHop(directory,data,(15,20),\"densitybyHop\",colors,cases)"
   ]
  },
  {
   "cell_type": "code",
   "execution_count": null,
   "metadata": {},
   "outputs": [],
   "source": [
    "printBigPlot(directory,data,(4,8),\"Big Plot\",colors,cases)"
   ]
  }
 ],
 "metadata": {
  "kernelspec": {
   "display_name": "Python 3",
   "language": "python",
   "name": "python3"
  },
  "language_info": {
   "codemirror_mode": {
    "name": "ipython",
    "version": 3
   },
   "file_extension": ".py",
   "mimetype": "text/x-python",
   "name": "python",
   "nbconvert_exporter": "python",
   "pygments_lexer": "ipython3",
   "version": "3.7.2"
  }
 },
 "nbformat": 4,
 "nbformat_minor": 2
}
