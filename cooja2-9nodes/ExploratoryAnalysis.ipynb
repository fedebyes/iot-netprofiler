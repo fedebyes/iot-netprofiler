{
 "cells": [
  {
   "cell_type": "code",
   "execution_count": 3,
   "metadata": {},
   "outputs": [],
   "source": [
    "import pandas as pd, networkx as nx\n",
    "import matplotlib.pyplot as plt\n",
    "import sys, os\n",
    "sys.path.append('../')\n",
    "import trace_analysis"
   ]
  },
  {
   "cell_type": "code",
   "execution_count": 7,
   "metadata": {},
   "outputs": [
    {
     "name": "stdout",
     "output_type": "stream",
     "text": [
      "grid9_normal_2019-02-11_20:22:01_fd00::212:7404:4:404.log\n",
      "grid9_normal_2019-02-11_20:22:01_fd00::212:7408:8:808.log\n",
      "grid9_normal_2019-02-11_20:22:01_fd00::212:7403:3:303.log\n",
      "grid9_normal_2019-02-11_20:22:01_fd00::212:7402:2:202.log\n",
      "grid9_normal_2019-02-11_20:22:01_fd00::212:7405:5:505.log\n",
      "grid9_normal_2019-02-11_20:22:01_fd00::212:7409:9:909.log\n",
      "grid9_normal_2019-02-11_20:22:01_fd00::212:740a:a:a0a.log\n",
      "grid9_normal_2019-02-11_20:22:01_fd00::212:7406:6:606.log\n",
      "grid9_normal_2019-02-11_20:22:01_fd00::212:7407:7:707.log\n"
     ]
    }
   ],
   "source": [
    "for file in os.listdir(\"traces/normal\"):    \n",
    "    if file.startswith('grid9_normal_2019-02-11_20:22:01_'):\n",
    "        print(file)\n",
    "        \n",
    "        \n",
    "                with open('traces/' + file, 'r') as f:\n",
    "            lines = f.read().split('\\n')\n",
    "            node = 'A8-'+ file.split('.')[0]\n",
    "            \n",
    "            for line in lines:\n",
    "                line = line.split()\n",
    "                if len(line) <= 1:\n",
    "                    continue"
   ]
  },
  {
   "cell_type": "code",
   "execution_count": null,
   "metadata": {},
   "outputs": [],
   "source": []
  },
  {
   "cell_type": "code",
   "execution_count": null,
   "metadata": {},
   "outputs": [],
   "source": []
  },
  {
   "cell_type": "code",
   "execution_count": null,
   "metadata": {},
   "outputs": [],
   "source": []
  },
  {
   "cell_type": "code",
   "execution_count": null,
   "metadata": {},
   "outputs": [],
   "source": []
  }
 ],
 "metadata": {
  "kernelspec": {
   "display_name": "Python 3",
   "language": "python",
   "name": "python3"
  },
  "language_info": {
   "codemirror_mode": {
    "name": "ipython",
    "version": 3
   },
   "file_extension": ".py",
   "mimetype": "text/x-python",
   "name": "python",
   "nbconvert_exporter": "python",
   "pygments_lexer": "ipython3",
   "version": "3.6.7"
  }
 },
 "nbformat": 4,
 "nbformat_minor": 2
}
