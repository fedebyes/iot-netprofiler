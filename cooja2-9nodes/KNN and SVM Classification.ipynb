{
 "cells": [
  {
   "cell_type": "code",
   "execution_count": 22,
   "metadata": {},
   "outputs": [],
   "source": [
    "import pandas as pd\n",
    "import numpy as np\n",
    "from scipy import stats as sp\n",
    "import sys, os\n",
    "sys.path.append('../')\n",
    "import trace_analysis\n",
    "import plots_analysis\n",
    "import trace_statistics\n",
    "\n",
    "# KNN\n",
    "from sklearn.neighbors import KNeighborsClassifier\n",
    "from sklearn.model_selection import train_test_split\n",
    "from sklearn import metrics\n",
    "from sklearn.metrics import classification_report\n",
    "from sklearn.model_selection import GridSearchCV\n",
    "# SVM\n",
    "from sklearn import svm"
   ]
  },
  {
   "cell_type": "markdown",
   "metadata": {},
   "source": [
    "# Data Preparation\n",
    "\n",
    "\n",
    "Prepare the data to be used with kNN"
   ]
  },
  {
   "cell_type": "code",
   "execution_count": 23,
   "metadata": {},
   "outputs": [
    {
     "data": {
      "text/html": [
       "<div>\n",
       "<style scoped>\n",
       "    .dataframe tbody tr th:only-of-type {\n",
       "        vertical-align: middle;\n",
       "    }\n",
       "\n",
       "    .dataframe tbody tr th {\n",
       "        vertical-align: top;\n",
       "    }\n",
       "\n",
       "    .dataframe thead th {\n",
       "        text-align: right;\n",
       "    }\n",
       "</style>\n",
       "<table border=\"1\" class=\"dataframe\">\n",
       "  <thead>\n",
       "    <tr style=\"text-align: right;\">\n",
       "      <th></th>\n",
       "      <th>node_id</th>\n",
       "      <th>count</th>\n",
       "      <th>mean</th>\n",
       "      <th>var</th>\n",
       "      <th>std</th>\n",
       "      <th>hop</th>\n",
       "      <th>min</th>\n",
       "      <th>max</th>\n",
       "      <th>loss</th>\n",
       "      <th>label</th>\n",
       "    </tr>\n",
       "  </thead>\n",
       "  <tbody>\n",
       "    <tr>\n",
       "      <th>0</th>\n",
       "      <td>fd00::212:7405:5:505:</td>\n",
       "      <td>98</td>\n",
       "      <td>169.887755</td>\n",
       "      <td>4927.317168</td>\n",
       "      <td>70.194851</td>\n",
       "      <td>3</td>\n",
       "      <td>107.0</td>\n",
       "      <td>494.0</td>\n",
       "      <td>0.490</td>\n",
       "      <td>Normal</td>\n",
       "    </tr>\n",
       "    <tr>\n",
       "      <th>1</th>\n",
       "      <td>fd00::212:7404:4:404:</td>\n",
       "      <td>87</td>\n",
       "      <td>163.327586</td>\n",
       "      <td>31382.584812</td>\n",
       "      <td>177.151305</td>\n",
       "      <td>2</td>\n",
       "      <td>77.3</td>\n",
       "      <td>1205.0</td>\n",
       "      <td>0.435</td>\n",
       "      <td>Normal</td>\n",
       "    </tr>\n",
       "    <tr>\n",
       "      <th>2</th>\n",
       "      <td>fd00::212:7403:3:303:</td>\n",
       "      <td>92</td>\n",
       "      <td>60.042391</td>\n",
       "      <td>5431.264227</td>\n",
       "      <td>73.697111</td>\n",
       "      <td>1</td>\n",
       "      <td>28.3</td>\n",
       "      <td>707.0</td>\n",
       "      <td>0.460</td>\n",
       "      <td>Normal</td>\n",
       "    </tr>\n",
       "    <tr>\n",
       "      <th>3</th>\n",
       "      <td>fd00::212:7408:8:808:</td>\n",
       "      <td>90</td>\n",
       "      <td>233.155556</td>\n",
       "      <td>7211.548564</td>\n",
       "      <td>84.920837</td>\n",
       "      <td>4</td>\n",
       "      <td>169.0</td>\n",
       "      <td>929.0</td>\n",
       "      <td>0.450</td>\n",
       "      <td>Normal</td>\n",
       "    </tr>\n",
       "    <tr>\n",
       "      <th>4</th>\n",
       "      <td>fd00::212:7402:2:202:</td>\n",
       "      <td>99</td>\n",
       "      <td>145.127273</td>\n",
       "      <td>33352.392004</td>\n",
       "      <td>182.626373</td>\n",
       "      <td>2</td>\n",
       "      <td>69.4</td>\n",
       "      <td>1726.0</td>\n",
       "      <td>0.495</td>\n",
       "      <td>Normal</td>\n",
       "    </tr>\n",
       "  </tbody>\n",
       "</table>\n",
       "</div>"
      ],
      "text/plain": [
       "                 node_id  count        mean           var         std  hop  \\\n",
       "0  fd00::212:7405:5:505:     98  169.887755   4927.317168   70.194851    3   \n",
       "1  fd00::212:7404:4:404:     87  163.327586  31382.584812  177.151305    2   \n",
       "2  fd00::212:7403:3:303:     92   60.042391   5431.264227   73.697111    1   \n",
       "3  fd00::212:7408:8:808:     90  233.155556   7211.548564   84.920837    4   \n",
       "4  fd00::212:7402:2:202:     99  145.127273  33352.392004  182.626373    2   \n",
       "\n",
       "     min     max   loss   label  \n",
       "0  107.0   494.0  0.490  Normal  \n",
       "1   77.3  1205.0  0.435  Normal  \n",
       "2   28.3   707.0  0.460  Normal  \n",
       "3  169.0   929.0  0.450  Normal  \n",
       "4   69.4  1726.0  0.495  Normal  "
      ]
     },
     "execution_count": 23,
     "metadata": {},
     "output_type": "execute_result"
    }
   ],
   "source": [
    "plots = [(\"traces/normal\", 'grid9_normal_2019-02-11_17:51:17_'),\n",
    "         (\"traces/normal\", 'grid9_normal_2019-02-11_20:22:01_'),\n",
    "         (\"traces/normal\", 'grid9_normal_2019-02-11_21:03:19_'),\n",
    "         (\"traces/normal\", 'grid9_normal_2019-02-12_14:02:32_'),\n",
    "         (\"traces/normal\", 'grid9_normal_2019-02-12_14:22:43_'),\n",
    "         (\"traces/1bh-3\", 'grid9_1bh-3_2019-02-12_14:47:14_'),         \n",
    "         (\"traces/1bh-6\", 'grid9_1bh-6_2019-02-11_20:48:08_'),\n",
    "         (\"traces/1bh-6\", 'grid9_1bh-6_2019-02-11_21:03:19_'),\n",
    "         (\"traces/1bh-6\", 'grid9_1bh-6_2019-02-12_13:35:47_'),\n",
    "         (\"traces/1bh-7\", 'grid9_1bh-7_2019-02-12_14:02:32_'),\n",
    "         (\"traces/1bh-7\", 'grid9_1bh-7_2019-02-12_14:22:43_'),         \n",
    "         (\"traces/1bh-3\", 'grid9_1bh-3_2019-02-12_14:47:14_')\n",
    "        ]\n",
    "\n",
    "stats = None\n",
    "\n",
    "for row in plots:\n",
    "    label = 'Normal'\n",
    "    \n",
    "    # Assign a label\n",
    "    if row[0].find('gh') >= 0:\n",
    "        label = 'Gray Hole'\n",
    "    elif row[0].find('bh') >= 0:\n",
    "        label = 'Black Hole'\n",
    "    nodes, packets_node = trace_analysis.process_cooja2_traces(row[0], row[1])\n",
    "    \n",
    "    # Update stats\n",
    "    if stats is None:\n",
    "        stats = trace_statistics.compute_labeled_statistics(nodes, packets_node, label)\n",
    "    else:\n",
    "        stats = pd.concat([stats, trace_statistics.compute_labeled_statistics(nodes, packets_node, label)])\n",
    "        \n",
    "stats = stats.reset_index(drop=True)\n",
    "stats.head(5)"
   ]
  },
  {
   "cell_type": "markdown",
   "metadata": {},
   "source": [
    "Select the set of features and labels that we use to fit the algorithm"
   ]
  },
  {
   "cell_type": "code",
   "execution_count": 24,
   "metadata": {},
   "outputs": [
    {
     "name": "stdout",
     "output_type": "stream",
     "text": [
      "Targets: {'Black Hole', 'Normal'}\n"
     ]
    }
   ],
   "source": [
    "# separate features from target values\n",
    "features = stats.drop(columns=['node_id', 'label'])\n",
    "target = stats['label'].values\n",
    "print('Targets: ' + str(set(target)))\n",
    "\n",
    "# split dataset into train and test data\n",
    "X_train, X_test, y_train, y_test = train_test_split(features, target, test_size=0.3, random_state=1)"
   ]
  },
  {
   "cell_type": "markdown",
   "metadata": {},
   "source": [
    "# K-Nearest Neighbor (KNN) Classification\n",
    "\n",
    "Let us first observe the accuracies for different values of k"
   ]
  },
  {
   "cell_type": "code",
   "execution_count": 25,
   "metadata": {},
   "outputs": [
    {
     "data": {
      "image/png": "[encoded data removed]",
      "text/plain": [
       "<Figure size 432x288 with 1 Axes>"
      ]
     },
     "metadata": {
      "needs_background": "light"
     },
     "output_type": "display_data"
    }
   ],
   "source": [
    "trace_analysis.knn_test_number_of_neighbors(X_train, X_test, y_train, y_test)"
   ]
  },
  {
   "cell_type": "markdown",
   "metadata": {},
   "source": [
    "Let's build KNN classifier "
   ]
  },
  {
   "cell_type": "code",
   "execution_count": 26,
   "metadata": {},
   "outputs": [
    {
     "name": "stdout",
     "output_type": "stream",
     "text": [
      "Accuracy: 0.88\n",
      "\n",
      "\n",
      "               precision    recall  f1-score   support\n",
      "\n",
      "  Black Hole       0.95      0.91      0.93        22\n",
      "      Normal       0.50      0.67      0.57         3\n",
      "\n",
      "   micro avg       0.88      0.88      0.88        25\n",
      "   macro avg       0.73      0.79      0.75        25\n",
      "weighted avg       0.90      0.88      0.89        25\n",
      "\n"
     ]
    }
   ],
   "source": [
    "#Create KNN Classifier\n",
    "knn = KNeighborsClassifier(n_neighbors=5)\n",
    "\n",
    "#Train the model using the training sets\n",
    "knn.fit(X_train, y_train)\n",
    "\n",
    "#Predict the response for test dataset\n",
    "y_pred = knn.predict(X_test)\n",
    "\n",
    "print(\"Accuracy:\",metrics.accuracy_score(y_test, y_pred))\n",
    "\n",
    "print(\"\\n\\n\",classification_report(y_test,y_pred))\n"
   ]
  },
  {
   "cell_type": "markdown",
   "metadata": {},
   "source": [
    "# Support Vector Machines (SVM) Classification\n",
    "\n",
    "Let us work with another classifier"
   ]
  },
  {
   "cell_type": "code",
   "execution_count": 27,
   "metadata": {},
   "outputs": [
    {
     "name": "stdout",
     "output_type": "stream",
     "text": [
      "Accuracy: 0.8\n",
      "\n",
      "\n",
      "               precision    recall  f1-score   support\n",
      "\n",
      "  Black Hole       0.95      0.82      0.88        22\n",
      "      Normal       0.33      0.67      0.44         3\n",
      "\n",
      "   micro avg       0.80      0.80      0.80        25\n",
      "   macro avg       0.64      0.74      0.66        25\n",
      "weighted avg       0.87      0.80      0.83        25\n",
      "\n"
     ]
    }
   ],
   "source": [
    "#Create a svm Classifier\n",
    "svm_clf = svm.SVC(kernel='linear', random_state=9, gamma='scale') # Linear Kernel\n",
    "\n",
    "#Train the model using the training sets\n",
    "svm_clf.fit(X_train, y_train)\n",
    "\n",
    "#Predict the response for test dataset\n",
    "y_pred = svm_clf.predict(X_test)\n",
    "\n",
    "print(\"Accuracy:\",metrics.accuracy_score(y_test, y_pred))\n",
    "\n",
    "print(\"\\n\\n\",classification_report(y_test,y_pred))"
   ]
  }
 ],
 "metadata": {
  "kernelspec": {
   "display_name": "Python 3",
   "language": "python",
   "name": "python3"
  },
  "language_info": {
   "codemirror_mode": {
    "name": "ipython",
    "version": 3
   },
   "file_extension": ".py",
   "mimetype": "text/x-python",
   "name": "python",
   "nbconvert_exporter": "python",
   "pygments_lexer": "ipython3",
   "version": "3.6.5"
  }
 },
 "nbformat": 4,
 "nbformat_minor": 2
}
