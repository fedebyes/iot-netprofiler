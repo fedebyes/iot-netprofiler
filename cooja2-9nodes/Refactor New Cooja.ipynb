{
 "cells": [
  {
   "cell_type": "code",
   "execution_count": 5,
   "metadata": {},
   "outputs": [],
   "source": [
    "#Modules to install via pip pandas,ipynb\n",
    "import pandas as pd\n",
    "import numpy as np\n",
    "\n",
    "import matplotlib.pyplot as plt\n",
    "import json\n",
    "from pprint import pprint\n",
    "import os\n",
    "import import_ipynb\n",
    "import sys\n",
    "\n",
    "sys.path.append('../')\n",
    "from functions import *\n",
    "from trace_analysis import *\n",
    "from pandas.plotting import scatter_matrix\n",
    "from trace_analysis_cooja2 import *\n"
   ]
  },
  {
   "cell_type": "code",
   "execution_count": 7,
   "metadata": {},
   "outputs": [],
   "source": [
    "\n",
    "#+\"/cooja-9nodes/\"\n",
    "#print(directory)\n",
    "\n",
    "plots = [(\"traces/normal\", 'grid9_normal_2019-02-11_17:51:17_'),\n",
    "         (\"traces/normal\", 'grid9_normal_2019-02-11_20:22:01_'),\n",
    "         (\"traces/1bh-6\", 'grid9_1bh-6_2019-02-11_20:48:08_'),\n",
    "         (\"traces/1bh-6\", 'grid9_1bh-6_2019-02-11_21:03:19_')]\n",
    "\n",
    "for row in plots:\n",
    "    nodes, packets_node = process_cooja2_traces(row[0], row[1])\n"
   ]
  },
  {
   "cell_type": "code",
   "execution_count": 43,
   "metadata": {},
   "outputs": [],
   "source": [
    "def process_cooja2_traces(path, tracemask):\n",
    "    files = []\n",
    "\n",
    "    # load all files and extract IPs of nodes\n",
    "    for file in os.listdir(path):\n",
    "        try:\n",
    "            if file.startswith(tracemask) and file.index(\"routes\"):\n",
    "                continue\n",
    "        except:\n",
    "            files.append(file)\n",
    "\n",
    "    nodes = pd.DataFrame(columns=['node_id', 'rank'])\n",
    "    packets_node = {}\n",
    "\n",
    "    # Load the ICMP traces\n",
    "    for file in files:\n",
    "        packets = pd.read_csv(path + '/' + file,\n",
    "                              sep=' |icmp_seq=|ttl=|time=',\n",
    "                              na_filter=True,\n",
    "                              header=None,\n",
    "                              skiprows=1,\n",
    "                              skipfooter=4,\n",
    "                              usecols=[3, 5, 7, 9],\n",
    "                              names=['node_id', 'seq', 'hop', 'rtt'],\n",
    "                              engine='python').dropna().drop_duplicates()\n",
    "\n",
    "        nodes.loc[len(nodes)] = [packets['node_id'][0], 64 - packets['hop'][0]]\n",
    "\n",
    "        packets = packets.sort_values(by=['node_id', 'seq'], ascending=True, na_position='first')\n",
    "        packets = packets[packets['rtt'] > 1]\n",
    "\n",
    "        packets_node[packets['node_id'][0]] = packets\n",
    "\n",
    "    return nodes.sort_values(by=['rank','node_id']), packets_node\n",
    "\n",
    "\n",
    "\n"
   ]
  },
  {
   "cell_type": "code",
   "execution_count": 48,
   "metadata": {},
   "outputs": [
    {
     "name": "stdout",
     "output_type": "stream",
     "text": [
      "/home/fedebyes/Workspace/Master Thesis/iot-netprofiler/cooja2-9nodes/traces/normal\n"
     ]
    }
   ],
   "source": [
    "directory=os.getcwd()\n",
    "traces=directory+\"/traces\"\n",
    "traces+=\"/normal\"\n",
    "print(traces)\n",
    "tracemask=\"grid9_normal_2019-02-11_17:51:17_\"\n",
    "\n",
    "def import_Cooja_2(directory,tracemask):\n",
    "    print(directory)\n",
    "    print(tracemask)\n",
    "    files = []\n",
    "    data[]\n",
    "    # load all files and extract IPs of nodes\n",
    "    for file in os.listdir(directory):\n",
    "        try:\n",
    "            if file.startswith(tracemask) and file.index(\"routes\"):\n",
    "                continue\n",
    "        except:\n",
    "            files.append(file)\n",
    "    for file in files:\n",
    "        packets = pd.read_csv(directory + '/' + file,\n",
    "                              sep=' |icmp_seq=|ttl=|time=',\n",
    "                              na_filter=True,\n",
    "                              header=None,\n",
    "                              skiprows=1,\n",
    "                              skipfooter=4,\n",
    "                              usecols=[3, 5, 7, 9],\n",
    "                              names=['node_id', 'seq', 'hop', 'rtt'],\n",
    "                              engine='python').dropna().drop_duplicates()\n",
    "\n",
    "        print(packets.head())\n",
    "        \n",
    "        #nodes.loc[len(nodes)] = [packets['node_id'][0], 64 - packets['hop'][0]]\n",
    "\n",
    "        #packets = packets.sort_values(by=['node_id', 'seq'], ascending=True, na_position='first')\n",
    "        #packets = packets[packets['rtt'] > 1]\n",
    "\n",
    "        #packets_node[packets['node_id'][0]] = packets\n",
    "        \n",
    "    print(type(packets))\n",
    "    return nodes,packets_node"
   ]
  },
  {
   "cell_type": "code",
   "execution_count": 49,
   "metadata": {},
   "outputs": [
    {
     "name": "stdout",
     "output_type": "stream",
     "text": [
      "/home/fedebyes/Workspace/Master Thesis/iot-netprofiler/cooja2-9nodes/traces/normal\n",
      "grid9_normal_2019-02-11_17:51:17_\n",
      "                 node_id  seq  hop   rtt\n",
      "0  fd00::212:7409:9:909:    2   61   858\n",
      "1  fd00::212:7409:9:909:    3   61   513\n",
      "2  fd00::212:7409:9:909:    4   61   287\n",
      "3  fd00::212:7409:9:909:    5   61   223\n",
      "4  fd00::212:7409:9:909:    6   61  1054\n",
      "                 node_id  seq  hop    rtt\n",
      "0  fd00::212:7404:4:404:    1   62  106.0\n",
      "1  fd00::212:7404:4:404:    3   62  876.0\n",
      "2  fd00::212:7404:4:404:    4   62  206.0\n",
      "3  fd00::212:7404:4:404:    5   62  170.0\n",
      "4  fd00::212:7404:4:404:    6   62  207.0\n",
      "                 node_id  seq  hop    rtt\n",
      "0  fd00::212:7403:3:303:    1   63   61.0\n",
      "1  fd00::212:7403:3:303:    3   63   72.5\n",
      "2  fd00::212:7403:3:303:    6   63   59.4\n",
      "3  fd00::212:7403:3:303:   11   63  209.0\n",
      "4  fd00::212:7403:3:303:   12   63  707.0\n",
      "                 node_id  seq  hop  rtt\n",
      "0  fd00::212:7405:5:505:    1   61  482\n",
      "1  fd00::212:7405:5:505:    3   61  239\n",
      "2  fd00::212:7405:5:505:    4   61  184\n",
      "3  fd00::212:7405:5:505:    5   61  219\n",
      "4  fd00::212:7405:5:505:    6   61  223\n",
      "                 node_id  seq  hop  rtt\n",
      "0  fd00::212:740a:a:a0a:    1   60  337\n",
      "1  fd00::212:740a:a:a0a:    4   60  849\n",
      "2  fd00::212:740a:a:a0a:    5   60  405\n",
      "3  fd00::212:740a:a:a0a:    6   60  360\n",
      "4  fd00::212:740a:a:a0a:    7   60  225\n",
      "                 node_id  seq  hop   rtt\n",
      "0  fd00::212:7407:7:707:    3   61  1140\n",
      "1  fd00::212:7407:7:707:    4   61   148\n",
      "2  fd00::212:7407:7:707:    5   61   230\n",
      "3  fd00::212:7407:7:707:    7   61   512\n",
      "4  fd00::212:7407:7:707:    9   61   147\n",
      "                 node_id  seq  hop     rtt\n",
      "0  fd00::212:7402:2:202:    1   62   110.0\n",
      "1  fd00::212:7402:2:202:    3   62  1726.0\n",
      "2  fd00::212:7402:2:202:    4   62   811.0\n",
      "3  fd00::212:7402:2:202:    5   62    83.5\n",
      "4  fd00::212:7402:2:202:    6   62    84.8\n",
      "                 node_id  seq  hop  rtt\n",
      "0  fd00::212:7408:8:808:    5   60  365\n",
      "1  fd00::212:7408:8:808:   10   60  428\n",
      "2  fd00::212:7408:8:808:   11   60  929\n",
      "3  fd00::212:7408:8:808:   12   60  257\n",
      "4  fd00::212:7408:8:808:   13   60  257\n",
      "                 node_id  seq  hop    rtt\n",
      "0  fd00::212:7406:6:606:    1   62  246.0\n",
      "1  fd00::212:7406:6:606:    2   62  871.0\n",
      "2  fd00::212:7406:6:606:    3   62  170.0\n",
      "3  fd00::212:7406:6:606:    4   62  563.0\n",
      "4  fd00::212:7406:6:606:    5   62  514.0\n",
      "<class 'pandas.core.frame.DataFrame'>\n"
     ]
    },
    {
     "data": {
      "text/plain": [
       "'rank'"
      ]
     },
     "execution_count": 49,
     "metadata": {},
     "output_type": "execute_result"
    }
   ],
   "source": [
    "\n",
    "data,packets_node=import_Cooja_2(traces,tracemask)\n",
    "packets_node"
   ]
  },
  {
   "cell_type": "code",
   "execution_count": null,
   "metadata": {},
   "outputs": [],
   "source": []
  }
 ],
 "metadata": {
  "kernelspec": {
   "display_name": "Python 3",
   "language": "python",
   "name": "python3"
  },
  "language_info": {
   "codemirror_mode": {
    "name": "ipython",
    "version": 3
   },
   "file_extension": ".py",
   "mimetype": "text/x-python",
   "name": "python",
   "nbconvert_exporter": "python",
   "pygments_lexer": "ipython3",
   "version": "3.7.2"
  }
 },
 "nbformat": 4,
 "nbformat_minor": 2
}
