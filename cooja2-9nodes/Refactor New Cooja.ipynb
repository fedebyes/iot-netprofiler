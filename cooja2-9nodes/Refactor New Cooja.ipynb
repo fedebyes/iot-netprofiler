{
 "cells": [
  {
   "cell_type": "code",
   "execution_count": 5,
   "metadata": {},
   "outputs": [],
   "source": [
    "#Modules to install via pip pandas,ipynb\n",
    "import pandas as pd\n",
    "import numpy as np\n",
    "\n",
    "import matplotlib.pyplot as plt\n",
    "import json\n",
    "from pprint import pprint\n",
    "import os\n",
    "import import_ipynb\n",
    "import sys\n",
    "\n",
    "sys.path.append('../')\n",
    "from functions import *\n",
    "from trace_analysis import *\n",
    "from pandas.plotting import scatter_matrix\n",
    "from trace_analysis_cooja2 import *\n"
   ]
  },
  {
   "cell_type": "code",
   "execution_count": 7,
   "metadata": {},
   "outputs": [],
   "source": [
    "\n",
    "#+\"/cooja-9nodes/\"\n",
    "#print(directory)\n",
    "\n",
    "plots = [(\"traces/normal\", 'grid9_normal_2019-02-11_17:51:17_'),\n",
    "         (\"traces/normal\", 'grid9_normal_2019-02-11_20:22:01_'),\n",
    "         (\"traces/1bh-6\", 'grid9_1bh-6_2019-02-11_20:48:08_'),\n",
    "         (\"traces/1bh-6\", 'grid9_1bh-6_2019-02-11_21:03:19_')]\n",
    "\n",
    "for row in plots:\n",
    "    nodes, packets_node = process_cooja2_traces(row[0], row[1])\n"
   ]
  },
  {
   "cell_type": "code",
   "execution_count": 43,
   "metadata": {},
   "outputs": [],
   "source": [
    "def process_cooja2_traces(path, tracemask):\n",
    "    files = []\n",
    "\n",
    "    # load all files and extract IPs of nodes\n",
    "    for file in os.listdir(path):\n",
    "        try:\n",
    "            if file.startswith(tracemask) and file.index(\"routes\"):\n",
    "                continue\n",
    "        except:\n",
    "            files.append(file)\n",
    "\n",
    "    nodes = pd.DataFrame(columns=['node_id', 'rank'])\n",
    "    packets_node = {}\n",
    "\n",
    "    # Load the ICMP traces\n",
    "    for file in files:\n",
    "        packets = pd.read_csv(path + '/' + file,\n",
    "                              sep=' |icmp_seq=|ttl=|time=',\n",
    "                              na_filter=True,\n",
    "                              header=None,\n",
    "                              skiprows=1,\n",
    "                              skipfooter=4,\n",
    "                              usecols=[3, 5, 7, 9],\n",
    "                              names=['node_id', 'seq', 'hop', 'rtt'],\n",
    "                              engine='python').dropna().drop_duplicates()\n",
    "\n",
    "        nodes.loc[len(nodes)] = [packets['node_id'][0], 64 - packets['hop'][0]]\n",
    "\n",
    "        packets = packets.sort_values(by=['node_id', 'seq'], ascending=True, na_position='first')\n",
    "        packets = packets[packets['rtt'] > 1]\n",
    "\n",
    "        packets_node[packets['node_id'][0]] = packets\n",
    "\n",
    "    return nodes.sort_values(by=['rank','node_id']), packets_node\n",
    "\n",
    "\n",
    "\n"
   ]
  },
  {
   "cell_type": "code",
   "execution_count": 106,
   "metadata": {},
   "outputs": [
    {
     "name": "stdout",
     "output_type": "stream",
     "text": [
      "/home/fedebyes/Workspace/Master Thesis/iot-netprofiler/cooja2-9nodes/traces/normal\n"
     ]
    }
   ],
   "source": [
    "directory=os.getcwd()\n",
    "traces=directory+\"/traces\"\n",
    "traces+=\"/normal\"\n",
    "print(traces)\n",
    "tracemask=\"grid9_normal_2019-02-11_17:51:17_\"\n",
    "\n",
    "def import_Cooja_2(directory,tracemask):\n",
    "    print(directory)\n",
    "    print(tracemask)\n",
    "    files = []\n",
    "    data=[]\n",
    "    # load all files and extract IPs of nodes\n",
    "    for file in os.listdir(directory):\n",
    "        try:\n",
    "            if file.startswith(tracemask) and file.index(\"routes\"):\n",
    "                continue\n",
    "        except:\n",
    "            files.append(file)\n",
    "    \n",
    "    \n",
    "    packets_node = {}\n",
    "    for file in files:\n",
    "        packets = pd.read_csv(directory + '/' + file,\n",
    "                              sep=' |icmp_seq=|ttl=|time=',\n",
    "                              na_filter=True,\n",
    "                              header=None,\n",
    "                              skiprows=1,\n",
    "                              skipfooter=4,\n",
    "                              usecols=[3, 5, 7, 9],\n",
    "                              names=['node_id', 'seq', 'hop', 'rtt'],\n",
    "                              engine='python').dropna().drop_duplicates()\n",
    "\n",
    "        \n",
    "        nodes.loc[len(nodes)] = [packets['node_id'][0], 64 - packets['hop'][0]]\n",
    "        \n",
    "        \n",
    "        packets = packets.sort_values(by=['node_id', 'seq'], ascending=True, na_position='first')\n",
    "        packets = packets[packets['rtt'] > 1]\n",
    "        \n",
    "        \n",
    "        \n",
    "        \n",
    "        #print(data)\n",
    "        packets_node[packets['node_id'][0]] = packets\n",
    "        nodeList=[]\n",
    "        \n",
    "        for n in packets_node.keys():\n",
    "            #print((packets_node[n]).head())\n",
    "            pkts=packets_node[n].drop([\"node_id\",\"hop\"],axis=1)\n",
    "            hop=64-int(packets_node[n][\"hop\"][0])\n",
    "            ip=packets_node[n][\"node_id\"][0]\n",
    "            n=node(ip,hop,pkts)\n",
    "            nodeList.append[n]\n",
    "        \n",
    "   \n",
    "    return nodeList"
   ]
  },
  {
   "cell_type": "code",
   "execution_count": 107,
   "metadata": {},
   "outputs": [
    {
     "name": "stdout",
     "output_type": "stream",
     "text": [
      "/home/fedebyes/Workspace/Master Thesis/iot-netprofiler/cooja2-9nodes/traces/normal\n",
      "grid9_normal_2019-02-11_17:51:17_\n"
     ]
    },
    {
     "ename": "TypeError",
     "evalue": "'module' object is not callable",
     "output_type": "error",
     "traceback": [
      "\u001b[0;31m---------------------------------------------------------------------------\u001b[0m",
      "\u001b[0;31mTypeError\u001b[0m                                 Traceback (most recent call last)",
      "\u001b[0;32m<ipython-input-107-f10c6b7c1f8c>\u001b[0m in \u001b[0;36m<module>\u001b[0;34m\u001b[0m\n\u001b[1;32m      1\u001b[0m \u001b[0;34m\u001b[0m\u001b[0m\n\u001b[0;32m----> 2\u001b[0;31m \u001b[0mdata\u001b[0m\u001b[0;34m,\u001b[0m\u001b[0mpackets_node\u001b[0m\u001b[0;34m=\u001b[0m\u001b[0mimport_Cooja_2\u001b[0m\u001b[0;34m(\u001b[0m\u001b[0mtraces\u001b[0m\u001b[0;34m,\u001b[0m\u001b[0mtracemask\u001b[0m\u001b[0;34m)\u001b[0m\u001b[0;34m\u001b[0m\u001b[0;34m\u001b[0m\u001b[0m\n\u001b[0m\u001b[1;32m      3\u001b[0m \u001b[0;31m#packets_node\u001b[0m\u001b[0;34m\u001b[0m\u001b[0;34m\u001b[0m\u001b[0;34m\u001b[0m\u001b[0m\n",
      "\u001b[0;32m<ipython-input-106-406f3eb47db2>\u001b[0m in \u001b[0;36mimport_Cooja_2\u001b[0;34m(directory, tracemask)\u001b[0m\n\u001b[1;32m     50\u001b[0m             \u001b[0mhop\u001b[0m\u001b[0;34m=\u001b[0m\u001b[0;36m64\u001b[0m\u001b[0;34m-\u001b[0m\u001b[0mint\u001b[0m\u001b[0;34m(\u001b[0m\u001b[0mpackets_node\u001b[0m\u001b[0;34m[\u001b[0m\u001b[0mn\u001b[0m\u001b[0;34m]\u001b[0m\u001b[0;34m[\u001b[0m\u001b[0;34m\"hop\"\u001b[0m\u001b[0;34m]\u001b[0m\u001b[0;34m[\u001b[0m\u001b[0;36m0\u001b[0m\u001b[0;34m]\u001b[0m\u001b[0;34m)\u001b[0m\u001b[0;34m\u001b[0m\u001b[0;34m\u001b[0m\u001b[0m\n\u001b[1;32m     51\u001b[0m             \u001b[0mip\u001b[0m\u001b[0;34m=\u001b[0m\u001b[0mpackets_node\u001b[0m\u001b[0;34m[\u001b[0m\u001b[0mn\u001b[0m\u001b[0;34m]\u001b[0m\u001b[0;34m[\u001b[0m\u001b[0;34m\"node_id\"\u001b[0m\u001b[0;34m]\u001b[0m\u001b[0;34m[\u001b[0m\u001b[0;36m0\u001b[0m\u001b[0;34m]\u001b[0m\u001b[0;34m\u001b[0m\u001b[0;34m\u001b[0m\u001b[0m\n\u001b[0;32m---> 52\u001b[0;31m             \u001b[0mn\u001b[0m\u001b[0;34m=\u001b[0m\u001b[0mnode\u001b[0m\u001b[0;34m(\u001b[0m\u001b[0mip\u001b[0m\u001b[0;34m,\u001b[0m\u001b[0mhop\u001b[0m\u001b[0;34m,\u001b[0m\u001b[0mpkts\u001b[0m\u001b[0;34m)\u001b[0m\u001b[0;34m\u001b[0m\u001b[0;34m\u001b[0m\u001b[0m\n\u001b[0m\u001b[1;32m     53\u001b[0m             \u001b[0mnodeList\u001b[0m\u001b[0;34m.\u001b[0m\u001b[0mappend\u001b[0m\u001b[0;34m[\u001b[0m\u001b[0mn\u001b[0m\u001b[0;34m]\u001b[0m\u001b[0;34m\u001b[0m\u001b[0;34m\u001b[0m\u001b[0m\n\u001b[1;32m     54\u001b[0m         \u001b[0mprint\u001b[0m\u001b[0;34m(\u001b[0m\u001b[0mNodeList\u001b[0m\u001b[0;34m[\u001b[0m\u001b[0;36m0\u001b[0m\u001b[0;34m]\u001b[0m\u001b[0;34m)\u001b[0m\u001b[0;34m\u001b[0m\u001b[0;34m\u001b[0m\u001b[0m\n",
      "\u001b[0;31mTypeError\u001b[0m: 'module' object is not callable"
     ]
    }
   ],
   "source": [
    "\n",
    "nodeList=import_Cooja_2(traces,tracemask)\n",
    "#packets_node"
   ]
  },
  {
   "cell_type": "code",
   "execution_count": null,
   "metadata": {},
   "outputs": [],
   "source": []
  }
 ],
 "metadata": {
  "kernelspec": {
   "display_name": "Python 3",
   "language": "python",
   "name": "python3"
  },
  "language_info": {
   "codemirror_mode": {
    "name": "ipython",
    "version": 3
   },
   "file_extension": ".py",
   "mimetype": "text/x-python",
   "name": "python",
   "nbconvert_exporter": "python",
   "pygments_lexer": "ipython3",
   "version": "3.7.2"
  }
 },
 "nbformat": 4,
 "nbformat_minor": 2
}
